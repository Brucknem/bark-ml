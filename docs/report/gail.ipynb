{
 "cells": [
  {
   "cell_type": "markdown",
   "metadata": {},
   "source": [
    "# Generative Adverserial Imitation Learning\n",
    "\n",
    "Generative Adversarial Imitation Learning (GAIL) was first proposed in the paper [Generative Adversarial Imitation Learning](https://arxiv.org/abs/1606.03476) by Jonathan Ho and Stefano Ermon. \n",
    "The project task is to implement the Generative Adverserial Imitation Learning model for driving scenarios using the bark-simulator.\n",
    "\n",
    "GAIL is based in the setting of reinforcement learning.\n",
    "Reinforcment learning is an area of machine learning concerned with how agents take actions in an environment in order to maximize the sum of rewards.\n",
    "So what a GAIL agent does is take actions in the bark environment and measure the resulting state of the agent and the world.\n",
    "\n",
    "As the name says we are more specifically located in the setting of Imitation Learning. \n",
    "Our agent will try to learn a policy that mimics demonstrations.\n",
    "We extract these demonstrations as Expert Trajectories from the interaction dataset by replaying the dataset in the bark simulator.\n",
    "This gives us the expert rollouts which are a set of state action pairs representing the expert knowledge. \n",
    "In a RL setting, we need some sort of reward to update the agents network parameters.\n",
    "\n",
    "In the GAIL approach we get the reward from an adversarial game:\n",
    "Another discriminator network gets fed the agent rollouts and the experts rollouts and wants to classify between them accurately.\n",
    "The agent network wants to fool the discriminator by minimizing the probability to get classified as fake.\n",
    "The classification as fake or not that is output by the discriminator is the reward we feed into our agent network.\n",
    "To minimize the classification as fake the agent network needs to mimic the experts demonstration and by doing so learn the experts policy.\n",
    "\n",
    "\n",
    "<img width=70% src=\"files/data/gail_overview.gif\">"
   ]
  },
  {
   "cell_type": "markdown",
   "metadata": {},
   "source": [
    "## Project task\n",
    "\n",
    "The project task is to implement the Generative Adverserial Imitation Learning model for driving scenarios using the bark-simulator.\n",
    "\n",
    "### Port GAIL driver to bark\n",
    "Do not reimplement gail, but use an existing implementation and bring it to bark.\n",
    "We chose [TF2RL](https://github.com/keiohta/tf2rl).\n",
    "\n",
    "### Train the GAIL agent on the Interaction Dataset\n",
    "As a data source, we will use the interaction dataset: https://arxiv.org/abs/1910.03088 . Here,\n",
    "w e are interested in the merging scenes: deu_merging_mt and chn_merging_zs\n",
    "Have a look how the Interaction Dataset is integrated in bark: https://github.com/bark-\n",
    "simulator/bark/blob/setup_tutorials/docs/tutorials/04_interaction_dataset.ipynb (NOte that\n",
    "the dataset itsself is NOT enclosed with bark due to license limitations).\n",
    "Train + validate agents individually for each scenes: In the first step, replace one agent and use\n",
    "all other agents from the dataset: The gail agent navigates safely. Afterwards, replace more\n",
    "\n",
    "### Evaluate the agent\n",
    "Exchange the trained models on the German and the Chinese map: how well is the\n",
    "generalization?\n",
    "ONLY place gail agents on the map: Can we generate scenes that \"look alike\" the real scenarios?"
   ]
  },
  {
   "cell_type": "markdown",
   "metadata": {},
   "source": [
    "## Interaction Dataset"
   ]
  },
  {
   "cell_type": "markdown",
   "metadata": {},
   "source": [
    "## Expert Trajectories"
   ]
  },
  {
   "cell_type": "markdown",
   "metadata": {},
   "source": [
    "## Generate Expert Trajectories"
   ]
  },
  {
   "cell_type": "code",
   "execution_count": 48,
   "metadata": {},
   "outputs": [],
   "source": [
    "import os \n",
    "import bark\n",
    "from pprint import pprint\n",
    "from bark_ml.library_wrappers.lib_tf2rl.generate_expert_trajectories import *\n",
    "\n",
    "tracks_folder = os.path.join(os.getcwd(), 'data')\n",
    "map_file = os.path.join(os.getcwd(), 'data/DR_DEU_Merging_MT_v01_shifted.xodr')\n",
    "known_key = ('DR_DEU_Merging_MT_v01_shifted', 'vehicle_tracks_013')\n",
    "ego_agent = 66\n",
    "\n",
    "param_server = create_parameter_servers_for_scenarios(map_file, tracks_folder)[known_key]\n",
    "param_server[\"Scenario\"][\"Generation\"][\"InteractionDatasetScenarioGeneration\"][\"TrackIds\"] = [\n",
    "    63, 64, 65, 66, 67, 68]\n",
    "param_server[\"Scenario\"][\"Generation\"][\"InteractionDatasetScenarioGeneration\"][\"StartTs\"] = 232000\n",
    "param_server[\"Scenario\"][\"Generation\"][\"InteractionDatasetScenarioGeneration\"][\"EndTs\"] = 259000\n",
    "param_server[\"Scenario\"][\"Generation\"][\"InteractionDatasetScenarioGeneration\"][\"EgoTrackId\"] = ego_agent"
   ]
  },
  {
   "cell_type": "code",
   "execution_count": 49,
   "metadata": {
    "scrolled": false
   },
   "outputs": [
    {
     "data": {
      "image/png": "[encoded data removed]",
      "text/plain": [
       "<Figure size 720x720 with 1 Axes>"
      ]
     },
     "metadata": {
      "needs_background": "light"
     },
     "output_type": "display_data"
    }
   ],
   "source": [
    "expert_trajectories = generate_expert_trajectories_for_scenario(param_server, sim_time_step=200, renderer=\"matplotlib_jupyter\")"
   ]
  },
  {
   "cell_type": "markdown",
   "metadata": {},
   "source": [
    "### The simulation gives us a number of observations and actions for the experts:"
   ]
  },
  {
   "cell_type": "code",
   "execution_count": 52,
   "metadata": {
    "scrolled": false
   },
   "outputs": [
    {
     "name": "stdout",
     "output_type": "stream",
     "text": [
      "Observations for the agent 66\n",
      "\n",
      "[array([0.54990917, 0.55034685, 0.49115214, 0.02195392, 0.54979807,\n",
      "       0.55021369, 0.48701411, 0.01664484, 0.55023372, 0.55031705,\n",
      "       0.48717329, 0.01795783, 0.55020285, 0.55017918, 0.48908314,\n",
      "       0.01927594]),\n",
      " array([0.5498873 , 0.5503481 , 0.49115214, 0.02188459, 0.54978162,\n",
      "       0.55021507, 0.48701411, 0.0162844 , 0.5502159 , 0.55031848,\n",
      "       0.48733243, 0.01776604, 0.55018389, 0.55018038, 0.48940146,\n",
      "       0.0182608 ]),\n",
      " array([0.54986548, 0.55034935, 0.49099299, 0.02179474, 0.54976547,\n",
      "       0.55021638, 0.48685497, 0.01594391, 0.55019826, 0.55031985,\n",
      "       0.48733243, 0.01757585, 0.55016589, 0.55018145, 0.4895606 ,\n",
      "       0.0172271 ]),\n",
      " array([0.54984373, 0.55035061, 0.49099299, 0.02165496, 0.54974967,\n",
      "       0.55021775, 0.48685497, 0.01561338, 0.55018073, 0.55032122,\n",
      "       0.48733243, 0.01744546, 0.55014902, 0.55018252, 0.48971975,\n",
      "       0.01617412]),\n",
      " array([0.54982221, 0.55035186, 0.49083385, 0.02145529, 0.54973418,\n",
      "       0.550219  , 0.48685497, 0.0153219 , 0.55016333, 0.55032271,\n",
      "       0.48733243, 0.01744546, 0.55013311, 0.55018365, 0.4895606 ,\n",
      "       0.01517233])]\n"
     ]
    }
   ],
   "source": [
    "# Small number of observations for our agent\n",
    "print(f'Observations for the agent {ego_agent}\\n')\n",
    "pprint(expert_trajectories[ego_agent]['obs'][:5])"
   ]
  },
  {
   "cell_type": "code",
   "execution_count": 53,
   "metadata": {
    "scrolled": false
   },
   "outputs": [
    {
     "name": "stdout",
     "output_type": "stream",
     "text": [
      "Actions of the agent 66\n",
      "\n",
      "[[0.0, -0.0003466568835577833],\n",
      " [-0.004201827340902073, -0.00030657489373432596],\n",
      " [0.002051691485158719, -0.00035168134700955115],\n",
      " [-0.004200119214675828, -0.0005815505374677107],\n",
      " [0.002049979741333098, -0.0009188447324507322]]\n"
     ]
    }
   ],
   "source": [
    "# Small number of actions for our agent\n",
    "print(f'Actions of the agent {ego_agent}\\n')\n",
    "pprint(expert_trajectories[ego_agent]['act'][:5])"
   ]
  },
  {
   "cell_type": "markdown",
   "metadata": {},
   "source": [
    "## TF2RL"
   ]
  },
  {
   "cell_type": "markdown",
   "metadata": {},
   "source": [
    "## GAIL implementation"
   ]
  },
  {
   "cell_type": "markdown",
   "metadata": {},
   "source": [
    "## Visual results"
   ]
  },
  {
   "cell_type": "markdown",
   "metadata": {},
   "source": [
    "## Benchmark"
   ]
  },
  {
   "cell_type": "markdown",
   "metadata": {},
   "source": [
    "## Summary"
   ]
  },
  {
   "cell_type": "markdown",
   "metadata": {},
   "source": [
    "## Team"
   ]
  }
 ],
 "metadata": {
  "kernelspec": {
   "display_name": "Python 3",
   "language": "python",
   "name": "python3"
  },
  "language_info": {
   "codemirror_mode": {
    "name": "ipython",
    "version": 3
   },
   "file_extension": ".py",
   "mimetype": "text/x-python",
   "name": "python",
   "nbconvert_exporter": "python",
   "pygments_lexer": "ipython3",
   "version": "3.7.6"
  }
 },
 "nbformat": 4,
 "nbformat_minor": 2
}
