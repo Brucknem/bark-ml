{
 "cells": [
  {
   "cell_type": "markdown",
   "metadata": {},
   "source": [
    "# Generative Adverserial Imitation Learning\n",
    "\n",
    "Generative Adversarial Imitation Learning (GAIL) was first proposed in the paper [Generative Adversarial Imitation Learning](https://arxiv.org/abs/1606.03476) by Jonathan Ho and Stefano Ermon. The project task is to implement the Generative Adverserial Imitation Learning model for driving scenarios using the bark-simulator.\n",
    "\n",
    "GAIL is based on the setting of Reinforcement Learning (RL). In Reinforcment Learning, the agent interacts with the environment through its actions and receives rewards in return. The aim of the learning process is to maximize the cummulative reward by chosing the best action in all states.\n",
    "\n",
    "As the name suggests, GAIL belongs to a smaller subgroup of RL, called Imitation Learning. In this setup the goal of the agent is to mimic an expert behavior as closely as possible. The environment awards higher rewards to expert-like behavior and smaller ones to actions which substantially deviate from the expert behavior. In our case, expert trajectories were generated from real life data, namely from the interaction dataset, as well as from a pretrained SAC (Soft Actor-Critic) agent. The expert trajectories, which are obtained in this way, represent the expert knowledge by containing many states with corresponding actions that were produced by the expert.\n",
    "\n",
    "As mentioned previously, learning of the agent in the RL setting is driven by the rewards it receives from the environment. The amount of the reward in the Imitation Learning setting are determined based on how closely the agent mimics the expert behavior. Special in the GAIL approach is that we receive the reward from an adversarial game: The agent is represented by a generator network which is trained based on the feedback of a discriminator network. The generator produces actions for given states which are then evaluated by the discriminator. In the meantime, the discriminator is trained by feeding it with expert and agent state-action pairs for classification. This way, the generator tries to fool the discriminator, hence he aims at acting as expert-like as possible. Meanwhile, the discriminator tries to distinguish between expert and agent trajectories. Intuitively, learning converges when the generator learned to act so similarly to the expert that the discriminator cannot tell apart expert and agent trajectories any more. In game theory this point is called the Nash-equilibrium.\n",
    "\n",
    "In practice, the implementation of a GAIL agent is usually solved in the following way for sample efficiency: The agent interacts with the environment by following its actual policy and hence agent state-action pairs are generated. These points are stored in a replay buffer for further learning. After a specified interval a training step is carried out. This training step has 2 substeps: training the discriminator and training the generator networks. \n",
    "* __Discriminator training:__ The discriminator is fed a batch of expert (from the expert trajectories) and agent (from the replay buffer) state-action pairs. It classifies all of them. Based on their true labels the loss is calculated and a gradient descent step is carried out in order to minimize the loss.\n",
    "* __Generator training:__ The generator is fed a batch of states from the replay buffer and it produces actions for them. The resulting state-action pairs are fed to the discriminator for classification. The negative output of the discriminator is used as a loss for the generator network. (Close to -1 if the agent mimics the expert successfully.) The gradient of the loss is propagated all the way back to the generator network to carry out a gradient step for minimizing the it.<br>\n",
    "As already stated, training runs until both, the generator and the discriminator loss, converge to a steady state value.\n",
    "\n",
    "\n",
    "The training process is visualized in the following figure:\n",
    "\n",
    "\n",
    "<img width=70% src=\"files/data/gail_overview.gif\">"
   ]
  },
  {
   "cell_type": "markdown",
   "metadata": {},
   "source": [
    "## Interaction Dataset\n",
    "As data source, we used the interaction dataset: https://arxiv.org/abs/1910.03088. Here, we are interested in the merging scenarios: deu_merging_mt and chn_merging_zs. Have a look how the Interaction Dataset is integrated in bark: https://github.com/bark-simulator/bark/blob/setup_tutorials/docs/tutorials/04_interaction_dataset.ipynb (Note that the dataset itself is NOT enclosed with bark due to license limitations)."
   ]
  },
  {
   "cell_type": "markdown",
   "metadata": {},
   "source": [
    "## Expert Trajectories\n",
    "As mentioned earlier, we have generated expert trajectories using the Interaction Dataset and also a trained SAC agent. The Interaction Dataset of course contains logs about many different vehicles with different wheel bases. To remedy this issue, we have used a fixed wheel base when calculating the actions from the successive states. This however does not restrict the accuracy of the data. We just consider that all state trajectories were carried out by the same car and calculate the actions that a car would have needed to carry out that behavior. \n",
    "\n",
    "As the state variables and also the actions have diferent magnitudes, we normalize all of them for training. The normalization of the expert trajectories takes place while loading the generated expert trajectories. The loading function also takes the actual environment (BARK runtime) as an input, hence the trajectories can be normalized according to the current parameters. (Current state and action spaces.)"
   ]
  },
  {
   "cell_type": "markdown",
   "metadata": {},
   "source": [
    "## Generate Expert Trajectories\n",
    "A short example script for generating expert trajectories from the interaction dataset is shown in the following. "
   ]
  },
  {
   "cell_type": "code",
   "execution_count": 1,
   "metadata": {},
   "outputs": [
    {
     "name": "stdout",
     "output_type": "stream",
     "text": [
      "pygame 1.9.6\n",
      "Hello from the pygame community. https://www.pygame.org/contribute.html\n"
     ]
    }
   ],
   "source": [
    "import os \n",
    "import bark\n",
    "from pprint import pprint\n",
    "from bark_ml.library_wrappers.lib_tf2rl.generate_expert_trajectories import *\n",
    "\n",
    "tracks_folder = os.path.join(os.getcwd(), 'data')\n",
    "map_file = os.path.join(os.getcwd(), 'data/DR_DEU_Merging_MT_v01_shifted.xodr')\n",
    "known_key = ('DR_DEU_Merging_MT_v01_shifted', 'vehicle_tracks_013')\n",
    "ego_agent = 66\n",
    "\n",
    "param_server = create_parameter_servers_for_scenarios(map_file, tracks_folder)[known_key]\n",
    "generation_params = param_server[\"Scenario\"][\"Generation\"][\"InteractionDatasetScenarioGeneration\"]\n",
    "generation_params[\"TrackIds\"] = [63, 64, 65, 66, 67, 68]\n",
    "generation_params[\"StartTs\"] = 232000\n",
    "generation_params[\"EndTs\"] = 259000\n",
    "generation_params[\"EgoTrackId\"] = ego_agent\n",
    "param_server[\"Scenario\"][\"Generation\"][\"InteractionDatasetScenarioGeneration\"] = generation_params"
   ]
  },
  {
   "cell_type": "code",
   "execution_count": 2,
   "metadata": {
    "scrolled": false
   },
   "outputs": [
    {
     "name": "stderr",
     "output_type": "stream",
     "text": [
      "/home/brucknem/.cache/bazel/_bazel_brucknem/5babddc60bc977a08450e544bfdcfbae/execroot/bark_ml/bazel-out/k8-fastbuild/bin/docs/report/run.runfiles/bark_project/bark/runtime/viewer/matplotlib_viewer.py:49: MatplotlibDeprecationWarning: Case-insensitive properties were deprecated in 3.3 and support will be removed two minor releases later\n",
      "  linewidth=linewidth)\n",
      "/home/brucknem/.cache/bazel/_bazel_brucknem/5babddc60bc977a08450e544bfdcfbae/execroot/bark_ml/bazel-out/k8-fastbuild/bin/docs/report/run.runfiles/bark_project/bark/runtime/viewer/matplotlib_viewer.py:49: MatplotlibDeprecationWarning: Case-insensitive properties were deprecated in 3.3 and support will be removed two minor releases later\n",
      "  linewidth=linewidth)\n",
      "/home/brucknem/.cache/bazel/_bazel_brucknem/5babddc60bc977a08450e544bfdcfbae/execroot/bark_ml/bazel-out/k8-fastbuild/bin/docs/report/run.runfiles/bark_project/bark/runtime/viewer/matplotlib_viewer.py:49: MatplotlibDeprecationWarning: Case-insensitive properties were deprecated in 3.3 and support will be removed two minor releases later\n",
      "  linewidth=linewidth)\n",
      "/home/brucknem/.cache/bazel/_bazel_brucknem/5babddc60bc977a08450e544bfdcfbae/execroot/bark_ml/bazel-out/k8-fastbuild/bin/docs/report/run.runfiles/bark_project/bark/runtime/viewer/matplotlib_viewer.py:49: MatplotlibDeprecationWarning: Case-insensitive properties were deprecated in 3.3 and support will be removed two minor releases later\n",
      "  linewidth=linewidth)\n",
      "/home/brucknem/.cache/bazel/_bazel_brucknem/5babddc60bc977a08450e544bfdcfbae/execroot/bark_ml/bazel-out/k8-fastbuild/bin/docs/report/run.runfiles/bark_project/bark/runtime/viewer/matplotlib_viewer.py:49: MatplotlibDeprecationWarning: Case-insensitive properties were deprecated in 3.3 and support will be removed two minor releases later\n",
      "  linewidth=linewidth)\n",
      "/home/brucknem/.cache/bazel/_bazel_brucknem/5babddc60bc977a08450e544bfdcfbae/execroot/bark_ml/bazel-out/k8-fastbuild/bin/docs/report/run.runfiles/bark_project/bark/runtime/viewer/matplotlib_viewer.py:49: MatplotlibDeprecationWarning: Case-insensitive properties were deprecated in 3.3 and support will be removed two minor releases later\n",
      "  linewidth=linewidth)\n",
      "/home/brucknem/.cache/bazel/_bazel_brucknem/5babddc60bc977a08450e544bfdcfbae/execroot/bark_ml/bazel-out/k8-fastbuild/bin/docs/report/run.runfiles/bark_project/bark/runtime/viewer/matplotlib_viewer.py:49: MatplotlibDeprecationWarning: Case-insensitive properties were deprecated in 3.3 and support will be removed two minor releases later\n",
      "  linewidth=linewidth)\n",
      "/home/brucknem/.cache/bazel/_bazel_brucknem/5babddc60bc977a08450e544bfdcfbae/execroot/bark_ml/bazel-out/k8-fastbuild/bin/docs/report/run.runfiles/bark_project/bark/runtime/viewer/matplotlib_viewer.py:49: MatplotlibDeprecationWarning: Case-insensitive properties were deprecated in 3.3 and support will be removed two minor releases later\n",
      "  linewidth=linewidth)\n",
      "/home/brucknem/.cache/bazel/_bazel_brucknem/5babddc60bc977a08450e544bfdcfbae/execroot/bark_ml/bazel-out/k8-fastbuild/bin/docs/report/run.runfiles/bark_project/bark/runtime/viewer/matplotlib_viewer.py:49: MatplotlibDeprecationWarning: Case-insensitive properties were deprecated in 3.3 and support will be removed two minor releases later\n",
      "  linewidth=linewidth)\n"
     ]
    },
    {
     "data": {
      "image/png": "[encoded data removed]",
      "text/plain": [
       "<Figure size 720x720 with 1 Axes>"
      ]
     },
     "metadata": {
      "needs_background": "light"
     },
     "output_type": "display_data"
    }
   ],
   "source": [
    "expert_trajectories = generate_expert_trajectories_for_scenario(param_server, sim_time_step=200, renderer=\"matplotlib_jupyter\")"
   ]
  },
  {
   "cell_type": "markdown",
   "metadata": {},
   "source": [
    "### The generated expert trajectories\n",
    "The generated expert trajectories are stored in a dictionary with keys:\n",
    "* `obs`: list, containing the observation vector for the timestep.\n",
    "* `act`: list, containing the action that was carried out in that timestep.\n",
    "* `next_obs`: list, the next observation after carrying out the action `act` in the state `obs`. \n",
    "\n",
    "The following two cells show some example states and actions to allow for a better understanding of the format."
   ]
  },
  {
   "cell_type": "code",
   "execution_count": 3,
   "metadata": {},
   "outputs": [
    {
     "name": "stdout",
     "output_type": "stream",
     "text": [
      "Observations for the agent 66\n",
      "\n",
      "[array([ 998.184021  , 1006.93701172,    3.08599997,    2.19539237,\n",
      "        995.9619751 , 1004.27398682,    3.05999994,    1.66448367,\n",
      "       1004.67498779, 1006.34100342,    3.06100011,    1.7957828 ,\n",
      "       1004.05700684, 1003.58398438,    3.07299995,    1.92759383]),\n",
      " array([ 997.74597168, 1006.9619751 ,    3.08599997,    2.18845916,\n",
      "        995.63201904, 1004.30102539,    3.05999994,    1.62844038,\n",
      "       1004.31799316, 1006.36901855,    3.06200004,    1.77660406,\n",
      "       1003.67797852, 1003.60699463,    3.07500005,    1.82607996]),\n",
      " array([ 997.30999756, 1006.98699951,    3.08500004,    2.17947364,\n",
      "        995.309021  , 1004.32800293,    3.05900002,    1.59439075,\n",
      "       1003.96502686, 1006.39697266,    3.06200004,    1.75758469,\n",
      "       1003.31799316, 1003.62902832,    3.07599998,    1.72271013]),\n",
      " array([ 996.875     , 1007.01202393,    3.08500004,    2.16549611,\n",
      "        994.99298096, 1004.35498047,    3.05900002,    1.56133819,\n",
      "       1003.61499023, 1006.42498779,    3.06200004,    1.74454641,\n",
      "       1002.97998047, 1003.65100098,    3.0769999 ,    1.61741185]),\n",
      " array([ 996.44396973, 1007.0369873 ,    3.08400011,    2.14552855,\n",
      "        994.6829834 , 1004.38000488,    3.05900002,    1.53218961,\n",
      "       1003.26702881, 1006.45397949,    3.06200004,    1.74454641,\n",
      "       1002.6619873 , 1003.67297363,    3.07599998,    1.51723337])]\n"
     ]
    }
   ],
   "source": [
    "# Small number of observations for our agent\n",
    "print(f'Observations for the agent {ego_agent}\\n')\n",
    "pprint(expert_trajectories[ego_agent]['obs'][:5])"
   ]
  },
  {
   "cell_type": "markdown",
   "metadata": {},
   "source": [
    "`expert_trajectories[ego_agent]['obs'][i]` contains \n",
    "\n",
    "\\begin{align*}\n",
    "\\begin{pmatrix}\n",
    "x \\\\\n",
    "y \\\\\n",
    "\\Theta \\\\\n",
    "v\n",
    "\\end{pmatrix}\n",
    "\\text{ for the ego vehicle and the three nearest vehicles in the scene, where $x$ and $y$ are 2D coordinates, $\\Theta$ is orientation and $v$ velocity.}\n",
    "\\end{align*}"
   ]
  },
  {
   "cell_type": "code",
   "execution_count": 4,
   "metadata": {
    "scrolled": true
   },
   "outputs": [
    {
     "name": "stdout",
     "output_type": "stream",
     "text": [
      "Actions of the agent 66\n",
      "\n",
      "[[-0.034666060884802626, 0.0],\n",
      " [-0.044927593029058605, -0.006168197873944377],\n",
      " [-0.06988764225766911, 0.0],\n",
      " [-0.09983778594957507, -0.006233605047211027],\n",
      " [-0.1200890254762112, 0.0]]\n"
     ]
    }
   ],
   "source": [
    "# Small number of actions for our agent\n",
    "print(f'Actions of the agent {ego_agent}\\n')\n",
    "pprint(expert_trajectories[ego_agent]['act'][:5])"
   ]
  },
  {
   "cell_type": "markdown",
   "metadata": {},
   "source": [
    "`expert_trajectories[ego_agent]['act'][i]` contains \n",
    "\n",
    "\\begin{align*}\n",
    "\\begin{pmatrix}\n",
    "a \\\\\n",
    "\\delta \n",
    "\\end{pmatrix}\n",
    "\\text{, where $a$ is acceleration and $\\delta$ is steering angle.}\n",
    "\\end{align*}"
   ]
  },
  {
   "cell_type": "markdown",
   "metadata": {},
   "source": [
    "## GAIL implementation\n",
    "\n",
    "### TF2RL implementation\n",
    "We have chosen an off the shelf implementation, the library [TF2RL](https://github.com/keiohta/tf2rl). It implements several reinforcement learning algorithms in [tensorflow 2](https://www.tensorflow.org/guide/effective_tf2). \n",
    "\n",
    "The GAIL agent is built up as follows:\n",
    "* __Generator:__ A complete DDPG agent with actor and critic networks. Both of them have 2-2 hidden layers.\n",
    "* __Discriminator:__ A normal discriminator network with 2 hidden layers.\n",
    "\n",
    "In this respect, the agent is not in the traditional GAIL setup with 2 neural networks. Instead, it actually has 5 networks since the DDPG agent itself has 4 of them for greater stability during training. The DDPG agent's critic network basically receives the judgement of the discriminator network as the reward from the environment and its training aims to maximize this reward.\n",
    "\n",
    "### Integration into BARK\n",
    "The integration of the TF2RL based GAIL agent is done along existing BARK concepts and has been done in the following most important classes:\n",
    "* __TF2RLWrapper:__ Wraps the BARK runtime to match the expectations of TF2RL about the environment. The observation and action normalization also takes place here.\n",
    "    * source: `bark_ml/library_wrappers/lib_tf2rl/tf2rl_wrapper.py`\n",
    "* __BehaviorTF2RLAgent:__ Base class for TF2RL based agents.\n",
    "    * source: `bark_ml/library_wrappers/lib_tf2rl/agents/tf2rl_agent.py`\n",
    "* __BehaviorGAILAgent:__ The TF2RL based GAIL agent.\n",
    "    * source: `bark_ml/library_wrappers/lib_tf2rl/agents/gail_agent.py`\n",
    "* __TF2RLRunner:__ Base class for TF2RL based runners.\n",
    "    * source: `bark_ml/library_wrappers/lib_tf2rl/runners/tf2rl_runner.py`\n",
    "* __GAILRunner:__ The TF2RL based GAIL runner.\n",
    "    * source: `bark_ml/library_wrappers/lib_tf2rl/runners/gail_runner.py`\n",
    "    \n",
    "In the followings the training process is demonstrated. Later the performance of a pre-trained agent can be visualized.\n",
    "\n",
    "---"
   ]
  },
  {
   "cell_type": "markdown",
   "metadata": {},
   "source": [
    "### Training\n",
    "The parameters which can be set on demand:\n",
    "* The number of steps to train for.\n",
    "* The frequency of testing during training\n",
    "* The number of episodes in each testing round."
   ]
  },
  {
   "cell_type": "code",
   "execution_count": 5,
   "metadata": {},
   "outputs": [],
   "source": [
    "# Customize some parameters here!\n",
    "\n",
    "max_steps = 100000          # Number of steps to train for.\n",
    "test_interval = 100         # test in every ... steps.\n",
    "test_episodes = 5           # number of test episodes.\n",
    "gpu = 0                     # use -1 for cpu only."
   ]
  },
  {
   "cell_type": "code",
   "execution_count": 6,
   "metadata": {},
   "outputs": [
    {
     "name": "stdout",
     "output_type": "stream",
     "text": [
      "PhysicalDevice(name='/physical_device:GPU:0', device_type='GPU')\n"
     ]
    }
   ],
   "source": [
    "# imports\n",
    "import os\n",
    "from pathlib import Path\n",
    "\n",
    "# BARK imports\n",
    "from bark_project.bark.runtime.commons.parameters import ParameterServer\n",
    "from bark.runtime.viewer.matplotlib_viewer import MPViewer\n",
    "from bark.runtime.viewer.video_renderer import VideoRenderer\n",
    "\n",
    "# BARK-ML imports\n",
    "from bark_ml.environments.blueprints import ContinuousHighwayBlueprint, \\\n",
    "  ContinuousMergingBlueprint, ContinuousIntersectionBlueprint\n",
    "from bark_ml.environments.single_agent_runtime import SingleAgentRuntime\n",
    "from bark_ml.library_wrappers.lib_tf2rl.tf2rl_wrapper import TF2RLWrapper\n",
    "from bark_ml.library_wrappers.lib_tf2rl.agents.gail_agent import BehaviorGAILAgent\n",
    "from bark_ml.library_wrappers.lib_tf2rl.runners.gail_runner import GAILRunner\n",
    "from bark_ml.library_wrappers.lib_tf2rl.load_expert_trajectories import load_expert_trajectories"
   ]
  },
  {
   "cell_type": "markdown",
   "metadata": {},
   "source": [
    "The next cell deletes the previous logs and launches tensorboard. After tensorboard has launched, please go on to the next cell and start the training. The tensorboard window refreshes itself every 30 seconds, but you can also refresh it manually in the upper right corner."
   ]
  },
  {
   "cell_type": "code",
   "execution_count": 7,
   "metadata": {},
   "outputs": [
    {
     "name": "stdout",
     "output_type": "stream",
     "text": [
      "zsh:kill:1: kill 119065 failed: no such process\n",
      "rm: cannot remove 'data/logs': No such file or directory\n"
     ]
    },
    {
     "data": {
      "text/html": [
       "\n",
       "      <iframe id=\"tensorboard-frame-10d7d8dcfd58645d\" width=\"100%\" height=\"800\" frameborder=\"0\">\n",
       "      </iframe>\n",
       "      <script>\n",
       "        (function() {\n",
       "          const frame = document.getElementById(\"tensorboard-frame-10d7d8dcfd58645d\");\n",
       "          const url = new URL(\"/\", window.location);\n",
       "          url.port = 6006;\n",
       "          frame.src = url;\n",
       "        })();\n",
       "      </script>\n",
       "  "
      ],
      "text/plain": [
       "<IPython.core.display.HTML object>"
      ]
     },
     "metadata": {},
     "output_type": "display_data"
    }
   ],
   "source": [
    "generation_params# Load the TensorBoard notebook extension\n",
    "%load_ext tensorboard\n",
    "\n",
    "# launching tensorboard and deleting the previous runs logdirs:\n",
    "!kill 119065\n",
    "%rm -r \"data/logs\"\n",
    "%mkdir \"data/logs\"\n",
    "%tensorboard --logdir \"data/logs\""
   ]
  },
  {
   "cell_type": "code",
   "execution_count": 8,
   "metadata": {
    "scrolled": true
   },
   "outputs": [
    {
     "name": "stderr",
     "output_type": "stream",
     "text": [
      "/home/brucknem/.cache/bazel/_bazel_brucknem/5babddc60bc977a08450e544bfdcfbae/execroot/bark_ml/bazel-out/k8-fastbuild/bin/docs/report/run.runfiles/bark_project/bark/runtime/commons/xodr_parser.py:108: FutureWarning: The behavior of this method will change in future versions. Use specific 'len(elem)' or 'elem is not None' test instead.\n",
      "  if lane.find(\"userData\"):\n",
      "16:51:00.605 [INFO] (trainer.py:65) Restored None\n",
      "16:51:00.685 [INFO] (irl_trainer.py:73) Total Epi:     1 Steps:       2 Episode Steps:     2 Return: -1.0000 FPS: 26.28\n",
      "16:51:01.024 [INFO] (irl_trainer.py:73) Total Epi:     2 Steps:       7 Episode Steps:     5 Return: -1.0000 FPS: 942.90\n",
      "16:51:01.031 [INFO] (irl_trainer.py:73) Total Epi:     3 Steps:      11 Episode Steps:     4 Return: -1.0000 FPS: 775.57\n",
      "16:51:01.039 [INFO] (irl_trainer.py:73) Total Epi:     4 Steps:      14 Episode Steps:     3 Return: -1.0000 FPS: 508.51\n",
      "16:51:01.049 [INFO] (irl_trainer.py:73) Total Epi:     5 Steps:      23 Episode Steps:     9 Return: -1.0000 FPS: 1133.84\n",
      "16:51:01.056 [INFO] (irl_trainer.py:73) Total Epi:     6 Steps:      27 Episode Steps:     4 Return: -1.0000 FPS: 791.91\n",
      "16:51:01.065 [INFO] (irl_trainer.py:73) Total Epi:     7 Steps:      32 Episode Steps:     5 Return: -1.0000 FPS: 727.30\n",
      "16:51:01.077 [INFO] (irl_trainer.py:73) Total Epi:     8 Steps:      37 Episode Steps:     5 Return: -1.0000 FPS: 513.35\n",
      "16:51:01.084 [INFO] (irl_trainer.py:73) Total Epi:     9 Steps:      40 Episode Steps:     3 Return: -1.0000 FPS: 618.34\n",
      "16:51:01.091 [INFO] (irl_trainer.py:73) Total Epi:    10 Steps:      44 Episode Steps:     4 Return: -1.0000 FPS: 787.60\n",
      "16:51:01.099 [INFO] (irl_trainer.py:73) Total Epi:    11 Steps:      50 Episode Steps:     6 Return: -1.0000 FPS: 993.32\n",
      "16:51:01.107 [INFO] (irl_trainer.py:73) Total Epi:    12 Steps:      54 Episode Steps:     4 Return: -1.0000 FPS: 688.24\n",
      "16:51:01.113 [INFO] (irl_trainer.py:73) Total Epi:    13 Steps:      57 Episode Steps:     3 Return: -1.0000 FPS: 665.35\n",
      "16:51:01.119 [INFO] (irl_trainer.py:73) Total Epi:    14 Steps:      60 Episode Steps:     3 Return: -1.0000 FPS: 671.43\n",
      "16:51:01.126 [INFO] (irl_trainer.py:73) Total Epi:    15 Steps:      64 Episode Steps:     4 Return: -1.0000 FPS: 806.12\n",
      "16:51:01.133 [INFO] (irl_trainer.py:73) Total Epi:    16 Steps:      68 Episode Steps:     4 Return: -1.0000 FPS: 724.77\n",
      "16:51:01.147 [INFO] (irl_trainer.py:73) Total Epi:    17 Steps:      83 Episode Steps:    15 Return: -1.0000 FPS: 1235.87\n",
      "16:51:01.153 [INFO] (irl_trainer.py:73) Total Epi:    18 Steps:      85 Episode Steps:     2 Return: -1.0000 FPS: 488.46\n",
      "16:51:01.159 [INFO] (irl_trainer.py:73) Total Epi:    19 Steps:      88 Episode Steps:     3 Return: -1.0000 FPS: 633.81\n",
      "16:51:01.165 [INFO] (irl_trainer.py:73) Total Epi:    20 Steps:      90 Episode Steps:     2 Return: -1.0000 FPS: 501.52\n",
      "16:51:01.180 [INFO] (irl_trainer.py:73) Total Epi:    21 Steps:      98 Episode Steps:     8 Return: -1.0000 FPS: 609.83\n",
      "16:51:01.190 [INFO] (irl_trainer.py:73) Total Epi:    22 Steps:     101 Episode Steps:     3 Return: -1.0000 FPS: 394.06\n",
      "16:51:01.205 [INFO] (irl_trainer.py:73) Total Epi:    23 Steps:     107 Episode Steps:     6 Return: -1.0000 FPS: 476.74\n",
      "16:51:01.213 [INFO] (irl_trainer.py:73) Total Epi:    24 Steps:     111 Episode Steps:     4 Return: -1.0000 FPS: 765.93\n",
      "16:51:01.219 [INFO] (irl_trainer.py:73) Total Epi:    25 Steps:     115 Episode Steps:     4 Return: -1.0000 FPS: 779.22\n",
      "16:51:01.229 [INFO] (irl_trainer.py:73) Total Epi:    26 Steps:     119 Episode Steps:     4 Return: -1.0000 FPS: 485.89\n",
      "16:51:01.238 [INFO] (irl_trainer.py:73) Total Epi:    27 Steps:     121 Episode Steps:     2 Return: -1.0000 FPS: 299.83\n",
      "16:51:01.247 [INFO] (irl_trainer.py:73) Total Epi:    28 Steps:     123 Episode Steps:     2 Return: -1.0000 FPS: 297.52\n",
      "16:51:01.266 [INFO] (irl_trainer.py:73) Total Epi:    29 Steps:     135 Episode Steps:    12 Return: -1.0000 FPS: 690.88\n",
      "16:51:01.281 [INFO] (irl_trainer.py:73) Total Epi:    30 Steps:     144 Episode Steps:     9 Return: -1.0000 FPS: 687.36\n",
      "16:51:01.291 [INFO] (irl_trainer.py:73) Total Epi:    31 Steps:     149 Episode Steps:     5 Return: -1.0000 FPS: 628.22\n",
      "16:51:01.303 [INFO] (irl_trainer.py:73) Total Epi:    32 Steps:     157 Episode Steps:     8 Return: -1.0000 FPS: 834.70\n",
      "16:51:01.318 [INFO] (irl_trainer.py:73) Total Epi:    33 Steps:     167 Episode Steps:    10 Return: -1.0000 FPS: 752.90\n",
      "16:51:01.326 [INFO] (irl_trainer.py:73) Total Epi:    34 Steps:     170 Episode Steps:     3 Return: -1.0000 FPS: 528.39\n",
      "16:51:01.331 [INFO] (irl_trainer.py:73) Total Epi:    35 Steps:     173 Episode Steps:     3 Return: -1.0000 FPS: 739.06\n",
      "16:51:01.338 [INFO] (irl_trainer.py:73) Total Epi:    36 Steps:     177 Episode Steps:     4 Return: -1.0000 FPS: 837.08\n",
      "16:51:01.343 [INFO] (irl_trainer.py:73) Total Epi:    37 Steps:     180 Episode Steps:     3 Return: -1.0000 FPS: 706.29\n",
      "16:51:01.352 [INFO] (irl_trainer.py:73) Total Epi:    38 Steps:     186 Episode Steps:     6 Return: -1.0000 FPS: 857.07\n",
      "16:51:01.359 [INFO] (irl_trainer.py:73) Total Epi:    39 Steps:     190 Episode Steps:     4 Return: -1.0000 FPS: 823.93\n",
      "16:51:01.368 [INFO] (irl_trainer.py:73) Total Epi:    40 Steps:     197 Episode Steps:     7 Return: -1.0000 FPS: 906.33\n",
      "16:51:01.374 [INFO] (irl_trainer.py:73) Total Epi:    41 Steps:     199 Episode Steps:     2 Return: -1.0000 FPS: 519.99\n",
      "16:51:01.382 [INFO] (irl_trainer.py:73) Total Epi:    42 Steps:     205 Episode Steps:     6 Return: -1.0000 FPS: 862.19\n",
      "16:51:01.389 [INFO] (irl_trainer.py:73) Total Epi:    43 Steps:     208 Episode Steps:     3 Return: -1.0000 FPS: 681.98\n",
      "16:51:01.398 [INFO] (irl_trainer.py:73) Total Epi:    44 Steps:     210 Episode Steps:     2 Return: -1.0000 FPS: 275.66\n",
      "16:51:01.406 [INFO] (irl_trainer.py:73) Total Epi:    45 Steps:     215 Episode Steps:     5 Return: -1.0000 FPS: 856.37\n",
      "16:51:01.426 [INFO] (irl_trainer.py:73) Total Epi:    46 Steps:     225 Episode Steps:    10 Return: -1.0000 FPS: 596.41\n",
      "16:51:01.434 [INFO] (irl_trainer.py:73) Total Epi:    47 Steps:     228 Episode Steps:     3 Return: -1.0000 FPS: 503.15\n",
      "16:51:01.441 [INFO] (irl_trainer.py:73) Total Epi:    48 Steps:     231 Episode Steps:     3 Return: -1.0000 FPS: 549.02\n",
      "16:51:01.451 [INFO] (irl_trainer.py:73) Total Epi:    49 Steps:     235 Episode Steps:     4 Return: -1.0000 FPS: 508.44\n",
      "16:51:01.488 [INFO] (irl_trainer.py:73) Total Epi:    50 Steps:     264 Episode Steps:    29 Return: -1.0000 FPS: 851.31\n",
      "16:51:01.500 [INFO] (irl_trainer.py:73) Total Epi:    51 Steps:     270 Episode Steps:     6 Return: -1.0000 FPS: 559.05\n",
      "16:51:01.510 [INFO] (irl_trainer.py:73) Total Epi:    52 Steps:     273 Episode Steps:     3 Return: -1.0000 FPS: 394.16\n",
      "16:51:01.522 [INFO] (irl_trainer.py:73) Total Epi:    53 Steps:     278 Episode Steps:     5 Return: -1.0000 FPS: 527.38\n",
      "16:51:01.535 [INFO] (irl_trainer.py:73) Total Epi:    54 Steps:     285 Episode Steps:     7 Return: -1.0000 FPS: 699.00\n",
      "16:51:01.566 [INFO] (irl_trainer.py:73) Total Epi:    55 Steps:     292 Episode Steps:     7 Return: -1.0000 FPS: 612.07\n",
      "16:51:01.598 [INFO] (irl_trainer.py:73) Total Epi:    56 Steps:     295 Episode Steps:     3 Return: -1.0000 FPS: 262.60\n",
      "16:51:01.621 [INFO] (irl_trainer.py:73) Total Epi:    57 Steps:     323 Episode Steps:    28 Return: -1.0000 FPS: 1508.87\n",
      "16:51:01.632 [INFO] (irl_trainer.py:73) Total Epi:    58 Steps:     329 Episode Steps:     6 Return: -1.0000 FPS: 672.46\n",
      "16:51:01.650 [INFO] (irl_trainer.py:73) Total Epi:    59 Steps:     353 Episode Steps:    24 Return: -1.0000 FPS: 1444.85\n",
      "16:51:01.661 [INFO] (irl_trainer.py:73) Total Epi:    60 Steps:     358 Episode Steps:     5 Return: -1.0000 FPS: 545.12\n",
      "16:51:01.670 [INFO] (irl_trainer.py:73) Total Epi:    61 Steps:     360 Episode Steps:     2 Return: -1.0000 FPS: 309.76\n",
      "16:51:01.688 [INFO] (irl_trainer.py:73) Total Epi:    62 Steps:     374 Episode Steps:    14 Return: -1.0000 FPS: 872.12\n",
      "16:51:01.698 [INFO] (irl_trainer.py:73) Total Epi:    63 Steps:     378 Episode Steps:     4 Return: -1.0000 FPS: 506.63\n",
      "16:51:01.710 [INFO] (irl_trainer.py:73) Total Epi:    64 Steps:     384 Episode Steps:     6 Return: -1.0000 FPS: 588.52\n",
      "16:51:01.720 [INFO] (irl_trainer.py:73) Total Epi:    65 Steps:     387 Episode Steps:     3 Return: -1.0000 FPS: 367.70\n"
     ]
    },
    {
     "name": "stderr",
     "output_type": "stream",
     "text": [
      "16:51:01.729 [INFO] (irl_trainer.py:73) Total Epi:    66 Steps:     389 Episode Steps:     2 Return: -1.0000 FPS: 290.31\n",
      "16:51:01.739 [INFO] (irl_trainer.py:73) Total Epi:    67 Steps:     392 Episode Steps:     3 Return: -1.0000 FPS: 425.06\n",
      "16:51:01.745 [INFO] (irl_trainer.py:73) Total Epi:    68 Steps:     394 Episode Steps:     2 Return: -1.0000 FPS: 513.26\n",
      "16:51:01.768 [INFO] (irl_trainer.py:73) Total Epi:    69 Steps:     417 Episode Steps:    23 Return: -1.0000 FPS: 1132.02\n",
      "16:51:01.774 [INFO] (irl_trainer.py:73) Total Epi:    70 Steps:     419 Episode Steps:     2 Return: -1.0000 FPS: 435.70\n",
      "16:51:01.782 [INFO] (irl_trainer.py:73) Total Epi:    71 Steps:     425 Episode Steps:     6 Return: -1.0000 FPS: 953.30\n",
      "16:51:01.788 [INFO] (irl_trainer.py:73) Total Epi:    72 Steps:     428 Episode Steps:     3 Return: -1.0000 FPS: 684.18\n",
      "16:51:01.796 [INFO] (irl_trainer.py:73) Total Epi:    73 Steps:     431 Episode Steps:     3 Return: -1.0000 FPS: 478.86\n",
      "16:51:01.806 [INFO] (irl_trainer.py:73) Total Epi:    74 Steps:     438 Episode Steps:     7 Return: -1.0000 FPS: 963.82\n",
      "16:51:01.831 [INFO] (irl_trainer.py:73) Total Epi:    75 Steps:     463 Episode Steps:    25 Return:  1.0000 FPS: 1048.02\n",
      "16:51:01.844 [INFO] (irl_trainer.py:73) Total Epi:    76 Steps:     472 Episode Steps:     9 Return: -1.0000 FPS: 811.01\n",
      "16:51:01.853 [INFO] (irl_trainer.py:73) Total Epi:    77 Steps:     475 Episode Steps:     3 Return: -1.0000 FPS: 485.81\n",
      "16:51:01.866 [INFO] (irl_trainer.py:73) Total Epi:    78 Steps:     488 Episode Steps:    13 Return: -1.0000 FPS: 1112.70\n",
      "16:51:01.882 [INFO] (irl_trainer.py:73) Total Epi:    79 Steps:     510 Episode Steps:    22 Return: -1.0000 FPS: 1538.69\n",
      "16:51:01.892 [INFO] (irl_trainer.py:73) Total Epi:    80 Steps:     518 Episode Steps:     8 Return: -1.0000 FPS: 1070.06\n",
      "16:51:01.900 [INFO] (irl_trainer.py:73) Total Epi:    81 Steps:     522 Episode Steps:     4 Return: -1.0000 FPS: 631.14\n",
      "16:51:01.915 [INFO] (irl_trainer.py:73) Total Epi:    82 Steps:     541 Episode Steps:    19 Return: -1.0000 FPS: 1397.79\n",
      "16:51:01.923 [INFO] (irl_trainer.py:73) Total Epi:    83 Steps:     547 Episode Steps:     6 Return: -1.0000 FPS: 943.47\n",
      "16:51:01.930 [INFO] (irl_trainer.py:73) Total Epi:    84 Steps:     549 Episode Steps:     2 Return: -1.0000 FPS: 415.53\n",
      "16:51:01.937 [INFO] (irl_trainer.py:73) Total Epi:    85 Steps:     553 Episode Steps:     4 Return: -1.0000 FPS: 794.04\n",
      "16:51:01.944 [INFO] (irl_trainer.py:73) Total Epi:    86 Steps:     556 Episode Steps:     3 Return: -1.0000 FPS: 597.02\n",
      "16:51:01.961 [INFO] (irl_trainer.py:73) Total Epi:    87 Steps:     579 Episode Steps:    23 Return: -1.0000 FPS: 1500.27\n",
      "16:51:01.973 [INFO] (irl_trainer.py:73) Total Epi:    88 Steps:     590 Episode Steps:    11 Return: -1.0000 FPS: 1132.28\n",
      "16:51:01.981 [INFO] (irl_trainer.py:73) Total Epi:    89 Steps:     594 Episode Steps:     4 Return: -1.0000 FPS: 759.03\n",
      "16:51:01.988 [INFO] (irl_trainer.py:73) Total Epi:    90 Steps:     600 Episode Steps:     6 Return: -1.0000 FPS: 984.14\n",
      "16:51:01.997 [INFO] (irl_trainer.py:73) Total Epi:    91 Steps:     604 Episode Steps:     4 Return: -1.0000 FPS: 568.78\n",
      "16:51:02.017 [INFO] (irl_trainer.py:73) Total Epi:    92 Steps:     631 Episode Steps:    27 Return: -1.0000 FPS: 1469.12\n",
      "16:51:02.024 [INFO] (irl_trainer.py:73) Total Epi:    93 Steps:     636 Episode Steps:     5 Return: -1.0000 FPS: 904.72\n",
      "16:51:02.034 [INFO] (irl_trainer.py:73) Total Epi:    94 Steps:     640 Episode Steps:     4 Return: -1.0000 FPS: 562.42\n",
      "16:51:02.044 [INFO] (irl_trainer.py:73) Total Epi:    95 Steps:     642 Episode Steps:     2 Return: -1.0000 FPS: 255.14\n",
      "16:51:02.052 [INFO] (irl_trainer.py:73) Total Epi:    96 Steps:     648 Episode Steps:     6 Return: -1.0000 FPS: 930.10\n",
      "16:51:02.061 [INFO] (irl_trainer.py:73) Total Epi:    97 Steps:     656 Episode Steps:     8 Return: -1.0000 FPS: 1166.48\n",
      "16:51:02.068 [INFO] (irl_trainer.py:73) Total Epi:    98 Steps:     661 Episode Steps:     5 Return: -1.0000 FPS: 961.00\n",
      "16:51:02.074 [INFO] (irl_trainer.py:73) Total Epi:    99 Steps:     666 Episode Steps:     5 Return: -1.0000 FPS: 959.88\n",
      "16:51:02.080 [INFO] (irl_trainer.py:73) Total Epi:   100 Steps:     669 Episode Steps:     3 Return: -1.0000 FPS: 686.68\n",
      "16:51:02.087 [INFO] (irl_trainer.py:73) Total Epi:   101 Steps:     673 Episode Steps:     4 Return: -1.0000 FPS: 834.90\n",
      "16:51:02.093 [INFO] (irl_trainer.py:73) Total Epi:   102 Steps:     677 Episode Steps:     4 Return: -1.0000 FPS: 839.61\n",
      "16:51:02.100 [INFO] (irl_trainer.py:73) Total Epi:   103 Steps:     680 Episode Steps:     3 Return: -1.0000 FPS: 629.60\n",
      "16:51:02.109 [INFO] (irl_trainer.py:73) Total Epi:   104 Steps:     688 Episode Steps:     8 Return: -1.0000 FPS: 1093.95\n",
      "16:51:02.117 [INFO] (irl_trainer.py:73) Total Epi:   105 Steps:     691 Episode Steps:     3 Return: -1.0000 FPS: 519.02\n",
      "16:51:02.124 [INFO] (irl_trainer.py:73) Total Epi:   106 Steps:     696 Episode Steps:     5 Return: -1.0000 FPS: 958.84\n",
      "16:51:02.138 [INFO] (irl_trainer.py:73) Total Epi:   107 Steps:     714 Episode Steps:    18 Return: -1.0000 FPS: 1465.27\n",
      "16:51:02.145 [INFO] (irl_trainer.py:73) Total Epi:   108 Steps:     718 Episode Steps:     4 Return: -1.0000 FPS: 805.59\n",
      "16:51:02.153 [INFO] (irl_trainer.py:73) Total Epi:   109 Steps:     724 Episode Steps:     6 Return: -1.0000 FPS: 1027.66\n",
      "16:51:02.160 [INFO] (irl_trainer.py:73) Total Epi:   110 Steps:     726 Episode Steps:     2 Return: -1.0000 FPS: 396.53\n",
      "16:51:02.169 [INFO] (irl_trainer.py:73) Total Epi:   111 Steps:     729 Episode Steps:     3 Return: -1.0000 FPS: 440.60\n",
      "16:51:02.181 [INFO] (irl_trainer.py:73) Total Epi:   112 Steps:     732 Episode Steps:     3 Return: -1.0000 FPS: 296.09\n",
      "16:51:02.191 [INFO] (irl_trainer.py:73) Total Epi:   113 Steps:     739 Episode Steps:     7 Return: -1.0000 FPS: 927.91\n",
      "16:51:02.198 [INFO] (irl_trainer.py:73) Total Epi:   114 Steps:     744 Episode Steps:     5 Return: -1.0000 FPS: 926.45\n",
      "16:51:02.206 [INFO] (irl_trainer.py:73) Total Epi:   115 Steps:     747 Episode Steps:     3 Return: -1.0000 FPS: 497.08\n",
      "16:51:02.216 [INFO] (irl_trainer.py:73) Total Epi:   116 Steps:     753 Episode Steps:     6 Return: -1.0000 FPS: 753.31\n",
      "16:51:02.223 [INFO] (irl_trainer.py:73) Total Epi:   117 Steps:     758 Episode Steps:     5 Return: -1.0000 FPS: 851.63\n",
      "16:51:02.230 [INFO] (irl_trainer.py:73) Total Epi:   118 Steps:     760 Episode Steps:     2 Return: -1.0000 FPS: 461.30\n",
      "16:51:02.254 [INFO] (irl_trainer.py:73) Total Epi:   119 Steps:     787 Episode Steps:    27 Return: -1.0000 FPS: 1239.09\n",
      "16:51:02.263 [INFO] (irl_trainer.py:73) Total Epi:   120 Steps:     793 Episode Steps:     6 Return: -1.0000 FPS: 917.89\n",
      "16:51:02.272 [INFO] (irl_trainer.py:73) Total Epi:   121 Steps:     798 Episode Steps:     5 Return: -1.0000 FPS: 655.45\n",
      "16:51:02.288 [INFO] (irl_trainer.py:73) Total Epi:   122 Steps:     814 Episode Steps:    16 Return: -1.0000 FPS: 1144.79\n",
      "16:51:02.300 [INFO] (irl_trainer.py:73) Total Epi:   123 Steps:     825 Episode Steps:    11 Return:  1.0000 FPS: 1129.38\n",
      "16:51:02.311 [INFO] (irl_trainer.py:73) Total Epi:   124 Steps:     834 Episode Steps:     9 Return: -1.0000 FPS: 1000.03\n",
      "16:51:02.318 [INFO] (irl_trainer.py:73) Total Epi:   125 Steps:     837 Episode Steps:     3 Return: -1.0000 FPS: 612.65\n",
      "16:51:02.325 [INFO] (irl_trainer.py:73) Total Epi:   126 Steps:     841 Episode Steps:     4 Return: -1.0000 FPS: 755.89\n",
      "16:51:02.334 [INFO] (irl_trainer.py:73) Total Epi:   127 Steps:     847 Episode Steps:     6 Return: -1.0000 FPS: 813.35\n",
      "16:51:02.341 [INFO] (irl_trainer.py:73) Total Epi:   128 Steps:     851 Episode Steps:     4 Return: -1.0000 FPS: 726.46\n",
      "16:51:02.352 [INFO] (irl_trainer.py:73) Total Epi:   129 Steps:     857 Episode Steps:     6 Return: -1.0000 FPS: 670.46\n",
      "16:51:02.359 [INFO] (irl_trainer.py:73) Total Epi:   130 Steps:     860 Episode Steps:     3 Return: -1.0000 FPS: 654.79\n",
      "16:51:02.367 [INFO] (irl_trainer.py:73) Total Epi:   131 Steps:     867 Episode Steps:     7 Return: -1.0000 FPS: 980.66\n",
      "16:51:02.376 [INFO] (irl_trainer.py:73) Total Epi:   132 Steps:     875 Episode Steps:     8 Return: -1.0000 FPS: 1160.74\n",
      "16:51:02.383 [INFO] (irl_trainer.py:73) Total Epi:   133 Steps:     881 Episode Steps:     6 Return: -1.0000 FPS: 1062.22\n"
     ]
    },
    {
     "name": "stderr",
     "output_type": "stream",
     "text": [
      "16:51:02.390 [INFO] (irl_trainer.py:73) Total Epi:   134 Steps:     886 Episode Steps:     5 Return: -1.0000 FPS: 984.60\n",
      "16:51:02.397 [INFO] (irl_trainer.py:73) Total Epi:   135 Steps:     891 Episode Steps:     5 Return: -1.0000 FPS: 906.95\n",
      "16:51:02.403 [INFO] (irl_trainer.py:73) Total Epi:   136 Steps:     894 Episode Steps:     3 Return: -1.0000 FPS: 610.06\n",
      "16:51:02.410 [INFO] (irl_trainer.py:73) Total Epi:   137 Steps:     897 Episode Steps:     3 Return: -1.0000 FPS: 647.63\n",
      "16:51:02.418 [INFO] (irl_trainer.py:73) Total Epi:   138 Steps:     903 Episode Steps:     6 Return: -1.0000 FPS: 919.40\n",
      "16:51:02.424 [INFO] (irl_trainer.py:73) Total Epi:   139 Steps:     906 Episode Steps:     3 Return: -1.0000 FPS: 657.61\n",
      "16:51:02.435 [INFO] (irl_trainer.py:73) Total Epi:   140 Steps:     918 Episode Steps:    12 Return: -1.0000 FPS: 1312.60\n",
      "16:51:02.450 [INFO] (irl_trainer.py:73) Total Epi:   141 Steps:     939 Episode Steps:    21 Return: -1.0000 FPS: 1503.46\n",
      "16:51:02.458 [INFO] (irl_trainer.py:73) Total Epi:   142 Steps:     945 Episode Steps:     6 Return: -1.0000 FPS: 1016.58\n",
      "16:51:02.463 [INFO] (irl_trainer.py:73) Total Epi:   143 Steps:     948 Episode Steps:     3 Return: -1.0000 FPS: 723.29\n",
      "16:51:02.470 [INFO] (irl_trainer.py:73) Total Epi:   144 Steps:     953 Episode Steps:     5 Return: -1.0000 FPS: 916.84\n",
      "16:51:02.476 [INFO] (irl_trainer.py:73) Total Epi:   145 Steps:     955 Episode Steps:     2 Return: -1.0000 FPS: 510.56\n",
      "16:51:02.482 [INFO] (irl_trainer.py:73) Total Epi:   146 Steps:     958 Episode Steps:     3 Return: -1.0000 FPS: 697.71\n",
      "16:51:02.488 [INFO] (irl_trainer.py:73) Total Epi:   147 Steps:     962 Episode Steps:     4 Return: -1.0000 FPS: 808.04\n",
      "16:51:02.494 [INFO] (irl_trainer.py:73) Total Epi:   148 Steps:     966 Episode Steps:     4 Return: -1.0000 FPS: 819.41\n",
      "16:51:02.503 [INFO] (irl_trainer.py:73) Total Epi:   149 Steps:     968 Episode Steps:     2 Return: -1.0000 FPS: 266.97\n",
      "16:51:02.510 [INFO] (irl_trainer.py:73) Total Epi:   150 Steps:     971 Episode Steps:     3 Return: -1.0000 FPS: 570.91\n",
      "16:51:02.518 [INFO] (irl_trainer.py:73) Total Epi:   151 Steps:     976 Episode Steps:     5 Return: -1.0000 FPS: 870.03\n",
      "16:51:02.524 [INFO] (irl_trainer.py:73) Total Epi:   152 Steps:     980 Episode Steps:     4 Return: -1.0000 FPS: 815.06\n",
      "16:51:02.531 [INFO] (irl_trainer.py:73) Total Epi:   153 Steps:     985 Episode Steps:     5 Return: -1.0000 FPS: 860.97\n",
      "16:51:02.541 [INFO] (irl_trainer.py:73) Total Epi:   154 Steps:     995 Episode Steps:    10 Return: -1.0000 FPS: 1171.11\n"
     ]
    },
    {
     "name": "stdout",
     "output_type": "stream",
     "text": [
      "WARNING:tensorflow:Layer Discriminator is casting an input tensor from dtype float64 to the layer's dtype of float32, which is new behavior in TensorFlow 2.  The layer has dtype float32 because it's dtype defaults to floatx.\n",
      "\n",
      "If you intended to run this layer in float32, you can safely ignore this warning. If in doubt, this warning is likely only an issue if you are porting a TensorFlow 1.X model to TensorFlow 2.\n",
      "\n",
      "To change all layers to have dtype float64 by default, call `tf.keras.backend.set_floatx('float64')`. To change just this layer, pass dtype='float64' to the layer constructor. If you are the author of this layer, you can disable autocasting by passing autocast=False to the base Layer constructor.\n",
      "\n"
     ]
    },
    {
     "name": "stderr",
     "output_type": "stream",
     "text": [
      "16:51:05.032 [INFO] (irl_trainer.py:73) Total Epi:   155 Steps:    1006 Episode Steps:    11 Return: -1.0000 FPS:  4.42\n",
      "16:51:05.112 [INFO] (irl_trainer.py:73) Total Epi:   156 Steps:    1011 Episode Steps:     5 Return: -1.0000 FPS: 63.47\n",
      "16:51:05.215 [INFO] (irl_trainer.py:73) Total Epi:   157 Steps:    1018 Episode Steps:     7 Return: -1.0000 FPS: 68.94\n",
      "16:51:05.358 [INFO] (irl_trainer.py:73) Total Epi:   158 Steps:    1027 Episode Steps:     9 Return: -1.0000 FPS: 63.76\n",
      "16:51:05.449 [INFO] (irl_trainer.py:73) Total Epi:   159 Steps:    1033 Episode Steps:     6 Return: -1.0000 FPS: 67.46\n",
      "16:51:05.528 [INFO] (irl_trainer.py:73) Total Epi:   160 Steps:    1038 Episode Steps:     5 Return: -1.0000 FPS: 64.67\n",
      "16:51:05.576 [INFO] (irl_trainer.py:73) Total Epi:   161 Steps:    1041 Episode Steps:     3 Return: -1.0000 FPS: 64.10\n",
      "16:51:05.627 [INFO] (irl_trainer.py:73) Total Epi:   162 Steps:    1044 Episode Steps:     3 Return: -1.0000 FPS: 61.51\n",
      "16:51:05.661 [INFO] (irl_trainer.py:73) Total Epi:   163 Steps:    1046 Episode Steps:     2 Return: -1.0000 FPS: 61.34\n",
      "16:51:05.739 [INFO] (irl_trainer.py:73) Total Epi:   164 Steps:    1051 Episode Steps:     5 Return: -1.0000 FPS: 65.56\n",
      "16:51:05.803 [INFO] (irl_trainer.py:73) Total Epi:   165 Steps:    1055 Episode Steps:     4 Return: -1.0000 FPS: 64.34\n",
      "16:51:05.840 [INFO] (irl_trainer.py:73) Total Epi:   166 Steps:    1057 Episode Steps:     2 Return: -1.0000 FPS: 56.80\n",
      "16:51:05.893 [INFO] (irl_trainer.py:73) Total Epi:   167 Steps:    1060 Episode Steps:     3 Return: -1.0000 FPS: 58.41\n",
      "16:51:05.970 [INFO] (irl_trainer.py:73) Total Epi:   168 Steps:    1065 Episode Steps:     5 Return: -1.0000 FPS: 67.14\n",
      "16:51:06.029 [INFO] (irl_trainer.py:73) Total Epi:   169 Steps:    1069 Episode Steps:     4 Return: -1.0000 FPS: 68.81\n",
      "16:51:06.079 [INFO] (irl_trainer.py:73) Total Epi:   170 Steps:    1072 Episode Steps:     3 Return: -1.0000 FPS: 62.26\n",
      "16:51:06.123 [INFO] (irl_trainer.py:73) Total Epi:   171 Steps:    1075 Episode Steps:     3 Return: -1.0000 FPS: 69.75\n",
      "16:51:06.162 [INFO] (irl_trainer.py:73) Total Epi:   172 Steps:    1077 Episode Steps:     2 Return: -1.0000 FPS: 54.07\n",
      "16:51:06.211 [INFO] (irl_trainer.py:73) Total Epi:   173 Steps:    1080 Episode Steps:     3 Return: -1.0000 FPS: 62.87\n",
      "16:51:06.247 [INFO] (irl_trainer.py:73) Total Epi:   174 Steps:    1082 Episode Steps:     2 Return: -1.0000 FPS: 58.78\n",
      "16:51:06.279 [INFO] (irl_trainer.py:73) Total Epi:   175 Steps:    1084 Episode Steps:     2 Return: -1.0000 FPS: 64.19\n",
      "16:51:06.355 [INFO] (irl_trainer.py:73) Total Epi:   176 Steps:    1089 Episode Steps:     5 Return: -1.0000 FPS: 66.80\n",
      "16:51:06.402 [INFO] (irl_trainer.py:73) Total Epi:   177 Steps:    1092 Episode Steps:     3 Return: -1.0000 FPS: 66.17\n",
      "16:51:06.447 [INFO] (irl_trainer.py:73) Total Epi:   178 Steps:    1095 Episode Steps:     3 Return: -1.0000 FPS: 69.94\n",
      "16:51:06.479 [INFO] (irl_trainer.py:73) Total Epi:   179 Steps:    1097 Episode Steps:     2 Return: -1.0000 FPS: 64.89\n",
      "16:51:06.529 [INFO] (irl_trainer.py:73) Total Epi:   180 Steps:    1100 Episode Steps:     3 Return: -1.0000 FPS: 61.55\n",
      "16:51:06.586 [INFO] (irl_trainer.py:73) Total Epi:   181 Steps:    1102 Episode Steps:     2 Return: -1.0000 FPS: 36.48\n",
      "16:51:06.634 [INFO] (irl_trainer.py:73) Total Epi:   182 Steps:    1105 Episode Steps:     3 Return: -1.0000 FPS: 63.99\n",
      "16:51:06.711 [INFO] (irl_trainer.py:73) Total Epi:   183 Steps:    1110 Episode Steps:     5 Return: -1.0000 FPS: 66.49\n",
      "16:51:06.763 [INFO] (irl_trainer.py:73) Total Epi:   184 Steps:    1113 Episode Steps:     3 Return: -1.0000 FPS: 58.82\n",
      "16:51:06.801 [INFO] (irl_trainer.py:73) Total Epi:   185 Steps:    1115 Episode Steps:     2 Return: -1.0000 FPS: 55.67\n",
      "16:51:06.835 [INFO] (irl_trainer.py:73) Total Epi:   186 Steps:    1117 Episode Steps:     2 Return: -1.0000 FPS: 61.21\n",
      "16:51:06.872 [INFO] (irl_trainer.py:73) Total Epi:   187 Steps:    1119 Episode Steps:     2 Return: -1.0000 FPS: 57.24\n",
      "16:51:06.935 [INFO] (irl_trainer.py:73) Total Epi:   188 Steps:    1123 Episode Steps:     4 Return: -1.0000 FPS: 64.43\n",
      "16:51:06.969 [INFO] (irl_trainer.py:73) Total Epi:   189 Steps:    1125 Episode Steps:     2 Return: -1.0000 FPS: 63.49\n",
      "16:51:07.016 [INFO] (irl_trainer.py:73) Total Epi:   190 Steps:    1128 Episode Steps:     3 Return: -1.0000 FPS: 66.06\n",
      "16:51:07.061 [INFO] (irl_trainer.py:73) Total Epi:   191 Steps:    1131 Episode Steps:     3 Return: -1.0000 FPS: 69.27\n",
      "16:51:07.099 [INFO] (irl_trainer.py:73) Total Epi:   192 Steps:    1133 Episode Steps:     2 Return: -1.0000 FPS: 55.38\n",
      "16:51:07.147 [INFO] (irl_trainer.py:73) Total Epi:   193 Steps:    1136 Episode Steps:     3 Return: -1.0000 FPS: 63.68\n",
      "16:51:07.178 [INFO] (irl_trainer.py:73) Total Epi:   194 Steps:    1138 Episode Steps:     2 Return: -1.0000 FPS: 69.00\n",
      "16:51:07.230 [INFO] (irl_trainer.py:73) Total Epi:   195 Steps:    1141 Episode Steps:     3 Return: -1.0000 FPS: 59.18\n",
      "16:51:07.459 [INFO] (irl_trainer.py:73) Total Epi:   196 Steps:    1156 Episode Steps:    15 Return:  1.0000 FPS: 66.16\n",
      "16:51:07.996 [INFO] (irl_trainer.py:73) Total Epi:   197 Steps:    1190 Episode Steps:    34 Return: -1.0000 FPS: 63.48\n",
      "16:51:08.635 [INFO] (irl_trainer.py:73) Total Epi:   198 Steps:    1231 Episode Steps:    41 Return: -1.0000 FPS: 64.37\n",
      "16:51:08.738 [INFO] (irl_trainer.py:73) Total Epi:   199 Steps:    1237 Episode Steps:     6 Return: -1.0000 FPS: 59.51\n",
      "16:51:09.370 [INFO] (irl_trainer.py:73) Total Epi:   200 Steps:    1276 Episode Steps:    39 Return: -1.0000 FPS: 61.97\n",
      "16:51:09.671 [INFO] (irl_trainer.py:119) Evaluation Total Steps:    1276 Average Reward -1.0000 / Average Step Count  27.2 over  5 episodes\n",
      "16:51:09.677 [INFO] (irl_trainer.py:73) Total Epi:   201 Steps:    1277 Episode Steps:     1 Return: -1.0000 FPS:  3.28\n",
      "16:51:10.108 [INFO] (irl_trainer.py:73) Total Epi:   202 Steps:    1302 Episode Steps:    25 Return: -1.0000 FPS: 58.22\n",
      "16:51:10.603 [INFO] (irl_trainer.py:73) Total Epi:   203 Steps:    1332 Episode Steps:    30 Return:  1.0000 FPS: 60.75\n",
      "16:51:10.990 [INFO] (irl_trainer.py:73) Total Epi:   204 Steps:    1356 Episode Steps:    24 Return: -1.0000 FPS: 62.35\n",
      "16:51:11.123 [INFO] (irl_trainer.py:73) Total Epi:   205 Steps:    1364 Episode Steps:     8 Return: -1.0000 FPS: 60.84\n",
      "16:51:11.551 [INFO] (irl_trainer.py:73) Total Epi:   206 Steps:    1390 Episode Steps:    26 Return: -1.0000 FPS: 61.03\n",
      "16:51:11.854 [INFO] (irl_trainer.py:73) Total Epi:   207 Steps:    1407 Episode Steps:    17 Return: -1.0000 FPS: 56.50\n",
      "16:51:12.163 [INFO] (irl_trainer.py:73) Total Epi:   208 Steps:    1428 Episode Steps:    21 Return: -1.0000 FPS: 68.27\n",
      "16:51:12.573 [INFO] (irl_trainer.py:73) Total Epi:   209 Steps:    1455 Episode Steps:    27 Return: -1.0000 FPS: 66.06\n",
      "16:51:12.873 [INFO] (irl_trainer.py:73) Total Epi:   210 Steps:    1475 Episode Steps:    20 Return: -1.0000 FPS: 67.15\n",
      "16:51:13.217 [INFO] (irl_trainer.py:73) Total Epi:   211 Steps:    1498 Episode Steps:    23 Return: -1.0000 FPS: 67.21\n",
      "16:51:13.559 [INFO] (irl_trainer.py:73) Total Epi:   212 Steps:    1519 Episode Steps:    21 Return: -1.0000 FPS: 61.68\n",
      "16:51:13.691 [INFO] (irl_trainer.py:73) Total Epi:   213 Steps:    1527 Episode Steps:     8 Return: -1.0000 FPS: 61.51\n",
      "16:51:13.882 [INFO] (irl_trainer.py:73) Total Epi:   214 Steps:    1539 Episode Steps:    12 Return: -1.0000 FPS: 63.46\n",
      "16:51:14.321 [INFO] (irl_trainer.py:73) Total Epi:   215 Steps:    1565 Episode Steps:    26 Return: -1.0000 FPS: 59.42\n",
      "16:51:14.529 [INFO] (irl_trainer.py:73) Total Epi:   216 Steps:    1578 Episode Steps:    13 Return: -1.0000 FPS: 62.98\n",
      "16:51:14.789 [INFO] (irl_trainer.py:73) Total Epi:   217 Steps:    1594 Episode Steps:    16 Return: -1.0000 FPS: 62.05\n",
      "16:51:15.128 [INFO] (irl_trainer.py:73) Total Epi:   218 Steps:    1613 Episode Steps:    19 Return: -1.0000 FPS: 56.31\n",
      "16:51:15.407 [INFO] (irl_trainer.py:73) Total Epi:   219 Steps:    1630 Episode Steps:    17 Return: -1.0000 FPS: 61.32\n",
      "16:51:15.549 [INFO] (irl_trainer.py:73) Total Epi:   220 Steps:    1639 Episode Steps:     9 Return: -1.0000 FPS: 64.34\n",
      "16:51:15.803 [INFO] (irl_trainer.py:73) Total Epi:   221 Steps:    1656 Episode Steps:    17 Return: -1.0000 FPS: 67.21\n",
      "16:51:16.116 [INFO] (irl_trainer.py:73) Total Epi:   222 Steps:    1677 Episode Steps:    21 Return: -1.0000 FPS: 67.53\n"
     ]
    },
    {
     "name": "stderr",
     "output_type": "stream",
     "text": [
      "16:51:16.315 [INFO] (irl_trainer.py:73) Total Epi:   223 Steps:    1690 Episode Steps:    13 Return: -1.0000 FPS: 65.82\n",
      "16:51:16.503 [INFO] (irl_trainer.py:73) Total Epi:   224 Steps:    1701 Episode Steps:    11 Return: -1.0000 FPS: 59.32\n",
      "16:51:16.759 [INFO] (irl_trainer.py:73) Total Epi:   225 Steps:    1718 Episode Steps:    17 Return: -1.0000 FPS: 66.69\n",
      "16:51:17.050 [INFO] (irl_trainer.py:73) Total Epi:   226 Steps:    1736 Episode Steps:    18 Return: -1.0000 FPS: 62.33\n",
      "16:51:17.241 [INFO] (irl_trainer.py:73) Total Epi:   227 Steps:    1748 Episode Steps:    12 Return: -1.0000 FPS: 63.34\n",
      "16:51:17.416 [INFO] (irl_trainer.py:73) Total Epi:   228 Steps:    1759 Episode Steps:    11 Return: -1.0000 FPS: 63.63\n",
      "16:51:17.621 [INFO] (irl_trainer.py:73) Total Epi:   229 Steps:    1772 Episode Steps:    13 Return: -1.0000 FPS: 64.00\n",
      "16:51:17.823 [INFO] (irl_trainer.py:73) Total Epi:   230 Steps:    1785 Episode Steps:    13 Return: -1.0000 FPS: 64.73\n",
      "16:51:17.977 [INFO] (irl_trainer.py:73) Total Epi:   231 Steps:    1795 Episode Steps:    10 Return: -1.0000 FPS: 66.08\n",
      "16:51:18.229 [INFO] (irl_trainer.py:73) Total Epi:   232 Steps:    1809 Episode Steps:    14 Return: -1.0000 FPS: 55.90\n",
      "16:51:18.359 [INFO] (irl_trainer.py:73) Total Epi:   233 Steps:    1817 Episode Steps:     8 Return: -1.0000 FPS: 62.46\n",
      "16:51:18.688 [INFO] (irl_trainer.py:73) Total Epi:   234 Steps:    1837 Episode Steps:    20 Return: -1.0000 FPS: 61.20\n",
      "16:51:18.913 [INFO] (irl_trainer.py:73) Total Epi:   235 Steps:    1852 Episode Steps:    15 Return: -1.0000 FPS: 67.25\n",
      "16:51:19.024 [INFO] (irl_trainer.py:73) Total Epi:   236 Steps:    1859 Episode Steps:     7 Return: -1.0000 FPS: 63.82\n",
      "16:51:19.300 [INFO] (irl_trainer.py:73) Total Epi:   237 Steps:    1876 Episode Steps:    17 Return: -1.0000 FPS: 61.98\n",
      "16:51:19.555 [INFO] (irl_trainer.py:73) Total Epi:   238 Steps:    1892 Episode Steps:    16 Return: -1.0000 FPS: 63.28\n",
      "16:51:19.823 [INFO] (irl_trainer.py:73) Total Epi:   239 Steps:    1907 Episode Steps:    15 Return: -1.0000 FPS: 56.40\n",
      "16:51:20.076 [INFO] (irl_trainer.py:73) Total Epi:   240 Steps:    1922 Episode Steps:    15 Return: -1.0000 FPS: 59.79\n",
      "16:51:20.305 [INFO] (irl_trainer.py:73) Total Epi:   241 Steps:    1936 Episode Steps:    14 Return: -1.0000 FPS: 61.69\n",
      "16:51:20.531 [INFO] (irl_trainer.py:73) Total Epi:   242 Steps:    1950 Episode Steps:    14 Return: -1.0000 FPS: 62.38\n",
      "16:51:20.764 [INFO] (irl_trainer.py:73) Total Epi:   243 Steps:    1965 Episode Steps:    15 Return: -1.0000 FPS: 64.80\n",
      "16:51:21.107 [INFO] (irl_trainer.py:73) Total Epi:   244 Steps:    1986 Episode Steps:    21 Return: -1.0000 FPS: 61.57\n",
      "16:51:21.409 [INFO] (irl_trainer.py:73) Total Epi:   245 Steps:    2003 Episode Steps:    17 Return: -1.0000 FPS: 56.76\n",
      "16:51:21.504 [INFO] (irl_trainer.py:73) Total Epi:   246 Steps:    2009 Episode Steps:     6 Return: -1.0000 FPS: 64.09\n",
      "16:51:21.724 [INFO] (irl_trainer.py:73) Total Epi:   247 Steps:    2023 Episode Steps:    14 Return: -1.0000 FPS: 64.04\n",
      "16:51:21.825 [INFO] (irl_trainer.py:73) Total Epi:   248 Steps:    2029 Episode Steps:     6 Return: -1.0000 FPS: 60.94\n",
      "16:51:22.022 [INFO] (irl_trainer.py:73) Total Epi:   249 Steps:    2042 Episode Steps:    13 Return: -1.0000 FPS: 66.77\n",
      "16:51:22.312 [INFO] (irl_trainer.py:73) Total Epi:   250 Steps:    2059 Episode Steps:    17 Return: -1.0000 FPS: 58.78\n",
      "16:51:22.551 [INFO] (irl_trainer.py:73) Total Epi:   251 Steps:    2074 Episode Steps:    15 Return: -1.0000 FPS: 63.25\n",
      "16:51:22.818 [INFO] (irl_trainer.py:73) Total Epi:   252 Steps:    2090 Episode Steps:    16 Return: -1.0000 FPS: 60.33\n",
      "16:51:23.110 [INFO] (irl_trainer.py:73) Total Epi:   253 Steps:    2105 Episode Steps:    15 Return: -1.0000 FPS: 51.70\n",
      "16:51:23.397 [INFO] (irl_trainer.py:73) Total Epi:   254 Steps:    2123 Episode Steps:    18 Return: -1.0000 FPS: 63.17\n",
      "16:51:23.547 [INFO] (irl_trainer.py:73) Total Epi:   255 Steps:    2132 Episode Steps:     9 Return: -1.0000 FPS: 60.59\n",
      "16:51:23.815 [INFO] (irl_trainer.py:73) Total Epi:   256 Steps:    2148 Episode Steps:    16 Return: -1.0000 FPS: 60.20\n",
      "16:51:23.901 [INFO] (irl_trainer.py:73) Total Epi:   257 Steps:    2153 Episode Steps:     5 Return: -1.0000 FPS: 59.38\n",
      "16:51:24.171 [INFO] (irl_trainer.py:73) Total Epi:   258 Steps:    2169 Episode Steps:    16 Return: -1.0000 FPS: 59.71\n",
      "16:51:24.320 [INFO] (irl_trainer.py:73) Total Epi:   259 Steps:    2178 Episode Steps:     9 Return: -1.0000 FPS: 61.04\n",
      "16:51:24.612 [INFO] (irl_trainer.py:73) Total Epi:   260 Steps:    2196 Episode Steps:    18 Return: -1.0000 FPS: 62.11\n",
      "16:51:24.948 [INFO] (irl_trainer.py:73) Total Epi:   261 Steps:    2215 Episode Steps:    19 Return:  1.0000 FPS: 56.78\n",
      "16:51:25.050 [INFO] (irl_trainer.py:73) Total Epi:   262 Steps:    2221 Episode Steps:     6 Return: -1.0000 FPS: 59.79\n",
      "16:51:25.246 [INFO] (irl_trainer.py:73) Total Epi:   263 Steps:    2233 Episode Steps:    12 Return: -1.0000 FPS: 61.86\n",
      "16:51:25.467 [INFO] (irl_trainer.py:73) Total Epi:   264 Steps:    2246 Episode Steps:    13 Return: -1.0000 FPS: 59.37\n",
      "16:51:25.987 [INFO] (irl_trainer.py:73) Total Epi:   265 Steps:    2277 Episode Steps:    31 Return: -1.0000 FPS: 59.78\n",
      "16:51:26.217 [INFO] (irl_trainer.py:73) Total Epi:   266 Steps:    2291 Episode Steps:    14 Return: -1.0000 FPS: 61.33\n",
      "16:51:26.463 [INFO] (irl_trainer.py:73) Total Epi:   267 Steps:    2305 Episode Steps:    14 Return: -1.0000 FPS: 57.22\n",
      "16:51:26.638 [INFO] (irl_trainer.py:73) Total Epi:   268 Steps:    2316 Episode Steps:    11 Return: -1.0000 FPS: 63.71\n",
      "16:51:26.874 [INFO] (irl_trainer.py:73) Total Epi:   269 Steps:    2331 Episode Steps:    15 Return: -1.0000 FPS: 64.08\n",
      "16:51:27.109 [INFO] (irl_trainer.py:73) Total Epi:   270 Steps:    2345 Episode Steps:    14 Return: -1.0000 FPS: 59.93\n",
      "16:51:27.283 [INFO] (irl_trainer.py:73) Total Epi:   271 Steps:    2356 Episode Steps:    11 Return: -1.0000 FPS: 63.96\n",
      "16:51:27.508 [INFO] (irl_trainer.py:73) Total Epi:   272 Steps:    2371 Episode Steps:    15 Return: -1.0000 FPS: 67.27\n",
      "16:51:27.796 [INFO] (irl_trainer.py:73) Total Epi:   273 Steps:    2390 Episode Steps:    19 Return: -1.0000 FPS: 66.41\n",
      "16:51:28.002 [INFO] (irl_trainer.py:73) Total Epi:   274 Steps:    2402 Episode Steps:    12 Return: -1.0000 FPS: 58.53\n",
      "16:51:28.229 [INFO] (irl_trainer.py:73) Total Epi:   275 Steps:    2416 Episode Steps:    14 Return: -1.0000 FPS: 62.36\n",
      "16:51:28.431 [INFO] (irl_trainer.py:73) Total Epi:   276 Steps:    2429 Episode Steps:    13 Return: -1.0000 FPS: 64.72\n",
      "16:51:28.731 [INFO] (irl_trainer.py:73) Total Epi:   277 Steps:    2448 Episode Steps:    19 Return: -1.0000 FPS: 63.64\n",
      "16:51:28.866 [INFO] (irl_trainer.py:73) Total Epi:   278 Steps:    2457 Episode Steps:     9 Return: -1.0000 FPS: 67.96\n",
      "16:51:29.082 [INFO] (irl_trainer.py:73) Total Epi:   279 Steps:    2471 Episode Steps:    14 Return: -1.0000 FPS: 65.35\n",
      "16:51:29.238 [INFO] (irl_trainer.py:73) Total Epi:   280 Steps:    2481 Episode Steps:    10 Return: -1.0000 FPS: 64.58\n",
      "16:51:29.469 [INFO] (irl_trainer.py:73) Total Epi:   281 Steps:    2496 Episode Steps:    15 Return: -1.0000 FPS: 65.49\n",
      "16:51:29.758 [INFO] (irl_trainer.py:73) Total Epi:   282 Steps:    2513 Episode Steps:    17 Return: -1.0000 FPS: 59.20\n",
      "16:51:29.969 [INFO] (irl_trainer.py:73) Total Epi:   283 Steps:    2527 Episode Steps:    14 Return: -1.0000 FPS: 66.87\n",
      "16:51:30.076 [INFO] (irl_trainer.py:73) Total Epi:   284 Steps:    2534 Episode Steps:     7 Return: -1.0000 FPS: 66.19\n",
      "16:51:30.280 [INFO] (irl_trainer.py:73) Total Epi:   285 Steps:    2547 Episode Steps:    13 Return: -1.0000 FPS: 64.48\n",
      "16:51:30.545 [INFO] (irl_trainer.py:73) Total Epi:   286 Steps:    2564 Episode Steps:    17 Return: -1.0000 FPS: 64.59\n",
      "16:51:30.729 [INFO] (irl_trainer.py:73) Total Epi:   287 Steps:    2576 Episode Steps:    12 Return: -1.0000 FPS: 65.83\n",
      "16:51:30.843 [INFO] (irl_trainer.py:73) Total Epi:   288 Steps:    2583 Episode Steps:     7 Return: -1.0000 FPS: 62.35\n",
      "16:51:31.143 [INFO] (irl_trainer.py:73) Total Epi:   289 Steps:    2601 Episode Steps:    18 Return: -1.0000 FPS: 60.33\n",
      "16:51:31.271 [INFO] (irl_trainer.py:73) Total Epi:   290 Steps:    2609 Episode Steps:     8 Return: -1.0000 FPS: 63.18\n",
      "16:51:31.505 [INFO] (irl_trainer.py:73) Total Epi:   291 Steps:    2624 Episode Steps:    15 Return: -1.0000 FPS: 64.76\n"
     ]
    },
    {
     "name": "stderr",
     "output_type": "stream",
     "text": [
      "16:51:31.657 [INFO] (irl_trainer.py:73) Total Epi:   292 Steps:    2633 Episode Steps:     9 Return: -1.0000 FPS: 59.86\n",
      "16:51:31.906 [INFO] (irl_trainer.py:73) Total Epi:   293 Steps:    2649 Episode Steps:    16 Return: -1.0000 FPS: 64.95\n",
      "16:51:32.024 [INFO] (irl_trainer.py:73) Total Epi:   294 Steps:    2657 Episode Steps:     8 Return: -1.0000 FPS: 68.38\n",
      "16:51:32.124 [INFO] (irl_trainer.py:73) Total Epi:   295 Steps:    2663 Episode Steps:     6 Return: -1.0000 FPS: 61.16\n",
      "16:51:32.313 [INFO] (irl_trainer.py:73) Total Epi:   296 Steps:    2675 Episode Steps:    12 Return: -1.0000 FPS: 64.10\n",
      "16:51:32.480 [INFO] (irl_trainer.py:73) Total Epi:   297 Steps:    2686 Episode Steps:    11 Return: -1.0000 FPS: 66.56\n",
      "16:51:32.656 [INFO] (irl_trainer.py:73) Total Epi:   298 Steps:    2697 Episode Steps:    11 Return: -1.0000 FPS: 63.16\n",
      "16:51:32.881 [INFO] (irl_trainer.py:73) Total Epi:   299 Steps:    2710 Episode Steps:    13 Return: -1.0000 FPS: 58.42\n",
      "16:51:33.126 [INFO] (irl_trainer.py:73) Total Epi:   300 Steps:    2724 Episode Steps:    14 Return: -1.0000 FPS: 57.47\n",
      "16:51:33.286 [INFO] (irl_trainer.py:119) Evaluation Total Steps:    2724 Average Reward -1.0000 / Average Step Count  14.8 over  5 episodes\n",
      "16:51:33.297 [INFO] (irl_trainer.py:73) Total Epi:   301 Steps:    2725 Episode Steps:     1 Return: -1.0000 FPS:  5.91\n",
      "16:51:33.506 [INFO] (irl_trainer.py:73) Total Epi:   302 Steps:    2738 Episode Steps:    13 Return: -1.0000 FPS: 62.68\n",
      "16:51:33.614 [INFO] (irl_trainer.py:73) Total Epi:   303 Steps:    2745 Episode Steps:     7 Return: -1.0000 FPS: 66.04\n",
      "16:51:33.826 [INFO] (irl_trainer.py:73) Total Epi:   304 Steps:    2759 Episode Steps:    14 Return: -1.0000 FPS: 66.63\n",
      "16:51:34.012 [INFO] (irl_trainer.py:73) Total Epi:   305 Steps:    2771 Episode Steps:    12 Return: -1.0000 FPS: 64.86\n",
      "16:51:34.281 [INFO] (irl_trainer.py:73) Total Epi:   306 Steps:    2787 Episode Steps:    16 Return: -1.0000 FPS: 60.03\n",
      "16:51:34.423 [INFO] (irl_trainer.py:73) Total Epi:   307 Steps:    2796 Episode Steps:     9 Return: -1.0000 FPS: 64.11\n",
      "16:51:34.639 [INFO] (irl_trainer.py:73) Total Epi:   308 Steps:    2809 Episode Steps:    13 Return: -1.0000 FPS: 60.79\n",
      "16:51:34.779 [INFO] (irl_trainer.py:73) Total Epi:   309 Steps:    2818 Episode Steps:     9 Return: -1.0000 FPS: 65.26\n",
      "16:51:34.981 [INFO] (irl_trainer.py:73) Total Epi:   310 Steps:    2831 Episode Steps:    13 Return: -1.0000 FPS: 64.91\n",
      "16:51:35.098 [INFO] (irl_trainer.py:73) Total Epi:   311 Steps:    2838 Episode Steps:     7 Return: -1.0000 FPS: 60.98\n",
      "16:51:35.302 [INFO] (irl_trainer.py:73) Total Epi:   312 Steps:    2851 Episode Steps:    13 Return: -1.0000 FPS: 64.31\n",
      "16:51:35.412 [INFO] (irl_trainer.py:73) Total Epi:   313 Steps:    2858 Episode Steps:     7 Return: -1.0000 FPS: 64.87\n",
      "16:51:35.480 [INFO] (irl_trainer.py:73) Total Epi:   314 Steps:    2862 Episode Steps:     4 Return: -1.0000 FPS: 59.81\n",
      "16:51:35.695 [INFO] (irl_trainer.py:73) Total Epi:   315 Steps:    2876 Episode Steps:    14 Return: -1.0000 FPS: 65.57\n",
      "16:51:35.884 [INFO] (irl_trainer.py:73) Total Epi:   316 Steps:    2889 Episode Steps:    13 Return: -1.0000 FPS: 69.48\n",
      "16:51:36.109 [INFO] (irl_trainer.py:73) Total Epi:   317 Steps:    2902 Episode Steps:    13 Return: -1.0000 FPS: 58.12\n",
      "16:51:36.261 [INFO] (irl_trainer.py:73) Total Epi:   318 Steps:    2912 Episode Steps:    10 Return: -1.0000 FPS: 66.83\n",
      "16:51:36.464 [INFO] (irl_trainer.py:73) Total Epi:   319 Steps:    2925 Episode Steps:    13 Return: -1.0000 FPS: 64.45\n",
      "16:51:36.704 [INFO] (irl_trainer.py:73) Total Epi:   320 Steps:    2940 Episode Steps:    15 Return: -1.0000 FPS: 62.88\n",
      "16:51:36.922 [INFO] (irl_trainer.py:73) Total Epi:   321 Steps:    2954 Episode Steps:    14 Return: -1.0000 FPS: 64.68\n",
      "16:51:37.135 [INFO] (irl_trainer.py:73) Total Epi:   322 Steps:    2968 Episode Steps:    14 Return: -1.0000 FPS: 66.20\n",
      "16:51:37.329 [INFO] (irl_trainer.py:73) Total Epi:   323 Steps:    2981 Episode Steps:    13 Return: -1.0000 FPS: 67.57\n",
      "16:51:37.524 [INFO] (irl_trainer.py:73) Total Epi:   324 Steps:    2994 Episode Steps:    13 Return: -1.0000 FPS: 67.18\n",
      "16:51:37.704 [INFO] (irl_trainer.py:73) Total Epi:   325 Steps:    3004 Episode Steps:    10 Return: -1.0000 FPS: 56.18\n",
      "16:51:37.829 [INFO] (irl_trainer.py:73) Total Epi:   326 Steps:    3012 Episode Steps:     8 Return: -1.0000 FPS: 65.30\n",
      "16:51:38.068 [INFO] (irl_trainer.py:73) Total Epi:   327 Steps:    3027 Episode Steps:    15 Return: -1.0000 FPS: 63.14\n",
      "16:51:38.180 [INFO] (irl_trainer.py:73) Total Epi:   328 Steps:    3034 Episode Steps:     7 Return: -1.0000 FPS: 63.51\n",
      "16:51:38.364 [INFO] (irl_trainer.py:73) Total Epi:   329 Steps:    3046 Episode Steps:    12 Return: -1.0000 FPS: 65.74\n",
      "16:51:38.534 [INFO] (irl_trainer.py:73) Total Epi:   330 Steps:    3057 Episode Steps:    11 Return: -1.0000 FPS: 65.57\n",
      "16:51:38.775 [INFO] (irl_trainer.py:73) Total Epi:   331 Steps:    3073 Episode Steps:    16 Return: -1.0000 FPS: 66.92\n",
      "16:51:38.971 [INFO] (irl_trainer.py:73) Total Epi:   332 Steps:    3086 Episode Steps:    13 Return: -1.0000 FPS: 66.92\n",
      "16:51:39.140 [INFO] (irl_trainer.py:73) Total Epi:   333 Steps:    3097 Episode Steps:    11 Return: -1.0000 FPS: 66.21\n",
      "16:51:39.241 [INFO] (irl_trainer.py:73) Total Epi:   334 Steps:    3102 Episode Steps:     5 Return: -1.0000 FPS: 50.52\n",
      "16:51:39.471 [INFO] (irl_trainer.py:73) Total Epi:   335 Steps:    3116 Episode Steps:    14 Return: -1.0000 FPS: 61.28\n",
      "16:51:39.666 [INFO] (irl_trainer.py:73) Total Epi:   336 Steps:    3129 Episode Steps:    13 Return: -1.0000 FPS: 67.41\n",
      "16:51:39.851 [INFO] (irl_trainer.py:73) Total Epi:   337 Steps:    3141 Episode Steps:    12 Return: -1.0000 FPS: 65.46\n",
      "16:51:40.002 [INFO] (irl_trainer.py:73) Total Epi:   338 Steps:    3151 Episode Steps:    10 Return: -1.0000 FPS: 66.77\n",
      "16:51:40.105 [INFO] (irl_trainer.py:73) Total Epi:   339 Steps:    3157 Episode Steps:     6 Return: -1.0000 FPS: 59.47\n",
      "16:51:40.348 [INFO] (irl_trainer.py:73) Total Epi:   340 Steps:    3173 Episode Steps:    16 Return: -1.0000 FPS: 66.31\n",
      "16:51:40.578 [INFO] (irl_trainer.py:73) Total Epi:   341 Steps:    3188 Episode Steps:    15 Return: -1.0000 FPS: 65.77\n",
      "16:51:40.831 [INFO] (irl_trainer.py:73) Total Epi:   342 Steps:    3202 Episode Steps:    14 Return: -1.0000 FPS: 55.77\n",
      "16:51:40.948 [INFO] (irl_trainer.py:73) Total Epi:   343 Steps:    3210 Episode Steps:     8 Return: -1.0000 FPS: 69.33\n",
      "16:51:41.095 [INFO] (irl_trainer.py:73) Total Epi:   344 Steps:    3220 Episode Steps:    10 Return: -1.0000 FPS: 68.57\n",
      "16:51:41.331 [INFO] (irl_trainer.py:73) Total Epi:   345 Steps:    3235 Episode Steps:    15 Return: -1.0000 FPS: 64.17\n",
      "16:51:41.494 [INFO] (irl_trainer.py:73) Total Epi:   346 Steps:    3246 Episode Steps:    11 Return: -1.0000 FPS: 67.90\n",
      "16:51:41.644 [INFO] (irl_trainer.py:73) Total Epi:   347 Steps:    3256 Episode Steps:    10 Return: -1.0000 FPS: 67.89\n",
      "16:51:41.877 [INFO] (irl_trainer.py:73) Total Epi:   348 Steps:    3271 Episode Steps:    15 Return: -1.0000 FPS: 64.68\n",
      "16:51:42.094 [INFO] (irl_trainer.py:73) Total Epi:   349 Steps:    3285 Episode Steps:    14 Return: -1.0000 FPS: 65.01\n",
      "16:51:42.232 [INFO] (irl_trainer.py:73) Total Epi:   350 Steps:    3294 Episode Steps:     9 Return: -1.0000 FPS: 66.07\n",
      "16:51:42.452 [INFO] (irl_trainer.py:73) Total Epi:   351 Steps:    3307 Episode Steps:    13 Return: -1.0000 FPS: 59.50\n",
      "16:51:42.599 [INFO] (irl_trainer.py:73) Total Epi:   352 Steps:    3317 Episode Steps:    10 Return: -1.0000 FPS: 69.03\n",
      "16:51:42.788 [INFO] (irl_trainer.py:73) Total Epi:   353 Steps:    3329 Episode Steps:    12 Return: -1.0000 FPS: 64.11\n",
      "16:51:43.016 [INFO] (irl_trainer.py:73) Total Epi:   354 Steps:    3344 Episode Steps:    15 Return: -1.0000 FPS: 66.02\n",
      "16:51:43.211 [INFO] (irl_trainer.py:73) Total Epi:   355 Steps:    3356 Episode Steps:    12 Return: -1.0000 FPS: 62.22\n",
      "16:51:43.393 [INFO] (irl_trainer.py:73) Total Epi:   356 Steps:    3368 Episode Steps:    12 Return: -1.0000 FPS: 66.60\n",
      "16:51:43.692 [INFO] (irl_trainer.py:73) Total Epi:   357 Steps:    3387 Episode Steps:    19 Return: -1.0000 FPS: 63.91\n",
      "16:51:43.930 [INFO] (irl_trainer.py:73) Total Epi:   358 Steps:    3401 Episode Steps:    14 Return: -1.0000 FPS: 59.16\n",
      "16:51:44.133 [INFO] (irl_trainer.py:73) Total Epi:   359 Steps:    3414 Episode Steps:    13 Return: -1.0000 FPS: 64.39\n"
     ]
    },
    {
     "name": "stderr",
     "output_type": "stream",
     "text": [
      "16:51:44.392 [INFO] (irl_trainer.py:73) Total Epi:   360 Steps:    3430 Episode Steps:    16 Return: -1.0000 FPS: 62.32\n",
      "16:51:44.499 [INFO] (irl_trainer.py:73) Total Epi:   361 Steps:    3437 Episode Steps:     7 Return: -1.0000 FPS: 66.10\n",
      "16:51:44.658 [INFO] (irl_trainer.py:73) Total Epi:   362 Steps:    3447 Episode Steps:    10 Return: -1.0000 FPS: 63.53\n",
      "16:51:44.852 [INFO] (irl_trainer.py:73) Total Epi:   363 Steps:    3459 Episode Steps:    12 Return: -1.0000 FPS: 62.43\n",
      "16:51:45.039 [INFO] (irl_trainer.py:73) Total Epi:   364 Steps:    3471 Episode Steps:    12 Return: -1.0000 FPS: 64.99\n",
      "16:51:45.211 [INFO] (irl_trainer.py:73) Total Epi:   365 Steps:    3482 Episode Steps:    11 Return: -1.0000 FPS: 64.41\n",
      "16:51:45.398 [INFO] (irl_trainer.py:73) Total Epi:   366 Steps:    3494 Episode Steps:    12 Return: -1.0000 FPS: 64.87\n",
      "16:51:45.651 [INFO] (irl_trainer.py:73) Total Epi:   367 Steps:    3509 Episode Steps:    15 Return: -1.0000 FPS: 59.76\n",
      "16:51:45.897 [INFO] (irl_trainer.py:73) Total Epi:   368 Steps:    3525 Episode Steps:    16 Return: -1.0000 FPS: 65.52\n",
      "16:51:46.080 [INFO] (irl_trainer.py:73) Total Epi:   369 Steps:    3537 Episode Steps:    12 Return: -1.0000 FPS: 66.02\n",
      "16:51:46.319 [INFO] (irl_trainer.py:73) Total Epi:   370 Steps:    3553 Episode Steps:    16 Return: -1.0000 FPS: 67.31\n",
      "16:51:46.543 [INFO] (irl_trainer.py:73) Total Epi:   371 Steps:    3568 Episode Steps:    15 Return: -1.0000 FPS: 67.57\n",
      "16:51:46.665 [INFO] (irl_trainer.py:73) Total Epi:   372 Steps:    3576 Episode Steps:     8 Return: -1.0000 FPS: 66.18\n",
      "16:51:46.886 [INFO] (irl_trainer.py:73) Total Epi:   373 Steps:    3590 Episode Steps:    14 Return: -1.0000 FPS: 63.81\n",
      "16:51:47.109 [INFO] (irl_trainer.py:73) Total Epi:   374 Steps:    3603 Episode Steps:    13 Return: -1.0000 FPS: 58.85\n",
      "16:51:47.303 [INFO] (irl_trainer.py:73) Total Epi:   375 Steps:    3616 Episode Steps:    13 Return: -1.0000 FPS: 67.47\n",
      "16:51:47.472 [INFO] (irl_trainer.py:73) Total Epi:   376 Steps:    3627 Episode Steps:    11 Return: -1.0000 FPS: 66.01\n",
      "16:51:47.694 [INFO] (irl_trainer.py:73) Total Epi:   377 Steps:    3642 Episode Steps:    15 Return: -1.0000 FPS: 67.79\n",
      "16:51:47.890 [INFO] (irl_trainer.py:73) Total Epi:   378 Steps:    3655 Episode Steps:    13 Return: -1.0000 FPS: 67.01\n",
      "16:51:48.117 [INFO] (irl_trainer.py:73) Total Epi:   379 Steps:    3670 Episode Steps:    15 Return: -1.0000 FPS: 66.78\n",
      "16:51:48.239 [INFO] (irl_trainer.py:73) Total Epi:   380 Steps:    3678 Episode Steps:     8 Return: -1.0000 FPS: 66.24\n",
      "16:51:48.447 [INFO] (irl_trainer.py:73) Total Epi:   381 Steps:    3692 Episode Steps:    14 Return: -1.0000 FPS: 68.22\n",
      "16:51:48.679 [INFO] (irl_trainer.py:73) Total Epi:   382 Steps:    3706 Episode Steps:    14 Return: -1.0000 FPS: 61.00\n",
      "16:51:48.880 [INFO] (irl_trainer.py:73) Total Epi:   383 Steps:    3719 Episode Steps:    13 Return: -1.0000 FPS: 64.99\n",
      "16:51:49.077 [INFO] (irl_trainer.py:73) Total Epi:   384 Steps:    3732 Episode Steps:    13 Return: -1.0000 FPS: 66.83\n",
      "16:51:49.299 [INFO] (irl_trainer.py:73) Total Epi:   385 Steps:    3747 Episode Steps:    15 Return: -1.0000 FPS: 67.85\n",
      "16:51:49.407 [INFO] (irl_trainer.py:73) Total Epi:   386 Steps:    3754 Episode Steps:     7 Return: -1.0000 FPS: 66.05\n",
      "16:51:49.579 [INFO] (irl_trainer.py:73) Total Epi:   387 Steps:    3765 Episode Steps:    11 Return: -1.0000 FPS: 64.68\n",
      "16:51:49.815 [INFO] (irl_trainer.py:73) Total Epi:   388 Steps:    3780 Episode Steps:    15 Return: -1.0000 FPS: 64.14\n",
      "16:51:50.046 [INFO] (irl_trainer.py:73) Total Epi:   389 Steps:    3795 Episode Steps:    15 Return: -1.0000 FPS: 65.26\n",
      "16:51:50.274 [INFO] (irl_trainer.py:73) Total Epi:   390 Steps:    3809 Episode Steps:    14 Return: -1.0000 FPS: 61.88\n",
      "16:51:50.386 [INFO] (irl_trainer.py:73) Total Epi:   391 Steps:    3816 Episode Steps:     7 Return: -1.0000 FPS: 63.49\n",
      "16:51:51.006 [INFO] (irl_trainer.py:73) Total Epi:   392 Steps:    3857 Episode Steps:    41 Return: -1.0000 FPS: 66.34\n",
      "16:51:51.213 [INFO] (irl_trainer.py:73) Total Epi:   393 Steps:    3871 Episode Steps:    14 Return: -1.0000 FPS: 68.22\n",
      "16:51:51.521 [INFO] (irl_trainer.py:73) Total Epi:   394 Steps:    3891 Episode Steps:    20 Return: -1.0000 FPS: 65.36\n",
      "16:51:51.761 [INFO] (irl_trainer.py:73) Total Epi:   395 Steps:    3905 Episode Steps:    14 Return: -1.0000 FPS: 58.86\n",
      "16:51:51.963 [INFO] (irl_trainer.py:73) Total Epi:   396 Steps:    3918 Episode Steps:    13 Return: -1.0000 FPS: 64.78\n",
      "16:51:52.196 [INFO] (irl_trainer.py:73) Total Epi:   397 Steps:    3933 Episode Steps:    15 Return: -1.0000 FPS: 64.81\n",
      "16:51:52.412 [INFO] (irl_trainer.py:73) Total Epi:   398 Steps:    3947 Episode Steps:    14 Return: -1.0000 FPS: 65.37\n",
      "16:51:52.749 [INFO] (irl_trainer.py:73) Total Epi:   399 Steps:    3970 Episode Steps:    23 Return: -1.0000 FPS: 68.55\n",
      "16:51:52.854 [INFO] (irl_trainer.py:73) Total Epi:   400 Steps:    3977 Episode Steps:     7 Return: -1.0000 FPS: 67.69\n",
      "16:51:52.979 [INFO] (irl_trainer.py:119) Evaluation Total Steps:    3977 Average Reward -1.0000 / Average Step Count  13.8 over  5 episodes\n",
      "16:51:52.989 [INFO] (irl_trainer.py:73) Total Epi:   401 Steps:    3978 Episode Steps:     1 Return: -1.0000 FPS:  7.53\n"
     ]
    },
    {
     "ename": "KeyboardInterrupt",
     "evalue": "",
     "output_type": "error",
     "traceback": [
      "\u001b[0;31m---------------------------------------------------------------------------\u001b[0m",
      "\u001b[0;31mKeyboardInterrupt\u001b[0m                         Traceback (most recent call last)",
      "\u001b[0;32m<ipython-input-8-734e2b4e344b>\u001b[0m in \u001b[0;36m<module>\u001b[0;34m\u001b[0m\n\u001b[1;32m     42\u001b[0m \u001b[0;34m\u001b[0m\u001b[0m\n\u001b[1;32m     43\u001b[0m \u001b[0;31m# train the agent\u001b[0m\u001b[0;34m\u001b[0m\u001b[0;34m\u001b[0m\u001b[0;34m\u001b[0m\u001b[0m\n\u001b[0;32m---> 44\u001b[0;31m \u001b[0mrunner\u001b[0m\u001b[0;34m.\u001b[0m\u001b[0mTrain\u001b[0m\u001b[0;34m(\u001b[0m\u001b[0;34m)\u001b[0m\u001b[0;34m\u001b[0m\u001b[0;34m\u001b[0m\u001b[0m\n\u001b[0m",
      "\u001b[0;32m~/.cache/bazel/_bazel_brucknem/5babddc60bc977a08450e544bfdcfbae/execroot/bark_ml/bazel-out/k8-fastbuild/bin/docs/report/run.runfiles/bark_ml/bark_ml/library_wrappers/lib_tf2rl/runners/tf2rl_runner.py\u001b[0m in \u001b[0;36mTrain\u001b[0;34m(self)\u001b[0m\n\u001b[1;32m     54\u001b[0m   \u001b[0;32mdef\u001b[0m \u001b[0mTrain\u001b[0m\u001b[0;34m(\u001b[0m\u001b[0mself\u001b[0m\u001b[0;34m)\u001b[0m\u001b[0;34m:\u001b[0m\u001b[0;34m\u001b[0m\u001b[0;34m\u001b[0m\u001b[0m\n\u001b[1;32m     55\u001b[0m     \u001b[0;34m\"\"\"trains the agent.\"\"\"\u001b[0m\u001b[0;34m\u001b[0m\u001b[0;34m\u001b[0m\u001b[0m\n\u001b[0;32m---> 56\u001b[0;31m     \u001b[0mself\u001b[0m\u001b[0;34m.\u001b[0m\u001b[0m_train\u001b[0m\u001b[0;34m(\u001b[0m\u001b[0;34m)\u001b[0m\u001b[0;34m\u001b[0m\u001b[0;34m\u001b[0m\u001b[0m\n\u001b[0m\u001b[1;32m     57\u001b[0m \u001b[0;34m\u001b[0m\u001b[0m\n\u001b[1;32m     58\u001b[0m   \u001b[0;32mdef\u001b[0m \u001b[0m_train\u001b[0m\u001b[0;34m(\u001b[0m\u001b[0mself\u001b[0m\u001b[0;34m)\u001b[0m\u001b[0;34m:\u001b[0m\u001b[0;34m\u001b[0m\u001b[0;34m\u001b[0m\u001b[0m\n",
      "\u001b[0;32m~/.cache/bazel/_bazel_brucknem/5babddc60bc977a08450e544bfdcfbae/execroot/bark_ml/bazel-out/k8-fastbuild/bin/docs/report/run.runfiles/bark_ml/bark_ml/library_wrappers/lib_tf2rl/runners/gail_runner.py\u001b[0m in \u001b[0;36m_train\u001b[0;34m(self)\u001b[0m\n\u001b[1;32m     45\u001b[0m     \u001b[0minstantiated\u001b[0m \u001b[0mby\u001b[0m \u001b[0mself\u001b[0m\u001b[0;34m.\u001b[0m\u001b[0mGetTrainer\u001b[0m\u001b[0;34m.\u001b[0m\u001b[0;34m\u001b[0m\u001b[0;34m\u001b[0m\u001b[0m\n\u001b[1;32m     46\u001b[0m     \"\"\"\n\u001b[0;32m---> 47\u001b[0;31m     \u001b[0mself\u001b[0m\u001b[0;34m.\u001b[0m\u001b[0m_trainer\u001b[0m\u001b[0;34m(\u001b[0m\u001b[0;34m)\u001b[0m\u001b[0;34m\u001b[0m\u001b[0;34m\u001b[0m\u001b[0m\n\u001b[0m\u001b[1;32m     48\u001b[0m \u001b[0;34m\u001b[0m\u001b[0m\n\u001b[1;32m     49\u001b[0m   \u001b[0;32mdef\u001b[0m \u001b[0mGetTrainer\u001b[0m\u001b[0;34m(\u001b[0m\u001b[0mself\u001b[0m\u001b[0;34m)\u001b[0m\u001b[0;34m:\u001b[0m\u001b[0;34m\u001b[0m\u001b[0;34m\u001b[0m\u001b[0m\n",
      "\u001b[0;32m~/.cache/bazel/_bazel_brucknem/5babddc60bc977a08450e544bfdcfbae/execroot/bark_ml/bazel-out/k8-fastbuild/bin/docs/report/run.runfiles/com_github_keiohta_tf2rl/tf2rl/experiments/irl_trainer.py\u001b[0m in \u001b[0;36m__call__\u001b[0;34m(self)\u001b[0m\n\u001b[1;32m     90\u001b[0m                         \u001b[0msamples\u001b[0m\u001b[0;34m[\u001b[0m\u001b[0;34m\"obs\"\u001b[0m\u001b[0;34m]\u001b[0m\u001b[0;34m,\u001b[0m \u001b[0msamples\u001b[0m\u001b[0;34m[\u001b[0m\u001b[0;34m\"act\"\u001b[0m\u001b[0;34m]\u001b[0m\u001b[0;34m,\u001b[0m \u001b[0msamples\u001b[0m\u001b[0;34m[\u001b[0m\u001b[0;34m\"next_obs\"\u001b[0m\u001b[0;34m]\u001b[0m\u001b[0;34m,\u001b[0m\u001b[0;34m\u001b[0m\u001b[0;34m\u001b[0m\u001b[0m\n\u001b[1;32m     91\u001b[0m                         \u001b[0mrew\u001b[0m\u001b[0;34m,\u001b[0m \u001b[0msamples\u001b[0m\u001b[0;34m[\u001b[0m\u001b[0;34m\"done\"\u001b[0m\u001b[0;34m]\u001b[0m\u001b[0;34m,\u001b[0m\u001b[0;34m\u001b[0m\u001b[0;34m\u001b[0m\u001b[0m\n\u001b[0;32m---> 92\u001b[0;31m                         None if not self._use_prioritized_rb else samples[\"weights\"])\n\u001b[0m\u001b[1;32m     93\u001b[0m                     \u001b[0;32mif\u001b[0m \u001b[0mself\u001b[0m\u001b[0;34m.\u001b[0m\u001b[0m_use_prioritized_rb\u001b[0m\u001b[0;34m:\u001b[0m\u001b[0;34m\u001b[0m\u001b[0;34m\u001b[0m\u001b[0m\n\u001b[1;32m     94\u001b[0m                         td_error = self._policy.compute_td_error(\n",
      "\u001b[0;32m~/.cache/bazel/_bazel_brucknem/5babddc60bc977a08450e544bfdcfbae/execroot/bark_ml/bazel-out/k8-fastbuild/bin/docs/report/run.runfiles/com_github_keiohta_tf2rl/tf2rl/algos/ddpg.py\u001b[0m in \u001b[0;36mtrain\u001b[0;34m(self, states, actions, next_states, rewards, done, weights)\u001b[0m\n\u001b[1;32m    117\u001b[0m             \u001b[0mweights\u001b[0m \u001b[0;34m=\u001b[0m \u001b[0mnp\u001b[0m\u001b[0;34m.\u001b[0m\u001b[0mones_like\u001b[0m\u001b[0;34m(\u001b[0m\u001b[0mrewards\u001b[0m\u001b[0;34m)\u001b[0m\u001b[0;34m\u001b[0m\u001b[0;34m\u001b[0m\u001b[0m\n\u001b[1;32m    118\u001b[0m         actor_loss, critic_loss, td_errors = self._train_body(\n\u001b[0;32m--> 119\u001b[0;31m             states, actions, next_states, rewards, done, weights)\n\u001b[0m\u001b[1;32m    120\u001b[0m \u001b[0;34m\u001b[0m\u001b[0m\n\u001b[1;32m    121\u001b[0m         \u001b[0;32mif\u001b[0m \u001b[0mactor_loss\u001b[0m \u001b[0;32mis\u001b[0m \u001b[0;32mnot\u001b[0m \u001b[0;32mNone\u001b[0m\u001b[0;34m:\u001b[0m\u001b[0;34m\u001b[0m\u001b[0;34m\u001b[0m\u001b[0m\n",
      "\u001b[0;32m~/Repositories/gail-4-bark/bark-ml/bark_ml/python_wrapper/venv/lib/python3.7/site-packages/tensorflow/python/eager/def_function.py\u001b[0m in \u001b[0;36m__call__\u001b[0;34m(self, *args, **kwds)\u001b[0m\n\u001b[1;32m    578\u001b[0m         \u001b[0mxla_context\u001b[0m\u001b[0;34m.\u001b[0m\u001b[0mExit\u001b[0m\u001b[0;34m(\u001b[0m\u001b[0;34m)\u001b[0m\u001b[0;34m\u001b[0m\u001b[0;34m\u001b[0m\u001b[0m\n\u001b[1;32m    579\u001b[0m     \u001b[0;32melse\u001b[0m\u001b[0;34m:\u001b[0m\u001b[0;34m\u001b[0m\u001b[0;34m\u001b[0m\u001b[0m\n\u001b[0;32m--> 580\u001b[0;31m       \u001b[0mresult\u001b[0m \u001b[0;34m=\u001b[0m \u001b[0mself\u001b[0m\u001b[0;34m.\u001b[0m\u001b[0m_call\u001b[0m\u001b[0;34m(\u001b[0m\u001b[0;34m*\u001b[0m\u001b[0margs\u001b[0m\u001b[0;34m,\u001b[0m \u001b[0;34m**\u001b[0m\u001b[0mkwds\u001b[0m\u001b[0;34m)\u001b[0m\u001b[0;34m\u001b[0m\u001b[0;34m\u001b[0m\u001b[0m\n\u001b[0m\u001b[1;32m    581\u001b[0m \u001b[0;34m\u001b[0m\u001b[0m\n\u001b[1;32m    582\u001b[0m     \u001b[0;32mif\u001b[0m \u001b[0mtracing_count\u001b[0m \u001b[0;34m==\u001b[0m \u001b[0mself\u001b[0m\u001b[0;34m.\u001b[0m\u001b[0m_get_tracing_count\u001b[0m\u001b[0;34m(\u001b[0m\u001b[0;34m)\u001b[0m\u001b[0;34m:\u001b[0m\u001b[0;34m\u001b[0m\u001b[0;34m\u001b[0m\u001b[0m\n",
      "\u001b[0;32m~/Repositories/gail-4-bark/bark-ml/bark_ml/python_wrapper/venv/lib/python3.7/site-packages/tensorflow/python/eager/def_function.py\u001b[0m in \u001b[0;36m_call\u001b[0;34m(self, *args, **kwds)\u001b[0m\n\u001b[1;32m    609\u001b[0m       \u001b[0;31m# In this case we have created variables on the first call, so we run the\u001b[0m\u001b[0;34m\u001b[0m\u001b[0;34m\u001b[0m\u001b[0;34m\u001b[0m\u001b[0m\n\u001b[1;32m    610\u001b[0m       \u001b[0;31m# defunned version which is guaranteed to never create variables.\u001b[0m\u001b[0;34m\u001b[0m\u001b[0;34m\u001b[0m\u001b[0;34m\u001b[0m\u001b[0m\n\u001b[0;32m--> 611\u001b[0;31m       \u001b[0;32mreturn\u001b[0m \u001b[0mself\u001b[0m\u001b[0;34m.\u001b[0m\u001b[0m_stateless_fn\u001b[0m\u001b[0;34m(\u001b[0m\u001b[0;34m*\u001b[0m\u001b[0margs\u001b[0m\u001b[0;34m,\u001b[0m \u001b[0;34m**\u001b[0m\u001b[0mkwds\u001b[0m\u001b[0;34m)\u001b[0m  \u001b[0;31m# pylint: disable=not-callable\u001b[0m\u001b[0;34m\u001b[0m\u001b[0;34m\u001b[0m\u001b[0m\n\u001b[0m\u001b[1;32m    612\u001b[0m     \u001b[0;32melif\u001b[0m \u001b[0mself\u001b[0m\u001b[0;34m.\u001b[0m\u001b[0m_stateful_fn\u001b[0m \u001b[0;32mis\u001b[0m \u001b[0;32mnot\u001b[0m \u001b[0;32mNone\u001b[0m\u001b[0;34m:\u001b[0m\u001b[0;34m\u001b[0m\u001b[0;34m\u001b[0m\u001b[0m\n\u001b[1;32m    613\u001b[0m       \u001b[0;31m# Release the lock early so that multiple threads can perform the call\u001b[0m\u001b[0;34m\u001b[0m\u001b[0;34m\u001b[0m\u001b[0;34m\u001b[0m\u001b[0m\n",
      "\u001b[0;32m~/Repositories/gail-4-bark/bark-ml/bark_ml/python_wrapper/venv/lib/python3.7/site-packages/tensorflow/python/eager/function.py\u001b[0m in \u001b[0;36m__call__\u001b[0;34m(self, *args, **kwargs)\u001b[0m\n\u001b[1;32m   2418\u001b[0m     \u001b[0;32mwith\u001b[0m \u001b[0mself\u001b[0m\u001b[0;34m.\u001b[0m\u001b[0m_lock\u001b[0m\u001b[0;34m:\u001b[0m\u001b[0;34m\u001b[0m\u001b[0;34m\u001b[0m\u001b[0m\n\u001b[1;32m   2419\u001b[0m       \u001b[0mgraph_function\u001b[0m\u001b[0;34m,\u001b[0m \u001b[0margs\u001b[0m\u001b[0;34m,\u001b[0m \u001b[0mkwargs\u001b[0m \u001b[0;34m=\u001b[0m \u001b[0mself\u001b[0m\u001b[0;34m.\u001b[0m\u001b[0m_maybe_define_function\u001b[0m\u001b[0;34m(\u001b[0m\u001b[0margs\u001b[0m\u001b[0;34m,\u001b[0m \u001b[0mkwargs\u001b[0m\u001b[0;34m)\u001b[0m\u001b[0;34m\u001b[0m\u001b[0;34m\u001b[0m\u001b[0m\n\u001b[0;32m-> 2420\u001b[0;31m     \u001b[0;32mreturn\u001b[0m \u001b[0mgraph_function\u001b[0m\u001b[0;34m.\u001b[0m\u001b[0m_filtered_call\u001b[0m\u001b[0;34m(\u001b[0m\u001b[0margs\u001b[0m\u001b[0;34m,\u001b[0m \u001b[0mkwargs\u001b[0m\u001b[0;34m)\u001b[0m  \u001b[0;31m# pylint: disable=protected-access\u001b[0m\u001b[0;34m\u001b[0m\u001b[0;34m\u001b[0m\u001b[0m\n\u001b[0m\u001b[1;32m   2421\u001b[0m \u001b[0;34m\u001b[0m\u001b[0m\n\u001b[1;32m   2422\u001b[0m   \u001b[0;34m@\u001b[0m\u001b[0mproperty\u001b[0m\u001b[0;34m\u001b[0m\u001b[0;34m\u001b[0m\u001b[0m\n",
      "\u001b[0;32m~/Repositories/gail-4-bark/bark-ml/bark_ml/python_wrapper/venv/lib/python3.7/site-packages/tensorflow/python/eager/function.py\u001b[0m in \u001b[0;36m_filtered_call\u001b[0;34m(self, args, kwargs)\u001b[0m\n\u001b[1;32m   1663\u001b[0m          if isinstance(t, (ops.Tensor,\n\u001b[1;32m   1664\u001b[0m                            resource_variable_ops.BaseResourceVariable))),\n\u001b[0;32m-> 1665\u001b[0;31m         self.captured_inputs)\n\u001b[0m\u001b[1;32m   1666\u001b[0m \u001b[0;34m\u001b[0m\u001b[0m\n\u001b[1;32m   1667\u001b[0m   \u001b[0;32mdef\u001b[0m \u001b[0m_call_flat\u001b[0m\u001b[0;34m(\u001b[0m\u001b[0mself\u001b[0m\u001b[0;34m,\u001b[0m \u001b[0margs\u001b[0m\u001b[0;34m,\u001b[0m \u001b[0mcaptured_inputs\u001b[0m\u001b[0;34m,\u001b[0m \u001b[0mcancellation_manager\u001b[0m\u001b[0;34m=\u001b[0m\u001b[0;32mNone\u001b[0m\u001b[0;34m)\u001b[0m\u001b[0;34m:\u001b[0m\u001b[0;34m\u001b[0m\u001b[0;34m\u001b[0m\u001b[0m\n",
      "\u001b[0;32m~/Repositories/gail-4-bark/bark-ml/bark_ml/python_wrapper/venv/lib/python3.7/site-packages/tensorflow/python/eager/function.py\u001b[0m in \u001b[0;36m_call_flat\u001b[0;34m(self, args, captured_inputs, cancellation_manager)\u001b[0m\n\u001b[1;32m   1744\u001b[0m       \u001b[0;31m# No tape is watching; skip to running the function.\u001b[0m\u001b[0;34m\u001b[0m\u001b[0;34m\u001b[0m\u001b[0;34m\u001b[0m\u001b[0m\n\u001b[1;32m   1745\u001b[0m       return self._build_call_outputs(self._inference_function.call(\n\u001b[0;32m-> 1746\u001b[0;31m           ctx, args, cancellation_manager=cancellation_manager))\n\u001b[0m\u001b[1;32m   1747\u001b[0m     forward_backward = self._select_forward_and_backward_functions(\n\u001b[1;32m   1748\u001b[0m         \u001b[0margs\u001b[0m\u001b[0;34m,\u001b[0m\u001b[0;34m\u001b[0m\u001b[0;34m\u001b[0m\u001b[0m\n",
      "\u001b[0;32m~/Repositories/gail-4-bark/bark-ml/bark_ml/python_wrapper/venv/lib/python3.7/site-packages/tensorflow/python/eager/function.py\u001b[0m in \u001b[0;36mcall\u001b[0;34m(self, ctx, args, cancellation_manager)\u001b[0m\n\u001b[1;32m    596\u001b[0m               \u001b[0minputs\u001b[0m\u001b[0;34m=\u001b[0m\u001b[0margs\u001b[0m\u001b[0;34m,\u001b[0m\u001b[0;34m\u001b[0m\u001b[0;34m\u001b[0m\u001b[0m\n\u001b[1;32m    597\u001b[0m               \u001b[0mattrs\u001b[0m\u001b[0;34m=\u001b[0m\u001b[0mattrs\u001b[0m\u001b[0;34m,\u001b[0m\u001b[0;34m\u001b[0m\u001b[0;34m\u001b[0m\u001b[0m\n\u001b[0;32m--> 598\u001b[0;31m               ctx=ctx)\n\u001b[0m\u001b[1;32m    599\u001b[0m         \u001b[0;32melse\u001b[0m\u001b[0;34m:\u001b[0m\u001b[0;34m\u001b[0m\u001b[0;34m\u001b[0m\u001b[0m\n\u001b[1;32m    600\u001b[0m           outputs = execute.execute_with_cancellation(\n",
      "\u001b[0;32m~/Repositories/gail-4-bark/bark-ml/bark_ml/python_wrapper/venv/lib/python3.7/site-packages/tensorflow/python/eager/execute.py\u001b[0m in \u001b[0;36mquick_execute\u001b[0;34m(op_name, num_outputs, inputs, attrs, ctx, name)\u001b[0m\n\u001b[1;32m     58\u001b[0m     \u001b[0mctx\u001b[0m\u001b[0;34m.\u001b[0m\u001b[0mensure_initialized\u001b[0m\u001b[0;34m(\u001b[0m\u001b[0;34m)\u001b[0m\u001b[0;34m\u001b[0m\u001b[0;34m\u001b[0m\u001b[0m\n\u001b[1;32m     59\u001b[0m     tensors = pywrap_tfe.TFE_Py_Execute(ctx._handle, device_name, op_name,\n\u001b[0;32m---> 60\u001b[0;31m                                         inputs, attrs, num_outputs)\n\u001b[0m\u001b[1;32m     61\u001b[0m   \u001b[0;32mexcept\u001b[0m \u001b[0mcore\u001b[0m\u001b[0;34m.\u001b[0m\u001b[0m_NotOkStatusException\u001b[0m \u001b[0;32mas\u001b[0m \u001b[0me\u001b[0m\u001b[0;34m:\u001b[0m\u001b[0;34m\u001b[0m\u001b[0;34m\u001b[0m\u001b[0m\n\u001b[1;32m     62\u001b[0m     \u001b[0;32mif\u001b[0m \u001b[0mname\u001b[0m \u001b[0;32mis\u001b[0m \u001b[0;32mnot\u001b[0m \u001b[0;32mNone\u001b[0m\u001b[0;34m:\u001b[0m\u001b[0;34m\u001b[0m\u001b[0;34m\u001b[0m\u001b[0m\n",
      "\u001b[0;31mKeyboardInterrupt\u001b[0m: "
     ]
    },
    {
     "data": {
      "image/png": "[encoded data removed]",
      "text/plain": [
       "<Figure size 432x288 with 1 Axes>"
      ]
     },
     "metadata": {
      "needs_background": "light"
     },
     "output_type": "display_data"
    }
   ],
   "source": [
    "# load params from the json file to create the parameter server object\n",
    "params = ParameterServer(filename=\"data/params/gail_params.json\")\n",
    "\n",
    "# customized parameters:\n",
    "params[\"ML\"][\"Settings\"][\"GPUUse\"] = gpu\n",
    "tf2rl_params = params[\"ML\"][\"GAILRunner\"][\"tf2rl\"]\n",
    "tf2rl_params[\"max_steps\"] = max_steps\n",
    "tf2rl_params[\"test_interval\"] = test_interval\n",
    "tf2rl_params[\"test_episodes\"] = test_episodes\n",
    "params[\"ML\"][\"GAILRunner\"][\"tf2rl\"] = tf2rl_params\n",
    "if params[\"ML\"][\"BehaviorGAILAgent\"][\"WarmUp\"] > max_steps / 2:\n",
    "    params[\"ML\"][\"BehaviorGAILAgent\"][\"WarmUp\"] = max_steps / 2\n",
    "\n",
    "# create environment\n",
    "bp = ContinuousMergingBlueprint(params,\n",
    "                                number_of_senarios=500,\n",
    "                                random_seed=0)\n",
    "env = SingleAgentRuntime(blueprint=bp,\n",
    "                         render=False)\n",
    "\n",
    "# wrapped environment for compatibility with tf2rl\n",
    "wrapped_env = TF2RLWrapper(env, \n",
    "                           normalize_features=params[\"ML\"][\"Settings\"][\"NormalizeFeatures\"])\n",
    "\n",
    "# instantiate the GAIL agent\n",
    "gail_agent = BehaviorGAILAgent(environment=wrapped_env,\n",
    "                               params=params)\n",
    "\n",
    "# load the expert trajectories\n",
    "expert_trajectories, _, _ = load_expert_trajectories(\n",
    "    params['ML']['ExpertTrajectories']['expert_path_dir'],\n",
    "    normalize_features=params[\"ML\"][\"Settings\"][\"NormalizeFeatures\"],\n",
    "    env=env, # the unwrapped env has to be used, since that contains the unnormalized spaces.\n",
    "    subset_size=params[\"ML\"][\"ExpertTrajectories\"][\"subset_size\"]\n",
    "    ) \n",
    "\n",
    "# instantiate a runner that is going to train the agent\n",
    "runner = GAILRunner(params=params,\n",
    "                 environment=wrapped_env,\n",
    "                 agent=gail_agent,\n",
    "                 expert_trajs=expert_trajectories)\n",
    "\n",
    "# train the agent\n",
    "runner.Train()"
   ]
  },
  {
   "cell_type": "markdown",
   "metadata": {},
   "source": [
    "### Trained agent visualization\n",
    "Please set up the number of scenarios to visualize in the next cell!"
   ]
  },
  {
   "cell_type": "code",
   "execution_count": 9,
   "metadata": {},
   "outputs": [],
   "source": [
    "# number of scenarios to visualize\n",
    "num_scenarios_to_visualize = 10"
   ]
  },
  {
   "cell_type": "code",
   "execution_count": null,
   "metadata": {
    "scrolled": false
   },
   "outputs": [
    {
     "name": "stderr",
     "output_type": "stream",
     "text": [
      "/home/brucknem/.cache/bazel/_bazel_brucknem/5babddc60bc977a08450e544bfdcfbae/execroot/bark_ml/bazel-out/k8-fastbuild/bin/docs/report/run.runfiles/bark_project/bark/runtime/viewer/matplotlib_viewer.py:49: MatplotlibDeprecationWarning: Case-insensitive properties were deprecated in 3.3 and support will be removed two minor releases later\n",
      "  linewidth=linewidth)\n",
      "/home/brucknem/.cache/bazel/_bazel_brucknem/5babddc60bc977a08450e544bfdcfbae/execroot/bark_ml/bazel-out/k8-fastbuild/bin/docs/report/run.runfiles/bark_project/bark/runtime/viewer/matplotlib_viewer.py:49: MatplotlibDeprecationWarning: Case-insensitive properties were deprecated in 3.3 and support will be removed two minor releases later\n",
      "  linewidth=linewidth)\n",
      "/home/brucknem/.cache/bazel/_bazel_brucknem/5babddc60bc977a08450e544bfdcfbae/execroot/bark_ml/bazel-out/k8-fastbuild/bin/docs/report/run.runfiles/bark_project/bark/runtime/viewer/matplotlib_viewer.py:49: MatplotlibDeprecationWarning: Case-insensitive properties were deprecated in 3.3 and support will be removed two minor releases later\n",
      "  linewidth=linewidth)\n",
      "/home/brucknem/.cache/bazel/_bazel_brucknem/5babddc60bc977a08450e544bfdcfbae/execroot/bark_ml/bazel-out/k8-fastbuild/bin/docs/report/run.runfiles/bark_project/bark/runtime/viewer/matplotlib_viewer.py:49: MatplotlibDeprecationWarning: Case-insensitive properties were deprecated in 3.3 and support will be removed two minor releases later\n",
      "  linewidth=linewidth)\n",
      "/home/brucknem/.cache/bazel/_bazel_brucknem/5babddc60bc977a08450e544bfdcfbae/execroot/bark_ml/bazel-out/k8-fastbuild/bin/docs/report/run.runfiles/bark_project/bark/runtime/viewer/matplotlib_viewer.py:49: MatplotlibDeprecationWarning: Case-insensitive properties were deprecated in 3.3 and support will be removed two minor releases later\n",
      "  linewidth=linewidth)\n",
      "/home/brucknem/.cache/bazel/_bazel_brucknem/5babddc60bc977a08450e544bfdcfbae/execroot/bark_ml/bazel-out/k8-fastbuild/bin/docs/report/run.runfiles/bark_project/bark/runtime/viewer/matplotlib_viewer.py:49: MatplotlibDeprecationWarning: Case-insensitive properties were deprecated in 3.3 and support will be removed two minor releases later\n",
      "  linewidth=linewidth)\n",
      "/home/brucknem/.cache/bazel/_bazel_brucknem/5babddc60bc977a08450e544bfdcfbae/execroot/bark_ml/bazel-out/k8-fastbuild/bin/docs/report/run.runfiles/bark_project/bark/runtime/viewer/matplotlib_viewer.py:49: MatplotlibDeprecationWarning: Case-insensitive properties were deprecated in 3.3 and support will be removed two minor releases later\n",
      "  linewidth=linewidth)\n",
      "/home/brucknem/.cache/bazel/_bazel_brucknem/5babddc60bc977a08450e544bfdcfbae/execroot/bark_ml/bazel-out/k8-fastbuild/bin/docs/report/run.runfiles/bark_project/bark/runtime/viewer/matplotlib_viewer.py:49: MatplotlibDeprecationWarning: Case-insensitive properties were deprecated in 3.3 and support will be removed two minor releases later\n",
      "  linewidth=linewidth)\n",
      "/home/brucknem/.cache/bazel/_bazel_brucknem/5babddc60bc977a08450e544bfdcfbae/execroot/bark_ml/bazel-out/k8-fastbuild/bin/docs/report/run.runfiles/bark_project/bark/runtime/viewer/matplotlib_viewer.py:49: MatplotlibDeprecationWarning: Case-insensitive properties were deprecated in 3.3 and support will be removed two minor releases later\n",
      "  linewidth=linewidth)\n"
     ]
    },
    {
     "data": {
      "image/png": "[encoded data removed]",
      "text/plain": [
       "<Figure size 720x720 with 1 Axes>"
      ]
     },
     "metadata": {
      "needs_background": "light"
     },
     "output_type": "display_data"
    }
   ],
   "source": [
    "# load params from the json file to create the parameter server object\n",
    "params = ParameterServer(filename=\"data/params/gail_params.json\")\n",
    "\n",
    "# setting the path for the pretrained agent.\n",
    "params[\"ML\"][\"GAILRunner\"][\"tf2rl\"][\"model_dir\"] = \"../../../com_github_gail_4_bark_large_data_store/pretrained_agents/gail/merging\"\n",
    "\n",
    "# customized parameters:\n",
    "params[\"ML\"][\"Settings\"][\"GPUUse\"] = gpu\n",
    "tf2rl_params = params[\"ML\"][\"GAILRunner\"][\"tf2rl\"]\n",
    "tf2rl_params[\"max_steps\"] = max_steps\n",
    "tf2rl_params[\"test_interval\"] = test_interval\n",
    "tf2rl_params[\"test_episodes\"] = test_episodes\n",
    "params[\"ML\"][\"GAILRunner\"][\"tf2rl\"] = tf2rl_params\n",
    "if params[\"ML\"][\"BehaviorGAILAgent\"][\"WarmUp\"] > max_steps / 2:\n",
    "    params[\"ML\"][\"BehaviorGAILAgent\"][\"WarmUp\"] = max_steps / 2\n",
    "\n",
    "# create environment\n",
    "bp = ContinuousMergingBlueprint(params,\n",
    "                              number_of_senarios=500,\n",
    "                              random_seed=0)\n",
    "env = SingleAgentRuntime(blueprint=bp,\n",
    "                      render=False)\n",
    "\n",
    "# wrapped environment for compatibility with tf2rl\n",
    "wrapped_env = TF2RLWrapper(env, \n",
    "normalize_features=params[\"ML\"][\"Settings\"][\"NormalizeFeatures\"])\n",
    "\n",
    "# instantiate the GAIL agent\n",
    "gail_agent = BehaviorGAILAgent(environment=wrapped_env,\n",
    "                           params=params)\n",
    "\n",
    "# instantiate a runner that is going to train the agent.\n",
    "runner = GAILRunner(params=params,\n",
    "                 environment=wrapped_env,\n",
    "                 agent=gail_agent,)\n",
    "\n",
    "# Visualize the agent\n",
    "runner.Visualize(num_scenarios_to_visualize, renderer=\"matplotlib_jupyter\")"
   ]
  },
  {
   "cell_type": "code",
   "execution_count": null,
   "metadata": {},
   "outputs": [],
   "source": []
  }
 ],
 "metadata": {
  "kernelspec": {
   "display_name": "Python 3",
   "language": "python",
   "name": "python3"
  },
  "language_info": {
   "codemirror_mode": {
    "name": "ipython",
    "version": 3
   },
   "file_extension": ".py",
   "mimetype": "text/x-python",
   "name": "python",
   "nbconvert_exporter": "python",
   "pygments_lexer": "ipython3",
   "version": "3.7.7+"
  }
 },
 "nbformat": 4,
 "nbformat_minor": 2
}
