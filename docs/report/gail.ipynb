{
 "cells": [
  {
   "cell_type": "markdown",
   "metadata": {},
   "source": [
    "# Generative Adverserial Imitation Learning\n",
    "\n",
    "Generative Adversarial Imitation Learning (GAIL) was first proposed in the paper [Generative Adversarial Imitation Learning](https://arxiv.org/abs/1606.03476) by Jonathan Ho and Stefano Ermon. \n",
    "The project task is to implement the Generative Adverserial Imitation Learning model for driving scenarios using the bark-simulator.\n",
    "\n",
    "GAIL is based in the setting of reinforcement learning.\n",
    "Reinforcment learning is an area of machine learning concerned with how agents take actions in an environment in order to maximize the sum of rewards.\n",
    "So what a GAIL agent does is take actions in the bark environment and measure the resulting state of the agent and the world.\n",
    "\n",
    "As the name says we are more specifically located in the setting of Imitation Learning. \n",
    "Our agent will try to learn a policy that mimics demonstrations.\n",
    "We extract these demonstrations as Expert Trajectories from the interaction dataset by replaying the dataset in the bark simulator.\n",
    "This gives us the expert rollouts which are a set of state action pairs representing the expert knowledge. \n",
    "In a RL setting, we need some sort of reward to update the agents network parameters.\n",
    "\n",
    "In the GAIL approach we get the reward from an adversarial game:\n",
    "Another discriminator network gets fed the agent rollouts and the experts rollouts and wants to classify between them accurately.\n",
    "The agent network wants to fool the discriminator by minimizing the probability to get classified as fake.\n",
    "The classification as fake or not that is output by the discriminator is the reward we feed into our agent network.\n",
    "To minimize the classification as fake the agent network needs to mimic the experts demonstration and by doing so learn the experts policy.\n",
    "\n",
    "\n",
    "<img width=70% src=\"files/data/gail_overview.gif\">"
   ]
  },
  {
   "cell_type": "markdown",
   "metadata": {},
   "source": [
    "## Project task\n",
    "\n",
    "The project task is to implement the Generative Adverserial Imitation Learning model for driving scenarios using the bark-simulator.\n",
    "\n",
    "### Port GAIL driver to bark\n",
    "Do not reimplement gail, but use an existing implementation and bring it to bark.\n",
    "We chose [TF2RL](https://github.com/keiohta/tf2rl).\n",
    "\n",
    "### Train the GAIL agent on the Interaction Dataset\n",
    "As a data source, we will use the interaction dataset: https://arxiv.org/abs/1910.03088 . Here,\n",
    "w e are interested in the merging scenes: deu_merging_mt and chn_merging_zs\n",
    "Have a look how the Interaction Dataset is integrated in bark: https://github.com/bark-\n",
    "simulator/bark/blob/setup_tutorials/docs/tutorials/04_interaction_dataset.ipynb (NOte that\n",
    "the dataset itsself is NOT enclosed with bark due to license limitations).\n",
    "Train + validate agents individually for each scenes: In the first step, replace one agent and use\n",
    "all other agents from the dataset: The gail agent navigates safely. Afterwards, replace more\n",
    "\n",
    "### Evaluate the agent\n",
    "Exchange the trained models on the German and the Chinese map: how well is the\n",
    "generalization?\n",
    "ONLY place gail agents on the map: Can we generate scenes that \"look alike\" the real scenarios?"
   ]
  },
  {
   "cell_type": "markdown",
   "metadata": {},
   "source": [
    "## Interaction Dataset"
   ]
  },
  {
   "cell_type": "markdown",
   "metadata": {},
   "source": [
    "## Expert Trajectories"
   ]
  },
  {
   "cell_type": "markdown",
   "metadata": {},
   "source": [
    "## Generate Expert Trajectories"
   ]
  },
  {
   "cell_type": "code",
   "execution_count": 1,
   "metadata": {},
   "outputs": [
    {
     "name": "stdout",
     "output_type": "stream",
     "text": [
      "pygame 1.9.6\n",
      "Hello from the pygame community. https://www.pygame.org/contribute.html\n"
     ]
    }
   ],
   "source": [
    "import os \n",
    "import bark\n",
    "from pprint import pprint\n",
    "from bark_ml.library_wrappers.lib_tf2rl.generate_expert_trajectories import *\n",
    "\n",
    "tracks_folder = os.path.join(os.getcwd(), 'data')\n",
    "map_file = os.path.join(os.getcwd(), 'data/DR_DEU_Merging_MT_v01_shifted.xodr')\n",
    "known_key = ('DR_DEU_Merging_MT_v01_shifted', 'vehicle_tracks_013')\n",
    "ego_agent = 66\n",
    "\n",
    "param_server = create_parameter_servers_for_scenarios(map_file, tracks_folder)[known_key]\n",
    "param_server[\"Scenario\"][\"Generation\"][\"InteractionDatasetScenarioGeneration\"][\"TrackIds\"] = [\n",
    "    63, 64, 65, 66, 67, 68]\n",
    "param_server[\"Scenario\"][\"Generation\"][\"InteractionDatasetScenarioGeneration\"][\"StartTs\"] = 232000\n",
    "param_server[\"Scenario\"][\"Generation\"][\"InteractionDatasetScenarioGeneration\"][\"EndTs\"] = 259000\n",
    "param_server[\"Scenario\"][\"Generation\"][\"InteractionDatasetScenarioGeneration\"][\"EgoTrackId\"] = ego_agent"
   ]
  },
  {
   "cell_type": "code",
   "execution_count": 2,
   "metadata": {
    "scrolled": false
   },
   "outputs": [
    {
     "data": {
      "image/png": "[encoded data removed]",
      "text/plain": [
       "<Figure size 720x720 with 1 Axes>"
      ]
     },
     "metadata": {
      "needs_background": "light"
     },
     "output_type": "display_data"
    }
   ],
   "source": [
    "expert_trajectories = generate_expert_trajectories_for_scenario(param_server, sim_time_step=200, renderer=\"matplotlib_jupyter\")"
   ]
  },
  {
   "cell_type": "markdown",
   "metadata": {},
   "source": [
    "### The simulation gives us a number of observations and actions for the experts:"
   ]
  },
  {
   "cell_type": "code",
   "execution_count": 3,
   "metadata": {
    "scrolled": false
   },
   "outputs": [
    {
     "name": "stdout",
     "output_type": "stream",
     "text": [
      "Observations for the agent 66\n",
      "\n",
      "[array([0.54990917, 0.55034685, 0.49115214, 0.02195392, 0.54979807,\n",
      "       0.55021369, 0.48701411, 0.01664484, 0.55023372, 0.55031705,\n",
      "       0.48717329, 0.01795783, 0.55020285, 0.55017918, 0.48908314,\n",
      "       0.01927594]),\n",
      " array([0.5498873 , 0.5503481 , 0.49115214, 0.02188459, 0.54978162,\n",
      "       0.55021507, 0.48701411, 0.0162844 , 0.5502159 , 0.55031848,\n",
      "       0.48733243, 0.01776604, 0.55018389, 0.55018038, 0.48940146,\n",
      "       0.0182608 ]),\n",
      " array([0.54986548, 0.55034935, 0.49099299, 0.02179474, 0.54976547,\n",
      "       0.55021638, 0.48685497, 0.01594391, 0.55019826, 0.55031985,\n",
      "       0.48733243, 0.01757585, 0.55016589, 0.55018145, 0.4895606 ,\n",
      "       0.0172271 ]),\n",
      " array([0.54984373, 0.55035061, 0.49099299, 0.02165496, 0.54974967,\n",
      "       0.55021775, 0.48685497, 0.01561338, 0.55018073, 0.55032122,\n",
      "       0.48733243, 0.01744546, 0.55014902, 0.55018252, 0.48971975,\n",
      "       0.01617412]),\n",
      " array([0.54982221, 0.55035186, 0.49083385, 0.02145529, 0.54973418,\n",
      "       0.550219  , 0.48685497, 0.0153219 , 0.55016333, 0.55032271,\n",
      "       0.48733243, 0.01744546, 0.55013311, 0.55018365, 0.4895606 ,\n",
      "       0.01517233])]\n"
     ]
    }
   ],
   "source": [
    "# Small number of observations for our agent\n",
    "print(f'Observations for the agent {ego_agent}\\n')\n",
    "pprint(expert_trajectories[ego_agent]['obs'][:5])"
   ]
  },
  {
   "cell_type": "code",
   "execution_count": 4,
   "metadata": {
    "scrolled": false
   },
   "outputs": [
    {
     "name": "stdout",
     "output_type": "stream",
     "text": [
      "Actions of the agent 66\n",
      "\n",
      "[[0.0, -0.0003466568835577833],\n",
      " [-0.004201827340902073, -0.00030657489373432596],\n",
      " [0.002051691485158719, -0.00035168134700955115],\n",
      " [-0.004200119214675828, -0.0005815505374677107],\n",
      " [0.002049979741333098, -0.0009188447324507322]]\n"
     ]
    }
   ],
   "source": [
    "# Small number of actions for our agent\n",
    "print(f'Actions of the agent {ego_agent}\\n')\n",
    "pprint(expert_trajectories[ego_agent]['act'][:5])"
   ]
  },
  {
   "cell_type": "markdown",
   "metadata": {},
   "source": [
    "## GAIL implementation\n",
    "\n",
    "### TF2RL implementation\n",
    "We have chosen an off the shelf implementation, thelibrary [TF2RL](https://github.com/keiohta/tf2rl). It implements several reinforcement algorithms and training methods in [tensorflow 2](https://www.tensorflow.org/guide/effective_tf2). \n",
    "\n",
    "The GAIL agent is built up as follows:\n",
    "* __Generator:__ A complete DDPG agent with the actor and critic networks. Both of them has 2-2 hidden layers.\n",
    "* __Discriminator:__ A normal discriminator network with 2 hidden layers.\n",
    "\n",
    "In this respect the agent is not in the traditional GAIL setup with 2 neural networks, but instead it actually has 5 networks, since the DDPG agent it self has got 4 of them for greater stability during training. The DDPG agent's critic network basically receives the judgement of the Discriminator network as the reward from the environment and its training aims to maximize this reward.\n",
    "\n",
    "### Integration into BARK\n",
    "The integration of the TF2RL based GAIL agent is done along existing BARK concepts and has been done in the following most important classes:\n",
    "* __TF2RLWrapper:__ Wraps the BARK runtime to match the expectations of tf2rl about the environment. The observation and action normalization also takes place here.\n",
    "    * file: `bark_ml/library_wrappers/lib_tf2rl/tf2rl_wrapper.py`\n",
    "* __BehaviorTF2RLAgent:__ Base class for TF2RL based agents.\n",
    "    * file: `bark_ml/library_wrappers/lib_tf2rl/agents/tf2rl_agent.py`\n",
    "* __BehaviorGAILAgent:__ The TF2RL based GAIL agent.\n",
    "    * file: `bark_ml/library_wrappers/lib_tf2rl/agents/gail_agent.py`\n",
    "* __TF2RLRunner:__ Base class for TF2RL based runners.\n",
    "    * file: `bark_ml/library_wrappers/lib_tf2rl/runners/tf2rl_runner.py`\n",
    "* __GAILRunner:__ The TF2RL based GAIL runner.\n",
    "    * file: `bark_ml/library_wrappers/lib_tf2rl/runners/gail_runner.py`\n",
    "    \n",
    "In the followings the training process is shown with visualization. Later the performance of a pre-trained agent is also shown through simulation.\n",
    "\n",
    "---"
   ]
  },
  {
   "cell_type": "markdown",
   "metadata": {},
   "source": [
    "### Training\n",
    "The parameters which can be set on demand:\n",
    "* The number of steps to train for.\n",
    "* The frequency of testing and visualization during training\n",
    "* The number of episodes to visualize during each testing round."
   ]
  },
  {
   "cell_type": "code",
   "execution_count": 1,
   "metadata": {},
   "outputs": [],
   "source": [
    "# Costumise some parameters here!!! #\n",
    "\n",
    "gpu = 0                    # use -1 for cpu only.\n",
    "max_steps = 10000          # Number of steps to train for.\n",
    "test_interval = 1000       # test in every ... steps.\n",
    "test_episodes = 5          # number of test episodes.\n",
    "show_test_progress = False  # visualization during training."
   ]
  },
  {
   "cell_type": "code",
   "execution_count": 2,
   "metadata": {},
   "outputs": [
    {
     "name": "stdout",
     "output_type": "stream",
     "text": [
      "pygame 1.9.6\n",
      "Hello from the pygame community. https://www.pygame.org/contribute.html\n",
      "PhysicalDevice(name='/physical_device:GPU:0', device_type='GPU')\n"
     ]
    }
   ],
   "source": [
    "# IMPORTS\n",
    "import os\n",
    "from pathlib import Path\n",
    "\n",
    "# BARK imports\n",
    "from bark_project.bark.runtime.commons.parameters import ParameterServer\n",
    "from bark.runtime.viewer.matplotlib_viewer import MPViewer\n",
    "from bark.runtime.viewer.video_renderer import VideoRenderer\n",
    "\n",
    "# BARK-ML imports\n",
    "from bark_ml.environments.blueprints import ContinuousHighwayBlueprint, \\\n",
    "  ContinuousMergingBlueprint, ContinuousIntersectionBlueprint, GailMergingBlueprint\n",
    "from bark_ml.environments.single_agent_runtime import SingleAgentRuntime\n",
    "from bark_ml.library_wrappers.lib_tf2rl.tf2rl_wrapper import TF2RLWrapper\n",
    "from bark_ml.library_wrappers.lib_tf2rl.agents.gail_agent import BehaviorGAILAgent\n",
    "from bark_ml.library_wrappers.lib_tf2rl.runners.gail_runner import GAILRunner\n",
    "from bark_ml.library_wrappers.lib_tf2rl.load_expert_trajectories import load_expert_trajectories"
   ]
  },
  {
   "cell_type": "code",
   "execution_count": 3,
   "metadata": {
    "scrolled": true
   },
   "outputs": [
    {
     "name": "stderr",
     "output_type": "stream",
     "text": [
      "/home/ferenc/.cache/bazel/_bazel_ferenc/d27c94d45ef586b197c709d8101d6384/execroot/bark_ml/bazel-out/k8-fastbuild/bin/docs/report/run.runfiles/bark_project/bark/runtime/commons/xodr_parser.py:108: FutureWarning: The behavior of this method will change in future versions. Use specific 'len(elem)' or 'elem is not None' test instead.\n",
      "  if lane.find(\"userData\"):\n",
      "20:36:49.711 [INFO] (trainer.py:65) Restored None\n",
      "20:36:49.912 [INFO] (irl_trainer.py:74) Total Epi:     1 Steps:       2 Episode Steps:     2 Return: -1.0000 FPS: 10.88\n",
      "20:37:48.193 [INFO] (irl_trainer.py:74) Total Epi:     2 Steps:       7 Episode Steps:     5 Return: -1.0000 FPS: 596.37\n",
      "20:37:48.208 [INFO] (irl_trainer.py:74) Total Epi:     3 Steps:      17 Episode Steps:    10 Return: -1.0000 FPS: 729.83\n",
      "20:37:48.214 [INFO] (irl_trainer.py:74) Total Epi:     4 Steps:      19 Episode Steps:     2 Return: -1.0000 FPS: 417.79\n",
      "20:37:48.222 [INFO] (irl_trainer.py:74) Total Epi:     5 Steps:      23 Episode Steps:     4 Return: -1.0000 FPS: 581.64\n",
      "20:37:48.229 [INFO] (irl_trainer.py:74) Total Epi:     6 Steps:      26 Episode Steps:     3 Return: -1.0000 FPS: 516.65\n",
      "20:37:48.235 [INFO] (irl_trainer.py:74) Total Epi:     7 Steps:      28 Episode Steps:     2 Return: -1.0000 FPS: 417.47\n",
      "20:37:48.265 [INFO] (irl_trainer.py:74) Total Epi:     8 Steps:      50 Episode Steps:    22 Return: -1.0000 FPS: 772.23\n",
      "20:37:48.272 [INFO] (irl_trainer.py:74) Total Epi:     9 Steps:      53 Episode Steps:     3 Return: -1.0000 FPS: 503.79\n",
      "20:37:48.287 [INFO] (irl_trainer.py:74) Total Epi:    10 Steps:      63 Episode Steps:    10 Return: -1.0000 FPS: 737.13\n",
      "20:37:48.302 [INFO] (irl_trainer.py:74) Total Epi:    11 Steps:      73 Episode Steps:    10 Return: -1.0000 FPS: 731.71\n",
      "20:37:48.312 [INFO] (irl_trainer.py:74) Total Epi:    12 Steps:      78 Episode Steps:     5 Return: -1.0000 FPS: 610.66\n",
      "20:37:48.319 [INFO] (irl_trainer.py:74) Total Epi:    13 Steps:      81 Episode Steps:     3 Return: -1.0000 FPS: 500.87\n",
      "20:37:48.346 [INFO] (irl_trainer.py:74) Total Epi:    14 Steps:     101 Episode Steps:    20 Return: -1.0000 FPS: 807.35\n",
      "20:37:48.355 [INFO] (irl_trainer.py:74) Total Epi:    15 Steps:     106 Episode Steps:     5 Return: -1.0000 FPS: 625.07\n",
      "20:37:48.375 [INFO] (irl_trainer.py:74) Total Epi:    16 Steps:     121 Episode Steps:    15 Return: -1.0000 FPS: 780.68\n",
      "20:37:48.388 [INFO] (irl_trainer.py:74) Total Epi:    17 Steps:     129 Episode Steps:     8 Return:  1.0000 FPS: 701.99\n",
      "20:37:48.405 [INFO] (irl_trainer.py:74) Total Epi:    18 Steps:     141 Episode Steps:    12 Return: -1.0000 FPS: 761.22\n",
      "20:37:48.413 [INFO] (irl_trainer.py:74) Total Epi:    19 Steps:     144 Episode Steps:     3 Return: -1.0000 FPS: 507.24\n",
      "20:37:48.422 [INFO] (irl_trainer.py:74) Total Epi:    20 Steps:     149 Episode Steps:     5 Return: -1.0000 FPS: 627.72\n",
      "20:37:48.429 [INFO] (irl_trainer.py:74) Total Epi:    21 Steps:     152 Episode Steps:     3 Return: -1.0000 FPS: 530.04\n",
      "20:37:48.436 [INFO] (irl_trainer.py:74) Total Epi:    22 Steps:     155 Episode Steps:     3 Return: -1.0000 FPS: 510.82\n",
      "20:37:48.443 [INFO] (irl_trainer.py:74) Total Epi:    23 Steps:     158 Episode Steps:     3 Return: -1.0000 FPS: 515.59\n",
      "20:37:48.467 [INFO] (irl_trainer.py:74) Total Epi:    24 Steps:     176 Episode Steps:    18 Return: -1.0000 FPS: 766.95\n",
      "20:37:48.489 [INFO] (irl_trainer.py:74) Total Epi:    25 Steps:     191 Episode Steps:    15 Return: -1.0000 FPS: 748.16\n",
      "20:37:48.496 [INFO] (irl_trainer.py:74) Total Epi:    26 Steps:     194 Episode Steps:     3 Return: -1.0000 FPS: 512.77\n",
      "20:37:48.515 [INFO] (irl_trainer.py:74) Total Epi:    27 Steps:     207 Episode Steps:    13 Return: -1.0000 FPS: 754.20\n",
      "20:37:48.535 [INFO] (irl_trainer.py:74) Total Epi:    28 Steps:     222 Episode Steps:    15 Return: -1.0000 FPS: 774.94\n",
      "20:37:48.547 [INFO] (irl_trainer.py:74) Total Epi:    29 Steps:     229 Episode Steps:     7 Return: -1.0000 FPS: 674.38\n",
      "20:37:48.562 [INFO] (irl_trainer.py:74) Total Epi:    30 Steps:     239 Episode Steps:    10 Return: -1.0000 FPS: 735.05\n",
      "20:37:48.597 [INFO] (irl_trainer.py:74) Total Epi:    31 Steps:     266 Episode Steps:    27 Return: -1.0000 FPS: 807.30\n",
      "20:37:48.618 [INFO] (irl_trainer.py:74) Total Epi:    32 Steps:     282 Episode Steps:    16 Return: -1.0000 FPS: 795.36\n",
      "20:37:48.624 [INFO] (irl_trainer.py:74) Total Epi:    33 Steps:     284 Episode Steps:     2 Return: -1.0000 FPS: 419.55\n",
      "20:37:48.641 [INFO] (irl_trainer.py:74) Total Epi:    34 Steps:     296 Episode Steps:    12 Return: -1.0000 FPS: 760.65\n",
      "20:37:48.648 [INFO] (irl_trainer.py:74) Total Epi:    35 Steps:     299 Episode Steps:     3 Return: -1.0000 FPS: 526.43\n",
      "20:37:48.655 [INFO] (irl_trainer.py:74) Total Epi:    36 Steps:     302 Episode Steps:     3 Return: -1.0000 FPS: 516.30\n",
      "20:37:48.663 [INFO] (irl_trainer.py:74) Total Epi:    37 Steps:     306 Episode Steps:     4 Return: -1.0000 FPS: 583.20\n",
      "20:37:48.672 [INFO] (irl_trainer.py:74) Total Epi:    38 Steps:     310 Episode Steps:     4 Return: -1.0000 FPS: 559.44\n",
      "20:37:48.683 [INFO] (irl_trainer.py:74) Total Epi:    39 Steps:     317 Episode Steps:     7 Return: -1.0000 FPS: 687.45\n",
      "20:37:48.690 [INFO] (irl_trainer.py:74) Total Epi:    40 Steps:     320 Episode Steps:     3 Return: -1.0000 FPS: 513.21\n",
      "20:37:48.709 [INFO] (irl_trainer.py:74) Total Epi:    41 Steps:     334 Episode Steps:    14 Return: -1.0000 FPS: 789.35\n",
      "20:37:48.719 [INFO] (irl_trainer.py:74) Total Epi:    42 Steps:     339 Episode Steps:     5 Return: -1.0000 FPS: 614.78\n",
      "20:37:48.726 [INFO] (irl_trainer.py:74) Total Epi:    43 Steps:     342 Episode Steps:     3 Return: -1.0000 FPS: 524.16\n",
      "20:37:48.732 [INFO] (irl_trainer.py:74) Total Epi:    44 Steps:     345 Episode Steps:     3 Return: -1.0000 FPS: 533.62\n",
      "20:37:48.739 [INFO] (irl_trainer.py:74) Total Epi:    45 Steps:     347 Episode Steps:     2 Return: -1.0000 FPS: 410.63\n",
      "20:37:48.755 [INFO] (irl_trainer.py:74) Total Epi:    46 Steps:     359 Episode Steps:    12 Return: -1.0000 FPS: 773.37\n",
      "20:37:48.768 [INFO] (irl_trainer.py:74) Total Epi:    47 Steps:     367 Episode Steps:     8 Return: -1.0000 FPS: 708.30\n",
      "20:37:48.776 [INFO] (irl_trainer.py:74) Total Epi:    48 Steps:     371 Episode Steps:     4 Return: -1.0000 FPS: 586.66\n",
      "20:37:48.789 [INFO] (irl_trainer.py:74) Total Epi:    49 Steps:     380 Episode Steps:     9 Return: -1.0000 FPS: 727.77\n",
      "20:37:48.813 [INFO] (irl_trainer.py:74) Total Epi:    50 Steps:     398 Episode Steps:    18 Return: -1.0000 FPS: 810.38\n",
      "20:37:48.820 [INFO] (irl_trainer.py:74) Total Epi:    51 Steps:     401 Episode Steps:     3 Return: -1.0000 FPS: 508.27\n",
      "20:37:48.831 [INFO] (irl_trainer.py:74) Total Epi:    52 Steps:     407 Episode Steps:     6 Return: -1.0000 FPS: 644.01\n",
      "20:37:48.850 [INFO] (irl_trainer.py:74) Total Epi:    53 Steps:     418 Episode Steps:    11 Return: -1.0000 FPS: 613.50\n",
      "20:37:48.858 [INFO] (irl_trainer.py:74) Total Epi:    54 Steps:     421 Episode Steps:     3 Return: -1.0000 FPS: 491.76\n",
      "20:37:48.898 [INFO] (irl_trainer.py:74) Total Epi:    55 Steps:     453 Episode Steps:    32 Return: -1.0000 FPS: 817.91\n",
      "20:37:48.904 [INFO] (irl_trainer.py:74) Total Epi:    56 Steps:     455 Episode Steps:     2 Return: -1.0000 FPS: 420.89\n",
      "20:37:48.912 [INFO] (irl_trainer.py:74) Total Epi:    57 Steps:     458 Episode Steps:     3 Return: -1.0000 FPS: 508.56\n",
      "20:37:48.919 [INFO] (irl_trainer.py:74) Total Epi:    58 Steps:     460 Episode Steps:     2 Return: -1.0000 FPS: 320.11\n",
      "20:37:48.941 [INFO] (irl_trainer.py:74) Total Epi:    59 Steps:     476 Episode Steps:    16 Return: -1.0000 FPS: 778.14\n",
      "20:37:48.949 [INFO] (irl_trainer.py:74) Total Epi:    60 Steps:     480 Episode Steps:     4 Return: -1.0000 FPS: 576.74\n",
      "20:37:48.982 [INFO] (irl_trainer.py:74) Total Epi:    61 Steps:     504 Episode Steps:    24 Return: -1.0000 FPS: 749.95\n",
      "20:37:48.993 [INFO] (irl_trainer.py:74) Total Epi:    62 Steps:     510 Episode Steps:     6 Return: -1.0000 FPS: 652.04\n",
      "20:37:49.009 [INFO] (irl_trainer.py:74) Total Epi:    63 Steps:     520 Episode Steps:    10 Return: -1.0000 FPS: 691.74\n",
      "20:37:49.022 [INFO] (irl_trainer.py:74) Total Epi:    64 Steps:     528 Episode Steps:     8 Return: -1.0000 FPS: 666.34\n",
      "20:37:49.033 [INFO] (irl_trainer.py:74) Total Epi:    65 Steps:     534 Episode Steps:     6 Return: -1.0000 FPS: 611.25\n"
     ]
    },
    {
     "name": "stderr",
     "output_type": "stream",
     "text": [
      "20:37:49.041 [INFO] (irl_trainer.py:74) Total Epi:    66 Steps:     538 Episode Steps:     4 Return: -1.0000 FPS: 573.39\n",
      "20:37:49.047 [INFO] (irl_trainer.py:74) Total Epi:    67 Steps:     540 Episode Steps:     2 Return: -1.0000 FPS: 422.62\n",
      "20:37:49.054 [INFO] (irl_trainer.py:74) Total Epi:    68 Steps:     543 Episode Steps:     3 Return: -1.0000 FPS: 520.84\n",
      "20:37:49.062 [INFO] (irl_trainer.py:74) Total Epi:    69 Steps:     547 Episode Steps:     4 Return: -1.0000 FPS: 582.30\n",
      "20:37:49.078 [INFO] (irl_trainer.py:74) Total Epi:    70 Steps:     556 Episode Steps:     9 Return: -1.0000 FPS: 633.40\n",
      "20:37:49.088 [INFO] (irl_trainer.py:74) Total Epi:    71 Steps:     562 Episode Steps:     6 Return: -1.0000 FPS: 672.31\n",
      "20:37:49.117 [INFO] (irl_trainer.py:74) Total Epi:    72 Steps:     577 Episode Steps:    15 Return: -1.0000 FPS: 534.74\n",
      "20:37:49.129 [INFO] (irl_trainer.py:74) Total Epi:    73 Steps:     584 Episode Steps:     7 Return: -1.0000 FPS: 659.76\n",
      "20:37:49.137 [INFO] (irl_trainer.py:74) Total Epi:    74 Steps:     587 Episode Steps:     3 Return: -1.0000 FPS: 485.83\n",
      "20:37:49.160 [INFO] (irl_trainer.py:74) Total Epi:    75 Steps:     604 Episode Steps:    17 Return: -1.0000 FPS: 792.74\n",
      "20:37:49.168 [INFO] (irl_trainer.py:74) Total Epi:    76 Steps:     608 Episode Steps:     4 Return: -1.0000 FPS: 589.86\n",
      "20:37:49.179 [INFO] (irl_trainer.py:74) Total Epi:    77 Steps:     614 Episode Steps:     6 Return: -1.0000 FPS: 600.27\n",
      "20:37:49.188 [INFO] (irl_trainer.py:74) Total Epi:    78 Steps:     619 Episode Steps:     5 Return: -1.0000 FPS: 626.41\n",
      "20:37:49.199 [INFO] (irl_trainer.py:74) Total Epi:    79 Steps:     625 Episode Steps:     6 Return: -1.0000 FPS: 655.77\n",
      "20:37:49.206 [INFO] (irl_trainer.py:74) Total Epi:    80 Steps:     628 Episode Steps:     3 Return: -1.0000 FPS: 517.23\n",
      "20:37:49.214 [INFO] (irl_trainer.py:74) Total Epi:    81 Steps:     632 Episode Steps:     4 Return: -1.0000 FPS: 586.81\n",
      "20:37:49.227 [INFO] (irl_trainer.py:74) Total Epi:    82 Steps:     639 Episode Steps:     7 Return: -1.0000 FPS: 604.17\n",
      "20:37:49.243 [INFO] (irl_trainer.py:74) Total Epi:    83 Steps:     650 Episode Steps:    11 Return: -1.0000 FPS: 735.64\n",
      "20:37:49.250 [INFO] (irl_trainer.py:74) Total Epi:    84 Steps:     653 Episode Steps:     3 Return: -1.0000 FPS: 512.39\n",
      "20:37:49.259 [INFO] (irl_trainer.py:74) Total Epi:    85 Steps:     656 Episode Steps:     3 Return: -1.0000 FPS: 405.46\n",
      "20:37:49.276 [INFO] (irl_trainer.py:74) Total Epi:    86 Steps:     667 Episode Steps:    11 Return: -1.0000 FPS: 672.08\n",
      "20:37:49.285 [INFO] (irl_trainer.py:74) Total Epi:    87 Steps:     671 Episode Steps:     4 Return: -1.0000 FPS: 524.84\n",
      "20:37:49.294 [INFO] (irl_trainer.py:74) Total Epi:    88 Steps:     674 Episode Steps:     3 Return: -1.0000 FPS: 487.53\n",
      "20:37:49.305 [INFO] (irl_trainer.py:74) Total Epi:    89 Steps:     679 Episode Steps:     5 Return: -1.0000 FPS: 487.94\n",
      "20:37:49.319 [INFO] (irl_trainer.py:74) Total Epi:    90 Steps:     688 Episode Steps:     9 Return: -1.0000 FPS: 720.28\n",
      "20:37:49.328 [INFO] (irl_trainer.py:74) Total Epi:    91 Steps:     693 Episode Steps:     5 Return: -1.0000 FPS: 633.06\n",
      "20:37:49.384 [INFO] (irl_trainer.py:74) Total Epi:    92 Steps:     738 Episode Steps:    45 Return: -1.0000 FPS: 832.40\n",
      "20:37:49.390 [INFO] (irl_trainer.py:74) Total Epi:    93 Steps:     740 Episode Steps:     2 Return: -1.0000 FPS: 417.80\n",
      "20:37:49.402 [INFO] (irl_trainer.py:74) Total Epi:    94 Steps:     747 Episode Steps:     7 Return: -1.0000 FPS: 683.78\n",
      "20:37:49.419 [INFO] (irl_trainer.py:74) Total Epi:    95 Steps:     760 Episode Steps:    13 Return: -1.0000 FPS: 780.02\n",
      "20:37:49.492 [INFO] (irl_trainer.py:74) Total Epi:    96 Steps:     821 Episode Steps:    61 Return:  0.0000 FPS: 855.89\n",
      "20:37:49.502 [INFO] (irl_trainer.py:74) Total Epi:    97 Steps:     826 Episode Steps:     5 Return: -1.0000 FPS: 610.70\n",
      "20:37:49.509 [INFO] (irl_trainer.py:74) Total Epi:    98 Steps:     829 Episode Steps:     3 Return: -1.0000 FPS: 495.62\n",
      "20:37:49.517 [INFO] (irl_trainer.py:74) Total Epi:    99 Steps:     833 Episode Steps:     4 Return: -1.0000 FPS: 583.83\n",
      "20:37:49.523 [INFO] (irl_trainer.py:74) Total Epi:   100 Steps:     835 Episode Steps:     2 Return: -1.0000 FPS: 426.36\n",
      "20:37:49.535 [INFO] (irl_trainer.py:74) Total Epi:   101 Steps:     842 Episode Steps:     7 Return: -1.0000 FPS: 691.94\n",
      "20:37:49.556 [INFO] (irl_trainer.py:74) Total Epi:   102 Steps:     858 Episode Steps:    16 Return: -1.0000 FPS: 792.13\n",
      "20:37:49.563 [INFO] (irl_trainer.py:74) Total Epi:   103 Steps:     861 Episode Steps:     3 Return: -1.0000 FPS: 515.21\n",
      "20:37:49.571 [INFO] (irl_trainer.py:74) Total Epi:   104 Steps:     865 Episode Steps:     4 Return: -1.0000 FPS: 588.95\n",
      "20:37:49.581 [INFO] (irl_trainer.py:74) Total Epi:   105 Steps:     871 Episode Steps:     6 Return: -1.0000 FPS: 662.42\n",
      "20:37:49.597 [INFO] (irl_trainer.py:74) Total Epi:   106 Steps:     881 Episode Steps:    10 Return: -1.0000 FPS: 720.63\n",
      "20:37:49.605 [INFO] (irl_trainer.py:74) Total Epi:   107 Steps:     885 Episode Steps:     4 Return: -1.0000 FPS: 576.31\n",
      "20:37:49.613 [INFO] (irl_trainer.py:74) Total Epi:   108 Steps:     889 Episode Steps:     4 Return: -1.0000 FPS: 598.30\n",
      "20:37:49.624 [INFO] (irl_trainer.py:74) Total Epi:   109 Steps:     896 Episode Steps:     7 Return: -1.0000 FPS: 689.27\n",
      "20:37:49.634 [INFO] (irl_trainer.py:74) Total Epi:   110 Steps:     901 Episode Steps:     5 Return: -1.0000 FPS: 585.88\n",
      "20:37:49.644 [INFO] (irl_trainer.py:74) Total Epi:   111 Steps:     907 Episode Steps:     6 Return: -1.0000 FPS: 668.97\n",
      "20:37:49.662 [INFO] (irl_trainer.py:74) Total Epi:   112 Steps:     919 Episode Steps:    12 Return: -1.0000 FPS: 718.11\n",
      "20:37:49.673 [INFO] (irl_trainer.py:74) Total Epi:   113 Steps:     925 Episode Steps:     6 Return: -1.0000 FPS: 632.76\n",
      "20:37:49.699 [INFO] (irl_trainer.py:74) Total Epi:   114 Steps:     944 Episode Steps:    19 Return: -1.0000 FPS: 762.63\n",
      "20:37:49.709 [INFO] (irl_trainer.py:74) Total Epi:   115 Steps:     949 Episode Steps:     5 Return: -1.0000 FPS: 610.10\n",
      "20:37:49.717 [INFO] (irl_trainer.py:74) Total Epi:   116 Steps:     952 Episode Steps:     3 Return: -1.0000 FPS: 487.88\n",
      "20:37:49.736 [INFO] (irl_trainer.py:74) Total Epi:   117 Steps:     965 Episode Steps:    13 Return: -1.0000 FPS: 722.40\n",
      "20:37:49.743 [INFO] (irl_trainer.py:74) Total Epi:   118 Steps:     967 Episode Steps:     2 Return: -1.0000 FPS: 381.61\n",
      "20:37:49.766 [INFO] (irl_trainer.py:74) Total Epi:   119 Steps:     984 Episode Steps:    17 Return: -1.0000 FPS: 768.70\n",
      "20:37:49.784 [INFO] (irl_trainer.py:74) Total Epi:   120 Steps:     997 Episode Steps:    13 Return: -1.0000 FPS: 766.52\n"
     ]
    },
    {
     "data": {
      "image/png": "[encoded data removed]",
      "text/plain": [
       "<Figure size 432x288 with 1 Axes>"
      ]
     },
     "metadata": {
      "needs_background": "light"
     },
     "output_type": "display_data"
    },
    {
     "data": {
      "image/png": "[encoded data removed]",
      "text/plain": [
       "<Figure size 432x288 with 1 Axes>"
      ]
     },
     "metadata": {
      "needs_background": "light"
     },
     "output_type": "display_data"
    },
    {
     "data": {
      "image/png": "[encoded data removed]",
      "text/plain": [
       "<Figure size 432x288 with 1 Axes>"
      ]
     },
     "metadata": {
      "needs_background": "light"
     },
     "output_type": "display_data"
    },
    {
     "data": {
      "image/png": "[encoded data removed]",
      "text/plain": [
       "<Figure size 432x288 with 1 Axes>"
      ]
     },
     "metadata": {
      "needs_background": "light"
     },
     "output_type": "display_data"
    },
    {
     "data": {
      "image/png": "[encoded data removed]",
      "text/plain": [
       "<Figure size 432x288 with 1 Axes>"
      ]
     },
     "metadata": {
      "needs_background": "light"
     },
     "output_type": "display_data"
    },
    {
     "data": {
      "image/png": "[encoded data removed]",
      "text/plain": [
       "<Figure size 432x288 with 1 Axes>"
      ]
     },
     "metadata": {
      "needs_background": "light"
     },
     "output_type": "display_data"
    },
    {
     "data": {
      "image/png": "[encoded data removed]",
      "text/plain": [
       "<Figure size 432x288 with 1 Axes>"
      ]
     },
     "metadata": {
      "needs_background": "light"
     },
     "output_type": "display_data"
    },
    {
     "data": {
      "image/png": "[encoded data removed]",
      "text/plain": [
       "<Figure size 432x288 with 1 Axes>"
      ]
     },
     "metadata": {
      "needs_background": "light"
     },
     "output_type": "display_data"
    },
    {
     "data": {
      "image/png": "[encoded data removed]",
      "text/plain": [
       "<Figure size 432x288 with 1 Axes>"
      ]
     },
     "metadata": {
      "needs_background": "light"
     },
     "output_type": "display_data"
    },
    {
     "data": {
      "image/png": "[encoded data removed]",
      "text/plain": [
       "<Figure size 432x288 with 1 Axes>"
      ]
     },
     "metadata": {
      "needs_background": "light"
     },
     "output_type": "display_data"
    },
    {
     "data": {
      "image/png": "[encoded data removed]",
      "text/plain": [
       "<Figure size 432x288 with 1 Axes>"
      ]
     },
     "metadata": {
      "needs_background": "light"
     },
     "output_type": "display_data"
    },
    {
     "data": {
      "image/png": "[encoded data removed]",
      "text/plain": [
       "<Figure size 432x288 with 1 Axes>"
      ]
     },
     "metadata": {
      "needs_background": "light"
     },
     "output_type": "display_data"
    },
    {
     "data": {
      "image/png": "[encoded data removed]",
      "text/plain": [
       "<Figure size 432x288 with 1 Axes>"
      ]
     },
     "metadata": {
      "needs_background": "light"
     },
     "output_type": "display_data"
    },
    {
     "data": {
      "image/png": "[encoded data removed]",
      "text/plain": [
       "<Figure size 432x288 with 1 Axes>"
      ]
     },
     "metadata": {
      "needs_background": "light"
     },
     "output_type": "display_data"
    },
    {
     "data": {
      "image/png": "[encoded data removed]",
      "text/plain": [
       "<Figure size 432x288 with 1 Axes>"
      ]
     },
     "metadata": {
      "needs_background": "light"
     },
     "output_type": "display_data"
    },
    {
     "data": {
      "image/png": "[encoded data removed]",
      "text/plain": [
       "<Figure size 432x288 with 1 Axes>"
      ]
     },
     "metadata": {
      "needs_background": "light"
     },
     "output_type": "display_data"
    },
    {
     "data": {
      "image/png": "[encoded data removed]",
      "text/plain": [
       "<Figure size 432x288 with 1 Axes>"
      ]
     },
     "metadata": {
      "needs_background": "light"
     },
     "output_type": "display_data"
    },
    {
     "data": {
      "image/png": "[encoded data removed]",
      "text/plain": [
       "<Figure size 432x288 with 1 Axes>"
      ]
     },
     "metadata": {
      "needs_background": "light"
     },
     "output_type": "display_data"
    },
    {
     "data": {
      "image/png": "[encoded data removed]",
      "text/plain": [
       "<Figure size 432x288 with 1 Axes>"
      ]
     },
     "metadata": {
      "needs_background": "light"
     },
     "output_type": "display_data"
    },
    {
     "data": {
      "image/png": "[encoded data removed]",
      "text/plain": [
       "<Figure size 432x288 with 1 Axes>"
      ]
     },
     "metadata": {
      "needs_background": "light"
     },
     "output_type": "display_data"
    },
    {
     "data": {
      "image/png": "[encoded data removed]",
      "text/plain": [
       "<Figure size 432x288 with 1 Axes>"
      ]
     },
     "metadata": {
      "needs_background": "light"
     },
     "output_type": "display_data"
    },
    {
     "data": {
      "image/png": "[encoded data removed]",
      "text/plain": [
       "<Figure size 432x288 with 1 Axes>"
      ]
     },
     "metadata": {
      "needs_background": "light"
     },
     "output_type": "display_data"
    },
    {
     "data": {
      "image/png": "[encoded data removed]",
      "text/plain": [
       "<Figure size 432x288 with 1 Axes>"
      ]
     },
     "metadata": {
      "needs_background": "light"
     },
     "output_type": "display_data"
    },
    {
     "data": {
      "image/png": "[encoded data removed]",
      "text/plain": [
       "<Figure size 432x288 with 1 Axes>"
      ]
     },
     "metadata": {
      "needs_background": "light"
     },
     "output_type": "display_data"
    },
    {
     "data": {
      "image/png": "[encoded data removed]",
      "text/plain": [
       "<Figure size 432x288 with 1 Axes>"
      ]
     },
     "metadata": {
      "needs_background": "light"
     },
     "output_type": "display_data"
    },
    {
     "data": {
      "image/png": "[encoded data removed]",
      "text/plain": [
       "<Figure size 432x288 with 1 Axes>"
      ]
     },
     "metadata": {
      "needs_background": "light"
     },
     "output_type": "display_data"
    },
    {
     "data": {
      "image/png": "[encoded data removed]",
      "text/plain": [
       "<Figure size 432x288 with 1 Axes>"
      ]
     },
     "metadata": {
      "needs_background": "light"
     },
     "output_type": "display_data"
    },
    {
     "data": {
      "image/png": "[encoded data removed]",
      "text/plain": [
       "<Figure size 432x288 with 1 Axes>"
      ]
     },
     "metadata": {
      "needs_background": "light"
     },
     "output_type": "display_data"
    },
    {
     "data": {
      "image/png": "[encoded data removed]",
      "text/plain": [
       "<Figure size 432x288 with 1 Axes>"
      ]
     },
     "metadata": {
      "needs_background": "light"
     },
     "output_type": "display_data"
    },
    {
     "data": {
      "image/png": "[encoded data removed]",
      "text/plain": [
       "<Figure size 432x288 with 1 Axes>"
      ]
     },
     "metadata": {
      "needs_background": "light"
     },
     "output_type": "display_data"
    },
    {
     "data": {
      "image/png": "[encoded data removed]",
      "text/plain": [
       "<Figure size 432x288 with 1 Axes>"
      ]
     },
     "metadata": {
      "needs_background": "light"
     },
     "output_type": "display_data"
    },
    {
     "data": {
      "image/png": "[encoded data removed]",
      "text/plain": [
       "<Figure size 432x288 with 1 Axes>"
      ]
     },
     "metadata": {
      "needs_background": "light"
     },
     "output_type": "display_data"
    },
    {
     "data": {
      "image/png": "[encoded data removed]",
      "text/plain": [
       "<Figure size 432x288 with 1 Axes>"
      ]
     },
     "metadata": {
      "needs_background": "light"
     },
     "output_type": "display_data"
    },
    {
     "data": {
      "image/png": "[encoded data removed]",
      "text/plain": [
       "<Figure size 432x288 with 1 Axes>"
      ]
     },
     "metadata": {
      "needs_background": "light"
     },
     "output_type": "display_data"
    },
    {
     "data": {
      "image/png": "[encoded data removed]",
      "text/plain": [
       "<Figure size 432x288 with 1 Axes>"
      ]
     },
     "metadata": {
      "needs_background": "light"
     },
     "output_type": "display_data"
    },
    {
     "data": {
      "image/png": "[encoded data removed]",
      "text/plain": [
       "<Figure size 432x288 with 1 Axes>"
      ]
     },
     "metadata": {
      "needs_background": "light"
     },
     "output_type": "display_data"
    },
    {
     "data": {
      "image/png": "[encoded data removed]",
      "text/plain": [
       "<Figure size 432x288 with 1 Axes>"
      ]
     },
     "metadata": {
      "needs_background": "light"
     },
     "output_type": "display_data"
    },
    {
     "data": {
      "image/png": "[encoded data removed]",
      "text/plain": [
       "<Figure size 432x288 with 1 Axes>"
      ]
     },
     "metadata": {
      "needs_background": "light"
     },
     "output_type": "display_data"
    },
    {
     "data": {
      "image/png": "[encoded data removed]",
      "text/plain": [
       "<Figure size 432x288 with 1 Axes>"
      ]
     },
     "metadata": {
      "needs_background": "light"
     },
     "output_type": "display_data"
    },
    {
     "data": {
      "image/png": "[encoded data removed]",
      "text/plain": [
       "<Figure size 432x288 with 1 Axes>"
      ]
     },
     "metadata": {
      "needs_background": "light"
     },
     "output_type": "display_data"
    },
    {
     "data": {
      "image/png": "[encoded data removed]",
      "text/plain": [
       "<Figure size 432x288 with 1 Axes>"
      ]
     },
     "metadata": {
      "needs_background": "light"
     },
     "output_type": "display_data"
    },
    {
     "data": {
      "image/png": "[encoded data removed]",
      "text/plain": [
       "<Figure size 432x288 with 1 Axes>"
      ]
     },
     "metadata": {
      "needs_background": "light"
     },
     "output_type": "display_data"
    },
    {
     "data": {
      "image/png": "[encoded data removed]",
      "text/plain": [
       "<Figure size 432x288 with 1 Axes>"
      ]
     },
     "metadata": {
      "needs_background": "light"
     },
     "output_type": "display_data"
    },
    {
     "data": {
      "image/png": "[encoded data removed]",
      "text/plain": [
       "<Figure size 432x288 with 1 Axes>"
      ]
     },
     "metadata": {
      "needs_background": "light"
     },
     "output_type": "display_data"
    },
    {
     "data": {
      "image/png": "[encoded data removed]",
      "text/plain": [
       "<Figure size 432x288 with 1 Axes>"
      ]
     },
     "metadata": {
      "needs_background": "light"
     },
     "output_type": "display_data"
    },
    {
     "data": {
      "image/png": "[encoded data removed]",
      "text/plain": [
       "<Figure size 432x288 with 1 Axes>"
      ]
     },
     "metadata": {
      "needs_background": "light"
     },
     "output_type": "display_data"
    },
    {
     "data": {
      "image/png": "[encoded data removed]",
      "text/plain": [
       "<Figure size 432x288 with 1 Axes>"
      ]
     },
     "metadata": {
      "needs_background": "light"
     },
     "output_type": "display_data"
    },
    {
     "data": {
      "image/png": "[encoded data removed]",
      "text/plain": [
       "<Figure size 432x288 with 1 Axes>"
      ]
     },
     "metadata": {
      "needs_background": "light"
     },
     "output_type": "display_data"
    },
    {
     "data": {
      "image/png": "[encoded data removed]",
      "text/plain": [
       "<Figure size 432x288 with 1 Axes>"
      ]
     },
     "metadata": {
      "needs_background": "light"
     },
     "output_type": "display_data"
    },
    {
     "data": {
      "image/png": "[encoded data removed]",
      "text/plain": [
       "<Figure size 432x288 with 1 Axes>"
      ]
     },
     "metadata": {
      "needs_background": "light"
     },
     "output_type": "display_data"
    },
    {
     "data": {
      "image/png": "[encoded data removed]",
      "text/plain": [
       "<Figure size 432x288 with 1 Axes>"
      ]
     },
     "metadata": {
      "needs_background": "light"
     },
     "output_type": "display_data"
    },
    {
     "data": {
      "image/png": "[encoded data removed]",
      "text/plain": [
       "<Figure size 432x288 with 1 Axes>"
      ]
     },
     "metadata": {
      "needs_background": "light"
     },
     "output_type": "display_data"
    },
    {
     "data": {
      "image/png": "[encoded data removed]",
      "text/plain": [
       "<Figure size 432x288 with 1 Axes>"
      ]
     },
     "metadata": {
      "needs_background": "light"
     },
     "output_type": "display_data"
    },
    {
     "data": {
      "image/png": "[encoded data removed]",
      "text/plain": [
       "<Figure size 432x288 with 1 Axes>"
      ]
     },
     "metadata": {
      "needs_background": "light"
     },
     "output_type": "display_data"
    },
    {
     "data": {
      "image/png": "[encoded data removed]",
      "text/plain": [
       "<Figure size 432x288 with 1 Axes>"
      ]
     },
     "metadata": {
      "needs_background": "light"
     },
     "output_type": "display_data"
    },
    {
     "data": {
      "image/png": "[encoded data removed]",
      "text/plain": [
       "<Figure size 432x288 with 1 Axes>"
      ]
     },
     "metadata": {
      "needs_background": "light"
     },
     "output_type": "display_data"
    },
    {
     "data": {
      "image/png": "[encoded data removed]",
      "text/plain": [
       "<Figure size 432x288 with 1 Axes>"
      ]
     },
     "metadata": {
      "needs_background": "light"
     },
     "output_type": "display_data"
    },
    {
     "data": {
      "image/png": "[encoded data removed]",
      "text/plain": [
       "<Figure size 432x288 with 1 Axes>"
      ]
     },
     "metadata": {
      "needs_background": "light"
     },
     "output_type": "display_data"
    },
    {
     "data": {
      "image/png": "[encoded data removed]",
      "text/plain": [
       "<Figure size 432x288 with 1 Axes>"
      ]
     },
     "metadata": {
      "needs_background": "light"
     },
     "output_type": "display_data"
    },
    {
     "data": {
      "image/png": "[encoded data removed]",
      "text/plain": [
       "<Figure size 432x288 with 1 Axes>"
      ]
     },
     "metadata": {
      "needs_background": "light"
     },
     "output_type": "display_data"
    },
    {
     "data": {
      "image/png": "[encoded data removed]",
      "text/plain": [
       "<Figure size 432x288 with 1 Axes>"
      ]
     },
     "metadata": {
      "needs_background": "light"
     },
     "output_type": "display_data"
    },
    {
     "data": {
      "image/png": "[encoded data removed]",
      "text/plain": [
       "<Figure size 432x288 with 1 Axes>"
      ]
     },
     "metadata": {
      "needs_background": "light"
     },
     "output_type": "display_data"
    },
    {
     "data": {
      "image/png": "[encoded data removed]",
      "text/plain": [
       "<Figure size 432x288 with 1 Axes>"
      ]
     },
     "metadata": {
      "needs_background": "light"
     },
     "output_type": "display_data"
    },
    {
     "data": {
      "image/png": "[encoded data removed]",
      "text/plain": [
       "<Figure size 432x288 with 1 Axes>"
      ]
     },
     "metadata": {
      "needs_background": "light"
     },
     "output_type": "display_data"
    },
    {
     "data": {
      "image/png": "[encoded data removed]",
      "text/plain": [
       "<Figure size 432x288 with 1 Axes>"
      ]
     },
     "metadata": {
      "needs_background": "light"
     },
     "output_type": "display_data"
    },
    {
     "data": {
      "image/png": "[encoded data removed]",
      "text/plain": [
       "<Figure size 432x288 with 1 Axes>"
      ]
     },
     "metadata": {
      "needs_background": "light"
     },
     "output_type": "display_data"
    },
    {
     "data": {
      "image/png": "[encoded data removed]",
      "text/plain": [
       "<Figure size 432x288 with 1 Axes>"
      ]
     },
     "metadata": {
      "needs_background": "light"
     },
     "output_type": "display_data"
    },
    {
     "name": "stderr",
     "output_type": "stream",
     "text": [
      "20:37:58.014 [INFO] (irl_trainer.py:119) Evaluation Total Steps:    1000 Average Reward -1.0000 / Average Step Count  13.4 over  5 episodes\n",
      "20:37:58.049 [INFO] (irl_trainer.py:74) Total Epi:   121 Steps:    1001 Episode Steps:     4 Return: -1.0000 FPS:  0.48\n",
      "20:37:58.125 [INFO] (irl_trainer.py:74) Total Epi:   122 Steps:    1006 Episode Steps:     5 Return: -1.0000 FPS: 66.41\n",
      "20:37:58.182 [INFO] (irl_trainer.py:74) Total Epi:   123 Steps:    1010 Episode Steps:     4 Return: -1.0000 FPS: 72.18\n",
      "20:37:58.241 [INFO] (irl_trainer.py:74) Total Epi:   124 Steps:    1014 Episode Steps:     4 Return: -1.0000 FPS: 69.05\n",
      "20:37:58.296 [INFO] (irl_trainer.py:74) Total Epi:   125 Steps:    1017 Episode Steps:     3 Return: -1.0000 FPS: 57.55\n",
      "20:37:58.357 [INFO] (irl_trainer.py:74) Total Epi:   126 Steps:    1021 Episode Steps:     4 Return: -1.0000 FPS: 67.29\n",
      "20:37:58.451 [INFO] (irl_trainer.py:74) Total Epi:   127 Steps:    1027 Episode Steps:     6 Return: -1.0000 FPS: 65.32\n",
      "20:37:58.550 [INFO] (irl_trainer.py:74) Total Epi:   128 Steps:    1034 Episode Steps:     7 Return: -1.0000 FPS: 71.56\n",
      "20:37:58.700 [INFO] (irl_trainer.py:74) Total Epi:   129 Steps:    1044 Episode Steps:    10 Return: -1.0000 FPS: 67.25\n",
      "20:37:58.848 [INFO] (irl_trainer.py:74) Total Epi:   130 Steps:    1054 Episode Steps:    10 Return: -1.0000 FPS: 68.28\n",
      "20:37:58.905 [INFO] (irl_trainer.py:74) Total Epi:   131 Steps:    1058 Episode Steps:     4 Return: -1.0000 FPS: 71.77\n",
      "20:37:58.956 [INFO] (irl_trainer.py:74) Total Epi:   132 Steps:    1061 Episode Steps:     3 Return: -1.0000 FPS: 62.67\n",
      "20:37:59.005 [INFO] (irl_trainer.py:74) Total Epi:   133 Steps:    1064 Episode Steps:     3 Return: -1.0000 FPS: 63.66\n",
      "20:37:59.061 [INFO] (irl_trainer.py:74) Total Epi:   134 Steps:    1067 Episode Steps:     3 Return: -1.0000 FPS: 55.25\n",
      "20:37:59.107 [INFO] (irl_trainer.py:74) Total Epi:   135 Steps:    1070 Episode Steps:     3 Return: -1.0000 FPS: 67.69\n",
      "20:37:59.212 [INFO] (irl_trainer.py:74) Total Epi:   136 Steps:    1077 Episode Steps:     7 Return: -1.0000 FPS: 67.70\n",
      "20:37:59.270 [INFO] (irl_trainer.py:74) Total Epi:   137 Steps:    1081 Episode Steps:     4 Return: -1.0000 FPS: 70.36\n",
      "20:37:59.319 [INFO] (irl_trainer.py:74) Total Epi:   138 Steps:    1084 Episode Steps:     3 Return: -1.0000 FPS: 63.28\n",
      "20:37:59.364 [INFO] (irl_trainer.py:74) Total Epi:   139 Steps:    1087 Episode Steps:     3 Return: -1.0000 FPS: 68.20\n",
      "20:37:59.473 [INFO] (irl_trainer.py:74) Total Epi:   140 Steps:    1094 Episode Steps:     7 Return: -1.0000 FPS: 64.96\n",
      "20:37:59.522 [INFO] (irl_trainer.py:74) Total Epi:   141 Steps:    1097 Episode Steps:     3 Return: -1.0000 FPS: 62.94\n",
      "20:37:59.576 [INFO] (irl_trainer.py:74) Total Epi:   142 Steps:    1100 Episode Steps:     3 Return: -1.0000 FPS: 57.65\n",
      "20:37:59.628 [INFO] (irl_trainer.py:74) Total Epi:   143 Steps:    1103 Episode Steps:     3 Return: -1.0000 FPS: 60.34\n",
      "20:37:59.679 [INFO] (irl_trainer.py:74) Total Epi:   144 Steps:    1106 Episode Steps:     3 Return: -1.0000 FPS: 60.33\n",
      "20:37:59.713 [INFO] (irl_trainer.py:74) Total Epi:   145 Steps:    1108 Episode Steps:     2 Return: -1.0000 FPS: 61.86\n",
      "20:37:59.757 [INFO] (irl_trainer.py:74) Total Epi:   146 Steps:    1111 Episode Steps:     3 Return: -1.0000 FPS: 68.95\n",
      "20:37:59.834 [INFO] (irl_trainer.py:74) Total Epi:   147 Steps:    1116 Episode Steps:     5 Return: -1.0000 FPS: 66.35\n",
      "20:37:59.931 [INFO] (irl_trainer.py:74) Total Epi:   148 Steps:    1122 Episode Steps:     6 Return: -1.0000 FPS: 62.79\n",
      "20:37:59.993 [INFO] (irl_trainer.py:74) Total Epi:   149 Steps:    1126 Episode Steps:     4 Return: -1.0000 FPS: 65.68\n",
      "20:38:00.062 [INFO] (irl_trainer.py:74) Total Epi:   150 Steps:    1130 Episode Steps:     4 Return: -1.0000 FPS: 59.80\n",
      "20:38:00.136 [INFO] (irl_trainer.py:74) Total Epi:   151 Steps:    1135 Episode Steps:     5 Return: -1.0000 FPS: 69.44\n",
      "20:38:00.198 [INFO] (irl_trainer.py:74) Total Epi:   152 Steps:    1139 Episode Steps:     4 Return: -1.0000 FPS: 65.37\n",
      "20:38:00.639 [INFO] (irl_trainer.py:74) Total Epi:   153 Steps:    1171 Episode Steps:    32 Return: -1.0000 FPS: 72.78\n",
      "20:38:01.001 [INFO] (irl_trainer.py:74) Total Epi:   154 Steps:    1197 Episode Steps:    26 Return:  1.0000 FPS: 72.17\n",
      "20:38:01.312 [INFO] (irl_trainer.py:74) Total Epi:   155 Steps:    1218 Episode Steps:    21 Return:  1.0000 FPS: 67.90\n",
      "20:38:01.498 [INFO] (irl_trainer.py:74) Total Epi:   156 Steps:    1231 Episode Steps:    13 Return: -1.0000 FPS: 70.46\n",
      "20:38:01.569 [INFO] (irl_trainer.py:74) Total Epi:   157 Steps:    1236 Episode Steps:     5 Return: -1.0000 FPS: 71.70\n",
      "20:38:01.734 [INFO] (irl_trainer.py:74) Total Epi:   158 Steps:    1248 Episode Steps:    12 Return: -1.0000 FPS: 73.41\n",
      "20:38:01.799 [INFO] (irl_trainer.py:74) Total Epi:   159 Steps:    1252 Episode Steps:     4 Return: -1.0000 FPS: 62.62\n",
      "20:38:02.024 [INFO] (irl_trainer.py:74) Total Epi:   160 Steps:    1268 Episode Steps:    16 Return: -1.0000 FPS: 71.81\n",
      "20:38:02.137 [INFO] (irl_trainer.py:74) Total Epi:   161 Steps:    1276 Episode Steps:     8 Return: -1.0000 FPS: 71.61\n",
      "20:38:02.224 [INFO] (irl_trainer.py:74) Total Epi:   162 Steps:    1282 Episode Steps:     6 Return: -1.0000 FPS: 69.95\n",
      "20:38:02.455 [INFO] (irl_trainer.py:74) Total Epi:   163 Steps:    1298 Episode Steps:    16 Return: -1.0000 FPS: 69.83\n",
      "20:38:02.512 [INFO] (irl_trainer.py:74) Total Epi:   164 Steps:    1302 Episode Steps:     4 Return: -1.0000 FPS: 71.11\n",
      "20:38:03.002 [INFO] (irl_trainer.py:74) Total Epi:   165 Steps:    1333 Episode Steps:    31 Return:  1.0000 FPS: 63.61\n",
      "20:38:03.093 [INFO] (irl_trainer.py:74) Total Epi:   166 Steps:    1337 Episode Steps:     4 Return: -1.0000 FPS: 45.67\n",
      "20:38:03.196 [INFO] (irl_trainer.py:74) Total Epi:   167 Steps:    1341 Episode Steps:     4 Return: -1.0000 FPS: 39.12\n",
      "20:38:03.592 [INFO] (irl_trainer.py:74) Total Epi:   168 Steps:    1366 Episode Steps:    25 Return:  1.0000 FPS: 63.53\n",
      "20:38:03.889 [INFO] (irl_trainer.py:74) Total Epi:   169 Steps:    1385 Episode Steps:    19 Return: -1.0000 FPS: 64.21\n",
      "20:38:04.275 [INFO] (irl_trainer.py:74) Total Epi:   170 Steps:    1408 Episode Steps:    23 Return: -1.0000 FPS: 59.88\n",
      "20:38:04.522 [INFO] (irl_trainer.py:74) Total Epi:   171 Steps:    1425 Episode Steps:    17 Return: -1.0000 FPS: 69.23\n",
      "20:38:04.641 [INFO] (irl_trainer.py:74) Total Epi:   172 Steps:    1433 Episode Steps:     8 Return: -1.0000 FPS: 68.17\n",
      "20:38:05.078 [INFO] (irl_trainer.py:74) Total Epi:   173 Steps:    1463 Episode Steps:    30 Return: -1.0000 FPS: 68.85\n",
      "20:38:05.135 [INFO] (irl_trainer.py:74) Total Epi:   174 Steps:    1467 Episode Steps:     4 Return: -1.0000 FPS: 72.05\n",
      "20:38:05.342 [INFO] (irl_trainer.py:74) Total Epi:   175 Steps:    1481 Episode Steps:    14 Return: -1.0000 FPS: 68.00\n",
      "20:38:05.536 [INFO] (irl_trainer.py:74) Total Epi:   176 Steps:    1494 Episode Steps:    13 Return: -1.0000 FPS: 67.77\n",
      "20:38:05.747 [INFO] (irl_trainer.py:74) Total Epi:   177 Steps:    1509 Episode Steps:    15 Return: -1.0000 FPS: 71.78\n",
      "20:38:05.944 [INFO] (irl_trainer.py:74) Total Epi:   178 Steps:    1523 Episode Steps:    14 Return: -1.0000 FPS: 71.48\n",
      "20:38:06.051 [INFO] (irl_trainer.py:74) Total Epi:   179 Steps:    1530 Episode Steps:     7 Return: -1.0000 FPS: 66.16\n",
      "20:38:06.250 [INFO] (irl_trainer.py:74) Total Epi:   180 Steps:    1544 Episode Steps:    14 Return: -1.0000 FPS: 71.26\n",
      "20:38:06.419 [INFO] (irl_trainer.py:74) Total Epi:   181 Steps:    1556 Episode Steps:    12 Return: -1.0000 FPS: 71.39\n",
      "20:38:06.541 [INFO] (irl_trainer.py:74) Total Epi:   182 Steps:    1564 Episode Steps:     8 Return: -1.0000 FPS: 66.66\n",
      "20:38:06.683 [INFO] (irl_trainer.py:74) Total Epi:   183 Steps:    1574 Episode Steps:    10 Return: -1.0000 FPS: 71.05\n",
      "20:38:06.760 [INFO] (irl_trainer.py:74) Total Epi:   184 Steps:    1579 Episode Steps:     5 Return: -1.0000 FPS: 66.11\n",
      "20:38:06.912 [INFO] (irl_trainer.py:74) Total Epi:   185 Steps:    1590 Episode Steps:    11 Return: -1.0000 FPS: 73.13\n",
      "20:38:07.362 [INFO] (irl_trainer.py:74) Total Epi:   186 Steps:    1621 Episode Steps:    31 Return: -1.0000 FPS: 69.22\n",
      "20:38:07.522 [INFO] (irl_trainer.py:74) Total Epi:   187 Steps:    1632 Episode Steps:    11 Return: -1.0000 FPS: 69.39\n",
      "20:38:07.611 [INFO] (irl_trainer.py:74) Total Epi:   188 Steps:    1638 Episode Steps:     6 Return: -1.0000 FPS: 68.58\n"
     ]
    },
    {
     "name": "stderr",
     "output_type": "stream",
     "text": [
      "20:38:08.250 [INFO] (irl_trainer.py:74) Total Epi:   189 Steps:    1683 Episode Steps:    45 Return: -1.0000 FPS: 70.58\n",
      "20:38:08.554 [INFO] (irl_trainer.py:74) Total Epi:   190 Steps:    1704 Episode Steps:    21 Return: -1.0000 FPS: 69.28\n",
      "20:38:08.711 [INFO] (irl_trainer.py:74) Total Epi:   191 Steps:    1715 Episode Steps:    11 Return: -1.0000 FPS: 71.46\n",
      "20:38:08.978 [INFO] (irl_trainer.py:74) Total Epi:   192 Steps:    1733 Episode Steps:    18 Return: -1.0000 FPS: 67.82\n",
      "20:38:09.041 [INFO] (irl_trainer.py:74) Total Epi:   193 Steps:    1737 Episode Steps:     4 Return: -1.0000 FPS: 64.51\n",
      "20:38:09.200 [INFO] (irl_trainer.py:74) Total Epi:   194 Steps:    1748 Episode Steps:    11 Return: -1.0000 FPS: 69.74\n",
      "20:38:09.361 [INFO] (irl_trainer.py:74) Total Epi:   195 Steps:    1759 Episode Steps:    11 Return: -1.0000 FPS: 69.06\n",
      "20:38:09.419 [INFO] (irl_trainer.py:74) Total Epi:   196 Steps:    1763 Episode Steps:     4 Return: -1.0000 FPS: 70.76\n",
      "20:38:09.613 [INFO] (irl_trainer.py:74) Total Epi:   197 Steps:    1776 Episode Steps:    13 Return: -1.0000 FPS: 67.40\n",
      "20:38:09.689 [INFO] (irl_trainer.py:74) Total Epi:   198 Steps:    1781 Episode Steps:     5 Return: -1.0000 FPS: 67.27\n",
      "20:38:09.945 [INFO] (irl_trainer.py:74) Total Epi:   199 Steps:    1798 Episode Steps:    17 Return: -1.0000 FPS: 67.06\n",
      "20:38:10.147 [INFO] (irl_trainer.py:74) Total Epi:   200 Steps:    1812 Episode Steps:    14 Return: -1.0000 FPS: 69.58\n",
      "20:38:10.371 [INFO] (irl_trainer.py:74) Total Epi:   201 Steps:    1827 Episode Steps:    15 Return: -1.0000 FPS: 67.30\n",
      "20:38:10.436 [INFO] (irl_trainer.py:74) Total Epi:   202 Steps:    1831 Episode Steps:     4 Return: -1.0000 FPS: 63.88\n",
      "20:38:10.582 [INFO] (irl_trainer.py:74) Total Epi:   203 Steps:    1841 Episode Steps:    10 Return: -1.0000 FPS: 69.13\n",
      "20:38:10.789 [INFO] (irl_trainer.py:74) Total Epi:   204 Steps:    1855 Episode Steps:    14 Return: -1.0000 FPS: 68.22\n",
      "20:38:10.993 [INFO] (irl_trainer.py:74) Total Epi:   205 Steps:    1869 Episode Steps:    14 Return: -1.0000 FPS: 69.20\n",
      "20:38:11.052 [INFO] (irl_trainer.py:74) Total Epi:   206 Steps:    1873 Episode Steps:     4 Return: -1.0000 FPS: 69.68\n",
      "20:38:11.247 [INFO] (irl_trainer.py:74) Total Epi:   207 Steps:    1886 Episode Steps:    13 Return: -1.0000 FPS: 66.96\n",
      "20:38:11.353 [INFO] (irl_trainer.py:74) Total Epi:   208 Steps:    1893 Episode Steps:     7 Return: -1.0000 FPS: 67.48\n",
      "20:38:11.700 [INFO] (irl_trainer.py:74) Total Epi:   209 Steps:    1909 Episode Steps:    16 Return: -1.0000 FPS: 46.31\n",
      "20:38:11.782 [INFO] (irl_trainer.py:74) Total Epi:   210 Steps:    1913 Episode Steps:     4 Return: -1.0000 FPS: 49.53\n",
      "20:38:11.957 [INFO] (irl_trainer.py:74) Total Epi:   211 Steps:    1924 Episode Steps:    11 Return: -1.0000 FPS: 64.01\n",
      "20:38:12.179 [INFO] (irl_trainer.py:74) Total Epi:   212 Steps:    1939 Episode Steps:    15 Return: -1.0000 FPS: 68.05\n",
      "20:38:12.241 [INFO] (irl_trainer.py:74) Total Epi:   213 Steps:    1943 Episode Steps:     4 Return: -1.0000 FPS: 66.21\n",
      "20:38:12.450 [INFO] (irl_trainer.py:74) Total Epi:   214 Steps:    1958 Episode Steps:    15 Return: -1.0000 FPS: 72.42\n",
      "20:38:12.697 [INFO] (irl_trainer.py:74) Total Epi:   215 Steps:    1975 Episode Steps:    17 Return: -1.0000 FPS: 69.36\n",
      "20:38:12.786 [INFO] (irl_trainer.py:74) Total Epi:   216 Steps:    1981 Episode Steps:     6 Return: -1.0000 FPS: 67.96\n"
     ]
    },
    {
     "data": {
      "image/png": "[encoded data removed]",
      "text/plain": [
       "<Figure size 432x288 with 1 Axes>"
      ]
     },
     "metadata": {
      "needs_background": "light"
     },
     "output_type": "display_data"
    },
    {
     "data": {
      "image/png": "[encoded data removed]",
      "text/plain": [
       "<Figure size 432x288 with 1 Axes>"
      ]
     },
     "metadata": {
      "needs_background": "light"
     },
     "output_type": "display_data"
    },
    {
     "data": {
      "image/png": "[encoded data removed]",
      "text/plain": [
       "<Figure size 432x288 with 1 Axes>"
      ]
     },
     "metadata": {
      "needs_background": "light"
     },
     "output_type": "display_data"
    },
    {
     "data": {
      "image/png": "[encoded data removed]",
      "text/plain": [
       "<Figure size 432x288 with 1 Axes>"
      ]
     },
     "metadata": {
      "needs_background": "light"
     },
     "output_type": "display_data"
    },
    {
     "data": {
      "image/png": "[encoded data removed]",
      "text/plain": [
       "<Figure size 432x288 with 1 Axes>"
      ]
     },
     "metadata": {
      "needs_background": "light"
     },
     "output_type": "display_data"
    },
    {
     "data": {
      "image/png": "[encoded data removed]",
      "text/plain": [
       "<Figure size 432x288 with 1 Axes>"
      ]
     },
     "metadata": {
      "needs_background": "light"
     },
     "output_type": "display_data"
    },
    {
     "data": {
      "image/png": "[encoded data removed]",
      "text/plain": [
       "<Figure size 432x288 with 1 Axes>"
      ]
     },
     "metadata": {
      "needs_background": "light"
     },
     "output_type": "display_data"
    },
    {
     "data": {
      "image/png": "[encoded data removed]",
      "text/plain": [
       "<Figure size 432x288 with 1 Axes>"
      ]
     },
     "metadata": {
      "needs_background": "light"
     },
     "output_type": "display_data"
    },
    {
     "data": {
      "image/png": "[encoded data removed]",
      "text/plain": [
       "<Figure size 432x288 with 1 Axes>"
      ]
     },
     "metadata": {
      "needs_background": "light"
     },
     "output_type": "display_data"
    },
    {
     "data": {
      "image/png": "[encoded data removed]",
      "text/plain": [
       "<Figure size 432x288 with 1 Axes>"
      ]
     },
     "metadata": {
      "needs_background": "light"
     },
     "output_type": "display_data"
    },
    {
     "data": {
      "image/png": "[encoded data removed]",
      "text/plain": [
       "<Figure size 432x288 with 1 Axes>"
      ]
     },
     "metadata": {
      "needs_background": "light"
     },
     "output_type": "display_data"
    },
    {
     "data": {
      "image/png": "[encoded data removed]",
      "text/plain": [
       "<Figure size 432x288 with 1 Axes>"
      ]
     },
     "metadata": {
      "needs_background": "light"
     },
     "output_type": "display_data"
    },
    {
     "data": {
      "image/png": "[encoded data removed]",
      "text/plain": [
       "<Figure size 432x288 with 1 Axes>"
      ]
     },
     "metadata": {
      "needs_background": "light"
     },
     "output_type": "display_data"
    },
    {
     "data": {
      "image/png": "[encoded data removed]",
      "text/plain": [
       "<Figure size 432x288 with 1 Axes>"
      ]
     },
     "metadata": {
      "needs_background": "light"
     },
     "output_type": "display_data"
    },
    {
     "data": {
      "image/png": "[encoded data removed]",
      "text/plain": [
       "<Figure size 432x288 with 1 Axes>"
      ]
     },
     "metadata": {
      "needs_background": "light"
     },
     "output_type": "display_data"
    },
    {
     "data": {
      "image/png": "[encoded data removed]",
      "text/plain": [
       "<Figure size 432x288 with 1 Axes>"
      ]
     },
     "metadata": {
      "needs_background": "light"
     },
     "output_type": "display_data"
    },
    {
     "data": {
      "image/png": "[encoded data removed]",
      "text/plain": [
       "<Figure size 432x288 with 1 Axes>"
      ]
     },
     "metadata": {
      "needs_background": "light"
     },
     "output_type": "display_data"
    },
    {
     "data": {
      "image/png": "[encoded data removed]",
      "text/plain": [
       "<Figure size 432x288 with 1 Axes>"
      ]
     },
     "metadata": {
      "needs_background": "light"
     },
     "output_type": "display_data"
    },
    {
     "data": {
      "image/png": "[encoded data removed]",
      "text/plain": [
       "<Figure size 432x288 with 1 Axes>"
      ]
     },
     "metadata": {
      "needs_background": "light"
     },
     "output_type": "display_data"
    },
    {
     "data": {
      "image/png": "[encoded data removed]",
      "text/plain": [
       "<Figure size 432x288 with 1 Axes>"
      ]
     },
     "metadata": {
      "needs_background": "light"
     },
     "output_type": "display_data"
    },
    {
     "data": {
      "image/png": "[encoded data removed]",
      "text/plain": [
       "<Figure size 432x288 with 1 Axes>"
      ]
     },
     "metadata": {
      "needs_background": "light"
     },
     "output_type": "display_data"
    },
    {
     "data": {
      "image/png": "[encoded data removed]",
      "text/plain": [
       "<Figure size 432x288 with 1 Axes>"
      ]
     },
     "metadata": {
      "needs_background": "light"
     },
     "output_type": "display_data"
    },
    {
     "data": {
      "image/png": "[encoded data removed]",
      "text/plain": [
       "<Figure size 432x288 with 1 Axes>"
      ]
     },
     "metadata": {
      "needs_background": "light"
     },
     "output_type": "display_data"
    },
    {
     "data": {
      "image/png": "[encoded data removed]",
      "text/plain": [
       "<Figure size 432x288 with 1 Axes>"
      ]
     },
     "metadata": {
      "needs_background": "light"
     },
     "output_type": "display_data"
    },
    {
     "data": {
      "image/png": "[encoded data removed]",
      "text/plain": [
       "<Figure size 432x288 with 1 Axes>"
      ]
     },
     "metadata": {
      "needs_background": "light"
     },
     "output_type": "display_data"
    },
    {
     "data": {
      "image/png": "[encoded data removed]",
      "text/plain": [
       "<Figure size 432x288 with 1 Axes>"
      ]
     },
     "metadata": {
      "needs_background": "light"
     },
     "output_type": "display_data"
    },
    {
     "data": {
      "image/png": "[encoded data removed]",
      "text/plain": [
       "<Figure size 432x288 with 1 Axes>"
      ]
     },
     "metadata": {
      "needs_background": "light"
     },
     "output_type": "display_data"
    },
    {
     "data": {
      "image/png": "[encoded data removed]",
      "text/plain": [
       "<Figure size 432x288 with 1 Axes>"
      ]
     },
     "metadata": {
      "needs_background": "light"
     },
     "output_type": "display_data"
    },
    {
     "data": {
      "image/png": "[encoded data removed]",
      "text/plain": [
       "<Figure size 432x288 with 1 Axes>"
      ]
     },
     "metadata": {
      "needs_background": "light"
     },
     "output_type": "display_data"
    },
    {
     "data": {
      "image/png": "[encoded data removed]",
      "text/plain": [
       "<Figure size 432x288 with 1 Axes>"
      ]
     },
     "metadata": {
      "needs_background": "light"
     },
     "output_type": "display_data"
    },
    {
     "data": {
      "image/png": "[encoded data removed]",
      "text/plain": [
       "<Figure size 432x288 with 1 Axes>"
      ]
     },
     "metadata": {
      "needs_background": "light"
     },
     "output_type": "display_data"
    },
    {
     "data": {
      "image/png": "[encoded data removed]",
      "text/plain": [
       "<Figure size 432x288 with 1 Axes>"
      ]
     },
     "metadata": {
      "needs_background": "light"
     },
     "output_type": "display_data"
    },
    {
     "data": {
      "image/png": "[encoded data removed]",
      "text/plain": [
       "<Figure size 432x288 with 1 Axes>"
      ]
     },
     "metadata": {
      "needs_background": "light"
     },
     "output_type": "display_data"
    },
    {
     "data": {
      "image/png": "[encoded data removed]",
      "text/plain": [
       "<Figure size 432x288 with 1 Axes>"
      ]
     },
     "metadata": {
      "needs_background": "light"
     },
     "output_type": "display_data"
    },
    {
     "data": {
      "image/png": "[encoded data removed]",
      "text/plain": [
       "<Figure size 432x288 with 1 Axes>"
      ]
     },
     "metadata": {
      "needs_background": "light"
     },
     "output_type": "display_data"
    },
    {
     "data": {
      "image/png": "[encoded data removed]",
      "text/plain": [
       "<Figure size 432x288 with 1 Axes>"
      ]
     },
     "metadata": {
      "needs_background": "light"
     },
     "output_type": "display_data"
    },
    {
     "data": {
      "image/png": "[encoded data removed]",
      "text/plain": [
       "<Figure size 432x288 with 1 Axes>"
      ]
     },
     "metadata": {
      "needs_background": "light"
     },
     "output_type": "display_data"
    },
    {
     "data": {
      "image/png": "[encoded data removed]",
      "text/plain": [
       "<Figure size 432x288 with 1 Axes>"
      ]
     },
     "metadata": {
      "needs_background": "light"
     },
     "output_type": "display_data"
    },
    {
     "data": {
      "image/png": "[encoded data removed]",
      "text/plain": [
       "<Figure size 432x288 with 1 Axes>"
      ]
     },
     "metadata": {
      "needs_background": "light"
     },
     "output_type": "display_data"
    },
    {
     "data": {
      "image/png": "[encoded data removed]",
      "text/plain": [
       "<Figure size 432x288 with 1 Axes>"
      ]
     },
     "metadata": {
      "needs_background": "light"
     },
     "output_type": "display_data"
    },
    {
     "data": {
      "image/png": "[encoded data removed]",
      "text/plain": [
       "<Figure size 432x288 with 1 Axes>"
      ]
     },
     "metadata": {
      "needs_background": "light"
     },
     "output_type": "display_data"
    },
    {
     "data": {
      "image/png": "[encoded data removed]",
      "text/plain": [
       "<Figure size 432x288 with 1 Axes>"
      ]
     },
     "metadata": {
      "needs_background": "light"
     },
     "output_type": "display_data"
    },
    {
     "data": {
      "image/png": "[encoded data removed]",
      "text/plain": [
       "<Figure size 432x288 with 1 Axes>"
      ]
     },
     "metadata": {
      "needs_background": "light"
     },
     "output_type": "display_data"
    },
    {
     "data": {
      "image/png": "[encoded data removed]",
      "text/plain": [
       "<Figure size 432x288 with 1 Axes>"
      ]
     },
     "metadata": {
      "needs_background": "light"
     },
     "output_type": "display_data"
    },
    {
     "data": {
      "image/png": "[encoded data removed]",
      "text/plain": [
       "<Figure size 432x288 with 1 Axes>"
      ]
     },
     "metadata": {
      "needs_background": "light"
     },
     "output_type": "display_data"
    },
    {
     "data": {
      "image/png": "[encoded data removed]",
      "text/plain": [
       "<Figure size 432x288 with 1 Axes>"
      ]
     },
     "metadata": {
      "needs_background": "light"
     },
     "output_type": "display_data"
    },
    {
     "data": {
      "image/png": "[encoded data removed]",
      "text/plain": [
       "<Figure size 432x288 with 1 Axes>"
      ]
     },
     "metadata": {
      "needs_background": "light"
     },
     "output_type": "display_data"
    },
    {
     "data": {
      "image/png": "[encoded data removed]",
      "text/plain": [
       "<Figure size 432x288 with 1 Axes>"
      ]
     },
     "metadata": {
      "needs_background": "light"
     },
     "output_type": "display_data"
    },
    {
     "data": {
      "image/png": "[encoded data removed]",
      "text/plain": [
       "<Figure size 432x288 with 1 Axes>"
      ]
     },
     "metadata": {
      "needs_background": "light"
     },
     "output_type": "display_data"
    },
    {
     "data": {
      "image/png": "[encoded data removed]",
      "text/plain": [
       "<Figure size 432x288 with 1 Axes>"
      ]
     },
     "metadata": {
      "needs_background": "light"
     },
     "output_type": "display_data"
    },
    {
     "data": {
      "image/png": "[encoded data removed]",
      "text/plain": [
       "<Figure size 432x288 with 1 Axes>"
      ]
     },
     "metadata": {
      "needs_background": "light"
     },
     "output_type": "display_data"
    },
    {
     "data": {
      "image/png": "[encoded data removed]",
      "text/plain": [
       "<Figure size 432x288 with 1 Axes>"
      ]
     },
     "metadata": {
      "needs_background": "light"
     },
     "output_type": "display_data"
    },
    {
     "data": {
      "image/png": "[encoded data removed]",
      "text/plain": [
       "<Figure size 432x288 with 1 Axes>"
      ]
     },
     "metadata": {
      "needs_background": "light"
     },
     "output_type": "display_data"
    },
    {
     "data": {
      "image/png": "[encoded data removed]",
      "text/plain": [
       "<Figure size 432x288 with 1 Axes>"
      ]
     },
     "metadata": {
      "needs_background": "light"
     },
     "output_type": "display_data"
    },
    {
     "data": {
      "image/png": "[encoded data removed]",
      "text/plain": [
       "<Figure size 432x288 with 1 Axes>"
      ]
     },
     "metadata": {
      "needs_background": "light"
     },
     "output_type": "display_data"
    },
    {
     "data": {
      "image/png": "[encoded data removed]",
      "text/plain": [
       "<Figure size 432x288 with 1 Axes>"
      ]
     },
     "metadata": {
      "needs_background": "light"
     },
     "output_type": "display_data"
    },
    {
     "data": {
      "image/png": "[encoded data removed]",
      "text/plain": [
       "<Figure size 432x288 with 1 Axes>"
      ]
     },
     "metadata": {
      "needs_background": "light"
     },
     "output_type": "display_data"
    },
    {
     "data": {
      "image/png": "[encoded data removed]",
      "text/plain": [
       "<Figure size 432x288 with 1 Axes>"
      ]
     },
     "metadata": {
      "needs_background": "light"
     },
     "output_type": "display_data"
    },
    {
     "data": {
      "image/png": "[encoded data removed]",
      "text/plain": [
       "<Figure size 432x288 with 1 Axes>"
      ]
     },
     "metadata": {
      "needs_background": "light"
     },
     "output_type": "display_data"
    },
    {
     "data": {
      "image/png": "[encoded data removed]",
      "text/plain": [
       "<Figure size 432x288 with 1 Axes>"
      ]
     },
     "metadata": {
      "needs_background": "light"
     },
     "output_type": "display_data"
    },
    {
     "data": {
      "image/png": "[encoded data removed]",
      "text/plain": [
       "<Figure size 432x288 with 1 Axes>"
      ]
     },
     "metadata": {
      "needs_background": "light"
     },
     "output_type": "display_data"
    },
    {
     "data": {
      "image/png": "[encoded data removed]",
      "text/plain": [
       "<Figure size 432x288 with 1 Axes>"
      ]
     },
     "metadata": {
      "needs_background": "light"
     },
     "output_type": "display_data"
    },
    {
     "data": {
      "image/png": "[encoded data removed]",
      "text/plain": [
       "<Figure size 432x288 with 1 Axes>"
      ]
     },
     "metadata": {
      "needs_background": "light"
     },
     "output_type": "display_data"
    },
    {
     "data": {
      "image/png": "[encoded data removed]",
      "text/plain": [
       "<Figure size 432x288 with 1 Axes>"
      ]
     },
     "metadata": {
      "needs_background": "light"
     },
     "output_type": "display_data"
    },
    {
     "data": {
      "image/png": "[encoded data removed]",
      "text/plain": [
       "<Figure size 432x288 with 1 Axes>"
      ]
     },
     "metadata": {
      "needs_background": "light"
     },
     "output_type": "display_data"
    },
    {
     "data": {
      "image/png": "[encoded data removed]",
      "text/plain": [
       "<Figure size 432x288 with 1 Axes>"
      ]
     },
     "metadata": {
      "needs_background": "light"
     },
     "output_type": "display_data"
    },
    {
     "data": {
      "image/png": "[encoded data removed]",
      "text/plain": [
       "<Figure size 432x288 with 1 Axes>"
      ]
     },
     "metadata": {
      "needs_background": "light"
     },
     "output_type": "display_data"
    },
    {
     "data": {
      "image/png": "[encoded data removed]",
      "text/plain": [
       "<Figure size 432x288 with 1 Axes>"
      ]
     },
     "metadata": {
      "needs_background": "light"
     },
     "output_type": "display_data"
    },
    {
     "data": {
      "image/png": "[encoded data removed]",
      "text/plain": [
       "<Figure size 432x288 with 1 Axes>"
      ]
     },
     "metadata": {
      "needs_background": "light"
     },
     "output_type": "display_data"
    },
    {
     "data": {
      "image/png": "[encoded data removed]",
      "text/plain": [
       "<Figure size 432x288 with 1 Axes>"
      ]
     },
     "metadata": {
      "needs_background": "light"
     },
     "output_type": "display_data"
    },
    {
     "data": {
      "image/png": "[encoded data removed]",
      "text/plain": [
       "<Figure size 432x288 with 1 Axes>"
      ]
     },
     "metadata": {
      "needs_background": "light"
     },
     "output_type": "display_data"
    },
    {
     "data": {
      "image/png": "[encoded data removed]",
      "text/plain": [
       "<Figure size 432x288 with 1 Axes>"
      ]
     },
     "metadata": {
      "needs_background": "light"
     },
     "output_type": "display_data"
    },
    {
     "data": {
      "image/png": "[encoded data removed]",
      "text/plain": [
       "<Figure size 432x288 with 1 Axes>"
      ]
     },
     "metadata": {
      "needs_background": "light"
     },
     "output_type": "display_data"
    },
    {
     "data": {
      "image/png": "[encoded data removed]",
      "text/plain": [
       "<Figure size 432x288 with 1 Axes>"
      ]
     },
     "metadata": {
      "needs_background": "light"
     },
     "output_type": "display_data"
    },
    {
     "data": {
      "image/png": "[encoded data removed]",
      "text/plain": [
       "<Figure size 432x288 with 1 Axes>"
      ]
     },
     "metadata": {
      "needs_background": "light"
     },
     "output_type": "display_data"
    },
    {
     "data": {
      "image/png": "[encoded data removed]",
      "text/plain": [
       "<Figure size 432x288 with 1 Axes>"
      ]
     },
     "metadata": {
      "needs_background": "light"
     },
     "output_type": "display_data"
    },
    {
     "data": {
      "image/png": "[encoded data removed]",
      "text/plain": [
       "<Figure size 432x288 with 1 Axes>"
      ]
     },
     "metadata": {
      "needs_background": "light"
     },
     "output_type": "display_data"
    },
    {
     "data": {
      "image/png": "[encoded data removed]",
      "text/plain": [
       "<Figure size 432x288 with 1 Axes>"
      ]
     },
     "metadata": {
      "needs_background": "light"
     },
     "output_type": "display_data"
    },
    {
     "data": {
      "image/png": "[encoded data removed]",
      "text/plain": [
       "<Figure size 432x288 with 1 Axes>"
      ]
     },
     "metadata": {
      "needs_background": "light"
     },
     "output_type": "display_data"
    },
    {
     "name": "stderr",
     "output_type": "stream",
     "text": [
      "20:38:19.661 [INFO] (irl_trainer.py:119) Evaluation Total Steps:    2000 Average Reward -0.6000 / Average Step Count  15.8 over  5 episodes\n",
      "20:38:19.668 [INFO] (irl_trainer.py:74) Total Epi:   217 Steps:    2001 Episode Steps:    20 Return: -1.0000 FPS:  2.91\n",
      "20:38:19.907 [INFO] (irl_trainer.py:74) Total Epi:   218 Steps:    2014 Episode Steps:    13 Return: -1.0000 FPS: 54.87\n",
      "20:38:20.078 [INFO] (irl_trainer.py:74) Total Epi:   219 Steps:    2021 Episode Steps:     7 Return: -1.0000 FPS: 41.38\n",
      "20:38:20.286 [INFO] (irl_trainer.py:74) Total Epi:   220 Steps:    2034 Episode Steps:    13 Return: -1.0000 FPS: 63.05\n",
      "20:38:20.436 [INFO] (irl_trainer.py:74) Total Epi:   221 Steps:    2044 Episode Steps:    10 Return: -1.0000 FPS: 67.28\n",
      "20:38:20.657 [INFO] (irl_trainer.py:74) Total Epi:   222 Steps:    2058 Episode Steps:    14 Return: -1.0000 FPS: 63.98\n",
      "20:38:20.862 [INFO] (irl_trainer.py:74) Total Epi:   223 Steps:    2072 Episode Steps:    14 Return: -1.0000 FPS: 68.65\n",
      "20:38:21.057 [INFO] (irl_trainer.py:74) Total Epi:   224 Steps:    2077 Episode Steps:     5 Return: -1.0000 FPS: 25.80\n",
      "20:38:21.159 [INFO] (irl_trainer.py:74) Total Epi:   225 Steps:    2084 Episode Steps:     7 Return: -1.0000 FPS: 69.88\n",
      "20:38:21.341 [INFO] (irl_trainer.py:74) Total Epi:   226 Steps:    2095 Episode Steps:    11 Return: -1.0000 FPS: 61.02\n",
      "20:38:21.456 [INFO] (irl_trainer.py:74) Total Epi:   227 Steps:    2103 Episode Steps:     8 Return: -1.0000 FPS: 71.31\n",
      "20:38:21.636 [INFO] (irl_trainer.py:74) Total Epi:   228 Steps:    2116 Episode Steps:    13 Return: -1.0000 FPS: 72.83\n",
      "20:38:21.696 [INFO] (irl_trainer.py:74) Total Epi:   229 Steps:    2120 Episode Steps:     4 Return: -1.0000 FPS: 68.27\n",
      "20:38:21.807 [INFO] (irl_trainer.py:74) Total Epi:   230 Steps:    2128 Episode Steps:     8 Return: -1.0000 FPS: 72.86\n",
      "20:38:22.027 [INFO] (irl_trainer.py:74) Total Epi:   231 Steps:    2143 Episode Steps:    15 Return: -1.0000 FPS: 68.65\n",
      "20:38:22.099 [INFO] (irl_trainer.py:74) Total Epi:   232 Steps:    2148 Episode Steps:     5 Return: -1.0000 FPS: 71.03\n",
      "20:38:22.298 [INFO] (irl_trainer.py:74) Total Epi:   233 Steps:    2161 Episode Steps:    13 Return: -1.0000 FPS: 66.09\n",
      "20:38:22.352 [INFO] (irl_trainer.py:74) Total Epi:   234 Steps:    2165 Episode Steps:     4 Return: -1.0000 FPS: 75.89\n",
      "20:38:22.528 [INFO] (irl_trainer.py:74) Total Epi:   235 Steps:    2177 Episode Steps:    12 Return: -1.0000 FPS: 68.42\n",
      "20:38:22.860 [INFO] (irl_trainer.py:74) Total Epi:   236 Steps:    2200 Episode Steps:    23 Return: -1.0000 FPS: 69.61\n",
      "20:38:22.988 [INFO] (irl_trainer.py:74) Total Epi:   237 Steps:    2209 Episode Steps:     9 Return: -1.0000 FPS: 71.17\n",
      "20:38:23.116 [INFO] (irl_trainer.py:74) Total Epi:   238 Steps:    2218 Episode Steps:     9 Return: -1.0000 FPS: 71.11\n",
      "20:38:23.202 [INFO] (irl_trainer.py:74) Total Epi:   239 Steps:    2224 Episode Steps:     6 Return: -1.0000 FPS: 71.25\n",
      "20:38:23.360 [INFO] (irl_trainer.py:74) Total Epi:   240 Steps:    2235 Episode Steps:    11 Return: -1.0000 FPS: 70.42\n",
      "20:38:23.730 [INFO] (irl_trainer.py:74) Total Epi:   241 Steps:    2262 Episode Steps:    27 Return: -1.0000 FPS: 73.26\n",
      "20:38:23.879 [INFO] (irl_trainer.py:74) Total Epi:   242 Steps:    2272 Episode Steps:    10 Return: -1.0000 FPS: 67.71\n",
      "20:38:23.980 [INFO] (irl_trainer.py:74) Total Epi:   243 Steps:    2279 Episode Steps:     7 Return: -1.0000 FPS: 69.91\n",
      "20:38:24.068 [INFO] (irl_trainer.py:74) Total Epi:   244 Steps:    2285 Episode Steps:     6 Return: -1.0000 FPS: 69.92\n",
      "20:38:24.139 [INFO] (irl_trainer.py:74) Total Epi:   245 Steps:    2290 Episode Steps:     5 Return: -1.0000 FPS: 71.33\n",
      "20:38:24.334 [INFO] (irl_trainer.py:74) Total Epi:   246 Steps:    2304 Episode Steps:    14 Return: -1.0000 FPS: 72.41\n",
      "20:38:24.457 [INFO] (irl_trainer.py:74) Total Epi:   247 Steps:    2313 Episode Steps:     9 Return: -1.0000 FPS: 73.95\n",
      "20:38:24.556 [INFO] (irl_trainer.py:74) Total Epi:   248 Steps:    2320 Episode Steps:     7 Return: -1.0000 FPS: 71.73\n",
      "20:38:24.632 [INFO] (irl_trainer.py:74) Total Epi:   249 Steps:    2325 Episode Steps:     5 Return: -1.0000 FPS: 66.98\n",
      "20:38:24.933 [INFO] (irl_trainer.py:74) Total Epi:   250 Steps:    2347 Episode Steps:    22 Return: -1.0000 FPS: 73.46\n",
      "20:38:25.039 [INFO] (irl_trainer.py:74) Total Epi:   251 Steps:    2355 Episode Steps:     8 Return: -1.0000 FPS: 76.45\n",
      "20:38:25.219 [INFO] (irl_trainer.py:74) Total Epi:   252 Steps:    2368 Episode Steps:    13 Return: -1.0000 FPS: 72.83\n",
      "20:38:25.478 [INFO] (irl_trainer.py:74) Total Epi:   253 Steps:    2385 Episode Steps:    17 Return: -1.0000 FPS: 65.94\n",
      "20:38:25.655 [INFO] (irl_trainer.py:74) Total Epi:   254 Steps:    2398 Episode Steps:    13 Return: -1.0000 FPS: 74.17\n",
      "20:38:25.926 [INFO] (irl_trainer.py:74) Total Epi:   255 Steps:    2418 Episode Steps:    20 Return:  1.0000 FPS: 74.01\n",
      "20:38:25.973 [INFO] (irl_trainer.py:74) Total Epi:   256 Steps:    2421 Episode Steps:     3 Return: -1.0000 FPS: 66.60\n",
      "20:38:26.045 [INFO] (irl_trainer.py:74) Total Epi:   257 Steps:    2426 Episode Steps:     5 Return: -1.0000 FPS: 71.38\n",
      "20:38:26.119 [INFO] (irl_trainer.py:74) Total Epi:   258 Steps:    2431 Episode Steps:     5 Return: -1.0000 FPS: 68.01\n",
      "20:38:26.202 [INFO] (irl_trainer.py:74) Total Epi:   259 Steps:    2437 Episode Steps:     6 Return: -1.0000 FPS: 73.74\n",
      "20:38:26.298 [INFO] (irl_trainer.py:74) Total Epi:   260 Steps:    2444 Episode Steps:     7 Return: -1.0000 FPS: 74.04\n",
      "20:38:26.479 [INFO] (irl_trainer.py:74) Total Epi:   261 Steps:    2457 Episode Steps:    13 Return: -1.0000 FPS: 72.47\n",
      "20:38:26.592 [INFO] (irl_trainer.py:74) Total Epi:   262 Steps:    2465 Episode Steps:     8 Return: -1.0000 FPS: 71.19\n",
      "20:38:26.797 [INFO] (irl_trainer.py:74) Total Epi:   263 Steps:    2480 Episode Steps:    15 Return: -1.0000 FPS: 73.63\n",
      "20:38:26.961 [INFO] (irl_trainer.py:74) Total Epi:   264 Steps:    2491 Episode Steps:    11 Return: -1.0000 FPS: 67.93\n",
      "20:38:27.052 [INFO] (irl_trainer.py:74) Total Epi:   265 Steps:    2498 Episode Steps:     7 Return: -1.0000 FPS: 77.75\n",
      "20:38:27.123 [INFO] (irl_trainer.py:74) Total Epi:   266 Steps:    2503 Episode Steps:     5 Return: -1.0000 FPS: 72.40\n",
      "20:38:27.215 [INFO] (irl_trainer.py:74) Total Epi:   267 Steps:    2510 Episode Steps:     7 Return: -1.0000 FPS: 76.80\n",
      "20:38:27.369 [INFO] (irl_trainer.py:74) Total Epi:   268 Steps:    2520 Episode Steps:    10 Return: -1.0000 FPS: 65.65\n",
      "20:38:27.641 [INFO] (irl_trainer.py:74) Total Epi:   269 Steps:    2539 Episode Steps:    19 Return: -1.0000 FPS: 70.27\n",
      "20:38:27.906 [INFO] (irl_trainer.py:74) Total Epi:   270 Steps:    2558 Episode Steps:    19 Return: -1.0000 FPS: 71.90\n",
      "20:38:28.030 [INFO] (irl_trainer.py:74) Total Epi:   271 Steps:    2567 Episode Steps:     9 Return: -1.0000 FPS: 73.60\n",
      "20:38:28.139 [INFO] (irl_trainer.py:74) Total Epi:   272 Steps:    2575 Episode Steps:     8 Return: -1.0000 FPS: 74.49\n",
      "20:38:28.260 [INFO] (irl_trainer.py:74) Total Epi:   273 Steps:    2584 Episode Steps:     9 Return: -1.0000 FPS: 75.79\n",
      "20:38:28.473 [INFO] (irl_trainer.py:74) Total Epi:   274 Steps:    2599 Episode Steps:    15 Return:  1.0000 FPS: 70.71\n",
      "20:38:28.605 [INFO] (irl_trainer.py:74) Total Epi:   275 Steps:    2608 Episode Steps:     9 Return: -1.0000 FPS: 68.65\n",
      "20:38:28.728 [INFO] (irl_trainer.py:74) Total Epi:   276 Steps:    2616 Episode Steps:     8 Return: -1.0000 FPS: 66.08\n",
      "20:38:28.789 [INFO] (irl_trainer.py:74) Total Epi:   277 Steps:    2620 Episode Steps:     4 Return: -1.0000 FPS: 67.44\n",
      "20:38:28.926 [INFO] (irl_trainer.py:74) Total Epi:   278 Steps:    2630 Episode Steps:    10 Return: -1.0000 FPS: 73.63\n",
      "20:38:28.998 [INFO] (irl_trainer.py:74) Total Epi:   279 Steps:    2635 Episode Steps:     5 Return: -1.0000 FPS: 71.47\n",
      "20:38:29.069 [INFO] (irl_trainer.py:74) Total Epi:   280 Steps:    2640 Episode Steps:     5 Return: -1.0000 FPS: 71.37\n",
      "20:38:29.163 [INFO] (irl_trainer.py:74) Total Epi:   281 Steps:    2647 Episode Steps:     7 Return: -1.0000 FPS: 75.72\n",
      "20:38:29.255 [INFO] (irl_trainer.py:74) Total Epi:   282 Steps:    2653 Episode Steps:     6 Return: -1.0000 FPS: 66.22\n",
      "20:38:29.323 [INFO] (irl_trainer.py:74) Total Epi:   283 Steps:    2658 Episode Steps:     5 Return: -1.0000 FPS: 75.41\n",
      "20:38:29.406 [INFO] (irl_trainer.py:74) Total Epi:   284 Steps:    2664 Episode Steps:     6 Return: -1.0000 FPS: 73.93\n"
     ]
    },
    {
     "name": "stderr",
     "output_type": "stream",
     "text": [
      "20:38:29.525 [INFO] (irl_trainer.py:74) Total Epi:   285 Steps:    2673 Episode Steps:     9 Return: -1.0000 FPS: 75.89\n",
      "20:38:29.633 [INFO] (irl_trainer.py:74) Total Epi:   286 Steps:    2681 Episode Steps:     8 Return: -1.0000 FPS: 75.64\n",
      "20:38:29.951 [INFO] (irl_trainer.py:74) Total Epi:   287 Steps:    2703 Episode Steps:    22 Return:  1.0000 FPS: 69.45\n",
      "20:38:30.171 [INFO] (irl_trainer.py:74) Total Epi:   288 Steps:    2719 Episode Steps:    16 Return: -1.0000 FPS: 73.06\n",
      "20:38:30.252 [INFO] (irl_trainer.py:74) Total Epi:   289 Steps:    2724 Episode Steps:     5 Return: -1.0000 FPS: 62.83\n",
      "20:38:30.484 [INFO] (irl_trainer.py:74) Total Epi:   290 Steps:    2741 Episode Steps:    17 Return: -1.0000 FPS: 73.82\n",
      "20:38:31.081 [INFO] (irl_trainer.py:74) Total Epi:   291 Steps:    2785 Episode Steps:    44 Return: -1.0000 FPS: 73.78\n",
      "20:38:31.155 [INFO] (irl_trainer.py:74) Total Epi:   292 Steps:    2790 Episode Steps:     5 Return: -1.0000 FPS: 68.87\n",
      "20:38:31.273 [INFO] (irl_trainer.py:74) Total Epi:   293 Steps:    2798 Episode Steps:     8 Return: -1.0000 FPS: 68.71\n",
      "20:38:31.446 [INFO] (irl_trainer.py:74) Total Epi:   294 Steps:    2809 Episode Steps:    11 Return: -1.0000 FPS: 63.93\n",
      "20:38:31.615 [INFO] (irl_trainer.py:74) Total Epi:   295 Steps:    2821 Episode Steps:    12 Return: -1.0000 FPS: 71.82\n",
      "20:38:31.739 [INFO] (irl_trainer.py:74) Total Epi:   296 Steps:    2830 Episode Steps:     9 Return: -1.0000 FPS: 73.20\n",
      "20:38:31.924 [INFO] (irl_trainer.py:74) Total Epi:   297 Steps:    2843 Episode Steps:    13 Return: -1.0000 FPS: 70.75\n",
      "20:38:31.997 [INFO] (irl_trainer.py:74) Total Epi:   298 Steps:    2848 Episode Steps:     5 Return: -1.0000 FPS: 70.58\n",
      "20:38:32.159 [INFO] (irl_trainer.py:74) Total Epi:   299 Steps:    2860 Episode Steps:    12 Return: -1.0000 FPS: 74.51\n",
      "20:38:32.220 [INFO] (irl_trainer.py:74) Total Epi:   300 Steps:    2864 Episode Steps:     4 Return: -1.0000 FPS: 67.64\n",
      "20:38:32.436 [INFO] (irl_trainer.py:74) Total Epi:   301 Steps:    2879 Episode Steps:    15 Return: -1.0000 FPS: 69.76\n",
      "20:38:32.522 [INFO] (irl_trainer.py:74) Total Epi:   302 Steps:    2885 Episode Steps:     6 Return: -1.0000 FPS: 71.36\n",
      "20:38:32.590 [INFO] (irl_trainer.py:74) Total Epi:   303 Steps:    2890 Episode Steps:     5 Return: -1.0000 FPS: 74.86\n",
      "20:38:32.775 [INFO] (irl_trainer.py:74) Total Epi:   304 Steps:    2903 Episode Steps:    13 Return: -1.0000 FPS: 70.87\n",
      "20:38:32.976 [INFO] (irl_trainer.py:74) Total Epi:   305 Steps:    2917 Episode Steps:    14 Return: -1.0000 FPS: 70.14\n",
      "20:38:33.044 [INFO] (irl_trainer.py:74) Total Epi:   306 Steps:    2922 Episode Steps:     5 Return: -1.0000 FPS: 74.82\n",
      "20:38:33.219 [INFO] (irl_trainer.py:74) Total Epi:   307 Steps:    2934 Episode Steps:    12 Return: -1.0000 FPS: 69.26\n",
      "20:38:33.303 [INFO] (irl_trainer.py:74) Total Epi:   308 Steps:    2940 Episode Steps:     6 Return: -1.0000 FPS: 71.84\n",
      "20:38:33.418 [INFO] (irl_trainer.py:74) Total Epi:   309 Steps:    2948 Episode Steps:     8 Return: -1.0000 FPS: 70.43\n",
      "20:38:33.516 [INFO] (irl_trainer.py:74) Total Epi:   310 Steps:    2955 Episode Steps:     7 Return: -1.0000 FPS: 73.03\n",
      "20:38:33.715 [INFO] (irl_trainer.py:74) Total Epi:   311 Steps:    2969 Episode Steps:    14 Return: -1.0000 FPS: 70.81\n",
      "20:38:33.816 [INFO] (irl_trainer.py:74) Total Epi:   312 Steps:    2976 Episode Steps:     7 Return: -1.0000 FPS: 70.07\n",
      "20:38:33.927 [INFO] (irl_trainer.py:74) Total Epi:   313 Steps:    2984 Episode Steps:     8 Return: -1.0000 FPS: 73.12\n",
      "20:38:34.131 [INFO] (irl_trainer.py:74) Total Epi:   314 Steps:    2999 Episode Steps:    15 Return: -1.0000 FPS: 74.23\n"
     ]
    },
    {
     "data": {
      "image/png": "[encoded data removed]",
      "text/plain": [
       "<Figure size 432x288 with 1 Axes>"
      ]
     },
     "metadata": {
      "needs_background": "light"
     },
     "output_type": "display_data"
    },
    {
     "data": {
      "image/png": "[encoded data removed]",
      "text/plain": [
       "<Figure size 432x288 with 1 Axes>"
      ]
     },
     "metadata": {
      "needs_background": "light"
     },
     "output_type": "display_data"
    },
    {
     "data": {
      "image/png": "[encoded data removed]",
      "text/plain": [
       "<Figure size 432x288 with 1 Axes>"
      ]
     },
     "metadata": {
      "needs_background": "light"
     },
     "output_type": "display_data"
    },
    {
     "data": {
      "image/png": "[encoded data removed]",
      "text/plain": [
       "<Figure size 432x288 with 1 Axes>"
      ]
     },
     "metadata": {
      "needs_background": "light"
     },
     "output_type": "display_data"
    },
    {
     "data": {
      "image/png": "[encoded data removed]",
      "text/plain": [
       "<Figure size 432x288 with 1 Axes>"
      ]
     },
     "metadata": {
      "needs_background": "light"
     },
     "output_type": "display_data"
    },
    {
     "data": {
      "image/png": "[encoded data removed]",
      "text/plain": [
       "<Figure size 432x288 with 1 Axes>"
      ]
     },
     "metadata": {
      "needs_background": "light"
     },
     "output_type": "display_data"
    },
    {
     "data": {
      "image/png": "[encoded data removed]",
      "text/plain": [
       "<Figure size 432x288 with 1 Axes>"
      ]
     },
     "metadata": {
      "needs_background": "light"
     },
     "output_type": "display_data"
    },
    {
     "data": {
      "image/png": "[encoded data removed]",
      "text/plain": [
       "<Figure size 432x288 with 1 Axes>"
      ]
     },
     "metadata": {
      "needs_background": "light"
     },
     "output_type": "display_data"
    },
    {
     "data": {
      "image/png": "[encoded data removed]",
      "text/plain": [
       "<Figure size 432x288 with 1 Axes>"
      ]
     },
     "metadata": {
      "needs_background": "light"
     },
     "output_type": "display_data"
    },
    {
     "data": {
      "image/png": "[encoded data removed]",
      "text/plain": [
       "<Figure size 432x288 with 1 Axes>"
      ]
     },
     "metadata": {
      "needs_background": "light"
     },
     "output_type": "display_data"
    },
    {
     "data": {
      "image/png": "[encoded data removed]",
      "text/plain": [
       "<Figure size 432x288 with 1 Axes>"
      ]
     },
     "metadata": {
      "needs_background": "light"
     },
     "output_type": "display_data"
    },
    {
     "data": {
      "image/png": "[encoded data removed]",
      "text/plain": [
       "<Figure size 432x288 with 1 Axes>"
      ]
     },
     "metadata": {
      "needs_background": "light"
     },
     "output_type": "display_data"
    },
    {
     "data": {
      "image/png": "[encoded data removed]",
      "text/plain": [
       "<Figure size 432x288 with 1 Axes>"
      ]
     },
     "metadata": {
      "needs_background": "light"
     },
     "output_type": "display_data"
    },
    {
     "data": {
      "image/png": "[encoded data removed]",
      "text/plain": [
       "<Figure size 432x288 with 1 Axes>"
      ]
     },
     "metadata": {
      "needs_background": "light"
     },
     "output_type": "display_data"
    },
    {
     "data": {
      "image/png": "[encoded data removed]",
      "text/plain": [
       "<Figure size 432x288 with 1 Axes>"
      ]
     },
     "metadata": {
      "needs_background": "light"
     },
     "output_type": "display_data"
    },
    {
     "data": {
      "image/png": "[encoded data removed]",
      "text/plain": [
       "<Figure size 432x288 with 1 Axes>"
      ]
     },
     "metadata": {
      "needs_background": "light"
     },
     "output_type": "display_data"
    },
    {
     "data": {
      "image/png": "[encoded data removed]",
      "text/plain": [
       "<Figure size 432x288 with 1 Axes>"
      ]
     },
     "metadata": {
      "needs_background": "light"
     },
     "output_type": "display_data"
    },
    {
     "data": {
      "image/png": "[encoded data removed]",
      "text/plain": [
       "<Figure size 432x288 with 1 Axes>"
      ]
     },
     "metadata": {
      "needs_background": "light"
     },
     "output_type": "display_data"
    },
    {
     "data": {
      "image/png": "[encoded data removed]",
      "text/plain": [
       "<Figure size 432x288 with 1 Axes>"
      ]
     },
     "metadata": {
      "needs_background": "light"
     },
     "output_type": "display_data"
    },
    {
     "data": {
      "image/png": "[encoded data removed]",
      "text/plain": [
       "<Figure size 432x288 with 1 Axes>"
      ]
     },
     "metadata": {
      "needs_background": "light"
     },
     "output_type": "display_data"
    },
    {
     "data": {
      "image/png": "[encoded data removed]",
      "text/plain": [
       "<Figure size 432x288 with 1 Axes>"
      ]
     },
     "metadata": {
      "needs_background": "light"
     },
     "output_type": "display_data"
    },
    {
     "data": {
      "image/png": "[encoded data removed]",
      "text/plain": [
       "<Figure size 432x288 with 1 Axes>"
      ]
     },
     "metadata": {
      "needs_background": "light"
     },
     "output_type": "display_data"
    },
    {
     "data": {
      "image/png": "[encoded data removed]",
      "text/plain": [
       "<Figure size 432x288 with 1 Axes>"
      ]
     },
     "metadata": {
      "needs_background": "light"
     },
     "output_type": "display_data"
    },
    {
     "data": {
      "image/png": "[encoded data removed]",
      "text/plain": [
       "<Figure size 432x288 with 1 Axes>"
      ]
     },
     "metadata": {
      "needs_background": "light"
     },
     "output_type": "display_data"
    },
    {
     "data": {
      "image/png": "[encoded data removed]",
      "text/plain": [
       "<Figure size 432x288 with 1 Axes>"
      ]
     },
     "metadata": {
      "needs_background": "light"
     },
     "output_type": "display_data"
    },
    {
     "data": {
      "image/png": "[encoded data removed]",
      "text/plain": [
       "<Figure size 432x288 with 1 Axes>"
      ]
     },
     "metadata": {
      "needs_background": "light"
     },
     "output_type": "display_data"
    },
    {
     "data": {
      "image/png": "[encoded data removed]",
      "text/plain": [
       "<Figure size 432x288 with 1 Axes>"
      ]
     },
     "metadata": {
      "needs_background": "light"
     },
     "output_type": "display_data"
    },
    {
     "data": {
      "image/png": "[encoded data removed]",
      "text/plain": [
       "<Figure size 432x288 with 1 Axes>"
      ]
     },
     "metadata": {
      "needs_background": "light"
     },
     "output_type": "display_data"
    },
    {
     "data": {
      "image/png": "[encoded data removed]",
      "text/plain": [
       "<Figure size 432x288 with 1 Axes>"
      ]
     },
     "metadata": {
      "needs_background": "light"
     },
     "output_type": "display_data"
    },
    {
     "data": {
      "image/png": "[encoded data removed]",
      "text/plain": [
       "<Figure size 432x288 with 1 Axes>"
      ]
     },
     "metadata": {
      "needs_background": "light"
     },
     "output_type": "display_data"
    },
    {
     "data": {
      "image/png": "[encoded data removed]",
      "text/plain": [
       "<Figure size 432x288 with 1 Axes>"
      ]
     },
     "metadata": {
      "needs_background": "light"
     },
     "output_type": "display_data"
    },
    {
     "data": {
      "image/png": "[encoded data removed]",
      "text/plain": [
       "<Figure size 432x288 with 1 Axes>"
      ]
     },
     "metadata": {
      "needs_background": "light"
     },
     "output_type": "display_data"
    },
    {
     "data": {
      "image/png": "[encoded data removed]",
      "text/plain": [
       "<Figure size 432x288 with 1 Axes>"
      ]
     },
     "metadata": {
      "needs_background": "light"
     },
     "output_type": "display_data"
    },
    {
     "data": {
      "image/png": "[encoded data removed]",
      "text/plain": [
       "<Figure size 432x288 with 1 Axes>"
      ]
     },
     "metadata": {
      "needs_background": "light"
     },
     "output_type": "display_data"
    },
    {
     "data": {
      "image/png": "[encoded data removed]",
      "text/plain": [
       "<Figure size 432x288 with 1 Axes>"
      ]
     },
     "metadata": {
      "needs_background": "light"
     },
     "output_type": "display_data"
    },
    {
     "data": {
      "image/png": "[encoded data removed]",
      "text/plain": [
       "<Figure size 432x288 with 1 Axes>"
      ]
     },
     "metadata": {
      "needs_background": "light"
     },
     "output_type": "display_data"
    },
    {
     "data": {
      "image/png": "[encoded data removed]",
      "text/plain": [
       "<Figure size 432x288 with 1 Axes>"
      ]
     },
     "metadata": {
      "needs_background": "light"
     },
     "output_type": "display_data"
    },
    {
     "data": {
      "image/png": "[encoded data removed]",
      "text/plain": [
       "<Figure size 432x288 with 1 Axes>"
      ]
     },
     "metadata": {
      "needs_background": "light"
     },
     "output_type": "display_data"
    },
    {
     "data": {
      "image/png": "[encoded data removed]",
      "text/plain": [
       "<Figure size 432x288 with 1 Axes>"
      ]
     },
     "metadata": {
      "needs_background": "light"
     },
     "output_type": "display_data"
    },
    {
     "data": {
      "image/png": "[encoded data removed]",
      "text/plain": [
       "<Figure size 432x288 with 1 Axes>"
      ]
     },
     "metadata": {
      "needs_background": "light"
     },
     "output_type": "display_data"
    },
    {
     "data": {
      "image/png": "[encoded data removed]",
      "text/plain": [
       "<Figure size 432x288 with 1 Axes>"
      ]
     },
     "metadata": {
      "needs_background": "light"
     },
     "output_type": "display_data"
    },
    {
     "data": {
      "image/png": "[encoded data removed]",
      "text/plain": [
       "<Figure size 432x288 with 1 Axes>"
      ]
     },
     "metadata": {
      "needs_background": "light"
     },
     "output_type": "display_data"
    },
    {
     "data": {
      "image/png": "[encoded data removed]",
      "text/plain": [
       "<Figure size 432x288 with 1 Axes>"
      ]
     },
     "metadata": {
      "needs_background": "light"
     },
     "output_type": "display_data"
    },
    {
     "data": {
      "image/png": "[encoded data removed]",
      "text/plain": [
       "<Figure size 432x288 with 1 Axes>"
      ]
     },
     "metadata": {
      "needs_background": "light"
     },
     "output_type": "display_data"
    },
    {
     "data": {
      "image/png": "[encoded data removed]",
      "text/plain": [
       "<Figure size 432x288 with 1 Axes>"
      ]
     },
     "metadata": {
      "needs_background": "light"
     },
     "output_type": "display_data"
    },
    {
     "data": {
      "image/png": "[encoded data removed]",
      "text/plain": [
       "<Figure size 432x288 with 1 Axes>"
      ]
     },
     "metadata": {
      "needs_background": "light"
     },
     "output_type": "display_data"
    },
    {
     "data": {
      "image/png": "[encoded data removed]",
      "text/plain": [
       "<Figure size 432x288 with 1 Axes>"
      ]
     },
     "metadata": {
      "needs_background": "light"
     },
     "output_type": "display_data"
    },
    {
     "data": {
      "image/png": "[encoded data removed]",
      "text/plain": [
       "<Figure size 432x288 with 1 Axes>"
      ]
     },
     "metadata": {
      "needs_background": "light"
     },
     "output_type": "display_data"
    },
    {
     "data": {
      "image/png": "[encoded data removed]",
      "text/plain": [
       "<Figure size 432x288 with 1 Axes>"
      ]
     },
     "metadata": {
      "needs_background": "light"
     },
     "output_type": "display_data"
    },
    {
     "name": "stderr",
     "output_type": "stream",
     "text": [
      "20:38:38.309 [INFO] (irl_trainer.py:119) Evaluation Total Steps:    3000 Average Reward -1.0000 / Average Step Count  9.8 over  5 episodes\n",
      "20:38:38.316 [INFO] (irl_trainer.py:74) Total Epi:   315 Steps:    3001 Episode Steps:     2 Return: -1.0000 FPS:  0.48\n",
      "20:38:38.389 [INFO] (irl_trainer.py:74) Total Epi:   316 Steps:    3006 Episode Steps:     5 Return: -1.0000 FPS: 69.59\n",
      "20:38:38.496 [INFO] (irl_trainer.py:74) Total Epi:   317 Steps:    3013 Episode Steps:     7 Return: -1.0000 FPS: 66.59\n",
      "20:38:38.702 [INFO] (irl_trainer.py:74) Total Epi:   318 Steps:    3027 Episode Steps:    14 Return: -1.0000 FPS: 68.48\n",
      "20:38:38.901 [INFO] (irl_trainer.py:74) Total Epi:   319 Steps:    3041 Episode Steps:    14 Return: -1.0000 FPS: 70.92\n",
      "20:38:39.099 [INFO] (irl_trainer.py:74) Total Epi:   320 Steps:    3055 Episode Steps:    14 Return:  1.0000 FPS: 71.12\n",
      "20:38:39.197 [INFO] (irl_trainer.py:74) Total Epi:   321 Steps:    3061 Episode Steps:     6 Return: -1.0000 FPS: 62.50\n",
      "20:38:39.255 [INFO] (irl_trainer.py:74) Total Epi:   322 Steps:    3065 Episode Steps:     4 Return: -1.0000 FPS: 71.35\n",
      "20:38:39.352 [INFO] (irl_trainer.py:74) Total Epi:   323 Steps:    3072 Episode Steps:     7 Return: -1.0000 FPS: 73.11\n",
      "20:38:39.465 [INFO] (irl_trainer.py:74) Total Epi:   324 Steps:    3080 Episode Steps:     8 Return: -1.0000 FPS: 71.93\n",
      "20:38:39.857 [INFO] (irl_trainer.py:74) Total Epi:   325 Steps:    3097 Episode Steps:    17 Return:  1.0000 FPS: 43.59\n",
      "20:38:40.039 [INFO] (irl_trainer.py:74) Total Epi:   326 Steps:    3107 Episode Steps:    10 Return: -1.0000 FPS: 55.47\n",
      "20:38:40.116 [INFO] (irl_trainer.py:74) Total Epi:   327 Steps:    3111 Episode Steps:     4 Return: -1.0000 FPS: 53.79\n",
      "20:38:40.180 [INFO] (irl_trainer.py:74) Total Epi:   328 Steps:    3115 Episode Steps:     4 Return: -1.0000 FPS: 64.45\n",
      "20:38:40.362 [INFO] (irl_trainer.py:74) Total Epi:   329 Steps:    3127 Episode Steps:    12 Return:  1.0000 FPS: 66.15\n",
      "20:38:40.534 [INFO] (irl_trainer.py:74) Total Epi:   330 Steps:    3139 Episode Steps:    12 Return: -1.0000 FPS: 70.43\n",
      "20:38:40.677 [INFO] (irl_trainer.py:74) Total Epi:   331 Steps:    3146 Episode Steps:     7 Return: -1.0000 FPS: 49.97\n",
      "20:38:40.746 [INFO] (irl_trainer.py:74) Total Epi:   332 Steps:    3150 Episode Steps:     4 Return: -1.0000 FPS: 62.33\n",
      "20:38:40.920 [INFO] (irl_trainer.py:74) Total Epi:   333 Steps:    3161 Episode Steps:    11 Return: -1.0000 FPS: 63.60\n",
      "20:38:41.015 [INFO] (irl_trainer.py:74) Total Epi:   334 Steps:    3167 Episode Steps:     6 Return: -1.0000 FPS: 64.41\n",
      "20:38:41.147 [INFO] (irl_trainer.py:74) Total Epi:   335 Steps:    3174 Episode Steps:     7 Return: -1.0000 FPS: 53.61\n",
      "20:38:41.296 [INFO] (irl_trainer.py:74) Total Epi:   336 Steps:    3182 Episode Steps:     8 Return: -1.0000 FPS: 54.05\n",
      "20:38:41.533 [INFO] (irl_trainer.py:74) Total Epi:   337 Steps:    3196 Episode Steps:    14 Return: -1.0000 FPS: 59.54\n",
      "20:38:41.606 [INFO] (irl_trainer.py:74) Total Epi:   338 Steps:    3201 Episode Steps:     5 Return: -1.0000 FPS: 69.80\n",
      "20:38:41.853 [INFO] (irl_trainer.py:74) Total Epi:   339 Steps:    3217 Episode Steps:    16 Return: -1.0000 FPS: 65.05\n",
      "20:38:41.972 [INFO] (irl_trainer.py:74) Total Epi:   340 Steps:    3223 Episode Steps:     6 Return: -1.0000 FPS: 51.08\n",
      "20:38:42.087 [INFO] (irl_trainer.py:74) Total Epi:   341 Steps:    3230 Episode Steps:     7 Return: -1.0000 FPS: 62.09\n",
      "20:38:42.183 [INFO] (irl_trainer.py:74) Total Epi:   342 Steps:    3236 Episode Steps:     6 Return: -1.0000 FPS: 63.55\n",
      "20:38:42.288 [INFO] (irl_trainer.py:74) Total Epi:   343 Steps:    3243 Episode Steps:     7 Return: -1.0000 FPS: 67.49\n",
      "20:38:42.421 [INFO] (irl_trainer.py:74) Total Epi:   344 Steps:    3251 Episode Steps:     8 Return: -1.0000 FPS: 60.77\n",
      "20:38:42.507 [INFO] (irl_trainer.py:74) Total Epi:   345 Steps:    3256 Episode Steps:     5 Return: -1.0000 FPS: 59.46\n",
      "20:38:42.745 [INFO] (irl_trainer.py:74) Total Epi:   346 Steps:    3271 Episode Steps:    15 Return: -1.0000 FPS: 63.56\n",
      "20:38:42.949 [INFO] (irl_trainer.py:74) Total Epi:   347 Steps:    3285 Episode Steps:    14 Return: -1.0000 FPS: 69.14\n",
      "20:38:43.059 [INFO] (irl_trainer.py:74) Total Epi:   348 Steps:    3292 Episode Steps:     7 Return: -1.0000 FPS: 65.31\n",
      "20:38:43.315 [INFO] (irl_trainer.py:74) Total Epi:   349 Steps:    3304 Episode Steps:    12 Return:  1.0000 FPS: 47.09\n",
      "20:38:43.377 [INFO] (irl_trainer.py:74) Total Epi:   350 Steps:    3307 Episode Steps:     3 Return: -1.0000 FPS: 50.00\n",
      "20:38:43.453 [INFO] (irl_trainer.py:74) Total Epi:   351 Steps:    3312 Episode Steps:     5 Return: -1.0000 FPS: 66.63\n",
      "20:38:43.559 [INFO] (irl_trainer.py:74) Total Epi:   352 Steps:    3317 Episode Steps:     5 Return: -1.0000 FPS: 47.96\n",
      "20:38:43.771 [INFO] (irl_trainer.py:74) Total Epi:   353 Steps:    3330 Episode Steps:    13 Return: -1.0000 FPS: 61.69\n",
      "20:38:43.944 [INFO] (irl_trainer.py:74) Total Epi:   354 Steps:    3342 Episode Steps:    12 Return: -1.0000 FPS: 70.18\n",
      "20:38:44.059 [INFO] (irl_trainer.py:74) Total Epi:   355 Steps:    3350 Episode Steps:     8 Return: -1.0000 FPS: 69.92\n",
      "20:38:44.264 [INFO] (irl_trainer.py:74) Total Epi:   356 Steps:    3362 Episode Steps:    12 Return: -1.0000 FPS: 59.12\n",
      "20:38:44.495 [INFO] (irl_trainer.py:74) Total Epi:   357 Steps:    3375 Episode Steps:    13 Return: -1.0000 FPS: 57.21\n",
      "20:38:44.695 [INFO] (irl_trainer.py:74) Total Epi:   358 Steps:    3388 Episode Steps:    13 Return: -1.0000 FPS: 65.55\n",
      "20:38:44.825 [INFO] (irl_trainer.py:74) Total Epi:   359 Steps:    3397 Episode Steps:     9 Return: -1.0000 FPS: 69.77\n",
      "20:38:45.054 [INFO] (irl_trainer.py:74) Total Epi:   360 Steps:    3412 Episode Steps:    15 Return: -1.0000 FPS: 66.06\n",
      "20:38:45.160 [INFO] (irl_trainer.py:74) Total Epi:   361 Steps:    3419 Episode Steps:     7 Return: -1.0000 FPS: 67.26\n",
      "20:38:45.338 [INFO] (irl_trainer.py:74) Total Epi:   362 Steps:    3431 Episode Steps:    12 Return: -1.0000 FPS: 67.64\n",
      "20:38:45.615 [INFO] (irl_trainer.py:74) Total Epi:   363 Steps:    3446 Episode Steps:    15 Return: -1.0000 FPS: 54.58\n",
      "20:38:45.696 [INFO] (irl_trainer.py:74) Total Epi:   364 Steps:    3450 Episode Steps:     4 Return: -1.0000 FPS: 50.77\n",
      "20:38:45.896 [INFO] (irl_trainer.py:74) Total Epi:   365 Steps:    3461 Episode Steps:    11 Return: -1.0000 FPS: 56.39\n",
      "20:38:46.143 [INFO] (irl_trainer.py:74) Total Epi:   366 Steps:    3475 Episode Steps:    14 Return:  1.0000 FPS: 56.96\n",
      "20:38:46.226 [INFO] (irl_trainer.py:74) Total Epi:   367 Steps:    3480 Episode Steps:     5 Return: -1.0000 FPS: 61.78\n",
      "20:38:46.493 [INFO] (irl_trainer.py:74) Total Epi:   368 Steps:    3498 Episode Steps:    18 Return: -1.0000 FPS: 67.81\n",
      "20:38:46.659 [INFO] (irl_trainer.py:74) Total Epi:   369 Steps:    3510 Episode Steps:    12 Return:  1.0000 FPS: 72.93\n",
      "20:38:46.763 [INFO] (irl_trainer.py:74) Total Epi:   370 Steps:    3517 Episode Steps:     7 Return: -1.0000 FPS: 68.22\n",
      "20:38:46.839 [INFO] (irl_trainer.py:74) Total Epi:   371 Steps:    3522 Episode Steps:     5 Return: -1.0000 FPS: 66.41\n",
      "20:38:47.033 [INFO] (irl_trainer.py:74) Total Epi:   372 Steps:    3534 Episode Steps:    12 Return:  1.0000 FPS: 62.38\n",
      "20:38:47.143 [INFO] (irl_trainer.py:74) Total Epi:   373 Steps:    3540 Episode Steps:     6 Return: -1.0000 FPS: 55.51\n",
      "20:38:47.238 [INFO] (irl_trainer.py:74) Total Epi:   374 Steps:    3546 Episode Steps:     6 Return: -1.0000 FPS: 65.35\n",
      "20:38:47.312 [INFO] (irl_trainer.py:74) Total Epi:   375 Steps:    3551 Episode Steps:     5 Return: -1.0000 FPS: 68.95\n",
      "20:38:47.570 [INFO] (irl_trainer.py:74) Total Epi:   376 Steps:    3570 Episode Steps:    19 Return:  1.0000 FPS: 73.93\n",
      "20:38:47.794 [INFO] (irl_trainer.py:74) Total Epi:   377 Steps:    3586 Episode Steps:    16 Return: -1.0000 FPS: 71.95\n",
      "20:38:47.913 [INFO] (irl_trainer.py:74) Total Epi:   378 Steps:    3594 Episode Steps:     8 Return: -1.0000 FPS: 67.83\n",
      "20:38:48.032 [INFO] (irl_trainer.py:74) Total Epi:   379 Steps:    3602 Episode Steps:     8 Return: -1.0000 FPS: 68.38\n",
      "20:38:48.248 [INFO] (irl_trainer.py:74) Total Epi:   380 Steps:    3617 Episode Steps:    15 Return: -1.0000 FPS: 69.71\n",
      "20:38:48.338 [INFO] (irl_trainer.py:74) Total Epi:   381 Steps:    3623 Episode Steps:     6 Return: -1.0000 FPS: 67.95\n",
      "20:38:48.550 [INFO] (irl_trainer.py:74) Total Epi:   382 Steps:    3637 Episode Steps:    14 Return: -1.0000 FPS: 66.56\n"
     ]
    },
    {
     "name": "stderr",
     "output_type": "stream",
     "text": [
      "20:38:48.670 [INFO] (irl_trainer.py:74) Total Epi:   383 Steps:    3645 Episode Steps:     8 Return: -1.0000 FPS: 67.47\n",
      "20:38:48.781 [INFO] (irl_trainer.py:74) Total Epi:   384 Steps:    3653 Episode Steps:     8 Return: -1.0000 FPS: 72.81\n",
      "20:38:48.870 [INFO] (irl_trainer.py:74) Total Epi:   385 Steps:    3659 Episode Steps:     6 Return: -1.0000 FPS: 68.64\n",
      "20:38:49.063 [INFO] (irl_trainer.py:74) Total Epi:   386 Steps:    3673 Episode Steps:    14 Return:  1.0000 FPS: 73.31\n",
      "20:38:49.271 [INFO] (irl_trainer.py:74) Total Epi:   387 Steps:    3688 Episode Steps:    15 Return:  1.0000 FPS: 72.32\n",
      "20:38:49.372 [INFO] (irl_trainer.py:74) Total Epi:   388 Steps:    3695 Episode Steps:     7 Return: -1.0000 FPS: 70.48\n",
      "20:38:49.443 [INFO] (irl_trainer.py:74) Total Epi:   389 Steps:    3700 Episode Steps:     5 Return: -1.0000 FPS: 72.53\n",
      "20:38:49.519 [INFO] (irl_trainer.py:74) Total Epi:   390 Steps:    3704 Episode Steps:     4 Return: -1.0000 FPS: 53.43\n",
      "20:38:49.623 [INFO] (irl_trainer.py:74) Total Epi:   391 Steps:    3709 Episode Steps:     5 Return: -1.0000 FPS: 49.25\n",
      "20:38:49.826 [INFO] (irl_trainer.py:74) Total Epi:   392 Steps:    3722 Episode Steps:    13 Return:  1.0000 FPS: 64.74\n",
      "20:38:49.899 [INFO] (irl_trainer.py:74) Total Epi:   393 Steps:    3727 Episode Steps:     5 Return: -1.0000 FPS: 70.07\n",
      "20:38:49.956 [INFO] (irl_trainer.py:74) Total Epi:   394 Steps:    3731 Episode Steps:     4 Return: -1.0000 FPS: 71.73\n",
      "20:38:50.033 [INFO] (irl_trainer.py:74) Total Epi:   395 Steps:    3736 Episode Steps:     5 Return: -1.0000 FPS: 66.32\n",
      "20:38:50.187 [INFO] (irl_trainer.py:74) Total Epi:   396 Steps:    3747 Episode Steps:    11 Return: -1.0000 FPS: 72.18\n",
      "20:38:50.329 [INFO] (irl_trainer.py:74) Total Epi:   397 Steps:    3757 Episode Steps:    10 Return: -1.0000 FPS: 71.53\n",
      "20:38:50.415 [INFO] (irl_trainer.py:74) Total Epi:   398 Steps:    3763 Episode Steps:     6 Return: -1.0000 FPS: 70.84\n",
      "20:38:50.609 [INFO] (irl_trainer.py:74) Total Epi:   399 Steps:    3777 Episode Steps:    14 Return: -1.0000 FPS: 72.71\n",
      "20:38:50.719 [INFO] (irl_trainer.py:74) Total Epi:   400 Steps:    3785 Episode Steps:     8 Return: -1.0000 FPS: 73.81\n",
      "20:38:50.913 [INFO] (irl_trainer.py:74) Total Epi:   401 Steps:    3799 Episode Steps:    14 Return:  1.0000 FPS: 72.78\n",
      "20:38:51.015 [INFO] (irl_trainer.py:74) Total Epi:   402 Steps:    3806 Episode Steps:     7 Return: -1.0000 FPS: 69.32\n",
      "20:38:51.225 [INFO] (irl_trainer.py:74) Total Epi:   403 Steps:    3821 Episode Steps:    15 Return:  1.0000 FPS: 72.09\n",
      "20:38:51.353 [INFO] (irl_trainer.py:74) Total Epi:   404 Steps:    3829 Episode Steps:     8 Return: -1.0000 FPS: 63.19\n",
      "20:38:51.464 [INFO] (irl_trainer.py:74) Total Epi:   405 Steps:    3834 Episode Steps:     5 Return: -1.0000 FPS: 46.13\n",
      "20:38:51.660 [INFO] (irl_trainer.py:74) Total Epi:   406 Steps:    3846 Episode Steps:    12 Return:  1.0000 FPS: 61.64\n",
      "20:38:51.962 [INFO] (irl_trainer.py:74) Total Epi:   407 Steps:    3861 Episode Steps:    15 Return:  1.0000 FPS: 49.91\n",
      "20:38:52.104 [INFO] (irl_trainer.py:74) Total Epi:   408 Steps:    3869 Episode Steps:     8 Return: -1.0000 FPS: 56.97\n",
      "20:38:52.385 [INFO] (irl_trainer.py:74) Total Epi:   409 Steps:    3887 Episode Steps:    18 Return:  1.0000 FPS: 64.53\n",
      "20:38:52.513 [INFO] (irl_trainer.py:74) Total Epi:   410 Steps:    3893 Episode Steps:     6 Return: -1.0000 FPS: 47.57\n",
      "20:38:52.763 [INFO] (irl_trainer.py:74) Total Epi:   411 Steps:    3907 Episode Steps:    14 Return:  1.0000 FPS: 56.62\n",
      "20:38:52.929 [INFO] (irl_trainer.py:74) Total Epi:   412 Steps:    3916 Episode Steps:     9 Return: -1.0000 FPS: 54.59\n",
      "20:38:52.993 [INFO] (irl_trainer.py:74) Total Epi:   413 Steps:    3920 Episode Steps:     4 Return: -1.0000 FPS: 63.74\n",
      "20:38:53.120 [INFO] (irl_trainer.py:74) Total Epi:   414 Steps:    3926 Episode Steps:     6 Return: -1.0000 FPS: 47.93\n",
      "20:38:53.245 [INFO] (irl_trainer.py:74) Total Epi:   415 Steps:    3932 Episode Steps:     6 Return: -1.0000 FPS: 48.94\n",
      "20:38:53.449 [INFO] (irl_trainer.py:74) Total Epi:   416 Steps:    3945 Episode Steps:    13 Return: -1.0000 FPS: 64.27\n",
      "20:38:53.708 [INFO] (irl_trainer.py:74) Total Epi:   417 Steps:    3957 Episode Steps:    12 Return:  1.0000 FPS: 46.98\n",
      "20:38:53.775 [INFO] (irl_trainer.py:74) Total Epi:   418 Steps:    3961 Episode Steps:     4 Return: -1.0000 FPS: 61.13\n",
      "20:38:53.982 [INFO] (irl_trainer.py:74) Total Epi:   419 Steps:    3971 Episode Steps:    10 Return:  1.0000 FPS: 48.75\n",
      "20:38:54.125 [INFO] (irl_trainer.py:74) Total Epi:   420 Steps:    3980 Episode Steps:     9 Return: -1.0000 FPS: 63.94\n",
      "20:38:54.258 [INFO] (irl_trainer.py:74) Total Epi:   421 Steps:    3987 Episode Steps:     7 Return: -1.0000 FPS: 53.56\n",
      "20:38:54.392 [INFO] (irl_trainer.py:74) Total Epi:   422 Steps:    3994 Episode Steps:     7 Return: -1.0000 FPS: 52.87\n"
     ]
    },
    {
     "data": {
      "image/png": "[encoded data removed]",
      "text/plain": [
       "<Figure size 432x288 with 1 Axes>"
      ]
     },
     "metadata": {
      "needs_background": "light"
     },
     "output_type": "display_data"
    },
    {
     "data": {
      "image/png": "[encoded data removed]",
      "text/plain": [
       "<Figure size 432x288 with 1 Axes>"
      ]
     },
     "metadata": {
      "needs_background": "light"
     },
     "output_type": "display_data"
    },
    {
     "data": {
      "image/png": "[encoded data removed]",
      "text/plain": [
       "<Figure size 432x288 with 1 Axes>"
      ]
     },
     "metadata": {
      "needs_background": "light"
     },
     "output_type": "display_data"
    },
    {
     "data": {
      "image/png": "[encoded data removed]",
      "text/plain": [
       "<Figure size 432x288 with 1 Axes>"
      ]
     },
     "metadata": {
      "needs_background": "light"
     },
     "output_type": "display_data"
    },
    {
     "data": {
      "image/png": "[encoded data removed]",
      "text/plain": [
       "<Figure size 432x288 with 1 Axes>"
      ]
     },
     "metadata": {
      "needs_background": "light"
     },
     "output_type": "display_data"
    },
    {
     "data": {
      "image/png": "[encoded data removed]",
      "text/plain": [
       "<Figure size 432x288 with 1 Axes>"
      ]
     },
     "metadata": {
      "needs_background": "light"
     },
     "output_type": "display_data"
    },
    {
     "data": {
      "image/png": "[encoded data removed]",
      "text/plain": [
       "<Figure size 432x288 with 1 Axes>"
      ]
     },
     "metadata": {
      "needs_background": "light"
     },
     "output_type": "display_data"
    },
    {
     "data": {
      "image/png": "[encoded data removed]",
      "text/plain": [
       "<Figure size 432x288 with 1 Axes>"
      ]
     },
     "metadata": {
      "needs_background": "light"
     },
     "output_type": "display_data"
    },
    {
     "data": {
      "image/png": "[encoded data removed]",
      "text/plain": [
       "<Figure size 432x288 with 1 Axes>"
      ]
     },
     "metadata": {
      "needs_background": "light"
     },
     "output_type": "display_data"
    },
    {
     "data": {
      "image/png": "[encoded data removed]",
      "text/plain": [
       "<Figure size 432x288 with 1 Axes>"
      ]
     },
     "metadata": {
      "needs_background": "light"
     },
     "output_type": "display_data"
    },
    {
     "data": {
      "image/png": "[encoded data removed]",
      "text/plain": [
       "<Figure size 432x288 with 1 Axes>"
      ]
     },
     "metadata": {
      "needs_background": "light"
     },
     "output_type": "display_data"
    },
    {
     "data": {
      "image/png": "[encoded data removed]",
      "text/plain": [
       "<Figure size 432x288 with 1 Axes>"
      ]
     },
     "metadata": {
      "needs_background": "light"
     },
     "output_type": "display_data"
    },
    {
     "data": {
      "image/png": "[encoded data removed]",
      "text/plain": [
       "<Figure size 432x288 with 1 Axes>"
      ]
     },
     "metadata": {
      "needs_background": "light"
     },
     "output_type": "display_data"
    },
    {
     "data": {
      "image/png": "[encoded data removed]",
      "text/plain": [
       "<Figure size 432x288 with 1 Axes>"
      ]
     },
     "metadata": {
      "needs_background": "light"
     },
     "output_type": "display_data"
    },
    {
     "data": {
      "image/png": "[encoded data removed]",
      "text/plain": [
       "<Figure size 432x288 with 1 Axes>"
      ]
     },
     "metadata": {
      "needs_background": "light"
     },
     "output_type": "display_data"
    },
    {
     "data": {
      "image/png": "[encoded data removed]",
      "text/plain": [
       "<Figure size 432x288 with 1 Axes>"
      ]
     },
     "metadata": {
      "needs_background": "light"
     },
     "output_type": "display_data"
    },
    {
     "data": {
      "image/png": "[encoded data removed]",
      "text/plain": [
       "<Figure size 432x288 with 1 Axes>"
      ]
     },
     "metadata": {
      "needs_background": "light"
     },
     "output_type": "display_data"
    },
    {
     "data": {
      "image/png": "[encoded data removed]",
      "text/plain": [
       "<Figure size 432x288 with 1 Axes>"
      ]
     },
     "metadata": {
      "needs_background": "light"
     },
     "output_type": "display_data"
    },
    {
     "data": {
      "image/png": "[encoded data removed]",
      "text/plain": [
       "<Figure size 432x288 with 1 Axes>"
      ]
     },
     "metadata": {
      "needs_background": "light"
     },
     "output_type": "display_data"
    },
    {
     "data": {
      "image/png": "[encoded data removed]",
      "text/plain": [
       "<Figure size 432x288 with 1 Axes>"
      ]
     },
     "metadata": {
      "needs_background": "light"
     },
     "output_type": "display_data"
    },
    {
     "data": {
      "image/png": "[encoded data removed]",
      "text/plain": [
       "<Figure size 432x288 with 1 Axes>"
      ]
     },
     "metadata": {
      "needs_background": "light"
     },
     "output_type": "display_data"
    },
    {
     "data": {
      "image/png": "[encoded data removed]",
      "text/plain": [
       "<Figure size 432x288 with 1 Axes>"
      ]
     },
     "metadata": {
      "needs_background": "light"
     },
     "output_type": "display_data"
    },
    {
     "data": {
      "image/png": "[encoded data removed]",
      "text/plain": [
       "<Figure size 432x288 with 1 Axes>"
      ]
     },
     "metadata": {
      "needs_background": "light"
     },
     "output_type": "display_data"
    },
    {
     "data": {
      "image/png": "[encoded data removed]",
      "text/plain": [
       "<Figure size 432x288 with 1 Axes>"
      ]
     },
     "metadata": {
      "needs_background": "light"
     },
     "output_type": "display_data"
    },
    {
     "data": {
      "image/png": "[encoded data removed]",
      "text/plain": [
       "<Figure size 432x288 with 1 Axes>"
      ]
     },
     "metadata": {
      "needs_background": "light"
     },
     "output_type": "display_data"
    },
    {
     "data": {
      "image/png": "[encoded data removed]",
      "text/plain": [
       "<Figure size 432x288 with 1 Axes>"
      ]
     },
     "metadata": {
      "needs_background": "light"
     },
     "output_type": "display_data"
    },
    {
     "data": {
      "image/png": "[encoded data removed]",
      "text/plain": [
       "<Figure size 432x288 with 1 Axes>"
      ]
     },
     "metadata": {
      "needs_background": "light"
     },
     "output_type": "display_data"
    },
    {
     "data": {
      "image/png": "[encoded data removed]",
      "text/plain": [
       "<Figure size 432x288 with 1 Axes>"
      ]
     },
     "metadata": {
      "needs_background": "light"
     },
     "output_type": "display_data"
    },
    {
     "data": {
      "image/png": "[encoded data removed]",
      "text/plain": [
       "<Figure size 432x288 with 1 Axes>"
      ]
     },
     "metadata": {
      "needs_background": "light"
     },
     "output_type": "display_data"
    },
    {
     "data": {
      "image/png": "[encoded data removed]",
      "text/plain": [
       "<Figure size 432x288 with 1 Axes>"
      ]
     },
     "metadata": {
      "needs_background": "light"
     },
     "output_type": "display_data"
    },
    {
     "data": {
      "image/png": "[encoded data removed]",
      "text/plain": [
       "<Figure size 432x288 with 1 Axes>"
      ]
     },
     "metadata": {
      "needs_background": "light"
     },
     "output_type": "display_data"
    },
    {
     "data": {
      "image/png": "[encoded data removed]",
      "text/plain": [
       "<Figure size 432x288 with 1 Axes>"
      ]
     },
     "metadata": {
      "needs_background": "light"
     },
     "output_type": "display_data"
    },
    {
     "data": {
      "image/png": "[encoded data removed]",
      "text/plain": [
       "<Figure size 432x288 with 1 Axes>"
      ]
     },
     "metadata": {
      "needs_background": "light"
     },
     "output_type": "display_data"
    },
    {
     "data": {
      "image/png": "[encoded data removed]",
      "text/plain": [
       "<Figure size 432x288 with 1 Axes>"
      ]
     },
     "metadata": {
      "needs_background": "light"
     },
     "output_type": "display_data"
    },
    {
     "data": {
      "image/png": "[encoded data removed]",
      "text/plain": [
       "<Figure size 432x288 with 1 Axes>"
      ]
     },
     "metadata": {
      "needs_background": "light"
     },
     "output_type": "display_data"
    },
    {
     "data": {
      "image/png": "[encoded data removed]",
      "text/plain": [
       "<Figure size 432x288 with 1 Axes>"
      ]
     },
     "metadata": {
      "needs_background": "light"
     },
     "output_type": "display_data"
    },
    {
     "data": {
      "image/png": "[encoded data removed]",
      "text/plain": [
       "<Figure size 432x288 with 1 Axes>"
      ]
     },
     "metadata": {
      "needs_background": "light"
     },
     "output_type": "display_data"
    },
    {
     "data": {
      "image/png": "[encoded data removed]",
      "text/plain": [
       "<Figure size 432x288 with 1 Axes>"
      ]
     },
     "metadata": {
      "needs_background": "light"
     },
     "output_type": "display_data"
    },
    {
     "data": {
      "image/png": "[encoded data removed]",
      "text/plain": [
       "<Figure size 432x288 with 1 Axes>"
      ]
     },
     "metadata": {
      "needs_background": "light"
     },
     "output_type": "display_data"
    },
    {
     "data": {
      "image/png": "[encoded data removed]",
      "text/plain": [
       "<Figure size 432x288 with 1 Axes>"
      ]
     },
     "metadata": {
      "needs_background": "light"
     },
     "output_type": "display_data"
    },
    {
     "data": {
      "image/png": "[encoded data removed]",
      "text/plain": [
       "<Figure size 432x288 with 1 Axes>"
      ]
     },
     "metadata": {
      "needs_background": "light"
     },
     "output_type": "display_data"
    },
    {
     "data": {
      "image/png": "[encoded data removed]",
      "text/plain": [
       "<Figure size 432x288 with 1 Axes>"
      ]
     },
     "metadata": {
      "needs_background": "light"
     },
     "output_type": "display_data"
    },
    {
     "data": {
      "image/png": "[encoded data removed]",
      "text/plain": [
       "<Figure size 432x288 with 1 Axes>"
      ]
     },
     "metadata": {
      "needs_background": "light"
     },
     "output_type": "display_data"
    },
    {
     "data": {
      "image/png": "[encoded data removed]",
      "text/plain": [
       "<Figure size 432x288 with 1 Axes>"
      ]
     },
     "metadata": {
      "needs_background": "light"
     },
     "output_type": "display_data"
    },
    {
     "data": {
      "image/png": "[encoded data removed]",
      "text/plain": [
       "<Figure size 432x288 with 1 Axes>"
      ]
     },
     "metadata": {
      "needs_background": "light"
     },
     "output_type": "display_data"
    },
    {
     "data": {
      "image/png": "[encoded data removed]",
      "text/plain": [
       "<Figure size 432x288 with 1 Axes>"
      ]
     },
     "metadata": {
      "needs_background": "light"
     },
     "output_type": "display_data"
    },
    {
     "data": {
      "image/png": "[encoded data removed]",
      "text/plain": [
       "<Figure size 432x288 with 1 Axes>"
      ]
     },
     "metadata": {
      "needs_background": "light"
     },
     "output_type": "display_data"
    },
    {
     "data": {
      "image/png": "[encoded data removed]",
      "text/plain": [
       "<Figure size 432x288 with 1 Axes>"
      ]
     },
     "metadata": {
      "needs_background": "light"
     },
     "output_type": "display_data"
    },
    {
     "data": {
      "image/png": "[encoded data removed]",
      "text/plain": [
       "<Figure size 432x288 with 1 Axes>"
      ]
     },
     "metadata": {
      "needs_background": "light"
     },
     "output_type": "display_data"
    },
    {
     "data": {
      "image/png": "[encoded data removed]",
      "text/plain": [
       "<Figure size 432x288 with 1 Axes>"
      ]
     },
     "metadata": {
      "needs_background": "light"
     },
     "output_type": "display_data"
    },
    {
     "data": {
      "image/png": "[encoded data removed]",
      "text/plain": [
       "<Figure size 432x288 with 1 Axes>"
      ]
     },
     "metadata": {
      "needs_background": "light"
     },
     "output_type": "display_data"
    },
    {
     "name": "stderr",
     "output_type": "stream",
     "text": [
      "20:38:58.951 [INFO] (irl_trainer.py:119) Evaluation Total Steps:    4000 Average Reward -0.2000 / Average Step Count  10.2 over  5 episodes\n",
      "20:38:58.958 [INFO] (irl_trainer.py:74) Total Epi:   423 Steps:    4001 Episode Steps:     7 Return: -1.0000 FPS:  1.53\n",
      "20:38:59.095 [INFO] (irl_trainer.py:74) Total Epi:   424 Steps:    4010 Episode Steps:     9 Return: -1.0000 FPS: 66.48\n",
      "20:38:59.308 [INFO] (irl_trainer.py:74) Total Epi:   425 Steps:    4025 Episode Steps:    15 Return:  1.0000 FPS: 70.91\n",
      "20:38:59.536 [INFO] (irl_trainer.py:74) Total Epi:   426 Steps:    4040 Episode Steps:    15 Return:  1.0000 FPS: 66.41\n",
      "20:38:59.699 [INFO] (irl_trainer.py:74) Total Epi:   427 Steps:    4051 Episode Steps:    11 Return:  1.0000 FPS: 68.03\n",
      "20:38:59.845 [INFO] (irl_trainer.py:74) Total Epi:   428 Steps:    4061 Episode Steps:    10 Return: -1.0000 FPS: 69.19\n",
      "20:39:00.074 [INFO] (irl_trainer.py:74) Total Epi:   429 Steps:    4077 Episode Steps:    16 Return:  1.0000 FPS: 70.23\n",
      "20:39:00.277 [INFO] (irl_trainer.py:74) Total Epi:   430 Steps:    4091 Episode Steps:    14 Return:  1.0000 FPS: 69.75\n",
      "20:39:00.353 [INFO] (irl_trainer.py:74) Total Epi:   431 Steps:    4096 Episode Steps:     5 Return: -1.0000 FPS: 67.25\n",
      "20:39:00.413 [INFO] (irl_trainer.py:74) Total Epi:   432 Steps:    4100 Episode Steps:     4 Return: -1.0000 FPS: 67.74\n",
      "20:39:00.505 [INFO] (irl_trainer.py:74) Total Epi:   433 Steps:    4106 Episode Steps:     6 Return: -1.0000 FPS: 65.93\n",
      "20:39:00.595 [INFO] (irl_trainer.py:74) Total Epi:   434 Steps:    4112 Episode Steps:     6 Return: -1.0000 FPS: 67.99\n",
      "20:39:00.657 [INFO] (irl_trainer.py:74) Total Epi:   435 Steps:    4116 Episode Steps:     4 Return: -1.0000 FPS: 65.59\n",
      "20:39:00.768 [INFO] (irl_trainer.py:74) Total Epi:   436 Steps:    4124 Episode Steps:     8 Return: -1.0000 FPS: 72.98\n",
      "20:39:00.931 [INFO] (irl_trainer.py:74) Total Epi:   437 Steps:    4136 Episode Steps:    12 Return:  1.0000 FPS: 74.59\n",
      "20:39:01.115 [INFO] (irl_trainer.py:74) Total Epi:   438 Steps:    4149 Episode Steps:    13 Return:  1.0000 FPS: 71.20\n",
      "20:39:01.299 [INFO] (irl_trainer.py:74) Total Epi:   439 Steps:    4162 Episode Steps:    13 Return:  1.0000 FPS: 71.24\n",
      "20:39:01.376 [INFO] (irl_trainer.py:74) Total Epi:   440 Steps:    4167 Episode Steps:     5 Return: -1.0000 FPS: 65.90\n",
      "20:39:01.494 [INFO] (irl_trainer.py:74) Total Epi:   441 Steps:    4175 Episode Steps:     8 Return: -1.0000 FPS: 68.81\n",
      "20:39:01.661 [INFO] (irl_trainer.py:74) Total Epi:   442 Steps:    4187 Episode Steps:    12 Return: -1.0000 FPS: 72.33\n",
      "20:39:01.801 [INFO] (irl_trainer.py:74) Total Epi:   443 Steps:    4197 Episode Steps:    10 Return: -1.0000 FPS: 72.11\n",
      "20:39:01.846 [INFO] (irl_trainer.py:74) Total Epi:   444 Steps:    4200 Episode Steps:     3 Return: -1.0000 FPS: 68.09\n",
      "20:39:01.908 [INFO] (irl_trainer.py:74) Total Epi:   445 Steps:    4204 Episode Steps:     4 Return: -1.0000 FPS: 66.33\n",
      "20:39:02.004 [INFO] (irl_trainer.py:74) Total Epi:   446 Steps:    4210 Episode Steps:     6 Return: -1.0000 FPS: 63.62\n",
      "20:39:02.189 [INFO] (irl_trainer.py:74) Total Epi:   447 Steps:    4223 Episode Steps:    13 Return:  1.0000 FPS: 70.49\n",
      "20:39:02.405 [INFO] (irl_trainer.py:74) Total Epi:   448 Steps:    4237 Episode Steps:    14 Return: -1.0000 FPS: 65.43\n",
      "20:39:02.480 [INFO] (irl_trainer.py:74) Total Epi:   449 Steps:    4242 Episode Steps:     5 Return: -1.0000 FPS: 67.56\n",
      "20:39:02.556 [INFO] (irl_trainer.py:74) Total Epi:   450 Steps:    4247 Episode Steps:     5 Return: -1.0000 FPS: 66.90\n",
      "20:39:02.753 [INFO] (irl_trainer.py:74) Total Epi:   451 Steps:    4261 Episode Steps:    14 Return:  1.0000 FPS: 71.52\n",
      "20:39:02.834 [INFO] (irl_trainer.py:74) Total Epi:   452 Steps:    4266 Episode Steps:     5 Return: -1.0000 FPS: 63.46\n",
      "20:39:03.030 [INFO] (irl_trainer.py:74) Total Epi:   453 Steps:    4279 Episode Steps:    13 Return:  1.0000 FPS: 66.78\n",
      "20:39:03.156 [INFO] (irl_trainer.py:74) Total Epi:   454 Steps:    4288 Episode Steps:     9 Return: -1.0000 FPS: 72.16\n",
      "20:39:03.259 [INFO] (irl_trainer.py:74) Total Epi:   455 Steps:    4295 Episode Steps:     7 Return: -1.0000 FPS: 69.31\n",
      "20:39:03.388 [INFO] (irl_trainer.py:74) Total Epi:   456 Steps:    4304 Episode Steps:     9 Return: -1.0000 FPS: 70.63\n",
      "20:39:03.564 [INFO] (irl_trainer.py:74) Total Epi:   457 Steps:    4317 Episode Steps:    13 Return:  1.0000 FPS: 74.53\n",
      "20:39:03.637 [INFO] (irl_trainer.py:74) Total Epi:   458 Steps:    4322 Episode Steps:     5 Return: -1.0000 FPS: 69.22\n",
      "20:39:03.823 [INFO] (irl_trainer.py:74) Total Epi:   459 Steps:    4335 Episode Steps:    13 Return:  1.0000 FPS: 70.59\n",
      "20:39:03.918 [INFO] (irl_trainer.py:74) Total Epi:   460 Steps:    4341 Episode Steps:     6 Return: -1.0000 FPS: 63.97\n",
      "20:39:04.043 [INFO] (irl_trainer.py:74) Total Epi:   461 Steps:    4348 Episode Steps:     7 Return: -1.0000 FPS: 56.76\n",
      "20:39:04.244 [INFO] (irl_trainer.py:74) Total Epi:   462 Steps:    4360 Episode Steps:    12 Return:  1.0000 FPS: 60.14\n",
      "20:39:04.507 [INFO] (irl_trainer.py:74) Total Epi:   463 Steps:    4378 Episode Steps:    18 Return: -1.0000 FPS: 68.96\n",
      "20:39:04.589 [INFO] (irl_trainer.py:74) Total Epi:   464 Steps:    4383 Episode Steps:     5 Return: -1.0000 FPS: 62.03\n",
      "20:39:04.688 [INFO] (irl_trainer.py:74) Total Epi:   465 Steps:    4389 Episode Steps:     6 Return: -1.0000 FPS: 61.34\n",
      "20:39:04.889 [INFO] (irl_trainer.py:74) Total Epi:   466 Steps:    4403 Episode Steps:    14 Return:  1.0000 FPS: 70.21\n",
      "20:39:05.004 [INFO] (irl_trainer.py:74) Total Epi:   467 Steps:    4410 Episode Steps:     7 Return: -1.0000 FPS: 61.45\n",
      "20:39:05.095 [INFO] (irl_trainer.py:74) Total Epi:   468 Steps:    4415 Episode Steps:     5 Return: -1.0000 FPS: 56.22\n",
      "20:39:05.196 [INFO] (irl_trainer.py:74) Total Epi:   469 Steps:    4421 Episode Steps:     6 Return: -1.0000 FPS: 60.08\n",
      "20:39:05.281 [INFO] (irl_trainer.py:74) Total Epi:   470 Steps:    4426 Episode Steps:     5 Return: -1.0000 FPS: 59.92\n",
      "20:39:05.519 [INFO] (irl_trainer.py:74) Total Epi:   471 Steps:    4442 Episode Steps:    16 Return:  1.0000 FPS: 67.74\n",
      "20:39:05.708 [INFO] (irl_trainer.py:74) Total Epi:   472 Steps:    4455 Episode Steps:    13 Return:  1.0000 FPS: 68.99\n",
      "20:39:05.815 [INFO] (irl_trainer.py:74) Total Epi:   473 Steps:    4462 Episode Steps:     7 Return: -1.0000 FPS: 66.61\n",
      "20:39:05.898 [INFO] (irl_trainer.py:74) Total Epi:   474 Steps:    4467 Episode Steps:     5 Return: -1.0000 FPS: 60.88\n",
      "20:39:06.096 [INFO] (irl_trainer.py:74) Total Epi:   475 Steps:    4480 Episode Steps:    13 Return:  1.0000 FPS: 66.20\n",
      "20:39:06.380 [INFO] (irl_trainer.py:74) Total Epi:   476 Steps:    4500 Episode Steps:    20 Return: -1.0000 FPS: 70.66\n",
      "20:39:06.609 [INFO] (irl_trainer.py:74) Total Epi:   477 Steps:    4516 Episode Steps:    16 Return:  1.0000 FPS: 70.59\n",
      "20:39:06.692 [INFO] (irl_trainer.py:74) Total Epi:   478 Steps:    4521 Episode Steps:     5 Return: -1.0000 FPS: 61.23\n",
      "20:39:06.919 [INFO] (irl_trainer.py:74) Total Epi:   479 Steps:    4537 Episode Steps:    16 Return:  1.0000 FPS: 70.83\n",
      "20:39:07.005 [INFO] (irl_trainer.py:74) Total Epi:   480 Steps:    4542 Episode Steps:     5 Return: -1.0000 FPS: 59.29\n",
      "20:39:07.167 [INFO] (irl_trainer.py:74) Total Epi:   481 Steps:    4553 Episode Steps:    11 Return:  1.0000 FPS: 68.40\n",
      "20:39:07.396 [INFO] (irl_trainer.py:74) Total Epi:   482 Steps:    4569 Episode Steps:    16 Return:  1.0000 FPS: 70.41\n",
      "20:39:07.461 [INFO] (irl_trainer.py:74) Total Epi:   483 Steps:    4573 Episode Steps:     4 Return: -1.0000 FPS: 62.67\n",
      "20:39:07.529 [INFO] (irl_trainer.py:74) Total Epi:   484 Steps:    4577 Episode Steps:     4 Return: -1.0000 FPS: 59.63\n",
      "20:39:07.668 [INFO] (irl_trainer.py:74) Total Epi:   485 Steps:    4586 Episode Steps:     9 Return: -1.0000 FPS: 65.48\n",
      "20:39:07.874 [INFO] (irl_trainer.py:74) Total Epi:   486 Steps:    4600 Episode Steps:    14 Return:  1.0000 FPS: 68.62\n",
      "20:39:08.037 [INFO] (irl_trainer.py:74) Total Epi:   487 Steps:    4611 Episode Steps:    11 Return:  1.0000 FPS: 67.98\n",
      "20:39:08.310 [INFO] (irl_trainer.py:74) Total Epi:   488 Steps:    4630 Episode Steps:    19 Return:  1.0000 FPS: 70.02\n",
      "20:39:08.502 [INFO] (irl_trainer.py:74) Total Epi:   489 Steps:    4643 Episode Steps:    13 Return:  1.0000 FPS: 68.08\n",
      "20:39:08.916 [INFO] (irl_trainer.py:74) Total Epi:   490 Steps:    4673 Episode Steps:    30 Return: -1.0000 FPS: 72.72\n"
     ]
    },
    {
     "name": "stderr",
     "output_type": "stream",
     "text": [
      "20:39:09.001 [INFO] (irl_trainer.py:74) Total Epi:   491 Steps:    4678 Episode Steps:     5 Return: -1.0000 FPS: 59.62\n",
      "20:39:09.124 [INFO] (irl_trainer.py:74) Total Epi:   492 Steps:    4686 Episode Steps:     8 Return: -1.0000 FPS: 66.24\n",
      "20:39:09.315 [INFO] (irl_trainer.py:74) Total Epi:   493 Steps:    4699 Episode Steps:    13 Return:  1.0000 FPS: 68.53\n",
      "20:39:09.395 [INFO] (irl_trainer.py:74) Total Epi:   494 Steps:    4704 Episode Steps:     5 Return: -1.0000 FPS: 63.49\n",
      "20:39:09.550 [INFO] (irl_trainer.py:74) Total Epi:   495 Steps:    4714 Episode Steps:    10 Return: -1.0000 FPS: 64.73\n",
      "20:39:09.639 [INFO] (irl_trainer.py:74) Total Epi:   496 Steps:    4719 Episode Steps:     5 Return: -1.0000 FPS: 57.49\n",
      "20:39:09.775 [INFO] (irl_trainer.py:74) Total Epi:   497 Steps:    4728 Episode Steps:     9 Return: -1.0000 FPS: 66.81\n",
      "20:39:09.924 [INFO] (irl_trainer.py:74) Total Epi:   498 Steps:    4738 Episode Steps:    10 Return:  1.0000 FPS: 67.94\n",
      "20:39:10.007 [INFO] (irl_trainer.py:74) Total Epi:   499 Steps:    4743 Episode Steps:     5 Return: -1.0000 FPS: 61.22\n",
      "20:39:10.127 [INFO] (irl_trainer.py:74) Total Epi:   500 Steps:    4751 Episode Steps:     8 Return: -1.0000 FPS: 67.71\n",
      "20:39:10.240 [INFO] (irl_trainer.py:74) Total Epi:   501 Steps:    4759 Episode Steps:     8 Return: -1.0000 FPS: 71.92\n",
      "20:39:10.492 [INFO] (irl_trainer.py:74) Total Epi:   502 Steps:    4777 Episode Steps:    18 Return:  1.0000 FPS: 72.01\n",
      "20:39:10.618 [INFO] (irl_trainer.py:74) Total Epi:   503 Steps:    4786 Episode Steps:     9 Return:  1.0000 FPS: 71.94\n",
      "20:39:10.795 [INFO] (irl_trainer.py:74) Total Epi:   504 Steps:    4798 Episode Steps:    12 Return:  1.0000 FPS: 68.48\n",
      "20:39:10.858 [INFO] (irl_trainer.py:74) Total Epi:   505 Steps:    4802 Episode Steps:     4 Return: -1.0000 FPS: 64.23\n",
      "20:39:11.029 [INFO] (irl_trainer.py:74) Total Epi:   506 Steps:    4814 Episode Steps:    12 Return:  1.0000 FPS: 71.10\n",
      "20:39:11.309 [INFO] (irl_trainer.py:74) Total Epi:   507 Steps:    4835 Episode Steps:    21 Return:  1.0000 FPS: 75.20\n",
      "20:39:11.452 [INFO] (irl_trainer.py:74) Total Epi:   508 Steps:    4845 Episode Steps:    10 Return: -1.0000 FPS: 71.04\n",
      "20:39:11.623 [INFO] (irl_trainer.py:74) Total Epi:   509 Steps:    4857 Episode Steps:    12 Return:  1.0000 FPS: 70.39\n",
      "20:39:11.777 [INFO] (irl_trainer.py:74) Total Epi:   510 Steps:    4868 Episode Steps:    11 Return: -1.0000 FPS: 72.31\n",
      "20:39:11.930 [INFO] (irl_trainer.py:74) Total Epi:   511 Steps:    4879 Episode Steps:    11 Return:  1.0000 FPS: 72.45\n",
      "20:39:12.098 [INFO] (irl_trainer.py:74) Total Epi:   512 Steps:    4890 Episode Steps:    11 Return:  1.0000 FPS: 66.11\n",
      "20:39:12.158 [INFO] (irl_trainer.py:74) Total Epi:   513 Steps:    4894 Episode Steps:     4 Return: -1.0000 FPS: 67.40\n",
      "20:39:12.354 [INFO] (irl_trainer.py:74) Total Epi:   514 Steps:    4908 Episode Steps:    14 Return:  1.0000 FPS: 71.85\n",
      "20:39:12.432 [INFO] (irl_trainer.py:74) Total Epi:   515 Steps:    4913 Episode Steps:     5 Return: -1.0000 FPS: 65.86\n",
      "20:39:12.722 [INFO] (irl_trainer.py:74) Total Epi:   516 Steps:    4933 Episode Steps:    20 Return:  1.0000 FPS: 69.24\n",
      "20:39:12.784 [INFO] (irl_trainer.py:74) Total Epi:   517 Steps:    4937 Episode Steps:     4 Return: -1.0000 FPS: 65.67\n",
      "20:39:13.085 [INFO] (irl_trainer.py:74) Total Epi:   518 Steps:    4958 Episode Steps:    21 Return: -1.0000 FPS: 70.02\n",
      "20:39:13.232 [INFO] (irl_trainer.py:74) Total Epi:   519 Steps:    4967 Episode Steps:     9 Return: -1.0000 FPS: 61.87\n",
      "20:39:13.425 [INFO] (irl_trainer.py:74) Total Epi:   520 Steps:    4980 Episode Steps:    13 Return:  1.0000 FPS: 68.02\n",
      "20:39:13.509 [INFO] (irl_trainer.py:74) Total Epi:   521 Steps:    4985 Episode Steps:     5 Return: -1.0000 FPS: 60.97\n"
     ]
    },
    {
     "data": {
      "image/png": "[encoded data removed]",
      "text/plain": [
       "<Figure size 432x288 with 1 Axes>"
      ]
     },
     "metadata": {
      "needs_background": "light"
     },
     "output_type": "display_data"
    },
    {
     "data": {
      "image/png": "[encoded data removed]",
      "text/plain": [
       "<Figure size 432x288 with 1 Axes>"
      ]
     },
     "metadata": {
      "needs_background": "light"
     },
     "output_type": "display_data"
    },
    {
     "data": {
      "image/png": "[encoded data removed]",
      "text/plain": [
       "<Figure size 432x288 with 1 Axes>"
      ]
     },
     "metadata": {
      "needs_background": "light"
     },
     "output_type": "display_data"
    },
    {
     "data": {
      "image/png": "[encoded data removed]",
      "text/plain": [
       "<Figure size 432x288 with 1 Axes>"
      ]
     },
     "metadata": {
      "needs_background": "light"
     },
     "output_type": "display_data"
    },
    {
     "data": {
      "image/png": "[encoded data removed]",
      "text/plain": [
       "<Figure size 432x288 with 1 Axes>"
      ]
     },
     "metadata": {
      "needs_background": "light"
     },
     "output_type": "display_data"
    },
    {
     "data": {
      "image/png": "[encoded data removed]",
      "text/plain": [
       "<Figure size 432x288 with 1 Axes>"
      ]
     },
     "metadata": {
      "needs_background": "light"
     },
     "output_type": "display_data"
    },
    {
     "data": {
      "image/png": "[encoded data removed]",
      "text/plain": [
       "<Figure size 432x288 with 1 Axes>"
      ]
     },
     "metadata": {
      "needs_background": "light"
     },
     "output_type": "display_data"
    },
    {
     "data": {
      "image/png": "[encoded data removed]",
      "text/plain": [
       "<Figure size 432x288 with 1 Axes>"
      ]
     },
     "metadata": {
      "needs_background": "light"
     },
     "output_type": "display_data"
    },
    {
     "data": {
      "image/png": "[encoded data removed]",
      "text/plain": [
       "<Figure size 432x288 with 1 Axes>"
      ]
     },
     "metadata": {
      "needs_background": "light"
     },
     "output_type": "display_data"
    },
    {
     "data": {
      "image/png": "[encoded data removed]",
      "text/plain": [
       "<Figure size 432x288 with 1 Axes>"
      ]
     },
     "metadata": {
      "needs_background": "light"
     },
     "output_type": "display_data"
    },
    {
     "data": {
      "image/png": "[encoded data removed]",
      "text/plain": [
       "<Figure size 432x288 with 1 Axes>"
      ]
     },
     "metadata": {
      "needs_background": "light"
     },
     "output_type": "display_data"
    },
    {
     "data": {
      "image/png": "[encoded data removed]",
      "text/plain": [
       "<Figure size 432x288 with 1 Axes>"
      ]
     },
     "metadata": {
      "needs_background": "light"
     },
     "output_type": "display_data"
    },
    {
     "data": {
      "image/png": "[encoded data removed]",
      "text/plain": [
       "<Figure size 432x288 with 1 Axes>"
      ]
     },
     "metadata": {
      "needs_background": "light"
     },
     "output_type": "display_data"
    },
    {
     "data": {
      "image/png": "[encoded data removed]",
      "text/plain": [
       "<Figure size 432x288 with 1 Axes>"
      ]
     },
     "metadata": {
      "needs_background": "light"
     },
     "output_type": "display_data"
    },
    {
     "data": {
      "image/png": "[encoded data removed]",
      "text/plain": [
       "<Figure size 432x288 with 1 Axes>"
      ]
     },
     "metadata": {
      "needs_background": "light"
     },
     "output_type": "display_data"
    },
    {
     "data": {
      "image/png": "[encoded data removed]",
      "text/plain": [
       "<Figure size 432x288 with 1 Axes>"
      ]
     },
     "metadata": {
      "needs_background": "light"
     },
     "output_type": "display_data"
    },
    {
     "data": {
      "image/png": "[encoded data removed]",
      "text/plain": [
       "<Figure size 432x288 with 1 Axes>"
      ]
     },
     "metadata": {
      "needs_background": "light"
     },
     "output_type": "display_data"
    },
    {
     "data": {
      "image/png": "[encoded data removed]",
      "text/plain": [
       "<Figure size 432x288 with 1 Axes>"
      ]
     },
     "metadata": {
      "needs_background": "light"
     },
     "output_type": "display_data"
    },
    {
     "data": {
      "image/png": "[encoded data removed]",
      "text/plain": [
       "<Figure size 432x288 with 1 Axes>"
      ]
     },
     "metadata": {
      "needs_background": "light"
     },
     "output_type": "display_data"
    },
    {
     "data": {
      "image/png": "[encoded data removed]",
      "text/plain": [
       "<Figure size 432x288 with 1 Axes>"
      ]
     },
     "metadata": {
      "needs_background": "light"
     },
     "output_type": "display_data"
    },
    {
     "data": {
      "image/png": "[encoded data removed]",
      "text/plain": [
       "<Figure size 432x288 with 1 Axes>"
      ]
     },
     "metadata": {
      "needs_background": "light"
     },
     "output_type": "display_data"
    },
    {
     "data": {
      "image/png": "[encoded data removed]",
      "text/plain": [
       "<Figure size 432x288 with 1 Axes>"
      ]
     },
     "metadata": {
      "needs_background": "light"
     },
     "output_type": "display_data"
    },
    {
     "data": {
      "image/png": "[encoded data removed]",
      "text/plain": [
       "<Figure size 432x288 with 1 Axes>"
      ]
     },
     "metadata": {
      "needs_background": "light"
     },
     "output_type": "display_data"
    },
    {
     "data": {
      "image/png": "[encoded data removed]",
      "text/plain": [
       "<Figure size 432x288 with 1 Axes>"
      ]
     },
     "metadata": {
      "needs_background": "light"
     },
     "output_type": "display_data"
    },
    {
     "data": {
      "image/png": "[encoded data removed]",
      "text/plain": [
       "<Figure size 432x288 with 1 Axes>"
      ]
     },
     "metadata": {
      "needs_background": "light"
     },
     "output_type": "display_data"
    },
    {
     "data": {
      "image/png": "[encoded data removed]",
      "text/plain": [
       "<Figure size 432x288 with 1 Axes>"
      ]
     },
     "metadata": {
      "needs_background": "light"
     },
     "output_type": "display_data"
    },
    {
     "data": {
      "image/png": "[encoded data removed]",
      "text/plain": [
       "<Figure size 432x288 with 1 Axes>"
      ]
     },
     "metadata": {
      "needs_background": "light"
     },
     "output_type": "display_data"
    },
    {
     "data": {
      "image/png": "[encoded data removed]",
      "text/plain": [
       "<Figure size 432x288 with 1 Axes>"
      ]
     },
     "metadata": {
      "needs_background": "light"
     },
     "output_type": "display_data"
    },
    {
     "data": {
      "image/png": "[encoded data removed]",
      "text/plain": [
       "<Figure size 432x288 with 1 Axes>"
      ]
     },
     "metadata": {
      "needs_background": "light"
     },
     "output_type": "display_data"
    },
    {
     "data": {
      "image/png": "[encoded data removed]",
      "text/plain": [
       "<Figure size 432x288 with 1 Axes>"
      ]
     },
     "metadata": {
      "needs_background": "light"
     },
     "output_type": "display_data"
    },
    {
     "data": {
      "image/png": "[encoded data removed]",
      "text/plain": [
       "<Figure size 432x288 with 1 Axes>"
      ]
     },
     "metadata": {
      "needs_background": "light"
     },
     "output_type": "display_data"
    },
    {
     "data": {
      "image/png": "[encoded data removed]",
      "text/plain": [
       "<Figure size 432x288 with 1 Axes>"
      ]
     },
     "metadata": {
      "needs_background": "light"
     },
     "output_type": "display_data"
    },
    {
     "data": {
      "image/png": "[encoded data removed]",
      "text/plain": [
       "<Figure size 432x288 with 1 Axes>"
      ]
     },
     "metadata": {
      "needs_background": "light"
     },
     "output_type": "display_data"
    },
    {
     "data": {
      "image/png": "[encoded data removed]",
      "text/plain": [
       "<Figure size 432x288 with 1 Axes>"
      ]
     },
     "metadata": {
      "needs_background": "light"
     },
     "output_type": "display_data"
    },
    {
     "data": {
      "image/png": "[encoded data removed]",
      "text/plain": [
       "<Figure size 432x288 with 1 Axes>"
      ]
     },
     "metadata": {
      "needs_background": "light"
     },
     "output_type": "display_data"
    },
    {
     "data": {
      "image/png": "[encoded data removed]",
      "text/plain": [
       "<Figure size 432x288 with 1 Axes>"
      ]
     },
     "metadata": {
      "needs_background": "light"
     },
     "output_type": "display_data"
    },
    {
     "data": {
      "image/png": "[encoded data removed]",
      "text/plain": [
       "<Figure size 432x288 with 1 Axes>"
      ]
     },
     "metadata": {
      "needs_background": "light"
     },
     "output_type": "display_data"
    },
    {
     "data": {
      "image/png": "[encoded data removed]",
      "text/plain": [
       "<Figure size 432x288 with 1 Axes>"
      ]
     },
     "metadata": {
      "needs_background": "light"
     },
     "output_type": "display_data"
    },
    {
     "data": {
      "image/png": "[encoded data removed]",
      "text/plain": [
       "<Figure size 432x288 with 1 Axes>"
      ]
     },
     "metadata": {
      "needs_background": "light"
     },
     "output_type": "display_data"
    },
    {
     "data": {
      "image/png": "[encoded data removed]",
      "text/plain": [
       "<Figure size 432x288 with 1 Axes>"
      ]
     },
     "metadata": {
      "needs_background": "light"
     },
     "output_type": "display_data"
    },
    {
     "data": {
      "image/png": "[encoded data removed]",
      "text/plain": [
       "<Figure size 432x288 with 1 Axes>"
      ]
     },
     "metadata": {
      "needs_background": "light"
     },
     "output_type": "display_data"
    },
    {
     "data": {
      "image/png": "[encoded data removed]",
      "text/plain": [
       "<Figure size 432x288 with 1 Axes>"
      ]
     },
     "metadata": {
      "needs_background": "light"
     },
     "output_type": "display_data"
    },
    {
     "data": {
      "image/png": "[encoded data removed]",
      "text/plain": [
       "<Figure size 432x288 with 1 Axes>"
      ]
     },
     "metadata": {
      "needs_background": "light"
     },
     "output_type": "display_data"
    },
    {
     "data": {
      "image/png": "[encoded data removed]",
      "text/plain": [
       "<Figure size 432x288 with 1 Axes>"
      ]
     },
     "metadata": {
      "needs_background": "light"
     },
     "output_type": "display_data"
    },
    {
     "data": {
      "image/png": "[encoded data removed]",
      "text/plain": [
       "<Figure size 432x288 with 1 Axes>"
      ]
     },
     "metadata": {
      "needs_background": "light"
     },
     "output_type": "display_data"
    },
    {
     "data": {
      "image/png": "[encoded data removed]",
      "text/plain": [
       "<Figure size 432x288 with 1 Axes>"
      ]
     },
     "metadata": {
      "needs_background": "light"
     },
     "output_type": "display_data"
    },
    {
     "data": {
      "image/png": "[encoded data removed]",
      "text/plain": [
       "<Figure size 432x288 with 1 Axes>"
      ]
     },
     "metadata": {
      "needs_background": "light"
     },
     "output_type": "display_data"
    },
    {
     "data": {
      "image/png": "[encoded data removed]",
      "text/plain": [
       "<Figure size 432x288 with 1 Axes>"
      ]
     },
     "metadata": {
      "needs_background": "light"
     },
     "output_type": "display_data"
    },
    {
     "data": {
      "image/png": "[encoded data removed]",
      "text/plain": [
       "<Figure size 432x288 with 1 Axes>"
      ]
     },
     "metadata": {
      "needs_background": "light"
     },
     "output_type": "display_data"
    },
    {
     "data": {
      "image/png": "[encoded data removed]",
      "text/plain": [
       "<Figure size 432x288 with 1 Axes>"
      ]
     },
     "metadata": {
      "needs_background": "light"
     },
     "output_type": "display_data"
    },
    {
     "data": {
      "image/png": "[encoded data removed]",
      "text/plain": [
       "<Figure size 432x288 with 1 Axes>"
      ]
     },
     "metadata": {
      "needs_background": "light"
     },
     "output_type": "display_data"
    },
    {
     "data": {
      "image/png": "[encoded data removed]",
      "text/plain": [
       "<Figure size 432x288 with 1 Axes>"
      ]
     },
     "metadata": {
      "needs_background": "light"
     },
     "output_type": "display_data"
    },
    {
     "data": {
      "image/png": "[encoded data removed]",
      "text/plain": [
       "<Figure size 432x288 with 1 Axes>"
      ]
     },
     "metadata": {
      "needs_background": "light"
     },
     "output_type": "display_data"
    },
    {
     "data": {
      "image/png": "[encoded data removed]",
      "text/plain": [
       "<Figure size 432x288 with 1 Axes>"
      ]
     },
     "metadata": {
      "needs_background": "light"
     },
     "output_type": "display_data"
    },
    {
     "data": {
      "image/png": "[encoded data removed]",
      "text/plain": [
       "<Figure size 432x288 with 1 Axes>"
      ]
     },
     "metadata": {
      "needs_background": "light"
     },
     "output_type": "display_data"
    },
    {
     "data": {
      "image/png": "[encoded data removed]",
      "text/plain": [
       "<Figure size 432x288 with 1 Axes>"
      ]
     },
     "metadata": {
      "needs_background": "light"
     },
     "output_type": "display_data"
    },
    {
     "data": {
      "image/png": "[encoded data removed]",
      "text/plain": [
       "<Figure size 432x288 with 1 Axes>"
      ]
     },
     "metadata": {
      "needs_background": "light"
     },
     "output_type": "display_data"
    },
    {
     "data": {
      "image/png": "[encoded data removed]",
      "text/plain": [
       "<Figure size 432x288 with 1 Axes>"
      ]
     },
     "metadata": {
      "needs_background": "light"
     },
     "output_type": "display_data"
    },
    {
     "data": {
      "image/png": "[encoded data removed]",
      "text/plain": [
       "<Figure size 432x288 with 1 Axes>"
      ]
     },
     "metadata": {
      "needs_background": "light"
     },
     "output_type": "display_data"
    },
    {
     "data": {
      "image/png": "[encoded data removed]",
      "text/plain": [
       "<Figure size 432x288 with 1 Axes>"
      ]
     },
     "metadata": {
      "needs_background": "light"
     },
     "output_type": "display_data"
    },
    {
     "data": {
      "image/png": "[encoded data removed]",
      "text/plain": [
       "<Figure size 432x288 with 1 Axes>"
      ]
     },
     "metadata": {
      "needs_background": "light"
     },
     "output_type": "display_data"
    },
    {
     "data": {
      "image/png": "[encoded data removed]",
      "text/plain": [
       "<Figure size 432x288 with 1 Axes>"
      ]
     },
     "metadata": {
      "needs_background": "light"
     },
     "output_type": "display_data"
    },
    {
     "data": {
      "image/png": "[encoded data removed]",
      "text/plain": [
       "<Figure size 432x288 with 1 Axes>"
      ]
     },
     "metadata": {
      "needs_background": "light"
     },
     "output_type": "display_data"
    },
    {
     "data": {
      "image/png": "[encoded data removed]",
      "text/plain": [
       "<Figure size 432x288 with 1 Axes>"
      ]
     },
     "metadata": {
      "needs_background": "light"
     },
     "output_type": "display_data"
    },
    {
     "data": {
      "image/png": "[encoded data removed]",
      "text/plain": [
       "<Figure size 432x288 with 1 Axes>"
      ]
     },
     "metadata": {
      "needs_background": "light"
     },
     "output_type": "display_data"
    },
    {
     "data": {
      "image/png": "[encoded data removed]",
      "text/plain": [
       "<Figure size 432x288 with 1 Axes>"
      ]
     },
     "metadata": {
      "needs_background": "light"
     },
     "output_type": "display_data"
    },
    {
     "data": {
      "image/png": "[encoded data removed]",
      "text/plain": [
       "<Figure size 432x288 with 1 Axes>"
      ]
     },
     "metadata": {
      "needs_background": "light"
     },
     "output_type": "display_data"
    },
    {
     "data": {
      "image/png": "[encoded data removed]",
      "text/plain": [
       "<Figure size 432x288 with 1 Axes>"
      ]
     },
     "metadata": {
      "needs_background": "light"
     },
     "output_type": "display_data"
    },
    {
     "data": {
      "image/png": "[encoded data removed]",
      "text/plain": [
       "<Figure size 432x288 with 1 Axes>"
      ]
     },
     "metadata": {
      "needs_background": "light"
     },
     "output_type": "display_data"
    },
    {
     "data": {
      "image/png": "[encoded data removed]",
      "text/plain": [
       "<Figure size 432x288 with 1 Axes>"
      ]
     },
     "metadata": {
      "needs_background": "light"
     },
     "output_type": "display_data"
    },
    {
     "data": {
      "image/png": "[encoded data removed]",
      "text/plain": [
       "<Figure size 432x288 with 1 Axes>"
      ]
     },
     "metadata": {
      "needs_background": "light"
     },
     "output_type": "display_data"
    },
    {
     "data": {
      "image/png": "[encoded data removed]",
      "text/plain": [
       "<Figure size 432x288 with 1 Axes>"
      ]
     },
     "metadata": {
      "needs_background": "light"
     },
     "output_type": "display_data"
    },
    {
     "data": {
      "image/png": "[encoded data removed]",
      "text/plain": [
       "<Figure size 432x288 with 1 Axes>"
      ]
     },
     "metadata": {
      "needs_background": "light"
     },
     "output_type": "display_data"
    },
    {
     "data": {
      "image/png": "[encoded data removed]",
      "text/plain": [
       "<Figure size 432x288 with 1 Axes>"
      ]
     },
     "metadata": {
      "needs_background": "light"
     },
     "output_type": "display_data"
    },
    {
     "data": {
      "image/png": "[encoded data removed]",
      "text/plain": [
       "<Figure size 432x288 with 1 Axes>"
      ]
     },
     "metadata": {
      "needs_background": "light"
     },
     "output_type": "display_data"
    },
    {
     "data": {
      "image/png": "[encoded data removed]",
      "text/plain": [
       "<Figure size 432x288 with 1 Axes>"
      ]
     },
     "metadata": {
      "needs_background": "light"
     },
     "output_type": "display_data"
    },
    {
     "data": {
      "image/png": "[encoded data removed]",
      "text/plain": [
       "<Figure size 432x288 with 1 Axes>"
      ]
     },
     "metadata": {
      "needs_background": "light"
     },
     "output_type": "display_data"
    },
    {
     "data": {
      "image/png": "[encoded data removed]",
      "text/plain": [
       "<Figure size 432x288 with 1 Axes>"
      ]
     },
     "metadata": {
      "needs_background": "light"
     },
     "output_type": "display_data"
    },
    {
     "data": {
      "image/png": "[encoded data removed]",
      "text/plain": [
       "<Figure size 432x288 with 1 Axes>"
      ]
     },
     "metadata": {
      "needs_background": "light"
     },
     "output_type": "display_data"
    },
    {
     "data": {
      "image/png": "[encoded data removed]",
      "text/plain": [
       "<Figure size 432x288 with 1 Axes>"
      ]
     },
     "metadata": {
      "needs_background": "light"
     },
     "output_type": "display_data"
    },
    {
     "data": {
      "image/png": "[encoded data removed]",
      "text/plain": [
       "<Figure size 432x288 with 1 Axes>"
      ]
     },
     "metadata": {
      "needs_background": "light"
     },
     "output_type": "display_data"
    },
    {
     "data": {
      "image/png": "[encoded data removed]",
      "text/plain": [
       "<Figure size 432x288 with 1 Axes>"
      ]
     },
     "metadata": {
      "needs_background": "light"
     },
     "output_type": "display_data"
    },
    {
     "data": {
      "image/png": "[encoded data removed]",
      "text/plain": [
       "<Figure size 432x288 with 1 Axes>"
      ]
     },
     "metadata": {
      "needs_background": "light"
     },
     "output_type": "display_data"
    },
    {
     "data": {
      "image/png": "[encoded data removed]",
      "text/plain": [
       "<Figure size 432x288 with 1 Axes>"
      ]
     },
     "metadata": {
      "needs_background": "light"
     },
     "output_type": "display_data"
    },
    {
     "data": {
      "image/png": "[encoded data removed]",
      "text/plain": [
       "<Figure size 432x288 with 1 Axes>"
      ]
     },
     "metadata": {
      "needs_background": "light"
     },
     "output_type": "display_data"
    },
    {
     "data": {
      "image/png": "[encoded data removed]",
      "text/plain": [
       "<Figure size 432x288 with 1 Axes>"
      ]
     },
     "metadata": {
      "needs_background": "light"
     },
     "output_type": "display_data"
    },
    {
     "data": {
      "image/png": "[encoded data removed]",
      "text/plain": [
       "<Figure size 432x288 with 1 Axes>"
      ]
     },
     "metadata": {
      "needs_background": "light"
     },
     "output_type": "display_data"
    },
    {
     "data": {
      "image/png": "[encoded data removed]",
      "text/plain": [
       "<Figure size 432x288 with 1 Axes>"
      ]
     },
     "metadata": {
      "needs_background": "light"
     },
     "output_type": "display_data"
    },
    {
     "data": {
      "image/png": "[encoded data removed]",
      "text/plain": [
       "<Figure size 432x288 with 1 Axes>"
      ]
     },
     "metadata": {
      "needs_background": "light"
     },
     "output_type": "display_data"
    },
    {
     "data": {
      "image/png": "[encoded data removed]",
      "text/plain": [
       "<Figure size 432x288 with 1 Axes>"
      ]
     },
     "metadata": {
      "needs_background": "light"
     },
     "output_type": "display_data"
    },
    {
     "data": {
      "image/png": "[encoded data removed]",
      "text/plain": [
       "<Figure size 432x288 with 1 Axes>"
      ]
     },
     "metadata": {
      "needs_background": "light"
     },
     "output_type": "display_data"
    },
    {
     "data": {
      "image/png": "[encoded data removed]",
      "text/plain": [
       "<Figure size 432x288 with 1 Axes>"
      ]
     },
     "metadata": {
      "needs_background": "light"
     },
     "output_type": "display_data"
    },
    {
     "data": {
      "image/png": "[encoded data removed]",
      "text/plain": [
       "<Figure size 432x288 with 1 Axes>"
      ]
     },
     "metadata": {
      "needs_background": "light"
     },
     "output_type": "display_data"
    },
    {
     "data": {
      "image/png": "[encoded data removed]",
      "text/plain": [
       "<Figure size 432x288 with 1 Axes>"
      ]
     },
     "metadata": {
      "needs_background": "light"
     },
     "output_type": "display_data"
    },
    {
     "data": {
      "image/png": "[encoded data removed]",
      "text/plain": [
       "<Figure size 432x288 with 1 Axes>"
      ]
     },
     "metadata": {
      "needs_background": "light"
     },
     "output_type": "display_data"
    },
    {
     "data": {
      "image/png": "[encoded data removed]",
      "text/plain": [
       "<Figure size 432x288 with 1 Axes>"
      ]
     },
     "metadata": {
      "needs_background": "light"
     },
     "output_type": "display_data"
    },
    {
     "data": {
      "image/png": "[encoded data removed]",
      "text/plain": [
       "<Figure size 432x288 with 1 Axes>"
      ]
     },
     "metadata": {
      "needs_background": "light"
     },
     "output_type": "display_data"
    },
    {
     "data": {
      "image/png": "[encoded data removed]",
      "text/plain": [
       "<Figure size 432x288 with 1 Axes>"
      ]
     },
     "metadata": {
      "needs_background": "light"
     },
     "output_type": "display_data"
    },
    {
     "data": {
      "image/png": "[encoded data removed]",
      "text/plain": [
       "<Figure size 432x288 with 1 Axes>"
      ]
     },
     "metadata": {
      "needs_background": "light"
     },
     "output_type": "display_data"
    },
    {
     "data": {
      "image/png": "[encoded data removed]",
      "text/plain": [
       "<Figure size 432x288 with 1 Axes>"
      ]
     },
     "metadata": {
      "needs_background": "light"
     },
     "output_type": "display_data"
    },
    {
     "data": {
      "image/png": "[encoded data removed]",
      "text/plain": [
       "<Figure size 432x288 with 1 Axes>"
      ]
     },
     "metadata": {
      "needs_background": "light"
     },
     "output_type": "display_data"
    },
    {
     "data": {
      "image/png": "[encoded data removed]",
      "text/plain": [
       "<Figure size 432x288 with 1 Axes>"
      ]
     },
     "metadata": {
      "needs_background": "light"
     },
     "output_type": "display_data"
    },
    {
     "data": {
      "image/png": "[encoded data removed]",
      "text/plain": [
       "<Figure size 432x288 with 1 Axes>"
      ]
     },
     "metadata": {
      "needs_background": "light"
     },
     "output_type": "display_data"
    },
    {
     "data": {
      "image/png": "[encoded data removed]",
      "text/plain": [
       "<Figure size 432x288 with 1 Axes>"
      ]
     },
     "metadata": {
      "needs_background": "light"
     },
     "output_type": "display_data"
    },
    {
     "data": {
      "image/png": "[encoded data removed]",
      "text/plain": [
       "<Figure size 432x288 with 1 Axes>"
      ]
     },
     "metadata": {
      "needs_background": "light"
     },
     "output_type": "display_data"
    },
    {
     "data": {
      "image/png": "[encoded data removed]",
      "text/plain": [
       "<Figure size 432x288 with 1 Axes>"
      ]
     },
     "metadata": {
      "needs_background": "light"
     },
     "output_type": "display_data"
    },
    {
     "data": {
      "image/png": "[encoded data removed]",
      "text/plain": [
       "<Figure size 432x288 with 1 Axes>"
      ]
     },
     "metadata": {
      "needs_background": "light"
     },
     "output_type": "display_data"
    },
    {
     "data": {
      "image/png": "[encoded data removed]",
      "text/plain": [
       "<Figure size 432x288 with 1 Axes>"
      ]
     },
     "metadata": {
      "needs_background": "light"
     },
     "output_type": "display_data"
    },
    {
     "data": {
      "image/png": "[encoded data removed]",
      "text/plain": [
       "<Figure size 432x288 with 1 Axes>"
      ]
     },
     "metadata": {
      "needs_background": "light"
     },
     "output_type": "display_data"
    },
    {
     "data": {
      "image/png": "[encoded data removed]",
      "text/plain": [
       "<Figure size 432x288 with 1 Axes>"
      ]
     },
     "metadata": {
      "needs_background": "light"
     },
     "output_type": "display_data"
    },
    {
     "data": {
      "image/png": "[encoded data removed]",
      "text/plain": [
       "<Figure size 432x288 with 1 Axes>"
      ]
     },
     "metadata": {
      "needs_background": "light"
     },
     "output_type": "display_data"
    },
    {
     "data": {
      "image/png": "[encoded data removed]",
      "text/plain": [
       "<Figure size 432x288 with 1 Axes>"
      ]
     },
     "metadata": {
      "needs_background": "light"
     },
     "output_type": "display_data"
    },
    {
     "name": "stderr",
     "output_type": "stream",
     "text": [
      "20:39:23.155 [INFO] (irl_trainer.py:119) Evaluation Total Steps:    5000 Average Reward  0.6000 / Average Step Count  22.4 over  5 episodes\n",
      "20:39:23.176 [INFO] (irl_trainer.py:74) Total Epi:   522 Steps:    5002 Episode Steps:    17 Return:  1.0000 FPS:  1.76\n",
      "20:39:23.463 [INFO] (irl_trainer.py:74) Total Epi:   523 Steps:    5022 Episode Steps:    20 Return:  1.0000 FPS: 70.03\n",
      "20:39:23.678 [INFO] (irl_trainer.py:74) Total Epi:   524 Steps:    5037 Episode Steps:    15 Return: -1.0000 FPS: 70.20\n",
      "20:39:24.055 [INFO] (irl_trainer.py:74) Total Epi:   525 Steps:    5064 Episode Steps:    27 Return:  1.0000 FPS: 72.01\n",
      "20:39:24.217 [INFO] (irl_trainer.py:74) Total Epi:   526 Steps:    5075 Episode Steps:    11 Return:  1.0000 FPS: 68.57\n",
      "20:39:24.282 [INFO] (irl_trainer.py:74) Total Epi:   527 Steps:    5079 Episode Steps:     4 Return: -1.0000 FPS: 63.15\n",
      "20:39:24.474 [INFO] (irl_trainer.py:74) Total Epi:   528 Steps:    5092 Episode Steps:    13 Return:  1.0000 FPS: 68.55\n",
      "20:39:24.672 [INFO] (irl_trainer.py:74) Total Epi:   529 Steps:    5105 Episode Steps:    13 Return:  1.0000 FPS: 65.95\n",
      "20:39:24.866 [INFO] (irl_trainer.py:74) Total Epi:   530 Steps:    5118 Episode Steps:    13 Return:  1.0000 FPS: 67.75\n",
      "20:39:25.208 [INFO] (irl_trainer.py:74) Total Epi:   531 Steps:    5139 Episode Steps:    21 Return: -1.0000 FPS: 61.83\n",
      "20:39:25.421 [INFO] (irl_trainer.py:74) Total Epi:   532 Steps:    5153 Episode Steps:    14 Return:  1.0000 FPS: 66.01\n",
      "20:39:25.489 [INFO] (irl_trainer.py:74) Total Epi:   533 Steps:    5157 Episode Steps:     4 Return: -1.0000 FPS: 60.27\n",
      "20:39:25.846 [INFO] (irl_trainer.py:74) Total Epi:   534 Steps:    5182 Episode Steps:    25 Return: -1.0000 FPS: 70.26\n",
      "20:39:26.052 [INFO] (irl_trainer.py:74) Total Epi:   535 Steps:    5196 Episode Steps:    14 Return: -1.0000 FPS: 68.70\n",
      "20:39:26.241 [INFO] (irl_trainer.py:74) Total Epi:   536 Steps:    5208 Episode Steps:    12 Return:  1.0000 FPS: 63.87\n",
      "20:39:26.411 [INFO] (irl_trainer.py:74) Total Epi:   537 Steps:    5220 Episode Steps:    12 Return:  1.0000 FPS: 71.08\n",
      "20:39:26.581 [INFO] (irl_trainer.py:74) Total Epi:   538 Steps:    5232 Episode Steps:    12 Return:  1.0000 FPS: 71.34\n",
      "20:39:26.991 [INFO] (irl_trainer.py:74) Total Epi:   539 Steps:    5260 Episode Steps:    28 Return:  1.0000 FPS: 68.47\n",
      "20:39:27.132 [INFO] (irl_trainer.py:74) Total Epi:   540 Steps:    5269 Episode Steps:     9 Return:  1.0000 FPS: 64.51\n",
      "20:39:27.383 [INFO] (irl_trainer.py:74) Total Epi:   541 Steps:    5286 Episode Steps:    17 Return:  1.0000 FPS: 68.07\n",
      "20:39:27.664 [INFO] (irl_trainer.py:74) Total Epi:   542 Steps:    5305 Episode Steps:    19 Return:  1.0000 FPS: 68.14\n",
      "20:39:27.950 [INFO] (irl_trainer.py:74) Total Epi:   543 Steps:    5325 Episode Steps:    20 Return:  1.0000 FPS: 70.24\n",
      "20:39:28.028 [INFO] (irl_trainer.py:74) Total Epi:   544 Steps:    5330 Episode Steps:     5 Return: -1.0000 FPS: 65.64\n",
      "20:39:28.109 [INFO] (irl_trainer.py:74) Total Epi:   545 Steps:    5335 Episode Steps:     5 Return: -1.0000 FPS: 62.81\n",
      "20:39:28.297 [INFO] (irl_trainer.py:74) Total Epi:   546 Steps:    5348 Episode Steps:    13 Return:  1.0000 FPS: 69.64\n",
      "20:39:28.405 [INFO] (irl_trainer.py:74) Total Epi:   547 Steps:    5355 Episode Steps:     7 Return: -1.0000 FPS: 66.10\n",
      "20:39:28.550 [INFO] (irl_trainer.py:74) Total Epi:   548 Steps:    5365 Episode Steps:    10 Return:  1.0000 FPS: 69.68\n",
      "20:39:28.627 [INFO] (irl_trainer.py:74) Total Epi:   549 Steps:    5370 Episode Steps:     5 Return: -1.0000 FPS: 65.75\n",
      "20:39:28.709 [INFO] (irl_trainer.py:74) Total Epi:   550 Steps:    5375 Episode Steps:     5 Return: -1.0000 FPS: 63.89\n",
      "20:39:28.818 [INFO] (irl_trainer.py:74) Total Epi:   551 Steps:    5382 Episode Steps:     7 Return: -1.0000 FPS: 64.50\n",
      "20:39:28.916 [INFO] (irl_trainer.py:74) Total Epi:   552 Steps:    5388 Episode Steps:     6 Return: -1.0000 FPS: 62.26\n",
      "20:39:29.369 [INFO] (irl_trainer.py:74) Total Epi:   553 Steps:    5419 Episode Steps:    31 Return:  1.0000 FPS: 68.75\n",
      "20:39:29.551 [INFO] (irl_trainer.py:74) Total Epi:   554 Steps:    5431 Episode Steps:    12 Return:  1.0000 FPS: 66.74\n",
      "20:39:29.636 [INFO] (irl_trainer.py:74) Total Epi:   555 Steps:    5436 Episode Steps:     5 Return: -1.0000 FPS: 59.62\n"
     ]
    },
    {
     "ename": "KeyboardInterrupt",
     "evalue": "",
     "output_type": "error",
     "traceback": [
      "\u001b[0;31m---------------------------------------------------------------------------\u001b[0m",
      "\u001b[0;31mKeyboardInterrupt\u001b[0m                         Traceback (most recent call last)",
      "\u001b[0;32m<ipython-input-3-6f8f95461d18>\u001b[0m in \u001b[0;36m<module>\u001b[0;34m\u001b[0m\n\u001b[1;32m     62\u001b[0m \u001b[0;34m\u001b[0m\u001b[0m\n\u001b[1;32m     63\u001b[0m \u001b[0;31m# train the agent\u001b[0m\u001b[0;34m\u001b[0m\u001b[0;34m\u001b[0m\u001b[0;34m\u001b[0m\u001b[0m\n\u001b[0;32m---> 64\u001b[0;31m \u001b[0mrunner\u001b[0m\u001b[0;34m.\u001b[0m\u001b[0mTrain\u001b[0m\u001b[0;34m(\u001b[0m\u001b[0;34m)\u001b[0m\u001b[0;34m\u001b[0m\u001b[0;34m\u001b[0m\u001b[0m\n\u001b[0m",
      "\u001b[0;32m~/.cache/bazel/_bazel_ferenc/d27c94d45ef586b197c709d8101d6384/execroot/bark_ml/bazel-out/k8-fastbuild/bin/docs/report/run.runfiles/bark_ml/bark_ml/library_wrappers/lib_tf2rl/runners/tf2rl_runner.py\u001b[0m in \u001b[0;36mTrain\u001b[0;34m(self)\u001b[0m\n\u001b[1;32m     31\u001b[0m   \u001b[0;32mdef\u001b[0m \u001b[0mTrain\u001b[0m\u001b[0;34m(\u001b[0m\u001b[0mself\u001b[0m\u001b[0;34m)\u001b[0m\u001b[0;34m:\u001b[0m\u001b[0;34m\u001b[0m\u001b[0;34m\u001b[0m\u001b[0m\n\u001b[1;32m     32\u001b[0m     \u001b[0;34m\"\"\"trains the agent.\"\"\"\u001b[0m\u001b[0;34m\u001b[0m\u001b[0;34m\u001b[0m\u001b[0m\n\u001b[0;32m---> 33\u001b[0;31m     \u001b[0mself\u001b[0m\u001b[0;34m.\u001b[0m\u001b[0m_train\u001b[0m\u001b[0;34m(\u001b[0m\u001b[0;34m)\u001b[0m\u001b[0;34m\u001b[0m\u001b[0;34m\u001b[0m\u001b[0m\n\u001b[0m\u001b[1;32m     34\u001b[0m \u001b[0;34m\u001b[0m\u001b[0m\n\u001b[1;32m     35\u001b[0m \u001b[0;34m\u001b[0m\u001b[0m\n",
      "\u001b[0;32m~/.cache/bazel/_bazel_ferenc/d27c94d45ef586b197c709d8101d6384/execroot/bark_ml/bazel-out/k8-fastbuild/bin/docs/report/run.runfiles/bark_ml/bark_ml/library_wrappers/lib_tf2rl/runners/gail_runner.py\u001b[0m in \u001b[0;36m_train\u001b[0;34m(self)\u001b[0m\n\u001b[1;32m     45\u001b[0m     \u001b[0minstantiated\u001b[0m \u001b[0mby\u001b[0m \u001b[0mself\u001b[0m\u001b[0;34m.\u001b[0m\u001b[0mGetTrainer\u001b[0m\u001b[0;34m.\u001b[0m\u001b[0;34m\u001b[0m\u001b[0;34m\u001b[0m\u001b[0m\n\u001b[1;32m     46\u001b[0m     \"\"\"\n\u001b[0;32m---> 47\u001b[0;31m     \u001b[0mself\u001b[0m\u001b[0;34m.\u001b[0m\u001b[0m_trainer\u001b[0m\u001b[0;34m(\u001b[0m\u001b[0;34m)\u001b[0m\u001b[0;34m\u001b[0m\u001b[0;34m\u001b[0m\u001b[0m\n\u001b[0m\u001b[1;32m     48\u001b[0m \u001b[0;34m\u001b[0m\u001b[0m\n\u001b[1;32m     49\u001b[0m \u001b[0;34m\u001b[0m\u001b[0m\n",
      "\u001b[0;32m~/.cache/bazel/_bazel_ferenc/d27c94d45ef586b197c709d8101d6384/execroot/bark_ml/bazel-out/k8-fastbuild/bin/docs/report/run.runfiles/com_github_keiohta_tf2rl/tf2rl/experiments/irl_trainer.py\u001b[0m in \u001b[0;36m__call__\u001b[0;34m(self)\u001b[0m\n\u001b[1;32m    111\u001b[0m                                 \u001b[0mexpert_states\u001b[0m\u001b[0;34m=\u001b[0m\u001b[0mself\u001b[0m\u001b[0;34m.\u001b[0m\u001b[0m_expert_obs\u001b[0m\u001b[0;34m[\u001b[0m\u001b[0mindices\u001b[0m\u001b[0;34m]\u001b[0m\u001b[0;34m,\u001b[0m\u001b[0;34m\u001b[0m\u001b[0;34m\u001b[0m\u001b[0m\n\u001b[1;32m    112\u001b[0m                                 \u001b[0mexpert_acts\u001b[0m\u001b[0;34m=\u001b[0m\u001b[0mself\u001b[0m\u001b[0;34m.\u001b[0m\u001b[0m_expert_act\u001b[0m\u001b[0;34m[\u001b[0m\u001b[0mindices\u001b[0m\u001b[0;34m]\u001b[0m\u001b[0;34m,\u001b[0m\u001b[0;34m\u001b[0m\u001b[0;34m\u001b[0m\u001b[0m\n\u001b[0;32m--> 113\u001b[0;31m                                 expert_next_states=self._expert_next_obs[indices])\n\u001b[0m\u001b[1;32m    114\u001b[0m \u001b[0;34m\u001b[0m\u001b[0m\n\u001b[1;32m    115\u001b[0m                 \u001b[0;32mif\u001b[0m \u001b[0mtotal_steps\u001b[0m \u001b[0;34m%\u001b[0m \u001b[0mself\u001b[0m\u001b[0;34m.\u001b[0m\u001b[0m_test_interval\u001b[0m \u001b[0;34m==\u001b[0m \u001b[0;36m0\u001b[0m\u001b[0;34m:\u001b[0m\u001b[0;34m\u001b[0m\u001b[0;34m\u001b[0m\u001b[0m\n",
      "\u001b[0;32m~/.cache/bazel/_bazel_ferenc/d27c94d45ef586b197c709d8101d6384/execroot/bark_ml/bazel-out/k8-fastbuild/bin/docs/report/run.runfiles/com_github_keiohta_tf2rl/tf2rl/algos/gail.py\u001b[0m in \u001b[0;36mtrain\u001b[0;34m(self, agent_states, agent_acts, expert_states, expert_acts, **kwargs)\u001b[0m\n\u001b[1;32m     58\u001b[0m         \u001b[0mtf\u001b[0m\u001b[0;34m.\u001b[0m\u001b[0msummary\u001b[0m\u001b[0;34m.\u001b[0m\u001b[0mscalar\u001b[0m\u001b[0;34m(\u001b[0m\u001b[0mname\u001b[0m\u001b[0;34m=\u001b[0m\u001b[0mself\u001b[0m\u001b[0;34m.\u001b[0m\u001b[0mpolicy_name\u001b[0m\u001b[0;34m+\u001b[0m\u001b[0;34m\"/DiscriminatorLoss\"\u001b[0m\u001b[0;34m,\u001b[0m \u001b[0mdata\u001b[0m\u001b[0;34m=\u001b[0m\u001b[0mloss\u001b[0m\u001b[0;34m)\u001b[0m\u001b[0;34m\u001b[0m\u001b[0;34m\u001b[0m\u001b[0m\n\u001b[1;32m     59\u001b[0m         \u001b[0mtf\u001b[0m\u001b[0;34m.\u001b[0m\u001b[0msummary\u001b[0m\u001b[0;34m.\u001b[0m\u001b[0mscalar\u001b[0m\u001b[0;34m(\u001b[0m\u001b[0mname\u001b[0m\u001b[0;34m=\u001b[0m\u001b[0mself\u001b[0m\u001b[0;34m.\u001b[0m\u001b[0mpolicy_name\u001b[0m\u001b[0;34m+\u001b[0m\u001b[0;34m\"/Accuracy\"\u001b[0m\u001b[0;34m,\u001b[0m \u001b[0mdata\u001b[0m\u001b[0;34m=\u001b[0m\u001b[0maccuracy\u001b[0m\u001b[0;34m)\u001b[0m\u001b[0;34m\u001b[0m\u001b[0;34m\u001b[0m\u001b[0m\n\u001b[0;32m---> 60\u001b[0;31m         \u001b[0mtf\u001b[0m\u001b[0;34m.\u001b[0m\u001b[0msummary\u001b[0m\u001b[0;34m.\u001b[0m\u001b[0mscalar\u001b[0m\u001b[0;34m(\u001b[0m\u001b[0mname\u001b[0m\u001b[0;34m=\u001b[0m\u001b[0mself\u001b[0m\u001b[0;34m.\u001b[0m\u001b[0mpolicy_name\u001b[0m\u001b[0;34m+\u001b[0m\u001b[0;34m\"/JSdivergence\"\u001b[0m\u001b[0;34m,\u001b[0m \u001b[0mdata\u001b[0m\u001b[0;34m=\u001b[0m\u001b[0mjs_divergence\u001b[0m\u001b[0;34m)\u001b[0m\u001b[0;34m\u001b[0m\u001b[0;34m\u001b[0m\u001b[0m\n\u001b[0m\u001b[1;32m     61\u001b[0m \u001b[0;34m\u001b[0m\u001b[0m\n\u001b[1;32m     62\u001b[0m     \u001b[0;32mdef\u001b[0m \u001b[0m_compute_js_divergence\u001b[0m\u001b[0;34m(\u001b[0m\u001b[0mself\u001b[0m\u001b[0;34m,\u001b[0m \u001b[0mfake_logits\u001b[0m\u001b[0;34m,\u001b[0m \u001b[0mreal_logits\u001b[0m\u001b[0;34m)\u001b[0m\u001b[0;34m:\u001b[0m\u001b[0;34m\u001b[0m\u001b[0;34m\u001b[0m\u001b[0m\n",
      "\u001b[0;32m~/Documents/programming/bark-ml/bark_ml/python_wrapper/venv/lib/python3.7/site-packages/tensorboard/plugins/scalar/summary_v2.py\u001b[0m in \u001b[0;36mscalar\u001b[0;34m(name, data, step, description)\u001b[0m\n\u001b[1;32m     66\u001b[0m             \u001b[0mtensor\u001b[0m\u001b[0;34m=\u001b[0m\u001b[0mtf\u001b[0m\u001b[0;34m.\u001b[0m\u001b[0mcast\u001b[0m\u001b[0;34m(\u001b[0m\u001b[0mdata\u001b[0m\u001b[0;34m,\u001b[0m \u001b[0mtf\u001b[0m\u001b[0;34m.\u001b[0m\u001b[0mfloat32\u001b[0m\u001b[0;34m)\u001b[0m\u001b[0;34m,\u001b[0m\u001b[0;34m\u001b[0m\u001b[0;34m\u001b[0m\u001b[0m\n\u001b[1;32m     67\u001b[0m             \u001b[0mstep\u001b[0m\u001b[0;34m=\u001b[0m\u001b[0mstep\u001b[0m\u001b[0;34m,\u001b[0m\u001b[0;34m\u001b[0m\u001b[0;34m\u001b[0m\u001b[0m\n\u001b[0;32m---> 68\u001b[0;31m             \u001b[0mmetadata\u001b[0m\u001b[0;34m=\u001b[0m\u001b[0msummary_metadata\u001b[0m\u001b[0;34m,\u001b[0m\u001b[0;34m\u001b[0m\u001b[0;34m\u001b[0m\u001b[0m\n\u001b[0m\u001b[1;32m     69\u001b[0m         )\n\u001b[1;32m     70\u001b[0m \u001b[0;34m\u001b[0m\u001b[0m\n",
      "\u001b[0;32m~/Documents/programming/bark-ml/bark_ml/python_wrapper/venv/lib/python3.7/site-packages/tensorflow/python/ops/summary_ops_v2.py\u001b[0m in \u001b[0;36mwrite\u001b[0;34m(tag, tensor, step, metadata, name)\u001b[0m\n\u001b[1;32m    652\u001b[0m       \u001b[0mserialized_metadata\u001b[0m \u001b[0;34m=\u001b[0m \u001b[0;34mb\"\"\u001b[0m\u001b[0;34m\u001b[0m\u001b[0;34m\u001b[0m\u001b[0m\n\u001b[1;32m    653\u001b[0m     \u001b[0;32melif\u001b[0m \u001b[0mhasattr\u001b[0m\u001b[0;34m(\u001b[0m\u001b[0mmetadata\u001b[0m\u001b[0;34m,\u001b[0m \u001b[0;34m\"SerializeToString\"\u001b[0m\u001b[0;34m)\u001b[0m\u001b[0;34m:\u001b[0m\u001b[0;34m\u001b[0m\u001b[0;34m\u001b[0m\u001b[0m\n\u001b[0;32m--> 654\u001b[0;31m       \u001b[0mserialized_metadata\u001b[0m \u001b[0;34m=\u001b[0m \u001b[0mmetadata\u001b[0m\u001b[0;34m.\u001b[0m\u001b[0mSerializeToString\u001b[0m\u001b[0;34m(\u001b[0m\u001b[0;34m)\u001b[0m\u001b[0;34m\u001b[0m\u001b[0;34m\u001b[0m\u001b[0m\n\u001b[0m\u001b[1;32m    655\u001b[0m     \u001b[0;32melse\u001b[0m\u001b[0;34m:\u001b[0m\u001b[0;34m\u001b[0m\u001b[0;34m\u001b[0m\u001b[0m\n\u001b[1;32m    656\u001b[0m       \u001b[0mserialized_metadata\u001b[0m \u001b[0;34m=\u001b[0m \u001b[0mmetadata\u001b[0m\u001b[0;34m\u001b[0m\u001b[0;34m\u001b[0m\u001b[0m\n",
      "\u001b[0;31mKeyboardInterrupt\u001b[0m: "
     ]
    }
   ],
   "source": [
    "# load params from the json file to create the parameter server object\n",
    "params = ParameterServer(filename=\"data/params/gail_params.json\")\n",
    "\n",
    "# customized parameters:\n",
    "params[\"ML\"][\"Settings\"][\"GPUUse\"] = gpu\n",
    "params[\"ML\"][\"GAILRunner\"][\"tf2rl\"][\"max_steps\"] = max_steps\n",
    "params[\"ML\"][\"GAILRunner\"][\"tf2rl\"][\"test_interval\"] = test_interval\n",
    "params[\"ML\"][\"GAILRunner\"][\"tf2rl\"][\"test_episodes\"] = test_episodes\n",
    "params[\"ML\"][\"GAILRunner\"][\"tf2rl\"][\"show_test_progress\"] = show_test_progress\n",
    "if params[\"ML\"][\"BehaviorGAILAgent\"][\"WarmUp\"] > max_steps / 2:\n",
    "    params[\"ML\"][\"BehaviorGAILAgent\"][\"WarmUp\"] = max_steps / 2\n",
    "\n",
    "# create some logging dirs if they are not present already\n",
    "Path(params[\"ML\"][\"GAILRunner\"][\"tf2rl\"][\"logdir\"]).mkdir(exist_ok=True, parents=True)\n",
    "Path(params[\"ML\"][\"GAILRunner\"][\"tf2rl\"][\"model_dir\"]).mkdir(exist_ok=True, parents=True)\n",
    "\n",
    "# create environment\n",
    "bp = ContinuousMergingBlueprint(params,\n",
    "                              number_of_senarios=500,\n",
    "                              random_seed=0)\n",
    "env = SingleAgentRuntime(blueprint=bp,\n",
    "                      render=False)\n",
    "\n",
    "# wrapped environment for compatibility with tf2rl\n",
    "wrapped_env = TF2RLWrapper(env, \n",
    "normalize_features=params[\"ML\"][\"Settings\"][\"NormalizeFeatures\"])\n",
    "\n",
    "# instantiate the GAIL agent\n",
    "gail_agent = BehaviorGAILAgent(environment=wrapped_env,\n",
    "                           params=params)\n",
    "\n",
    "# load the expert trajectories\n",
    "expert_trajectories = load_expert_trajectories(\n",
    "    params[\"ML\"][\"GAILRunner\"][\"tf2rl\"][\"expert_path_dir\"],\n",
    "    normalize_features=params[\"ML\"][\"Settings\"][\"NormalizeFeatures\"],\n",
    "    env=env # the unwrapped env has to be used, since that contains the unnormalized spaces.\n",
    "    ) \n",
    "\n",
    "# instantiate a runner that is going to train the agent.\n",
    "runner = GAILRunner(params=params,\n",
    "                 environment=wrapped_env,\n",
    "                 agent=gail_agent,\n",
    "                 expert_trajs=expert_trajectories)\n",
    "\n",
    "# train the agent\n",
    "runner.Train()"
   ]
  },
  {
   "cell_type": "markdown",
   "metadata": {},
   "source": [
    "### Trained agent visualization:\n",
    "Please set up the number of scenarios to visualize in the next cell!"
   ]
  },
  {
   "cell_type": "code",
   "execution_count": 4,
   "metadata": {},
   "outputs": [],
   "source": [
    "# Number of scenarios to visualize:\n",
    "num_scenarios_to_visualize = 10"
   ]
  },
  {
   "cell_type": "code",
   "execution_count": 5,
   "metadata": {},
   "outputs": [
    {
     "data": {
      "image/png": "[encoded data removed]",
      "text/plain": [
       "<Figure size 720x720 with 1 Axes>"
      ]
     },
     "metadata": {
      "needs_background": "light"
     },
     "output_type": "display_data"
    }
   ],
   "source": [
    "# load params from the json file to create the parameter server object\n",
    "params = ParameterServer(filename=\"data/params/gail_params.json\")\n",
    "\n",
    "# setting the path for the pretrained agent.\n",
    "params[\"ML\"][\"GAILRunner\"][\"tf2rl\"][\"model_dir\"] = os.path.join('data', 'pretrained_agent')\n",
    "\n",
    "# customized parameters:\n",
    "params[\"ML\"][\"Settings\"][\"GPUUse\"] = gpu\n",
    "params[\"ML\"][\"GAILRunner\"][\"tf2rl\"][\"max_steps\"] = max_steps\n",
    "params[\"ML\"][\"GAILRunner\"][\"tf2rl\"][\"test_interval\"] = test_interval\n",
    "params[\"ML\"][\"GAILRunner\"][\"tf2rl\"][\"test_episodes\"] = test_episodes\n",
    "params[\"ML\"][\"GAILRunner\"][\"tf2rl\"][\"show_test_progress\"] = show_test_progress\n",
    "if params[\"ML\"][\"BehaviorGAILAgent\"][\"WarmUp\"] > max_steps / 2:\n",
    "    params[\"ML\"][\"BehaviorGAILAgent\"][\"WarmUp\"] = max_steps / 2\n",
    "\n",
    "# create some logging dirs if they are not present already\n",
    "Path(params[\"ML\"][\"GAILRunner\"][\"tf2rl\"][\"logdir\"]).mkdir(exist_ok=True, parents=True)\n",
    "Path(params[\"ML\"][\"GAILRunner\"][\"tf2rl\"][\"model_dir\"]).mkdir(exist_ok=True, parents=True)\n",
    "\n",
    "# create environment\n",
    "bp = ContinuousMergingBlueprint(params,\n",
    "                              number_of_senarios=500,\n",
    "                              random_seed=0)\n",
    "env = SingleAgentRuntime(blueprint=bp,\n",
    "                      render=False)\n",
    "\n",
    "# wrapped environment for compatibility with tf2rl\n",
    "wrapped_env = TF2RLWrapper(env, \n",
    "normalize_features=params[\"ML\"][\"Settings\"][\"NormalizeFeatures\"])\n",
    "\n",
    "# instantiate the GAIL agent\n",
    "gail_agent = BehaviorGAILAgent(environment=wrapped_env,\n",
    "                           params=params)\n",
    "\n",
    "# load the expert trajectories\n",
    "expert_trajectories = load_expert_trajectories(\n",
    "    params[\"ML\"][\"GAILRunner\"][\"tf2rl\"][\"expert_path_dir\"],\n",
    "    normalize_features=params[\"ML\"][\"Settings\"][\"NormalizeFeatures\"],\n",
    "    env=env # the unwrapped env has to be used, since that contains the unnormalized spaces.\n",
    "    ) \n",
    "\n",
    "# instantiate a runner that is going to train the agent.\n",
    "runner = GAILRunner(params=params,\n",
    "                 environment=wrapped_env,\n",
    "                 agent=gail_agent,\n",
    "                 expert_trajs=expert_trajectories)\n",
    "\n",
    "# Visualize the agent\n",
    "runner.Visualize(num_scenarios_to_visualize, renderer=\"matplotlib_jupyter\")"
   ]
  },
  {
   "cell_type": "markdown",
   "metadata": {},
   "source": [
    "## Visual results"
   ]
  },
  {
   "cell_type": "markdown",
   "metadata": {},
   "source": [
    "## Benchmark"
   ]
  },
  {
   "cell_type": "markdown",
   "metadata": {},
   "source": [
    "## Summary"
   ]
  },
  {
   "cell_type": "markdown",
   "metadata": {},
   "source": [
    "## Team"
   ]
  }
 ],
 "metadata": {
  "kernelspec": {
   "display_name": "Python 3",
   "language": "python",
   "name": "python3"
  },
  "language_info": {
   "codemirror_mode": {
    "name": "ipython",
    "version": 3
   },
   "file_extension": ".py",
   "mimetype": "text/x-python",
   "name": "python",
   "nbconvert_exporter": "python",
   "pygments_lexer": "ipython3",
   "version": "3.7.3"
  }
 },
 "nbformat": 4,
 "nbformat_minor": 2
}
