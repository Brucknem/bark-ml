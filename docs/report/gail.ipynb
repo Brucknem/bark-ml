{
 "cells": [
  {
   "cell_type": "markdown",
   "metadata": {},
   "source": [
    "# Generative Adverserial Imitation Learning\n",
    "\n",
    "Generative Adversarial Imitation Learning (GAIL) was first proposed in the paper [Generative Adversarial Imitation Learning](https://arxiv.org/abs/1606.03476) by Jonathan Ho and Stefano Ermon. The project task is to implement the Generative Adverserial Imitation Learning model for driving scenarios using the bark-simulator.\n",
    "\n",
    "GAIL is based on the setting of Reinforcement Learning (RL). In Reinforcment Learning, the agent interacts with the environment through its actions and receives rewards in return. The aim of the learning process is to maximize the cummulative reward by chosing the best action in all states.\n",
    "\n",
    "As the name suggests, GAIL belongs to a smaller subgroup of RL, called Imitation Learning. In this setup the goal of the agent is to mimic an expert behavior as closely as possible. The environment awards higher rewards to expert-like behavior and smaller ones to actions which substantially deviate from the expert behavior. In our case, expert trajectories were generated from real life data, namely from the interaction dataset, as well as from a pretrained SAC (Soft Actor-Critic) agent. The expert trajectories, which are obtained in this way, represent the expert knowledge by containing many states with corresponding actions that were produced by the expert.\n",
    "\n",
    "As mentioned previously, learning of the agent in the RL setting is driven by the rewards it receives from the environment. The amount of the reward in the Imitation Learning setting are determined based on how closely the agent mimics the expert behavior. Special in the GAIL approach is that we receive the reward from an adversarial game: The agent is represented by a generator network which is trained based on the feedback of a discriminator network. The generator produces actions for given states which are then evaluated by the discriminator. In the meantime, the discriminator is trained by feeding it with expert and agent state-action pairs for classification. This way, the generator tries to fool the discriminator, hence he aims at acting as expert-like as possible. Meanwhile, the discriminator tries to distinguish between expert and agent trajectories. Intuitively, learning converges when the generator learned to act so similarly to the expert that the discriminator cannot tell apart expert and agent trajectories any more. In game theory this point is called the Nash-equilibrium.\n",
    "\n",
    "In practice, the implementation of a GAIL agent is usually solved in the following way for sample efficiency: The agent interacts with the environment by following its actual policy and hence agent state-action pairs are generated. These points are stored in a replay buffer for further learning. After a specified interval a training step is carried out. This training step has 2 substeps: training the discriminator and training the generator networks. \n",
    "* __Discriminator training:__ The discriminator is fed a batch of expert (from the expert trajectories) and agent (from the replay buffer) state-action pairs. It classifies all of them. Based on their true labels the loss is calculated and a gradient descent step is carried out in order to minimize the loss.\n",
    "* __Generator training:__ The generator is fed a batch of states from the replay buffer and it produces actions for them. The resulting state-action pairs are fed to the discriminator for classification. The negative output of the discriminator is used as a loss for the generator network. (Close to -1 if the agent mimics the expert successfully.) The gradient of the loss is propagated all the way back to the generator network to carry out a gradient step for minimizing the it.<br>\n",
    "As already stated, training runs until both, the generator and the discriminator loss, converge to a steady state value.\n",
    "\n",
    "\n",
    "The training process is visualized in the following figure:\n",
    "\n",
    "\n",
    "<img width=70% src=\"files/data/gail_overview.gif\">"
   ]
  },
  {
   "cell_type": "markdown",
   "metadata": {},
   "source": [
    "## Interaction Dataset\n",
    "As data source, we used the interaction dataset: https://arxiv.org/abs/1910.03088. Here, we are interested in the merging scenarios: deu_merging_mt and chn_merging_zs. Have a look how the Interaction Dataset is integrated in bark: https://github.com/bark-simulator/bark/blob/setup_tutorials/docs/tutorials/04_interaction_dataset.ipynb (Note that the dataset itself is NOT enclosed with bark due to license limitations)."
   ]
  },
  {
   "cell_type": "markdown",
   "metadata": {},
   "source": [
    "## Expert Trajectories\n",
    "As mentioned earlier, we have generated expert trajectories using the Interaction Dataset and also a trained SAC agent. The Interaction Dataset of course contains logs about many different vehicles with different wheel bases. To remedy this issue, we have used a fixed wheel base when calculating the actions from the successive states. This however does not restrict the accuracy of the data. We just consider that all state trajectories were carried out by the same car and calculate the actions that a car would have needed to carry out that behavior. \n",
    "\n",
    "As the state variables and also the actions have diferent magnitudes, we normalize all of them for training. The normalization of the expert trajectories takes place while loading the generated expert trajectories. The loading function also takes the actual environment (BARK runtime) as an input, hence the trajectories can be normalized according to the current parameters. (Current state and action spaces.)"
   ]
  },
  {
   "cell_type": "markdown",
   "metadata": {},
   "source": [
    "## Generate Expert Trajectories\n",
    "A short example script for generating expert trajectories from the interaction dataset are shown in the following. "
   ]
  },
  {
   "cell_type": "code",
   "execution_count": 1,
   "metadata": {},
   "outputs": [
    {
     "name": "stdout",
     "output_type": "stream",
     "text": [
      "pygame 1.9.6\n",
      "Hello from the pygame community. https://www.pygame.org/contribute.html\n"
     ]
    }
   ],
   "source": [
    "import os \n",
    "import bark\n",
    "from pprint import pprint\n",
    "from bark_ml.library_wrappers.lib_tf2rl.generate_expert_trajectories import *\n",
    "\n",
    "tracks_folder = os.path.join(os.getcwd(), 'data')\n",
    "map_file = os.path.join(os.getcwd(), 'data/DR_DEU_Merging_MT_v01_shifted.xodr')\n",
    "known_key = ('DR_DEU_Merging_MT_v01_shifted', 'vehicle_tracks_013')\n",
    "ego_agent = 66\n",
    "\n",
    "param_server = create_parameter_servers_for_scenarios(map_file, tracks_folder)[known_key]\n",
    "param_server[\"Scenario\"][\"Generation\"][\"InteractionDatasetScenarioGeneration\"][\"TrackIds\"] = [\n",
    "    63, 64, 65, 66, 67, 68]\n",
    "param_server[\"Scenario\"][\"Generation\"][\"InteractionDatasetScenarioGeneration\"][\"StartTs\"] = 232000\n",
    "param_server[\"Scenario\"][\"Generation\"][\"InteractionDatasetScenarioGeneration\"][\"EndTs\"] = 259000\n",
    "param_server[\"Scenario\"][\"Generation\"][\"InteractionDatasetScenarioGeneration\"][\"EgoTrackId\"] = ego_agent"
   ]
  },
  {
   "cell_type": "code",
   "execution_count": 2,
   "metadata": {
    "scrolled": true
   },
   "outputs": [
    {
     "data": {
      "image/png": "[encoded data removed]",
      "text/plain": [
       "<Figure size 720x720 with 1 Axes>"
      ]
     },
     "metadata": {
      "needs_background": "light"
     },
     "output_type": "display_data"
    }
   ],
   "source": [
    "expert_trajectories = generate_expert_trajectories_for_scenario(param_server, sim_time_step=200, renderer=\"matplotlib_jupyter\")"
   ]
  },
  {
   "cell_type": "markdown",
   "metadata": {},
   "source": [
    "### The generated expert trajectories\n",
    "The generated expert trajectories are stored in a dictionary with keys:\n",
    "* `obs`: list, containing the observation vector for the timestep.\n",
    "* `act`: list, containing the action that was carried out in that timestep.\n",
    "* `next_obs`: list, the next observation after carrying out the action `act` in the state `obs`. \n",
    "\n",
    "The following two cells show some example states and actions to allow for a better understanding of the format."
   ]
  },
  {
   "cell_type": "code",
   "execution_count": 5,
   "metadata": {},
   "outputs": [
    {
     "name": "stdout",
     "output_type": "stream",
     "text": [
      "Observations for the agent 66\n",
      "\n",
      "[array([ 998.184021  , 1006.93701172,    3.08599997,    2.19539237,\n",
      "        995.9619751 , 1004.27398682,    3.05999994,    1.66448367,\n",
      "       1004.67498779, 1006.34100342,    3.06100011,    1.7957828 ,\n",
      "       1004.05700684, 1003.58398438,    3.07299995,    1.92759383]),\n",
      " array([ 997.74597168, 1006.9619751 ,    3.08599997,    2.18845916,\n",
      "        995.63201904, 1004.30102539,    3.05999994,    1.62844038,\n",
      "       1004.31799316, 1006.36901855,    3.06200004,    1.77660406,\n",
      "       1003.67797852, 1003.60699463,    3.07500005,    1.82607996]),\n",
      " array([ 997.30999756, 1006.98699951,    3.08500004,    2.17947364,\n",
      "        995.309021  , 1004.32800293,    3.05900002,    1.59439075,\n",
      "       1003.96502686, 1006.39697266,    3.06200004,    1.75758469,\n",
      "       1003.31799316, 1003.62902832,    3.07599998,    1.72271013]),\n",
      " array([ 996.875     , 1007.01202393,    3.08500004,    2.16549611,\n",
      "        994.99298096, 1004.35498047,    3.05900002,    1.56133819,\n",
      "       1003.61499023, 1006.42498779,    3.06200004,    1.74454641,\n",
      "       1002.97998047, 1003.65100098,    3.0769999 ,    1.61741185]),\n",
      " array([ 996.44396973, 1007.0369873 ,    3.08400011,    2.14552855,\n",
      "        994.6829834 , 1004.38000488,    3.05900002,    1.53218961,\n",
      "       1003.26702881, 1006.45397949,    3.06200004,    1.74454641,\n",
      "       1002.6619873 , 1003.67297363,    3.07599998,    1.51723337])]\n"
     ]
    }
   ],
   "source": [
    "# Small number of observations for our agent\n",
    "print(f'Observations for the agent {ego_agent}\\n')\n",
    "pprint(expert_trajectories[ego_agent]['obs'][:5])"
   ]
  },
  {
   "cell_type": "markdown",
   "metadata": {},
   "source": [
    "`expert_trajectories[ego_agent]['obs'][i]` contains \n",
    "\n",
    "\\begin{align*}\n",
    "\\begin{pmatrix}\n",
    "x \\\\\n",
    "y \\\\\n",
    "\\Theta \\\\\n",
    "v\n",
    "\\end{pmatrix}\n",
    "\\text{ for the ego vehicle and the three nearest vehicles in the scene, where $x$ and $y$ are 2D coordinates, $\\Theta$ is orientation and $v$ velocity.}\n",
    "\\end{align*}"
   ]
  },
  {
   "cell_type": "code",
   "execution_count": 6,
   "metadata": {
    "scrolled": true
   },
   "outputs": [
    {
     "name": "stdout",
     "output_type": "stream",
     "text": [
      "Actions of the agent 66\n",
      "\n",
      "[[-0.034666060884802626, 0.0],\n",
      " [-0.044927593029058605, -0.006168197873944377],\n",
      " [-0.06988764225766911, 0.0],\n",
      " [-0.09983778594957507, -0.006233605047211027],\n",
      " [-0.1200890254762112, 0.0]]\n"
     ]
    }
   ],
   "source": [
    "# Small number of actions for our agent\n",
    "print(f'Actions of the agent {ego_agent}\\n')\n",
    "pprint(expert_trajectories[ego_agent]['act'][:5])"
   ]
  },
  {
   "cell_type": "markdown",
   "metadata": {},
   "source": [
    "`expert_trajectories[ego_agent]['act'][i]` contains \n",
    "\n",
    "\\begin{align*}\n",
    "\\begin{pmatrix}\n",
    "a \\\\\n",
    "\\delta \n",
    "\\end{pmatrix}\n",
    "\\text{, where $a$ is acceleration and $\\delta$ is steering angle.}\n",
    "\\end{align*}"
   ]
  },
  {
   "cell_type": "markdown",
   "metadata": {},
   "source": [
    "## GAIL implementation\n",
    "\n",
    "### TF2RL implementation\n",
    "We have chosen an off the shelf implementation, the library [TF2RL](https://github.com/keiohta/tf2rl). It implements several reinforcement learning algorithms methods in [tensorflow 2](https://www.tensorflow.org/guide/effective_tf2). \n",
    "\n",
    "The GAIL agent is built up as follows:\n",
    "* __Generator:__ A complete DDPG agent with actor and critic networks. Both of them have 2-2 hidden layers.\n",
    "* __Discriminator:__ A normal discriminator network with 2 hidden layers.\n",
    "\n",
    "In this respect, the agent is not in the traditional GAIL setup with 2 neural networks. Instead, it actually has 5 networks since the DDPG agent itself has 4 of them for greater stability during training. The DDPG agent's critic network basically receives the judgement of the discriminator network as the reward from the environment and its training aims to maximize this reward.\n",
    "\n",
    "### Integration into BARK\n",
    "The integration of the TF2RL based GAIL agent is done along existing BARK concepts and has been done in the following most important classes:\n",
    "* __TF2RLWrapper:__ Wraps the BARK runtime to match the expectations of TF2RL about the environment. The observation and action normalization also takes place here.\n",
    "    * source: `bark_ml/library_wrappers/lib_tf2rl/tf2rl_wrapper.py`\n",
    "* __BehaviorTF2RLAgent:__ Base class for TF2RL based agents.\n",
    "    * source: `bark_ml/library_wrappers/lib_tf2rl/agents/tf2rl_agent.py`\n",
    "* __BehaviorGAILAgent:__ The TF2RL based GAIL agent.\n",
    "    * source: `bark_ml/library_wrappers/lib_tf2rl/agents/gail_agent.py`\n",
    "* __TF2RLRunner:__ Base class for TF2RL based runners.\n",
    "    * source: `bark_ml/library_wrappers/lib_tf2rl/runners/tf2rl_runner.py`\n",
    "* __GAILRunner:__ The TF2RL based GAIL runner.\n",
    "    * source: `bark_ml/library_wrappers/lib_tf2rl/runners/gail_runner.py`\n",
    "    \n",
    "In the followings the training process is demonstrated. Later the performance of a pre-trained agent can be visualized.\n",
    "\n",
    "---"
   ]
  },
  {
   "cell_type": "markdown",
   "metadata": {},
   "source": [
    "### Training\n",
    "The parameters which can be set on demand:\n",
    "* The number of steps to train for.\n",
    "* The frequency of testing during training\n",
    "* The number of episodes in each testing round."
   ]
  },
  {
   "cell_type": "code",
   "execution_count": 7,
   "metadata": {},
   "outputs": [],
   "source": [
    "# Customize some parameters here!\n",
    "\n",
    "max_steps = 100000          # Number of steps to train for.\n",
    "test_interval = 1000        # test in every ... steps.\n",
    "test_episodes = 5           # number of test episodes.\n",
    "gpu = 0                     # use -1 for cpu only."
   ]
  },
  {
   "cell_type": "code",
   "execution_count": 8,
   "metadata": {},
   "outputs": [
    {
     "ename": "ModuleNotFoundError",
     "evalue": "No module named 'bark_ml.library_wrappers.lib_tf2rl.normalization_utils'",
     "output_type": "error",
     "traceback": [
      "\u001b[0;31m---------------------------------------------------------------------------\u001b[0m",
      "\u001b[0;31mModuleNotFoundError\u001b[0m                       Traceback (most recent call last)",
      "\u001b[0;32m<ipython-input-8-c0628d53592d>\u001b[0m in \u001b[0;36m<module>\u001b[0;34m\u001b[0m\n\u001b[1;32m     12\u001b[0m   \u001b[0mContinuousMergingBlueprint\u001b[0m\u001b[0;34m,\u001b[0m \u001b[0mContinuousIntersectionBlueprint\u001b[0m\u001b[0;34m,\u001b[0m \u001b[0mGailMergingBlueprint\u001b[0m\u001b[0;34m\u001b[0m\u001b[0;34m\u001b[0m\u001b[0m\n\u001b[1;32m     13\u001b[0m \u001b[0;32mfrom\u001b[0m \u001b[0mbark_ml\u001b[0m\u001b[0;34m.\u001b[0m\u001b[0menvironments\u001b[0m\u001b[0;34m.\u001b[0m\u001b[0msingle_agent_runtime\u001b[0m \u001b[0;32mimport\u001b[0m \u001b[0mSingleAgentRuntime\u001b[0m\u001b[0;34m\u001b[0m\u001b[0;34m\u001b[0m\u001b[0m\n\u001b[0;32m---> 14\u001b[0;31m \u001b[0;32mfrom\u001b[0m \u001b[0mbark_ml\u001b[0m\u001b[0;34m.\u001b[0m\u001b[0mlibrary_wrappers\u001b[0m\u001b[0;34m.\u001b[0m\u001b[0mlib_tf2rl\u001b[0m\u001b[0;34m.\u001b[0m\u001b[0mtf2rl_wrapper\u001b[0m \u001b[0;32mimport\u001b[0m \u001b[0mTF2RLWrapper\u001b[0m\u001b[0;34m\u001b[0m\u001b[0;34m\u001b[0m\u001b[0m\n\u001b[0m\u001b[1;32m     15\u001b[0m \u001b[0;32mfrom\u001b[0m \u001b[0mbark_ml\u001b[0m\u001b[0;34m.\u001b[0m\u001b[0mlibrary_wrappers\u001b[0m\u001b[0;34m.\u001b[0m\u001b[0mlib_tf2rl\u001b[0m\u001b[0;34m.\u001b[0m\u001b[0magents\u001b[0m\u001b[0;34m.\u001b[0m\u001b[0mgail_agent\u001b[0m \u001b[0;32mimport\u001b[0m \u001b[0mBehaviorGAILAgent\u001b[0m\u001b[0;34m\u001b[0m\u001b[0;34m\u001b[0m\u001b[0m\n\u001b[1;32m     16\u001b[0m \u001b[0;32mfrom\u001b[0m \u001b[0mbark_ml\u001b[0m\u001b[0;34m.\u001b[0m\u001b[0mlibrary_wrappers\u001b[0m\u001b[0;34m.\u001b[0m\u001b[0mlib_tf2rl\u001b[0m\u001b[0;34m.\u001b[0m\u001b[0mrunners\u001b[0m\u001b[0;34m.\u001b[0m\u001b[0mgail_runner\u001b[0m \u001b[0;32mimport\u001b[0m \u001b[0mGAILRunner\u001b[0m\u001b[0;34m\u001b[0m\u001b[0;34m\u001b[0m\u001b[0m\n",
      "\u001b[0;32m/private/var/tmp/_bazel_Marcel/91a07cff622db1938472a1924f8cfd53/execroot/bark_ml/bazel-out/darwin-fastbuild/bin/docs/report/run.runfiles/bark_ml/bark_ml/library_wrappers/lib_tf2rl/tf2rl_wrapper.py\u001b[0m in \u001b[0;36m<module>\u001b[0;34m\u001b[0m\n\u001b[1;32m      2\u001b[0m \u001b[0;34m\u001b[0m\u001b[0m\n\u001b[1;32m      3\u001b[0m \u001b[0;31m#BARK-ML imports\u001b[0m\u001b[0;34m\u001b[0m\u001b[0;34m\u001b[0m\u001b[0;34m\u001b[0m\u001b[0m\n\u001b[0;32m----> 4\u001b[0;31m \u001b[0;32mfrom\u001b[0m \u001b[0mbark_ml\u001b[0m\u001b[0;34m.\u001b[0m\u001b[0mlibrary_wrappers\u001b[0m\u001b[0;34m.\u001b[0m\u001b[0mlib_tf2rl\u001b[0m\u001b[0;34m.\u001b[0m\u001b[0mnormalization_utils\u001b[0m \u001b[0;32mimport\u001b[0m \u001b[0mrescale\u001b[0m\u001b[0;34m,\u001b[0m \u001b[0mnormalize\u001b[0m\u001b[0;34m\u001b[0m\u001b[0;34m\u001b[0m\u001b[0m\n\u001b[0m\u001b[1;32m      5\u001b[0m \u001b[0;34m\u001b[0m\u001b[0m\n\u001b[1;32m      6\u001b[0m \u001b[0;34m\u001b[0m\u001b[0m\n",
      "\u001b[0;31mModuleNotFoundError\u001b[0m: No module named 'bark_ml.library_wrappers.lib_tf2rl.normalization_utils'"
     ]
    }
   ],
   "source": [
    "# imports\n",
    "import os\n",
    "from pathlib import Path\n",
    "\n",
    "# BARK imports\n",
    "from bark_project.bark.runtime.commons.parameters import ParameterServer\n",
    "from bark.runtime.viewer.matplotlib_viewer import MPViewer\n",
    "from bark.runtime.viewer.video_renderer import VideoRenderer\n",
    "\n",
    "# BARK-ML imports\n",
    "from bark_ml.environments.blueprints import ContinuousHighwayBlueprint, \\\n",
    "  ContinuousMergingBlueprint, ContinuousIntersectionBlueprint, GailMergingBlueprint\n",
    "from bark_ml.environments.single_agent_runtime import SingleAgentRuntime\n",
    "from bark_ml.library_wrappers.lib_tf2rl.tf2rl_wrapper import TF2RLWrapper\n",
    "from bark_ml.library_wrappers.lib_tf2rl.agents.gail_agent import BehaviorGAILAgent\n",
    "from bark_ml.library_wrappers.lib_tf2rl.runners.gail_runner import GAILRunner\n",
    "from bark_ml.library_wrappers.lib_tf2rl.load_expert_trajectories import load_expert_trajectories\n",
    "\n",
    "# Load the TensorBoard notebook extension\n",
    "%load_ext tensorboard"
   ]
  },
  {
   "cell_type": "markdown",
   "metadata": {},
   "source": [
    "The next cell deletes the previous logs and launches tensorboard. After tensorboard has launched, please go on to the next cell and start the training. The tensorboard window refreshes itself every 30 seconds, but you can also refresh it manually in the upper right corner."
   ]
  },
  {
   "cell_type": "code",
   "execution_count": 9,
   "metadata": {},
   "outputs": [
    {
     "name": "stdout",
     "output_type": "stream",
     "text": [
      "rm: data/logs: No such file or directory\r\n"
     ]
    },
    {
     "name": "stderr",
     "output_type": "stream",
     "text": [
      "UsageError: Line magic function `%tensorboard` not found.\n"
     ]
    }
   ],
   "source": [
    "# launching tensorboard and deleting the previous runs logdirs:\n",
    "%rm -r \"data/logs\"\n",
    "%mkdir \"data/logs\"\n",
    "%tensorboard --logdir \"data/logs\""
   ]
  },
  {
   "cell_type": "code",
   "execution_count": 10,
   "metadata": {
    "scrolled": true
   },
   "outputs": [
    {
     "name": "stderr",
     "output_type": "stream",
     "text": [
      "/private/var/tmp/_bazel_Marcel/91a07cff622db1938472a1924f8cfd53/execroot/bark_ml/bazel-out/darwin-fastbuild/bin/docs/report/run.runfiles/bark_project/bark/runtime/commons/xodr_parser.py:108: FutureWarning: The behavior of this method will change in future versions. Use specific 'len(elem)' or 'elem is not None' test instead.\n",
      "  if lane.find(\"userData\"):\n"
     ]
    },
    {
     "ename": "NameError",
     "evalue": "name 'TF2RLWrapper' is not defined",
     "output_type": "error",
     "traceback": [
      "\u001b[0;31m---------------------------------------------------------------------------\u001b[0m",
      "\u001b[0;31mNameError\u001b[0m                                 Traceback (most recent call last)",
      "\u001b[0;32m<ipython-input-10-16c006a5bdd7>\u001b[0m in \u001b[0;36m<module>\u001b[0;34m\u001b[0m\n\u001b[1;32m     22\u001b[0m \u001b[0;34m\u001b[0m\u001b[0m\n\u001b[1;32m     23\u001b[0m \u001b[0;31m# wrapped environment for compatibility with tf2rl\u001b[0m\u001b[0;34m\u001b[0m\u001b[0;34m\u001b[0m\u001b[0;34m\u001b[0m\u001b[0m\n\u001b[0;32m---> 24\u001b[0;31m wrapped_env = TF2RLWrapper(env, \n\u001b[0m\u001b[1;32m     25\u001b[0m normalize_features=params[\"ML\"][\"Settings\"][\"NormalizeFeatures\"])\n\u001b[1;32m     26\u001b[0m \u001b[0;34m\u001b[0m\u001b[0m\n",
      "\u001b[0;31mNameError\u001b[0m: name 'TF2RLWrapper' is not defined"
     ]
    },
    {
     "data": {
      "image/png": "[encoded data removed]",
      "text/plain": [
       "<Figure size 432x288 with 1 Axes>"
      ]
     },
     "metadata": {
      "needs_background": "light"
     },
     "output_type": "display_data"
    }
   ],
   "source": [
    "# load params from the json file to create the parameter server object\n",
    "params = ParameterServer(filename=\"data/params/gail_params.json\")\n",
    "\n",
    "# customized parameters:\n",
    "params[\"ML\"][\"Settings\"][\"GPUUse\"] = gpu\n",
    "params[\"ML\"][\"GAILRunner\"][\"tf2rl\"][\"max_steps\"] = max_steps\n",
    "params[\"ML\"][\"GAILRunner\"][\"tf2rl\"][\"test_interval\"] = test_interval\n",
    "params[\"ML\"][\"GAILRunner\"][\"tf2rl\"][\"test_episodes\"] = test_episodes\n",
    "if params[\"ML\"][\"BehaviorGAILAgent\"][\"WarmUp\"] > max_steps / 2:\n",
    "    params[\"ML\"][\"BehaviorGAILAgent\"][\"WarmUp\"] = max_steps / 2\n",
    "\n",
    "# create some logging dirs if they are not present already\n",
    "Path(params[\"ML\"][\"GAILRunner\"][\"tf2rl\"][\"logdir\"]).mkdir(exist_ok=True, parents=True)\n",
    "Path(params[\"ML\"][\"GAILRunner\"][\"tf2rl\"][\"model_dir\"]).mkdir(exist_ok=True, parents=True)\n",
    "\n",
    "# create environment\n",
    "bp = ContinuousMergingBlueprint(params,\n",
    "                              number_of_senarios=500,\n",
    "                              random_seed=0)\n",
    "env = SingleAgentRuntime(blueprint=bp,\n",
    "                      render=False)\n",
    "\n",
    "# wrapped environment for compatibility with tf2rl\n",
    "wrapped_env = TF2RLWrapper(env, \n",
    "normalize_features=params[\"ML\"][\"Settings\"][\"NormalizeFeatures\"])\n",
    "\n",
    "# instantiate the GAIL agent\n",
    "gail_agent = BehaviorGAILAgent(environment=wrapped_env,\n",
    "                           params=params)\n",
    "\n",
    "# load the expert trajectories\n",
    "expert_trajectories, _, _ = load_expert_trajectories(\n",
    "    params[\"ML\"][\"GAILRunner\"][\"tf2rl\"][\"expert_path_dir\"],\n",
    "    normalize_features=params[\"ML\"][\"Settings\"][\"NormalizeFeatures\"],\n",
    "    env=env # the unwrapped env has to be used, since that contains the unnormalized spaces\n",
    "    ) \n",
    "\n",
    "# instantiate a runner that is going to train the agent\n",
    "runner = GAILRunner(params=params,\n",
    "                 environment=wrapped_env,\n",
    "                 agent=gail_agent,\n",
    "                 expert_trajs=expert_trajectories)\n",
    "\n",
    "# train the agent\n",
    "runner.Train()"
   ]
  },
  {
   "cell_type": "markdown",
   "metadata": {},
   "source": [
    "### Trained agent visualization\n",
    "Please set up the number of scenarios to visualize in the next cell!"
   ]
  },
  {
   "cell_type": "code",
   "execution_count": 12,
   "metadata": {},
   "outputs": [],
   "source": [
    "# number of scenarios to visualize\n",
    "num_scenarios_to_visualize = 10"
   ]
  },
  {
   "cell_type": "code",
   "execution_count": 13,
   "metadata": {},
   "outputs": [
    {
     "ename": "NameError",
     "evalue": "name 'TF2RLWrapper' is not defined",
     "output_type": "error",
     "traceback": [
      "\u001b[0;31m---------------------------------------------------------------------------\u001b[0m",
      "\u001b[0;31mNameError\u001b[0m                                 Traceback (most recent call last)",
      "\u001b[0;32m<ipython-input-13-dd36cbf0302a>\u001b[0m in \u001b[0;36m<module>\u001b[0;34m\u001b[0m\n\u001b[1;32m     25\u001b[0m \u001b[0;34m\u001b[0m\u001b[0m\n\u001b[1;32m     26\u001b[0m \u001b[0;31m# wrapped environment for compatibility with tf2rl\u001b[0m\u001b[0;34m\u001b[0m\u001b[0;34m\u001b[0m\u001b[0;34m\u001b[0m\u001b[0m\n\u001b[0;32m---> 27\u001b[0;31m wrapped_env = TF2RLWrapper(env, \n\u001b[0m\u001b[1;32m     28\u001b[0m normalize_features=params[\"ML\"][\"Settings\"][\"NormalizeFeatures\"])\n\u001b[1;32m     29\u001b[0m \u001b[0;34m\u001b[0m\u001b[0m\n",
      "\u001b[0;31mNameError\u001b[0m: name 'TF2RLWrapper' is not defined"
     ]
    },
    {
     "data": {
      "image/png": "[encoded data removed]",
      "text/plain": [
       "<Figure size 432x288 with 1 Axes>"
      ]
     },
     "metadata": {
      "needs_background": "light"
     },
     "output_type": "display_data"
    }
   ],
   "source": [
    "# load params from the json file to create the parameter server object\n",
    "params = ParameterServer(filename=\"data/params/gail_params.json\")\n",
    "\n",
    "# setting the path for the pretrained agent.\n",
    "params[\"ML\"][\"GAILRunner\"][\"tf2rl\"][\"model_dir\"] = os.path.join('data', 'pretrained_agent')\n",
    "\n",
    "# customized parameters:\n",
    "params[\"ML\"][\"Settings\"][\"GPUUse\"] = gpu\n",
    "params[\"ML\"][\"GAILRunner\"][\"tf2rl\"][\"max_steps\"] = max_steps\n",
    "params[\"ML\"][\"GAILRunner\"][\"tf2rl\"][\"test_interval\"] = test_interval\n",
    "params[\"ML\"][\"GAILRunner\"][\"tf2rl\"][\"test_episodes\"] = test_episodes\n",
    "if params[\"ML\"][\"BehaviorGAILAgent\"][\"WarmUp\"] > max_steps / 2:\n",
    "    params[\"ML\"][\"BehaviorGAILAgent\"][\"WarmUp\"] = max_steps / 2\n",
    "\n",
    "# create some logging directories if they are not present yet\n",
    "Path(params[\"ML\"][\"GAILRunner\"][\"tf2rl\"][\"logdir\"]).mkdir(exist_ok=True, parents=True)\n",
    "Path(params[\"ML\"][\"GAILRunner\"][\"tf2rl\"][\"model_dir\"]).mkdir(exist_ok=True, parents=True)\n",
    "\n",
    "# create environment\n",
    "bp = ContinuousMergingBlueprint(params,\n",
    "                              number_of_senarios=500,\n",
    "                              random_seed=0)\n",
    "env = SingleAgentRuntime(blueprint=bp,\n",
    "                      render=False)\n",
    "\n",
    "# wrapped environment for compatibility with tf2rl\n",
    "wrapped_env = TF2RLWrapper(env, \n",
    "normalize_features=params[\"ML\"][\"Settings\"][\"NormalizeFeatures\"])\n",
    "\n",
    "# instantiate the GAIL agent\n",
    "gail_agent = BehaviorGAILAgent(environment=wrapped_env,\n",
    "                           params=params)\n",
    "\n",
    "# load the expert trajectories\n",
    "expert_trajectories, _, _ = load_expert_trajectories(\n",
    "    params[\"ML\"][\"GAILRunner\"][\"tf2rl\"][\"expert_path_dir\"],\n",
    "    normalize_features=params[\"ML\"][\"Settings\"][\"NormalizeFeatures\"],\n",
    "    env=env # the unwrapped env has to be used, since that contains the unnormalized spaces.\n",
    "    ) \n",
    "\n",
    "# instantiate a runner that is going to train the agent\n",
    "runner = GAILRunner(params=params,\n",
    "                 environment=wrapped_env,\n",
    "                 agent=gail_agent,\n",
    "                 expert_trajs=expert_trajectories)\n",
    "\n",
    "# Visualize the agent\n",
    "runner.Visualize(num_scenarios_to_visualize, renderer=\"matplotlib_jupyter\")"
   ]
  },
  {
   "cell_type": "code",
   "execution_count": null,
   "metadata": {},
   "outputs": [],
   "source": []
  }
 ],
 "metadata": {
  "kernelspec": {
   "display_name": "Python 3",
   "language": "python",
   "name": "python3"
  },
  "language_info": {
   "codemirror_mode": {
    "name": "ipython",
    "version": 3
   },
   "file_extension": ".py",
   "mimetype": "text/x-python",
   "name": "python",
   "nbconvert_exporter": "python",
   "pygments_lexer": "ipython3",
   "version": "3.7.7+"
  }
 },
 "nbformat": 4,
 "nbformat_minor": 2
}
