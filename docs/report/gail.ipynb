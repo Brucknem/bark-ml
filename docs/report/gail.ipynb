{
 "cells": [
  {
   "cell_type": "markdown",
   "metadata": {},
   "source": [
    "# Generative Adverserial Imitation Learning\n",
    "\n",
    "Generative Adversarial Imitation Learning (GAIL) was first proposed in the paper [Generative Adversarial Imitation Learning](https://arxiv.org/abs/1606.03476) by Jonathan Ho and Stefano Ermon. The project task is to implement the Generative Adverserial Imitation Learning model for driving scenarios using the bark-simulator.\n",
    "\n",
    "GAIL is based on the setting of Reinforcement Learning (RL). In Reinforcment Learning, the agent interacts with the environment through its actions and receives rewards in return. The aim of the learning process is to maximize to cummulative reward by chosing the right action in the states.\n",
    "\n",
    "As the name suggests, GAIL falls into a smaller subgroup of RL, called Imitation Learning. In this setup the goal of the agent is to mimik an expert behavior as closely as possible. The environment awards higher rewards to expert-like behavior and smaller to actions which deviate from the expert behavior much. In our case, expert trajectories were generated from real life data, namely from the interaction dataset, as well as from a pretrained SAC (Soft Actor-Critic) agent. The expert trajectories, which are gained in this way represent the expert knowladge by containing many states and the corresponding actions which were produced by the expert.\n",
    "\n",
    "A said, the learning of the agent in the RL setting is driven by the rewards it receives from the environmen. The amount of the reward in the Imitation Learning case are determined based on how closely the agent mimics the expert behavior. Furthermore, specially in the GAIL approach we get the reward from an adversarial game: The agent is represented by the generator network, which is trained based on the feedback of the discriminator network. The generator produces actions for given states, which are then judged by the discriminator. In the meantime the discriminator is trained by feeding it expert and agent state-action pairs for classification. In this way the generator tries to fool the discriminator, hence tries to act as expert-like as possible, meanwhile the discriminator tries to identify expert and agent trajectories from eachother. Intuitively the learning converges, when the generator learned to act so similarly to the expert that the discriminator can not tell apart expert and agent trajectories any more. In game theory this point is called the Nash-equilibrium.\n",
    "\n",
    "In practice, the implementation of a GAIL agent is usually solved in the following way for sample efficiency: The agent interacts with the environment by following its actual policy and hence agent state-action pairs are generated. These points are stored in a replay buffer for further learning. After a specified interval a training step is carried out. This training step has got 2 substeps: training the discriminator and training the generator networks. \n",
    "* __Discriminator training:__ The discriminator is fed a batch of expert (from the expert trajectories) and agent (from the replay buffer) state-action pairs. It classifies all of them. Based on their true labels the loss is calculated and a gradient descent step is carried out in order to minimize the loss.\n",
    "* __Generator training:__ The generator is fed a batch of states from the replay buffer and it produces actions for them. The resulting state-action pairs are fed to the discriminator for classification. The negative output of the discriminator is used as a loss for the generator network. (Close to -1 if the agent mimics the expert successfully.) The gradient of the loss is propagated all the way back to the generator network to carry out a gradient step for minimizing the it.\n",
    "As said, the training goes until both the generator and the discriminator loss converge to a stady state value. The training process is visualized in the following figure:\n",
    "\n",
    "\n",
    "<img width=70% src=\"files/data/gail_overview.gif\">"
   ]
  },
  {
   "cell_type": "markdown",
   "metadata": {},
   "source": [
    "## Interaction Dataset\n",
    "As a data source, we used the interaction dataset: https://arxiv.org/abs/1910.03088. Here, we are interested in the merging scenarios: deu_merging_mt and chn_merging_zs. Have a look how the Interaction Dataset is integrated in bark: https://github.com/bark-simulator/bark/blob/setup_tutorials/docs/tutorials/04_interaction_dataset.ipynb (Note that the dataset itself is NOT enclosed with bark due to license limitations)."
   ]
  },
  {
   "cell_type": "markdown",
   "metadata": {},
   "source": [
    "## Expert Trajectories\n",
    "As said, we have generated expert trajectories using the Interaction Dataset and also a trained SAC agent. The Interaction Dataset of course contains logs about many different vehicles with different wheel bases. To remedy this issue, we have used a fixed wheel base when calculating the actions from the successive states. This however does not restrict the accuracy of the data, we just consider that all state trajectories were carried out by the same car and calculate the actions that car would have required to carrie out that behavior. \n",
    "\n",
    "As the state variables and also the actions have diferent magnitudes, we normalize all of them for training. The normalization of the expert trajectories takes place while loading the generated expert trajectories. The loading function also takes the actual environment (BARK runtime) as an input, hence the trajectories can be normalized according to the current parameters. (Current state and action spaces.)"
   ]
  },
  {
   "cell_type": "markdown",
   "metadata": {},
   "source": [
    "## Generate Expert Trajectories\n",
    "A short example script for generating expert trajectories from the interaction dataset are shown in the followings. "
   ]
  },
  {
   "cell_type": "code",
   "execution_count": 2,
   "metadata": {},
   "outputs": [
    {
     "name": "stdout",
     "output_type": "stream",
     "text": [
      "pygame 1.9.6\n",
      "Hello from the pygame community. https://www.pygame.org/contribute.html\n"
     ]
    }
   ],
   "source": [
    "import os \n",
    "import bark\n",
    "from pprint import pprint\n",
    "from bark_ml.library_wrappers.lib_tf2rl.generate_expert_trajectories import *\n",
    "\n",
    "tracks_folder = os.path.join(os.getcwd(), 'data')\n",
    "map_file = os.path.join(os.getcwd(), 'data/DR_DEU_Merging_MT_v01_shifted.xodr')\n",
    "known_key = ('DR_DEU_Merging_MT_v01_shifted', 'vehicle_tracks_013')\n",
    "ego_agent = 66\n",
    "\n",
    "param_server = create_parameter_servers_for_scenarios(map_file, tracks_folder)[known_key]\n",
    "param_server[\"Scenario\"][\"Generation\"][\"InteractionDatasetScenarioGeneration\"][\"TrackIds\"] = [\n",
    "    63, 64, 65, 66, 67, 68]\n",
    "param_server[\"Scenario\"][\"Generation\"][\"InteractionDatasetScenarioGeneration\"][\"StartTs\"] = 232000\n",
    "param_server[\"Scenario\"][\"Generation\"][\"InteractionDatasetScenarioGeneration\"][\"EndTs\"] = 259000\n",
    "param_server[\"Scenario\"][\"Generation\"][\"InteractionDatasetScenarioGeneration\"][\"EgoTrackId\"] = ego_agent"
   ]
  },
  {
   "cell_type": "code",
   "execution_count": 2,
   "metadata": {
    "scrolled": false
   },
   "outputs": [
    {
     "data": {
      "image/png": "[encoded data removed]",
      "text/plain": [
       "<Figure size 720x720 with 1 Axes>"
      ]
     },
     "metadata": {
      "needs_background": "light"
     },
     "output_type": "display_data"
    }
   ],
   "source": [
    "expert_trajectories = generate_expert_trajectories_for_scenario(param_server, sim_time_step=200, renderer=\"matplotlib_jupyter\")"
   ]
  },
  {
   "cell_type": "markdown",
   "metadata": {},
   "source": [
    "### The generated expert trajectories:\n",
    "The generated expert trajectories are stored in a dictionary with keys:\n",
    "* `obs`: list, containing the observation vector for the timestep.\n",
    "* `act`: list, containing the action that was carried out in that timestep.\n",
    "* `next_obs`: list, the next observation after carrying out the action `act` in the state `obs`. \n",
    "\n",
    "The following 2 cells show some example states and actions for being able to better understanding the format."
   ]
  },
  {
   "cell_type": "code",
   "execution_count": 3,
   "metadata": {
    "scrolled": false
   },
   "outputs": [
    {
     "name": "stdout",
     "output_type": "stream",
     "text": [
      "Observations for the agent 66\n",
      "\n",
      "[array([ 998.184021  , 1006.93701172,    3.08599997,    2.19539237,\n",
      "        995.9619751 , 1004.27398682,    3.05999994,    1.66448367,\n",
      "       1004.67498779, 1006.34100342,    3.06100011,    1.7957828 ,\n",
      "       1004.05700684, 1003.58398438,    3.07299995,    1.92759383]),\n",
      " array([ 997.74597168, 1006.9619751 ,    3.08599997,    2.18845916,\n",
      "        995.63201904, 1004.30102539,    3.05999994,    1.62844038,\n",
      "       1004.31799316, 1006.36901855,    3.06200004,    1.77660406,\n",
      "       1003.67797852, 1003.60699463,    3.07500005,    1.82607996]),\n",
      " array([ 997.30999756, 1006.98699951,    3.08500004,    2.17947364,\n",
      "        995.309021  , 1004.32800293,    3.05900002,    1.59439075,\n",
      "       1003.96502686, 1006.39697266,    3.06200004,    1.75758469,\n",
      "       1003.31799316, 1003.62902832,    3.07599998,    1.72271013]),\n",
      " array([ 996.875     , 1007.01202393,    3.08500004,    2.16549611,\n",
      "        994.99298096, 1004.35498047,    3.05900002,    1.56133819,\n",
      "       1003.61499023, 1006.42498779,    3.06200004,    1.74454641,\n",
      "       1002.97998047, 1003.65100098,    3.0769999 ,    1.61741185]),\n",
      " array([ 996.44396973, 1007.0369873 ,    3.08400011,    2.14552855,\n",
      "        994.6829834 , 1004.38000488,    3.05900002,    1.53218961,\n",
      "       1003.26702881, 1006.45397949,    3.06200004,    1.74454641,\n",
      "       1002.6619873 , 1003.67297363,    3.07599998,    1.51723337])]\n"
     ]
    }
   ],
   "source": [
    "# Small number of observations for our agent\n",
    "print(f'Observations for the agent {ego_agent}\\n')\n",
    "pprint(expert_trajectories[ego_agent]['obs'][:5])"
   ]
  },
  {
   "cell_type": "code",
   "execution_count": 4,
   "metadata": {
    "scrolled": false
   },
   "outputs": [
    {
     "name": "stdout",
     "output_type": "stream",
     "text": [
      "Actions of the agent 66\n",
      "\n",
      "[[-0.034666060884802626, 0.0],\n",
      " [-0.044927593029058605, -0.006168197873944377],\n",
      " [-0.06988764225766911, 0.0],\n",
      " [-0.09983778594957507, -0.006233605047211027],\n",
      " [-0.1200890254762112, 0.0]]\n"
     ]
    }
   ],
   "source": [
    "# Small number of actions for our agent\n",
    "print(f'Actions of the agent {ego_agent}\\n')\n",
    "pprint(expert_trajectories[ego_agent]['act'][:5])"
   ]
  },
  {
   "cell_type": "markdown",
   "metadata": {},
   "source": [
    "## GAIL implementation\n",
    "\n",
    "### TF2RL implementation\n",
    "We have chosen an off the shelf implementation, the library [TF2RL](https://github.com/keiohta/tf2rl). It implements several reinforcement algorithms and training methods in [tensorflow 2](https://www.tensorflow.org/guide/effective_tf2). \n",
    "\n",
    "The GAIL agent is built up as follows:\n",
    "* __Generator:__ A complete DDPG agent with the actor and critic networks. Both of them has 2-2 hidden layers.\n",
    "* __Discriminator:__ A normal discriminator network with 2 hidden layers.\n",
    "\n",
    "In this respect the agent is not in the traditional GAIL setup with 2 neural networks, but instead it actually has 5 networks, since the DDPG agent it self has got 4 of them for greater stability during training. The DDPG agent's critic network basically receives the judgement of the Discriminator network as the reward from the environment and its training aims to maximize this reward.\n",
    "\n",
    "### Integration into BARK\n",
    "The integration of the TF2RL based GAIL agent is done along existing BARK concepts and has been done in the following most important classes:\n",
    "* __TF2RLWrapper:__ Wraps the BARK runtime to match the expectations of tf2rl about the environment. The observation and action normalization also takes place here.\n",
    "    * source: `bark_ml/library_wrappers/lib_tf2rl/tf2rl_wrapper.py`\n",
    "* __BehaviorTF2RLAgent:__ Base class for TF2RL based agents.\n",
    "    * source: `bark_ml/library_wrappers/lib_tf2rl/agents/tf2rl_agent.py`\n",
    "* __BehaviorGAILAgent:__ The TF2RL based GAIL agent.\n",
    "    * source: `bark_ml/library_wrappers/lib_tf2rl/agents/gail_agent.py`\n",
    "* __TF2RLRunner:__ Base class for TF2RL based runners.\n",
    "    * source: `bark_ml/library_wrappers/lib_tf2rl/runners/tf2rl_runner.py`\n",
    "* __GAILRunner:__ The TF2RL based GAIL runner.\n",
    "    * source: `bark_ml/library_wrappers/lib_tf2rl/runners/gail_runner.py`\n",
    "    \n",
    "In the followings the training process is shown. Later the performance of a pre-trained agent can be visualized.\n",
    "\n",
    "---"
   ]
  },
  {
   "cell_type": "markdown",
   "metadata": {},
   "source": [
    "### Training\n",
    "The parameters which can be set on demand:\n",
    "* The number of steps to train for.\n",
    "* The frequency of testing during training\n",
    "* The number of episodes in each testing round."
   ]
  },
  {
   "cell_type": "code",
   "execution_count": 4,
   "metadata": {},
   "outputs": [],
   "source": [
    "# Costumise some parameters here!!! #\n",
    "\n",
    "max_steps = 100000          # Number of steps to train for.\n",
    "test_interval = 100        # test in every ... steps.\n",
    "test_episodes = 5           # number of test episodes.\n",
    "gpu = 0                     # use -1 for cpu only."
   ]
  },
  {
   "cell_type": "code",
   "execution_count": 5,
   "metadata": {},
   "outputs": [
    {
     "name": "stdout",
     "output_type": "stream",
     "text": [
      "The tensorboard extension is already loaded. To reload it, use:\n",
      "  %reload_ext tensorboard\n"
     ]
    }
   ],
   "source": [
    "# IMPORTS\n",
    "import os\n",
    "from pathlib import Path\n",
    "\n",
    "# BARK imports\n",
    "from bark_project.bark.runtime.commons.parameters import ParameterServer\n",
    "from bark.runtime.viewer.matplotlib_viewer import MPViewer\n",
    "from bark.runtime.viewer.video_renderer import VideoRenderer\n",
    "\n",
    "# BARK-ML imports\n",
    "from bark_ml.environments.blueprints import ContinuousHighwayBlueprint, \\\n",
    "  ContinuousMergingBlueprint, ContinuousIntersectionBlueprint, GailMergingBlueprint\n",
    "from bark_ml.environments.single_agent_runtime import SingleAgentRuntime\n",
    "from bark_ml.library_wrappers.lib_tf2rl.tf2rl_wrapper import TF2RLWrapper\n",
    "from bark_ml.library_wrappers.lib_tf2rl.agents.gail_agent import BehaviorGAILAgent\n",
    "from bark_ml.library_wrappers.lib_tf2rl.runners.gail_runner import GAILRunner\n",
    "from bark_ml.library_wrappers.lib_tf2rl.load_expert_trajectories import load_expert_trajectories\n"
   ]
  },
  {
   "cell_type": "markdown",
   "metadata": {},
   "source": [
    "The next cell deletes the previous logs and launches tensorboard. After tensorboard has launced, please go on to the next cell and start the training. The tensorboard window refreshes it self in every 30 secs, but you can also refresh it by hand in the top right corner."
   ]
  },
  {
   "cell_type": "code",
   "execution_count": 9,
   "metadata": {},
   "outputs": [
    {
     "name": "stdout",
     "output_type": "stream",
     "text": [
      "The tensorboard extension is already loaded. To reload it, use:\n",
      "  %reload_ext tensorboard\n",
      "zsh:kill:1: kill 119065 failed: no such process\n"
     ]
    },
    {
     "data": {
      "text/plain": [
       "Reusing TensorBoard on port 6006 (pid 119065), started 0:27:07 ago. (Use '!kill 119065' to kill it.)"
      ]
     },
     "metadata": {},
     "output_type": "display_data"
    },
    {
     "data": {
      "text/html": [
       "\n",
       "      <iframe id=\"tensorboard-frame-60a1ae4a31b51921\" width=\"100%\" height=\"800\" frameborder=\"0\">\n",
       "      </iframe>\n",
       "      <script>\n",
       "        (function() {\n",
       "          const frame = document.getElementById(\"tensorboard-frame-60a1ae4a31b51921\");\n",
       "          const url = new URL(\"/\", window.location);\n",
       "          url.port = 6006;\n",
       "          frame.src = url;\n",
       "        })();\n",
       "      </script>\n",
       "  "
      ],
      "text/plain": [
       "<IPython.core.display.HTML object>"
      ]
     },
     "metadata": {},
     "output_type": "display_data"
    }
   ],
   "source": [
    "# Load the TensorBoard notebook extension\n",
    "%load_ext tensorboard\n",
    "\n",
    "# launching tensorboard and deleting the previous runs logdirs:\n",
    "!kill 119065\n",
    "%rm -r \"data/logs\"\n",
    "%mkdir \"data/logs\"\n",
    "%tensorboard --logdir \"data/logs\""
   ]
  },
  {
   "cell_type": "code",
   "execution_count": null,
   "metadata": {
    "scrolled": true
   },
   "outputs": [
    {
     "name": "stderr",
     "output_type": "stream",
     "text": [
      "/home/brucknem/.cache/bazel/_bazel_brucknem/5babddc60bc977a08450e544bfdcfbae/execroot/bark_ml/bazel-out/k8-fastbuild/bin/docs/report/run.runfiles/bark_project/bark/runtime/commons/xodr_parser.py:108: FutureWarning: The behavior of this method will change in future versions. Use specific 'len(elem)' or 'elem is not None' test instead.\n",
      "  if lane.find(\"userData\"):\n",
      "09:48:42.100 [INFO] (trainer.py:65) Restored None\n"
     ]
    },
    {
     "name": "stdout",
     "output_type": "stream",
     "text": [
      "WARNING:tensorflow:Unresolved object in checkpoint: (root).policy.actor_optimizer.iter\n",
      "WARNING:tensorflow:Unresolved object in checkpoint: (root).policy.actor_optimizer.beta_1\n",
      "WARNING:tensorflow:Unresolved object in checkpoint: (root).policy.actor_optimizer.beta_2\n",
      "WARNING:tensorflow:Unresolved object in checkpoint: (root).policy.actor_optimizer.decay\n",
      "WARNING:tensorflow:Unresolved object in checkpoint: (root).policy.actor_optimizer.learning_rate\n",
      "WARNING:tensorflow:Unresolved object in checkpoint: (root).policy.critic_optimizer.iter\n",
      "WARNING:tensorflow:Unresolved object in checkpoint: (root).policy.critic_optimizer.beta_1\n",
      "WARNING:tensorflow:Unresolved object in checkpoint: (root).policy.critic_optimizer.beta_2\n",
      "WARNING:tensorflow:Unresolved object in checkpoint: (root).policy.critic_optimizer.decay\n",
      "WARNING:tensorflow:Unresolved object in checkpoint: (root).policy.critic_optimizer.learning_rate\n",
      "WARNING:tensorflow:A checkpoint was restored (e.g. tf.train.Checkpoint.restore or tf.keras.Model.load_weights) but not all checkpointed values were used. See above for specific issues. Use expect_partial() on the load status object, e.g. tf.train.Checkpoint.restore(...).expect_partial(), to silence these warnings, or use assert_consumed() to make the check explicit. See https://www.tensorflow.org/guide/checkpoint#loading_mechanics for details.\n"
     ]
    },
    {
     "name": "stderr",
     "output_type": "stream",
     "text": [
      "09:48:42.193 [INFO] (irl_trainer.py:73) Total Epi:     1 Steps:       2 Episode Steps:     2 Return: -1.0000 FPS: 28.75\n",
      "09:48:42.205 [INFO] (irl_trainer.py:73) Total Epi:     2 Steps:       6 Episode Steps:     4 Return: -1.0000 FPS: 455.75\n",
      "09:48:42.220 [INFO] (irl_trainer.py:73) Total Epi:     3 Steps:      15 Episode Steps:     9 Return: -1.0000 FPS: 649.95\n",
      "09:48:42.232 [INFO] (irl_trainer.py:73) Total Epi:     4 Steps:      21 Episode Steps:     6 Return: -1.0000 FPS: 591.00\n",
      "09:48:42.241 [INFO] (irl_trainer.py:73) Total Epi:     5 Steps:      24 Episode Steps:     3 Return: -1.0000 FPS: 424.56\n",
      "09:48:42.252 [INFO] (irl_trainer.py:73) Total Epi:     6 Steps:      30 Episode Steps:     6 Return: -1.0000 FPS: 588.69\n",
      "09:48:42.275 [INFO] (irl_trainer.py:73) Total Epi:     7 Steps:      48 Episode Steps:    18 Return: -1.0000 FPS: 839.11\n",
      "09:48:42.307 [INFO] (irl_trainer.py:73) Total Epi:     8 Steps:      69 Episode Steps:    21 Return: -1.0000 FPS: 693.26\n",
      "09:48:42.318 [INFO] (irl_trainer.py:73) Total Epi:     9 Steps:      75 Episode Steps:     6 Return: -1.0000 FPS: 676.11\n",
      "09:48:42.327 [INFO] (irl_trainer.py:73) Total Epi:    10 Steps:      79 Episode Steps:     4 Return: -1.0000 FPS: 575.88\n",
      "09:48:42.347 [INFO] (irl_trainer.py:73) Total Epi:    11 Steps:      93 Episode Steps:    14 Return: -1.0000 FPS: 747.64\n",
      "09:48:42.357 [INFO] (irl_trainer.py:73) Total Epi:    12 Steps:      98 Episode Steps:     5 Return: -1.0000 FPS: 652.23\n",
      "09:48:42.366 [INFO] (irl_trainer.py:73) Total Epi:    13 Steps:     103 Episode Steps:     5 Return: -1.0000 FPS: 680.29\n",
      "09:48:42.372 [INFO] (irl_trainer.py:73) Total Epi:    14 Steps:     105 Episode Steps:     2 Return: -1.0000 FPS: 469.59\n",
      "09:48:42.383 [INFO] (irl_trainer.py:73) Total Epi:    15 Steps:     111 Episode Steps:     6 Return: -1.0000 FPS: 608.09\n",
      "09:48:42.390 [INFO] (irl_trainer.py:73) Total Epi:    16 Steps:     113 Episode Steps:     2 Return: -1.0000 FPS: 439.75\n",
      "09:48:42.398 [INFO] (irl_trainer.py:73) Total Epi:    17 Steps:     117 Episode Steps:     4 Return: -1.0000 FPS: 577.45\n",
      "09:48:42.408 [INFO] (irl_trainer.py:73) Total Epi:    18 Steps:     123 Episode Steps:     6 Return: -1.0000 FPS: 694.44\n",
      "09:48:42.414 [INFO] (irl_trainer.py:73) Total Epi:    19 Steps:     125 Episode Steps:     2 Return: -1.0000 FPS: 439.99\n",
      "09:48:42.427 [INFO] (irl_trainer.py:73) Total Epi:    20 Steps:     128 Episode Steps:     3 Return: -1.0000 FPS: 287.56\n",
      "09:48:42.437 [INFO] (irl_trainer.py:73) Total Epi:    21 Steps:     132 Episode Steps:     4 Return: -1.0000 FPS: 517.17\n",
      "09:48:42.444 [INFO] (irl_trainer.py:73) Total Epi:    22 Steps:     135 Episode Steps:     3 Return: -1.0000 FPS: 522.81\n",
      "09:48:42.464 [INFO] (irl_trainer.py:73) Total Epi:    23 Steps:     150 Episode Steps:    15 Return: -1.0000 FPS: 804.82\n",
      "09:48:42.473 [INFO] (irl_trainer.py:73) Total Epi:    24 Steps:     153 Episode Steps:     3 Return: -1.0000 FPS: 473.73\n",
      "09:48:42.495 [INFO] (irl_trainer.py:73) Total Epi:    25 Steps:     168 Episode Steps:    15 Return: -1.0000 FPS: 727.56\n",
      "09:48:42.504 [INFO] (irl_trainer.py:73) Total Epi:    26 Steps:     172 Episode Steps:     4 Return: -1.0000 FPS: 572.36\n",
      "09:48:42.514 [INFO] (irl_trainer.py:73) Total Epi:    27 Steps:     178 Episode Steps:     6 Return: -1.0000 FPS: 695.08\n",
      "09:48:42.521 [INFO] (irl_trainer.py:73) Total Epi:    28 Steps:     180 Episode Steps:     2 Return: -1.0000 FPS: 367.29\n",
      "09:48:42.543 [INFO] (irl_trainer.py:73) Total Epi:    29 Steps:     195 Episode Steps:    15 Return: -1.0000 FPS: 754.14\n",
      "09:48:42.551 [INFO] (irl_trainer.py:73) Total Epi:    30 Steps:     199 Episode Steps:     4 Return: -1.0000 FPS: 600.89\n",
      "09:48:42.570 [INFO] (irl_trainer.py:73) Total Epi:    31 Steps:     211 Episode Steps:    12 Return:  1.0000 FPS: 693.91\n",
      "09:48:42.580 [INFO] (irl_trainer.py:73) Total Epi:    32 Steps:     215 Episode Steps:     4 Return: -1.0000 FPS: 453.10\n",
      "09:48:42.588 [INFO] (irl_trainer.py:73) Total Epi:    33 Steps:     219 Episode Steps:     4 Return: -1.0000 FPS: 580.24\n",
      "09:48:42.597 [INFO] (irl_trainer.py:73) Total Epi:    34 Steps:     223 Episode Steps:     4 Return: -1.0000 FPS: 585.15\n",
      "09:48:42.610 [INFO] (irl_trainer.py:73) Total Epi:    35 Steps:     231 Episode Steps:     8 Return: -1.0000 FPS: 698.03\n",
      "09:48:42.622 [INFO] (irl_trainer.py:73) Total Epi:    36 Steps:     237 Episode Steps:     6 Return: -1.0000 FPS: 564.98\n",
      "09:48:42.661 [INFO] (irl_trainer.py:73) Total Epi:    37 Steps:     253 Episode Steps:    16 Return: -1.0000 FPS: 428.34\n",
      "09:48:42.678 [INFO] (irl_trainer.py:73) Total Epi:    38 Steps:     258 Episode Steps:     5 Return: -1.0000 FPS: 354.81\n",
      "09:48:42.688 [INFO] (irl_trainer.py:73) Total Epi:    39 Steps:     260 Episode Steps:     2 Return: -1.0000 FPS: 295.90\n",
      "09:48:42.701 [INFO] (irl_trainer.py:73) Total Epi:    40 Steps:     264 Episode Steps:     4 Return: -1.0000 FPS: 442.92\n",
      "09:48:42.713 [INFO] (irl_trainer.py:73) Total Epi:    41 Steps:     269 Episode Steps:     5 Return: -1.0000 FPS: 519.48\n",
      "09:48:42.741 [INFO] (irl_trainer.py:73) Total Epi:    42 Steps:     282 Episode Steps:    13 Return: -1.0000 FPS: 497.95\n",
      "09:48:42.751 [INFO] (irl_trainer.py:73) Total Epi:    43 Steps:     286 Episode Steps:     4 Return: -1.0000 FPS: 456.35\n",
      "09:48:42.762 [INFO] (irl_trainer.py:73) Total Epi:    44 Steps:     292 Episode Steps:     6 Return: -1.0000 FPS: 623.99\n",
      "09:48:42.776 [INFO] (irl_trainer.py:73) Total Epi:    45 Steps:     300 Episode Steps:     8 Return: -1.0000 FPS: 676.53\n",
      "09:48:42.790 [INFO] (irl_trainer.py:73) Total Epi:    46 Steps:     307 Episode Steps:     7 Return: -1.0000 FPS: 567.73\n",
      "09:48:42.797 [INFO] (irl_trainer.py:73) Total Epi:    47 Steps:     310 Episode Steps:     3 Return: -1.0000 FPS: 511.66\n",
      "09:48:42.814 [INFO] (irl_trainer.py:73) Total Epi:    48 Steps:     322 Episode Steps:    12 Return: -1.0000 FPS: 767.26\n",
      "09:48:42.836 [INFO] (irl_trainer.py:73) Total Epi:    49 Steps:     336 Episode Steps:    14 Return:  1.0000 FPS: 702.93\n",
      "09:48:42.844 [INFO] (irl_trainer.py:73) Total Epi:    50 Steps:     339 Episode Steps:     3 Return: -1.0000 FPS: 500.54\n",
      "09:48:42.850 [INFO] (irl_trainer.py:73) Total Epi:    51 Steps:     341 Episode Steps:     2 Return: -1.0000 FPS: 422.90\n",
      "09:48:42.860 [INFO] (irl_trainer.py:73) Total Epi:    52 Steps:     347 Episode Steps:     6 Return: -1.0000 FPS: 681.10\n",
      "09:48:42.873 [INFO] (irl_trainer.py:73) Total Epi:    53 Steps:     353 Episode Steps:     6 Return: -1.0000 FPS: 563.54\n",
      "09:48:42.879 [INFO] (irl_trainer.py:73) Total Epi:    54 Steps:     355 Episode Steps:     2 Return: -1.0000 FPS: 432.39\n",
      "09:48:42.886 [INFO] (irl_trainer.py:73) Total Epi:    55 Steps:     358 Episode Steps:     3 Return: -1.0000 FPS: 526.53\n",
      "09:48:42.901 [INFO] (irl_trainer.py:73) Total Epi:    56 Steps:     368 Episode Steps:    10 Return: -1.0000 FPS: 776.15\n",
      "09:48:42.919 [INFO] (irl_trainer.py:73) Total Epi:    57 Steps:     376 Episode Steps:     8 Return: -1.0000 FPS: 470.23\n",
      "09:48:42.927 [INFO] (irl_trainer.py:73) Total Epi:    58 Steps:     378 Episode Steps:     2 Return: -1.0000 FPS: 333.51\n",
      "09:48:42.936 [INFO] (irl_trainer.py:73) Total Epi:    59 Steps:     382 Episode Steps:     4 Return: -1.0000 FPS: 598.77\n",
      "09:48:42.944 [INFO] (irl_trainer.py:73) Total Epi:    60 Steps:     386 Episode Steps:     4 Return: -1.0000 FPS: 591.85\n",
      "09:48:42.960 [INFO] (irl_trainer.py:73) Total Epi:    61 Steps:     397 Episode Steps:    11 Return: -1.0000 FPS: 749.16\n",
      "09:48:42.971 [INFO] (irl_trainer.py:73) Total Epi:    62 Steps:     402 Episode Steps:     5 Return: -1.0000 FPS: 523.07\n",
      "09:48:42.979 [INFO] (irl_trainer.py:73) Total Epi:    63 Steps:     405 Episode Steps:     3 Return: -1.0000 FPS: 488.43\n",
      "09:48:43.021 [INFO] (irl_trainer.py:73) Total Epi:    64 Steps:     436 Episode Steps:    31 Return: -1.0000 FPS: 767.73\n",
      "09:48:43.035 [INFO] (irl_trainer.py:73) Total Epi:    65 Steps:     442 Episode Steps:     6 Return: -1.0000 FPS: 504.78\n",
      "09:48:43.061 [INFO] (irl_trainer.py:73) Total Epi:    66 Steps:     460 Episode Steps:    18 Return: -1.0000 FPS: 754.95\n",
      "09:48:43.075 [INFO] (irl_trainer.py:73) Total Epi:    67 Steps:     469 Episode Steps:     9 Return: -1.0000 FPS: 747.43\n",
      "09:48:43.085 [INFO] (irl_trainer.py:73) Total Epi:    68 Steps:     472 Episode Steps:     3 Return: -1.0000 FPS: 390.35\n"
     ]
    },
    {
     "name": "stderr",
     "output_type": "stream",
     "text": [
      "09:48:43.094 [INFO] (irl_trainer.py:73) Total Epi:    69 Steps:     476 Episode Steps:     4 Return: -1.0000 FPS: 530.07\n",
      "09:48:43.107 [INFO] (irl_trainer.py:73) Total Epi:    70 Steps:     482 Episode Steps:     6 Return: -1.0000 FPS: 525.52\n",
      "09:48:43.136 [INFO] (irl_trainer.py:73) Total Epi:    71 Steps:     499 Episode Steps:    17 Return: -1.0000 FPS: 613.52\n",
      "09:48:43.151 [INFO] (irl_trainer.py:73) Total Epi:    72 Steps:     505 Episode Steps:     6 Return: -1.0000 FPS: 489.04\n",
      "09:48:43.163 [INFO] (irl_trainer.py:73) Total Epi:    73 Steps:     508 Episode Steps:     3 Return: -1.0000 FPS: 352.33\n",
      "09:48:43.174 [INFO] (irl_trainer.py:73) Total Epi:    74 Steps:     512 Episode Steps:     4 Return: -1.0000 FPS: 441.30\n",
      "09:48:43.187 [INFO] (irl_trainer.py:73) Total Epi:    75 Steps:     517 Episode Steps:     5 Return: -1.0000 FPS: 466.24\n",
      "09:48:43.209 [INFO] (irl_trainer.py:73) Total Epi:    76 Steps:     529 Episode Steps:    12 Return: -1.0000 FPS: 591.73\n",
      "09:48:43.248 [INFO] (irl_trainer.py:73) Total Epi:    77 Steps:     556 Episode Steps:    27 Return:  1.0000 FPS: 718.52\n",
      "09:48:43.259 [INFO] (irl_trainer.py:73) Total Epi:    78 Steps:     561 Episode Steps:     5 Return: -1.0000 FPS: 540.03\n",
      "09:48:43.339 [INFO] (irl_trainer.py:73) Total Epi:    79 Steps:     622 Episode Steps:    61 Return:  0.0000 FPS: 780.02\n",
      "09:48:43.347 [INFO] (irl_trainer.py:73) Total Epi:    80 Steps:     625 Episode Steps:     3 Return: -1.0000 FPS: 452.05\n",
      "09:48:43.357 [INFO] (irl_trainer.py:73) Total Epi:    81 Steps:     629 Episode Steps:     4 Return: -1.0000 FPS: 533.79\n",
      "09:48:43.367 [INFO] (irl_trainer.py:73) Total Epi:    82 Steps:     634 Episode Steps:     5 Return: -1.0000 FPS: 591.39\n",
      "09:48:43.383 [INFO] (irl_trainer.py:73) Total Epi:    83 Steps:     645 Episode Steps:    11 Return: -1.0000 FPS: 735.41\n",
      "09:48:43.392 [INFO] (irl_trainer.py:73) Total Epi:    84 Steps:     648 Episode Steps:     3 Return: -1.0000 FPS: 408.83\n",
      "09:48:43.399 [INFO] (irl_trainer.py:73) Total Epi:    85 Steps:     650 Episode Steps:     2 Return: -1.0000 FPS: 377.14\n",
      "09:48:43.409 [INFO] (irl_trainer.py:73) Total Epi:    86 Steps:     655 Episode Steps:     5 Return: -1.0000 FPS: 590.55\n",
      "09:48:43.416 [INFO] (irl_trainer.py:73) Total Epi:    87 Steps:     657 Episode Steps:     2 Return: -1.0000 FPS: 380.21\n",
      "09:48:43.426 [INFO] (irl_trainer.py:73) Total Epi:    88 Steps:     662 Episode Steps:     5 Return: -1.0000 FPS: 570.46\n",
      "09:48:43.462 [INFO] (irl_trainer.py:73) Total Epi:    89 Steps:     688 Episode Steps:    26 Return: -1.0000 FPS: 761.27\n",
      "09:48:43.468 [INFO] (irl_trainer.py:73) Total Epi:    90 Steps:     690 Episode Steps:     2 Return: -1.0000 FPS: 407.84\n",
      "09:48:43.477 [INFO] (irl_trainer.py:73) Total Epi:    91 Steps:     693 Episode Steps:     3 Return: -1.0000 FPS: 441.16\n",
      "09:48:43.494 [INFO] (irl_trainer.py:73) Total Epi:    92 Steps:     703 Episode Steps:    10 Return: -1.0000 FPS: 656.62\n",
      "09:48:43.504 [INFO] (irl_trainer.py:73) Total Epi:    93 Steps:     707 Episode Steps:     4 Return: -1.0000 FPS: 460.57\n",
      "09:48:43.515 [INFO] (irl_trainer.py:73) Total Epi:    94 Steps:     713 Episode Steps:     6 Return: -1.0000 FPS: 633.54\n",
      "09:48:43.589 [INFO] (irl_trainer.py:73) Total Epi:    95 Steps:     769 Episode Steps:    56 Return: -1.0000 FPS: 775.84\n",
      "09:48:43.596 [INFO] (irl_trainer.py:73) Total Epi:    96 Steps:     771 Episode Steps:     2 Return: -1.0000 FPS: 349.57\n",
      "09:48:43.613 [INFO] (irl_trainer.py:73) Total Epi:    97 Steps:     779 Episode Steps:     8 Return: -1.0000 FPS: 535.51\n",
      "09:48:43.623 [INFO] (irl_trainer.py:73) Total Epi:    98 Steps:     784 Episode Steps:     5 Return: -1.0000 FPS: 621.33\n",
      "09:48:43.661 [INFO] (irl_trainer.py:73) Total Epi:    99 Steps:     812 Episode Steps:    28 Return: -1.0000 FPS: 781.19\n",
      "09:48:43.684 [INFO] (irl_trainer.py:73) Total Epi:   100 Steps:     825 Episode Steps:    13 Return: -1.0000 FPS: 603.42\n",
      "09:48:43.710 [INFO] (irl_trainer.py:73) Total Epi:   101 Steps:     837 Episode Steps:    12 Return: -1.0000 FPS: 493.05\n",
      "09:48:43.717 [INFO] (irl_trainer.py:73) Total Epi:   102 Steps:     839 Episode Steps:     2 Return: -1.0000 FPS: 374.49\n",
      "09:48:43.725 [INFO] (irl_trainer.py:73) Total Epi:   103 Steps:     842 Episode Steps:     3 Return: -1.0000 FPS: 481.88\n",
      "09:48:43.734 [INFO] (irl_trainer.py:73) Total Epi:   104 Steps:     846 Episode Steps:     4 Return: -1.0000 FPS: 553.18\n",
      "09:48:43.746 [INFO] (irl_trainer.py:73) Total Epi:   105 Steps:     852 Episode Steps:     6 Return: -1.0000 FPS: 569.58\n",
      "09:48:43.758 [INFO] (irl_trainer.py:73) Total Epi:   106 Steps:     858 Episode Steps:     6 Return: -1.0000 FPS: 589.19\n",
      "09:48:43.770 [INFO] (irl_trainer.py:73) Total Epi:   107 Steps:     865 Episode Steps:     7 Return: -1.0000 FPS: 688.80\n",
      "09:48:43.778 [INFO] (irl_trainer.py:73) Total Epi:   108 Steps:     869 Episode Steps:     4 Return: -1.0000 FPS: 566.27\n",
      "09:48:43.792 [INFO] (irl_trainer.py:73) Total Epi:   109 Steps:     877 Episode Steps:     8 Return: -1.0000 FPS: 668.34\n",
      "09:48:43.807 [INFO] (irl_trainer.py:73) Total Epi:   110 Steps:     887 Episode Steps:    10 Return: -1.0000 FPS: 749.63\n",
      "09:48:43.814 [INFO] (irl_trainer.py:73) Total Epi:   111 Steps:     890 Episode Steps:     3 Return: -1.0000 FPS: 534.34\n",
      "09:48:43.825 [INFO] (irl_trainer.py:73) Total Epi:   112 Steps:     895 Episode Steps:     5 Return: -1.0000 FPS: 520.44\n",
      "09:48:43.834 [INFO] (irl_trainer.py:73) Total Epi:   113 Steps:     897 Episode Steps:     2 Return: -1.0000 FPS: 303.25\n",
      "09:48:43.841 [INFO] (irl_trainer.py:73) Total Epi:   114 Steps:     900 Episode Steps:     3 Return: -1.0000 FPS: 530.06\n",
      "09:48:43.848 [INFO] (irl_trainer.py:73) Total Epi:   115 Steps:     902 Episode Steps:     2 Return: -1.0000 FPS: 434.86\n",
      "09:48:43.872 [INFO] (irl_trainer.py:73) Total Epi:   116 Steps:     918 Episode Steps:    16 Return: -1.0000 FPS: 702.61\n",
      "09:48:43.891 [INFO] (irl_trainer.py:73) Total Epi:   117 Steps:     929 Episode Steps:    11 Return: -1.0000 FPS: 627.68\n",
      "09:48:43.899 [INFO] (irl_trainer.py:73) Total Epi:   118 Steps:     932 Episode Steps:     3 Return: -1.0000 FPS: 471.37\n",
      "09:48:43.906 [INFO] (irl_trainer.py:73) Total Epi:   119 Steps:     934 Episode Steps:     2 Return: -1.0000 FPS: 380.00\n",
      "09:48:43.921 [INFO] (irl_trainer.py:73) Total Epi:   120 Steps:     943 Episode Steps:     9 Return:  1.0000 FPS: 643.04\n",
      "09:48:43.931 [INFO] (irl_trainer.py:73) Total Epi:   121 Steps:     946 Episode Steps:     3 Return: -1.0000 FPS: 370.63\n",
      "09:48:43.939 [INFO] (irl_trainer.py:73) Total Epi:   122 Steps:     949 Episode Steps:     3 Return: -1.0000 FPS: 451.90\n",
      "09:48:43.963 [INFO] (irl_trainer.py:73) Total Epi:   123 Steps:     965 Episode Steps:    16 Return: -1.0000 FPS: 718.88\n",
      "09:48:43.971 [INFO] (irl_trainer.py:73) Total Epi:   124 Steps:     967 Episode Steps:     2 Return: -1.0000 FPS: 308.11\n",
      "09:48:43.978 [INFO] (irl_trainer.py:73) Total Epi:   125 Steps:     969 Episode Steps:     2 Return: -1.0000 FPS: 401.83\n",
      "09:48:43.991 [INFO] (irl_trainer.py:73) Total Epi:   126 Steps:     976 Episode Steps:     7 Return: -1.0000 FPS: 592.30\n",
      "09:48:44.011 [INFO] (irl_trainer.py:73) Total Epi:   127 Steps:     991 Episode Steps:    15 Return: -1.0000 FPS: 816.61\n",
      "09:48:44.018 [INFO] (irl_trainer.py:73) Total Epi:   128 Steps:     993 Episode Steps:     2 Return: -1.0000 FPS: 420.59\n",
      "09:48:44.028 [INFO] (irl_trainer.py:73) Total Epi:   129 Steps:     997 Episode Steps:     4 Return: -1.0000 FPS: 434.40\n",
      "09:48:46.177 [INFO] (irl_trainer.py:73) Total Epi:   130 Steps:    1005 Episode Steps:     8 Return: -1.0000 FPS:  3.73\n",
      "09:48:46.384 [INFO] (irl_trainer.py:73) Total Epi:   131 Steps:    1019 Episode Steps:    14 Return:  1.0000 FPS: 68.13\n",
      "09:48:46.513 [INFO] (irl_trainer.py:73) Total Epi:   132 Steps:    1029 Episode Steps:    10 Return: -1.0000 FPS: 78.80\n",
      "09:48:46.780 [INFO] (irl_trainer.py:73) Total Epi:   133 Steps:    1048 Episode Steps:    19 Return: -1.0000 FPS: 71.42\n",
      "09:48:46.842 [INFO] (irl_trainer.py:73) Total Epi:   134 Steps:    1052 Episode Steps:     4 Return: -1.0000 FPS: 66.35\n",
      "09:48:46.890 [INFO] (irl_trainer.py:73) Total Epi:   135 Steps:    1055 Episode Steps:     3 Return: -1.0000 FPS: 65.54\n",
      "09:48:46.951 [INFO] (irl_trainer.py:73) Total Epi:   136 Steps:    1059 Episode Steps:     4 Return: -1.0000 FPS: 67.77\n"
     ]
    },
    {
     "name": "stderr",
     "output_type": "stream",
     "text": [
      "09:48:46.999 [INFO] (irl_trainer.py:73) Total Epi:   137 Steps:    1062 Episode Steps:     3 Return: -1.0000 FPS: 63.96\n",
      "09:48:47.087 [INFO] (irl_trainer.py:73) Total Epi:   138 Steps:    1068 Episode Steps:     6 Return: -1.0000 FPS: 69.25\n",
      "09:48:47.144 [INFO] (irl_trainer.py:73) Total Epi:   139 Steps:    1072 Episode Steps:     4 Return: -1.0000 FPS: 72.06\n",
      "09:48:47.212 [INFO] (irl_trainer.py:73) Total Epi:   140 Steps:    1077 Episode Steps:     5 Return: -1.0000 FPS: 75.48\n",
      "09:48:47.240 [INFO] (irl_trainer.py:73) Total Epi:   141 Steps:    1079 Episode Steps:     2 Return: -1.0000 FPS: 75.74\n",
      "09:48:47.269 [INFO] (irl_trainer.py:73) Total Epi:   142 Steps:    1081 Episode Steps:     2 Return: -1.0000 FPS: 72.17\n",
      "09:48:47.337 [INFO] (irl_trainer.py:73) Total Epi:   143 Steps:    1086 Episode Steps:     5 Return: -1.0000 FPS: 75.69\n",
      "09:48:47.367 [INFO] (irl_trainer.py:73) Total Epi:   144 Steps:    1088 Episode Steps:     2 Return: -1.0000 FPS: 70.96\n",
      "09:48:47.397 [INFO] (irl_trainer.py:73) Total Epi:   145 Steps:    1090 Episode Steps:     2 Return: -1.0000 FPS: 69.41\n",
      "09:48:47.425 [INFO] (irl_trainer.py:73) Total Epi:   146 Steps:    1092 Episode Steps:     2 Return: -1.0000 FPS: 74.62\n",
      "09:48:47.480 [INFO] (irl_trainer.py:73) Total Epi:   147 Steps:    1096 Episode Steps:     4 Return: -1.0000 FPS: 74.84\n",
      "09:48:47.509 [INFO] (irl_trainer.py:73) Total Epi:   148 Steps:    1098 Episode Steps:     2 Return: -1.0000 FPS: 74.89\n",
      "09:48:47.604 [INFO] (irl_trainer.py:73) Total Epi:   149 Steps:    1102 Episode Steps:     4 Return: -1.0000 FPS: 42.51\n",
      "09:48:47.644 [INFO] (irl_trainer.py:73) Total Epi:   150 Steps:    1104 Episode Steps:     2 Return: -1.0000 FPS: 53.19\n",
      "09:48:47.705 [INFO] (irl_trainer.py:73) Total Epi:   151 Steps:    1108 Episode Steps:     4 Return: -1.0000 FPS: 67.66\n",
      "09:48:47.734 [INFO] (irl_trainer.py:73) Total Epi:   152 Steps:    1110 Episode Steps:     2 Return: -1.0000 FPS: 73.63\n",
      "09:48:47.762 [INFO] (irl_trainer.py:73) Total Epi:   153 Steps:    1112 Episode Steps:     2 Return: -1.0000 FPS: 76.75\n",
      "09:48:47.792 [INFO] (irl_trainer.py:73) Total Epi:   154 Steps:    1114 Episode Steps:     2 Return: -1.0000 FPS: 71.49\n",
      "09:48:47.856 [INFO] (irl_trainer.py:73) Total Epi:   155 Steps:    1119 Episode Steps:     5 Return: -1.0000 FPS: 78.71\n",
      "09:48:47.897 [INFO] (irl_trainer.py:73) Total Epi:   156 Steps:    1122 Episode Steps:     3 Return: -1.0000 FPS: 76.70\n",
      "09:48:47.925 [INFO] (irl_trainer.py:73) Total Epi:   157 Steps:    1124 Episode Steps:     2 Return: -1.0000 FPS: 73.39\n",
      "09:48:47.995 [INFO] (irl_trainer.py:73) Total Epi:   158 Steps:    1129 Episode Steps:     5 Return: -1.0000 FPS: 73.32\n",
      "09:48:48.023 [INFO] (irl_trainer.py:73) Total Epi:   159 Steps:    1131 Episode Steps:     2 Return: -1.0000 FPS: 76.27\n",
      "09:48:48.052 [INFO] (irl_trainer.py:73) Total Epi:   160 Steps:    1133 Episode Steps:     2 Return: -1.0000 FPS: 73.07\n",
      "09:48:48.107 [INFO] (irl_trainer.py:73) Total Epi:   161 Steps:    1137 Episode Steps:     4 Return: -1.0000 FPS: 74.27\n",
      "09:48:48.136 [INFO] (irl_trainer.py:73) Total Epi:   162 Steps:    1139 Episode Steps:     2 Return: -1.0000 FPS: 71.68\n",
      "09:48:48.190 [INFO] (irl_trainer.py:73) Total Epi:   163 Steps:    1143 Episode Steps:     4 Return: -1.0000 FPS: 76.92\n",
      "09:48:48.220 [INFO] (irl_trainer.py:73) Total Epi:   164 Steps:    1145 Episode Steps:     2 Return: -1.0000 FPS: 69.98\n",
      "09:48:48.286 [INFO] (irl_trainer.py:73) Total Epi:   165 Steps:    1150 Episode Steps:     5 Return: -1.0000 FPS: 77.59\n",
      "09:48:48.340 [INFO] (irl_trainer.py:73) Total Epi:   166 Steps:    1154 Episode Steps:     4 Return: -1.0000 FPS: 76.08\n",
      "09:48:48.368 [INFO] (irl_trainer.py:73) Total Epi:   167 Steps:    1156 Episode Steps:     2 Return: -1.0000 FPS: 76.13\n",
      "09:48:48.419 [INFO] (irl_trainer.py:73) Total Epi:   168 Steps:    1160 Episode Steps:     4 Return: -1.0000 FPS: 79.85\n",
      "09:48:48.459 [INFO] (irl_trainer.py:73) Total Epi:   169 Steps:    1163 Episode Steps:     3 Return: -1.0000 FPS: 77.76\n",
      "09:48:48.523 [INFO] (irl_trainer.py:73) Total Epi:   170 Steps:    1168 Episode Steps:     5 Return: -1.0000 FPS: 80.11\n",
      "09:48:48.552 [INFO] (irl_trainer.py:73) Total Epi:   171 Steps:    1170 Episode Steps:     2 Return: -1.0000 FPS: 71.68\n",
      "09:48:48.616 [INFO] (irl_trainer.py:73) Total Epi:   172 Steps:    1175 Episode Steps:     5 Return: -1.0000 FPS: 79.40\n",
      "09:48:48.645 [INFO] (irl_trainer.py:73) Total Epi:   173 Steps:    1177 Episode Steps:     2 Return: -1.0000 FPS: 72.94\n",
      "09:48:48.685 [INFO] (irl_trainer.py:73) Total Epi:   174 Steps:    1180 Episode Steps:     3 Return: -1.0000 FPS: 77.90\n",
      "09:48:48.727 [INFO] (irl_trainer.py:73) Total Epi:   175 Steps:    1183 Episode Steps:     3 Return: -1.0000 FPS: 74.51\n",
      "09:48:48.775 [INFO] (irl_trainer.py:73) Total Epi:   176 Steps:    1186 Episode Steps:     3 Return: -1.0000 FPS: 63.73\n",
      "09:48:49.047 [INFO] (irl_trainer.py:73) Total Epi:   177 Steps:    1204 Episode Steps:    18 Return: -1.0000 FPS: 66.74\n",
      "09:48:49.104 [INFO] (irl_trainer.py:73) Total Epi:   178 Steps:    1208 Episode Steps:     4 Return: -1.0000 FPS: 71.91\n",
      "09:48:49.363 [INFO] (irl_trainer.py:73) Total Epi:   179 Steps:    1228 Episode Steps:    20 Return: -1.0000 FPS: 77.48\n",
      "09:48:49.472 [INFO] (irl_trainer.py:73) Total Epi:   180 Steps:    1235 Episode Steps:     7 Return: -1.0000 FPS: 65.32\n",
      "09:48:49.542 [INFO] (irl_trainer.py:73) Total Epi:   181 Steps:    1240 Episode Steps:     5 Return: -1.0000 FPS: 74.50\n",
      "09:48:49.685 [INFO] (irl_trainer.py:73) Total Epi:   182 Steps:    1251 Episode Steps:    11 Return: -1.0000 FPS: 77.64\n",
      "09:48:49.891 [INFO] (irl_trainer.py:73) Total Epi:   183 Steps:    1267 Episode Steps:    16 Return: -1.0000 FPS: 78.16\n",
      "09:48:50.072 [INFO] (irl_trainer.py:73) Total Epi:   184 Steps:    1280 Episode Steps:    13 Return: -1.0000 FPS: 72.62\n",
      "09:48:50.154 [INFO] (irl_trainer.py:73) Total Epi:   185 Steps:    1286 Episode Steps:     6 Return: -1.0000 FPS: 74.42\n",
      "09:48:50.422 [INFO] (irl_trainer.py:73) Total Epi:   186 Steps:    1306 Episode Steps:    20 Return: -1.0000 FPS: 74.93\n",
      "09:48:50.527 [INFO] (irl_trainer.py:73) Total Epi:   187 Steps:    1314 Episode Steps:     8 Return: -1.0000 FPS: 77.53\n",
      "09:48:50.785 [INFO] (irl_trainer.py:73) Total Epi:   188 Steps:    1335 Episode Steps:    21 Return:  1.0000 FPS: 81.68\n",
      "09:48:50.943 [INFO] (irl_trainer.py:73) Total Epi:   189 Steps:    1346 Episode Steps:    11 Return: -1.0000 FPS: 70.41\n",
      "09:48:51.228 [INFO] (irl_trainer.py:73) Total Epi:   190 Steps:    1369 Episode Steps:    23 Return: -1.0000 FPS: 81.10\n",
      "09:48:51.471 [INFO] (irl_trainer.py:73) Total Epi:   191 Steps:    1389 Episode Steps:    20 Return: -1.0000 FPS: 82.89\n",
      "09:48:51.740 [INFO] (irl_trainer.py:73) Total Epi:   192 Steps:    1407 Episode Steps:    18 Return: -1.0000 FPS: 67.33\n",
      "09:48:51.995 [INFO] (irl_trainer.py:73) Total Epi:   193 Steps:    1428 Episode Steps:    21 Return: -1.0000 FPS: 82.75\n",
      "09:48:52.347 [INFO] (irl_trainer.py:73) Total Epi:   194 Steps:    1457 Episode Steps:    29 Return: -1.0000 FPS: 82.68\n",
      "09:48:52.604 [INFO] (irl_trainer.py:73) Total Epi:   195 Steps:    1477 Episode Steps:    20 Return: -1.0000 FPS: 78.26\n",
      "09:48:53.010 [INFO] (irl_trainer.py:73) Total Epi:   196 Steps:    1507 Episode Steps:    30 Return: -1.0000 FPS: 74.11\n",
      "09:48:53.255 [INFO] (irl_trainer.py:73) Total Epi:   197 Steps:    1527 Episode Steps:    20 Return:  1.0000 FPS: 82.47\n",
      "09:48:53.459 [INFO] (irl_trainer.py:73) Total Epi:   198 Steps:    1544 Episode Steps:    17 Return: -1.0000 FPS: 83.73\n",
      "09:48:53.718 [INFO] (irl_trainer.py:73) Total Epi:   199 Steps:    1564 Episode Steps:    20 Return: -1.0000 FPS: 77.43\n",
      "09:48:53.969 [INFO] (irl_trainer.py:73) Total Epi:   200 Steps:    1583 Episode Steps:    19 Return: -1.0000 FPS: 76.33\n",
      "09:48:54.216 [INFO] (irl_trainer.py:119) Evaluation Total Steps:    1583 Average Reward -0.6000 / Average Step Count  18.8 over  5 episodes\n",
      "09:48:54.223 [INFO] (irl_trainer.py:73) Total Epi:   201 Steps:    1584 Episode Steps:     1 Return: -1.0000 FPS:  3.96\n",
      "09:48:54.405 [INFO] (irl_trainer.py:73) Total Epi:   202 Steps:    1598 Episode Steps:    14 Return: -1.0000 FPS: 77.64\n",
      "09:48:54.654 [INFO] (irl_trainer.py:73) Total Epi:   203 Steps:    1617 Episode Steps:    19 Return: -1.0000 FPS: 76.67\n",
      "09:48:54.940 [INFO] (irl_trainer.py:73) Total Epi:   204 Steps:    1639 Episode Steps:    22 Return: -1.0000 FPS: 77.36\n"
     ]
    },
    {
     "name": "stderr",
     "output_type": "stream",
     "text": [
      "09:48:55.264 [INFO] (irl_trainer.py:73) Total Epi:   205 Steps:    1666 Episode Steps:    27 Return: -1.0000 FPS: 83.61\n",
      "09:48:55.617 [INFO] (irl_trainer.py:73) Total Epi:   206 Steps:    1693 Episode Steps:    27 Return: -1.0000 FPS: 76.76\n",
      "09:48:55.921 [INFO] (irl_trainer.py:73) Total Epi:   207 Steps:    1717 Episode Steps:    24 Return: -1.0000 FPS: 79.47\n",
      "09:48:56.104 [INFO] (irl_trainer.py:73) Total Epi:   208 Steps:    1731 Episode Steps:    14 Return: -1.0000 FPS: 77.11\n",
      "09:48:56.341 [INFO] (irl_trainer.py:73) Total Epi:   209 Steps:    1750 Episode Steps:    19 Return: -1.0000 FPS: 80.45\n",
      "09:48:56.546 [INFO] (irl_trainer.py:73) Total Epi:   210 Steps:    1767 Episode Steps:    17 Return: -1.0000 FPS: 83.50\n",
      "09:48:56.764 [INFO] (irl_trainer.py:73) Total Epi:   211 Steps:    1785 Episode Steps:    18 Return: -1.0000 FPS: 83.26\n",
      "09:48:57.046 [INFO] (irl_trainer.py:73) Total Epi:   212 Steps:    1807 Episode Steps:    22 Return: -1.0000 FPS: 78.49\n",
      "09:48:57.276 [INFO] (irl_trainer.py:73) Total Epi:   213 Steps:    1823 Episode Steps:    16 Return: -1.0000 FPS: 69.89\n",
      "09:48:57.419 [INFO] (irl_trainer.py:73) Total Epi:   214 Steps:    1834 Episode Steps:    11 Return: -1.0000 FPS: 77.57\n",
      "09:48:57.499 [INFO] (irl_trainer.py:73) Total Epi:   215 Steps:    1840 Episode Steps:     6 Return: -1.0000 FPS: 76.47\n",
      "09:48:57.741 [INFO] (irl_trainer.py:73) Total Epi:   216 Steps:    1859 Episode Steps:    19 Return: -1.0000 FPS: 79.24\n",
      "09:48:57.964 [INFO] (irl_trainer.py:73) Total Epi:   217 Steps:    1877 Episode Steps:    18 Return: -1.0000 FPS: 81.33\n",
      "09:48:58.054 [INFO] (irl_trainer.py:73) Total Epi:   218 Steps:    1884 Episode Steps:     7 Return: -1.0000 FPS: 78.44\n",
      "09:48:58.203 [INFO] (irl_trainer.py:73) Total Epi:   219 Steps:    1895 Episode Steps:    11 Return: -1.0000 FPS: 74.96\n",
      "09:48:58.449 [INFO] (irl_trainer.py:73) Total Epi:   220 Steps:    1912 Episode Steps:    17 Return: -1.0000 FPS: 69.78\n",
      "09:48:58.736 [INFO] (irl_trainer.py:73) Total Epi:   221 Steps:    1934 Episode Steps:    22 Return: -1.0000 FPS: 76.86\n",
      "09:48:58.906 [INFO] (irl_trainer.py:73) Total Epi:   222 Steps:    1945 Episode Steps:    11 Return: -1.0000 FPS: 65.57\n",
      "09:48:59.070 [INFO] (irl_trainer.py:73) Total Epi:   223 Steps:    1958 Episode Steps:    13 Return: -1.0000 FPS: 79.86\n",
      "09:48:59.277 [INFO] (irl_trainer.py:73) Total Epi:   224 Steps:    1975 Episode Steps:    17 Return: -1.0000 FPS: 82.86\n",
      "09:48:59.411 [INFO] (irl_trainer.py:73) Total Epi:   225 Steps:    1985 Episode Steps:    10 Return: -1.0000 FPS: 75.40\n",
      "09:48:59.593 [INFO] (irl_trainer.py:73) Total Epi:   226 Steps:    2000 Episode Steps:    15 Return: -1.0000 FPS: 82.90\n",
      "09:48:59.709 [INFO] (irl_trainer.py:73) Total Epi:   227 Steps:    2008 Episode Steps:     8 Return: -1.0000 FPS: 69.64\n",
      "09:48:59.917 [INFO] (irl_trainer.py:73) Total Epi:   228 Steps:    2026 Episode Steps:    18 Return: -1.0000 FPS: 87.14\n",
      "09:49:00.125 [INFO] (irl_trainer.py:73) Total Epi:   229 Steps:    2042 Episode Steps:    16 Return: -1.0000 FPS: 77.43\n",
      "09:49:00.344 [INFO] (irl_trainer.py:73) Total Epi:   230 Steps:    2060 Episode Steps:    18 Return: -1.0000 FPS: 82.87\n",
      "09:49:00.539 [INFO] (irl_trainer.py:73) Total Epi:   231 Steps:    2076 Episode Steps:    16 Return: -1.0000 FPS: 82.65\n",
      "09:49:00.717 [INFO] (irl_trainer.py:73) Total Epi:   232 Steps:    2090 Episode Steps:    14 Return: -1.0000 FPS: 79.35\n",
      "09:49:00.940 [INFO] (irl_trainer.py:73) Total Epi:   233 Steps:    2106 Episode Steps:    16 Return: -1.0000 FPS: 72.17\n",
      "09:49:01.142 [INFO] (irl_trainer.py:73) Total Epi:   234 Steps:    2122 Episode Steps:    16 Return: -1.0000 FPS: 80.04\n",
      "09:49:01.324 [INFO] (irl_trainer.py:73) Total Epi:   235 Steps:    2137 Episode Steps:    15 Return: -1.0000 FPS: 83.03\n",
      "09:49:01.496 [INFO] (irl_trainer.py:73) Total Epi:   236 Steps:    2151 Episode Steps:    14 Return: -1.0000 FPS: 82.02\n",
      "09:49:01.632 [INFO] (irl_trainer.py:73) Total Epi:   237 Steps:    2162 Episode Steps:    11 Return: -1.0000 FPS: 82.09\n",
      "09:49:01.837 [INFO] (irl_trainer.py:73) Total Epi:   238 Steps:    2179 Episode Steps:    17 Return:  1.0000 FPS: 83.40\n",
      "09:49:01.975 [INFO] (irl_trainer.py:73) Total Epi:   239 Steps:    2190 Episode Steps:    11 Return: -1.0000 FPS: 80.75\n",
      "09:49:02.147 [INFO] (irl_trainer.py:73) Total Epi:   240 Steps:    2201 Episode Steps:    11 Return: -1.0000 FPS: 64.61\n",
      "09:49:02.306 [INFO] (irl_trainer.py:73) Total Epi:   241 Steps:    2213 Episode Steps:    12 Return: -1.0000 FPS: 76.08\n",
      "09:49:02.454 [INFO] (irl_trainer.py:73) Total Epi:   242 Steps:    2224 Episode Steps:    11 Return: -1.0000 FPS: 75.15\n",
      "09:49:02.559 [INFO] (irl_trainer.py:73) Total Epi:   243 Steps:    2231 Episode Steps:     7 Return: -1.0000 FPS: 67.96\n"
     ]
    }
   ],
   "source": [
    "# load params from the json file to create the parameter server object\n",
    "params = ParameterServer(filename=\"data/params/gail_params.json\")\n",
    "\n",
    "# customized parameters:\n",
    "params[\"ML\"][\"Settings\"][\"GPUUse\"] = gpu\n",
    "params[\"ML\"][\"GAILRunner\"][\"tf2rl\"][\"max_steps\"] = max_steps\n",
    "params[\"ML\"][\"GAILRunner\"][\"tf2rl\"][\"test_interval\"] = test_interval\n",
    "params[\"ML\"][\"GAILRunner\"][\"tf2rl\"][\"test_episodes\"] = test_episodes\n",
    "if params[\"ML\"][\"BehaviorGAILAgent\"][\"WarmUp\"] > max_steps / 2:\n",
    "    params[\"ML\"][\"BehaviorGAILAgent\"][\"WarmUp\"] = max_steps / 2\n",
    "\n",
    "# create environment\n",
    "bp = ContinuousMergingBlueprint(params,\n",
    "                                number_of_senarios=500,\n",
    "                                random_seed=0)\n",
    "env = SingleAgentRuntime(blueprint=bp,\n",
    "                         render=False)\n",
    "\n",
    "# wrapped environment for compatibility with tf2rl\n",
    "wrapped_env = TF2RLWrapper(env, \n",
    "                           normalize_features=params[\"ML\"][\"Settings\"][\"NormalizeFeatures\"])\n",
    "\n",
    "# instantiate the GAIL agent\n",
    "gail_agent = BehaviorGAILAgent(environment=wrapped_env,\n",
    "                               params=params)\n",
    "\n",
    "# load the expert trajectories\n",
    "expert_trajectories, _, _ = load_expert_trajectories(\n",
    "    params['ML']['ExpertTrajectories']['expert_path_dir'],\n",
    "    normalize_features=params[\"ML\"][\"Settings\"][\"NormalizeFeatures\"],\n",
    "    env=env, # the unwrapped env has to be used, since that contains the unnormalized spaces.\n",
    "    subset_size=params[\"ML\"][\"ExpertTrajectories\"][\"subset_size\"]\n",
    "    ) \n",
    "\n",
    "# instantiate a runner that is going to train the agent.\n",
    "runner = GAILRunner(params=params,\n",
    "                 environment=wrapped_env,\n",
    "                 agent=gail_agent,\n",
    "                 expert_trajs=expert_trajectories)\n",
    "\n",
    "# train the agent\n",
    "runner.Train()"
   ]
  },
  {
   "cell_type": "markdown",
   "metadata": {},
   "source": [
    "### Trained agent visualization:\n",
    "Please set up the number of scenarios to visualize in the next cell!"
   ]
  },
  {
   "cell_type": "code",
   "execution_count": 8,
   "metadata": {},
   "outputs": [],
   "source": [
    "# Number of scenarios to visualize:\n",
    "num_scenarios_to_visualize = 10"
   ]
  },
  {
   "cell_type": "code",
   "execution_count": 11,
   "metadata": {
    "scrolled": false
   },
   "outputs": [
    {
     "data": {
      "image/png": "[encoded data removed]",
      "text/plain": [
       "<Figure size 720x720 with 1 Axes>"
      ]
     },
     "metadata": {
      "needs_background": "light"
     },
     "output_type": "display_data"
    }
   ],
   "source": [
    "# load params from the json file to create the parameter server object\n",
    "params = ParameterServer(filename=\"data/params/gail_params.json\")\n",
    "\n",
    "# setting the path for the pretrained agent.\n",
    "params[\"ML\"][\"GAILRunner\"][\"tf2rl\"][\"model_dir\"] = \"../../../com_github_gail_4_bark_large_data_store/pretrained_agents/gail/merging\"\n",
    "\n",
    "# customized parameters:\n",
    "params[\"ML\"][\"Settings\"][\"GPUUse\"] = gpu\n",
    "params[\"ML\"][\"GAILRunner\"][\"tf2rl\"][\"max_steps\"] = max_steps\n",
    "params[\"ML\"][\"GAILRunner\"][\"tf2rl\"][\"test_interval\"] = test_interval\n",
    "params[\"ML\"][\"GAILRunner\"][\"tf2rl\"][\"test_episodes\"] = test_episodes\n",
    "if params[\"ML\"][\"BehaviorGAILAgent\"][\"WarmUp\"] > max_steps / 2:\n",
    "    params[\"ML\"][\"BehaviorGAILAgent\"][\"WarmUp\"] = max_steps / 2\n",
    "\n",
    "# create environment\n",
    "bp = ContinuousMergingBlueprint(params,\n",
    "                              number_of_senarios=500,\n",
    "                              random_seed=0)\n",
    "env = SingleAgentRuntime(blueprint=bp,\n",
    "                      render=False)\n",
    "\n",
    "# wrapped environment for compatibility with tf2rl\n",
    "wrapped_env = TF2RLWrapper(env, \n",
    "normalize_features=params[\"ML\"][\"Settings\"][\"NormalizeFeatures\"])\n",
    "\n",
    "# instantiate the GAIL agent\n",
    "gail_agent = BehaviorGAILAgent(environment=wrapped_env,\n",
    "                           params=params)\n",
    "\n",
    "# instantiate a runner that is going to train the agent.\n",
    "runner = GAILRunner(params=params,\n",
    "                 environment=wrapped_env,\n",
    "                 agent=gail_agent,)\n",
    "\n",
    "# Visualize the agent\n",
    "runner.Visualize(num_scenarios_to_visualize, renderer=\"matplotlib_jupyter\")"
   ]
  }
 ],
 "metadata": {
  "kernelspec": {
   "display_name": "Python 3",
   "language": "python",
   "name": "python3"
  },
  "language_info": {
   "codemirror_mode": {
    "name": "ipython",
    "version": 3
   },
   "file_extension": ".py",
   "mimetype": "text/x-python",
   "name": "python",
   "nbconvert_exporter": "python",
   "pygments_lexer": "ipython3",
   "version": "3.7.6"
  }
 },
 "nbformat": 4,
 "nbformat_minor": 2
}
