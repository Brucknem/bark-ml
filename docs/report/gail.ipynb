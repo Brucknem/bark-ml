{
 "cells": [
  {
   "cell_type": "markdown",
   "metadata": {},
   "source": [
    "# Generative Adverserial Imitation Learning\n",
    "\n",
    "Generative Adversarial Imitation Learning (GAIL) was first proposed in the paper [Generative Adversarial Imitation Learning](https://arxiv.org/abs/1606.03476) by Jonathan Ho and Stefano Ermon. The project task is to implement the Generative Adverserial Imitation Learning model for driving scenarios using the bark-simulator.\n",
    "\n",
    "GAIL is based on the setting of Reinforcement Learning (RL). In Reinforcment Learning, the agent interacts with the environment through its actions and receives rewards in return. The aim of the learning process is to maximize to cummulative reward by chosing the right action in the states.\n",
    "\n",
    "As the name suggests, GAIL falls into a smaller subgroup of RL, called Imitation Learning. In this setup the goal of the agent is to mimik an expert behavior as closely as possible. The environment awards higher rewards to expert-like behavior and smaller to actions which deviate from the expert behavior much. In our case, expert trajectories were generated from real life data, namely from the interaction dataset, as well as from a pretrained SAC (Soft Actor-Critic) agent. The expert trajectories, which are gained in this way represent the expert knowladge by containing many states and the corresponding actions which were produced by the expert.\n",
    "\n",
    "A said, the learning of the agent in the RL setting is driven by the rewards it receives from the environmen. The amount of the reward in the Imitation Learning case are determined based on how closely the agent mimics the expert behavior. Furthermore, specially in the GAIL approach we get the reward from an adversarial game: The agent is represented by the generator network, which is trained based on the feedback of the discriminator network. The generator produces actions for given states, which are then judged by the discriminator. In the meantime the discriminator is trained by feeding it expert and agent state-action pairs for classification. In this way the generator tries to fool the discriminator, hence tries to act as expert-like as possible, meanwhile the discriminator tries to identify expert and agent trajectories from eachother. Intuitively the learning converges, when the generator learned to act so similarly to the expert that the discriminator can not tell apart expert and agent trajectories any more. In game theory this point is called the Nash-equilibrium.\n",
    "\n",
    "In practice, the implementation of a GAIL agent is usually solved in the following way for sample efficiency: The agent interacts with the environment by following its actual policy and hence agent state-action pairs are generated. These points are stored in a replay buffer for further learning. After a specified interval a training step is carried out. This training step has got 2 substeps: training the discriminator and training the generator networks. \n",
    "* __Discriminator training:__ The discriminator is fed a batch of expert (from the expert trajectories) and agent (from the replay buffer) state-action pairs. It classifies all of them. Based on their true labels the loss is calculated and a gradient descent step is carried out in order to minimize the loss.\n",
    "* __Generator training:__ The generator is fed a batch of states from the replay buffer and it produces actions for them. The resulting state-action pairs are fed to the discriminator for classification. The negative output of the discriminator is used as a loss for the generator network. (Close to -1 if the agent mimics the expert successfully.) The gradient of the loss is propagated all the way back to the generator network to carry out a gradient step for minimizing the it.\n",
    "As said, the training goes until both the generator and the discriminator loss converge to a stady state value. The training process is visualized in the following figure:\n",
    "\n",
    "\n",
    "<img width=70% src=\"files/data/gail_overview.gif\">"
   ]
  },
  {
   "cell_type": "markdown",
   "metadata": {},
   "source": [
    "## Interaction Dataset\n",
    "As a data source, we used the interaction dataset: https://arxiv.org/abs/1910.03088. Here, we are interested in the merging scenarios: deu_merging_mt and chn_merging_zs. Have a look how the Interaction Dataset is integrated in bark: https://github.com/bark-simulator/bark/blob/setup_tutorials/docs/tutorials/04_interaction_dataset.ipynb (Note that the dataset itself is NOT enclosed with bark due to license limitations)."
   ]
  },
  {
   "cell_type": "markdown",
   "metadata": {},
   "source": [
    "## Expert Trajectories\n",
    "As said, we have generated expert trajectories using the Interaction Dataset and also a trained SAC agent. The Interaction Dataset of course contains logs about many different vehicles with different wheel bases. To remedy this issue, we have used a fixed wheel base when calculating the actions from the successive states. This however does not restrict the accuracy of the data, we just consider that all state trajectories were carried out by the same car and calculate the actions that car would have required to carrie out that behavior. \n",
    "\n",
    "As the state variables and also the actions have diferent magnitudes, we normalize all of them for training. The normalization of the expert trajectories takes place while loading the generated expert trajectories. The loading function also takes the actual environment (BARK runtime) as an input, hence the trajectories can be normalized according to the current parameters. (Current state and action spaces.)"
   ]
  },
  {
   "cell_type": "markdown",
   "metadata": {},
   "source": [
    "## Generate Expert Trajectories\n",
    "A short example script for generating expert trajectories from the interaction dataset are shown in the followings. "
   ]
  },
  {
   "cell_type": "code",
   "execution_count": 9,
   "metadata": {},
   "outputs": [],
   "source": [
    "import os \n",
    "import bark\n",
    "from pprint import pprint\n",
    "from bark_ml.library_wrappers.lib_tf2rl.generate_expert_trajectories import *\n",
    "\n",
    "tracks_folder = os.path.join(os.getcwd(), 'data')\n",
    "map_file = os.path.join(os.getcwd(), 'data/DR_DEU_Merging_MT_v01_shifted.xodr')\n",
    "known_key = ('DR_DEU_Merging_MT_v01_shifted', 'vehicle_tracks_013')\n",
    "ego_agent = 66\n",
    "\n",
    "param_server = create_parameter_servers_for_scenarios(map_file, tracks_folder)[known_key]\n",
    "generation_params = param_server[\"Scenario\"][\"Generation\"][\"InteractionDatasetScenarioGeneration\"]\n",
    "generation_params[\"TrackIds\"] = [63, 64, 65, 66, 67, 68]\n",
    "generation_params[\"StartTs\"] = 232000\n",
    "generation_params[\"EndTs\"] = 259000\n",
    "generation_params[\"EgoTrackId\"] = ego_agent\n",
    "param_server[\"Scenario\"][\"Generation\"][\"InteractionDatasetScenarioGeneration\"] = generation_params"
   ]
  },
  {
   "cell_type": "code",
   "execution_count": 10,
   "metadata": {
    "scrolled": false
   },
   "outputs": [
    {
     "name": "stderr",
     "output_type": "stream",
     "text": [
      "/home/brucknem/.cache/bazel/_bazel_brucknem/5babddc60bc977a08450e544bfdcfbae/execroot/bark_ml/bazel-out/k8-fastbuild/bin/docs/report/run.runfiles/bark_project/bark/runtime/viewer/matplotlib_viewer.py:49: MatplotlibDeprecationWarning: Case-insensitive properties were deprecated in 3.3 and support will be removed two minor releases later\n",
      "  linewidth=linewidth)\n",
      "/home/brucknem/.cache/bazel/_bazel_brucknem/5babddc60bc977a08450e544bfdcfbae/execroot/bark_ml/bazel-out/k8-fastbuild/bin/docs/report/run.runfiles/bark_project/bark/runtime/viewer/matplotlib_viewer.py:49: MatplotlibDeprecationWarning: Case-insensitive properties were deprecated in 3.3 and support will be removed two minor releases later\n",
      "  linewidth=linewidth)\n",
      "/home/brucknem/.cache/bazel/_bazel_brucknem/5babddc60bc977a08450e544bfdcfbae/execroot/bark_ml/bazel-out/k8-fastbuild/bin/docs/report/run.runfiles/bark_project/bark/runtime/viewer/matplotlib_viewer.py:49: MatplotlibDeprecationWarning: Case-insensitive properties were deprecated in 3.3 and support will be removed two minor releases later\n",
      "  linewidth=linewidth)\n",
      "/home/brucknem/.cache/bazel/_bazel_brucknem/5babddc60bc977a08450e544bfdcfbae/execroot/bark_ml/bazel-out/k8-fastbuild/bin/docs/report/run.runfiles/bark_project/bark/runtime/viewer/matplotlib_viewer.py:49: MatplotlibDeprecationWarning: Case-insensitive properties were deprecated in 3.3 and support will be removed two minor releases later\n",
      "  linewidth=linewidth)\n",
      "/home/brucknem/.cache/bazel/_bazel_brucknem/5babddc60bc977a08450e544bfdcfbae/execroot/bark_ml/bazel-out/k8-fastbuild/bin/docs/report/run.runfiles/bark_project/bark/runtime/viewer/matplotlib_viewer.py:49: MatplotlibDeprecationWarning: Case-insensitive properties were deprecated in 3.3 and support will be removed two minor releases later\n",
      "  linewidth=linewidth)\n",
      "/home/brucknem/.cache/bazel/_bazel_brucknem/5babddc60bc977a08450e544bfdcfbae/execroot/bark_ml/bazel-out/k8-fastbuild/bin/docs/report/run.runfiles/bark_project/bark/runtime/viewer/matplotlib_viewer.py:49: MatplotlibDeprecationWarning: Case-insensitive properties were deprecated in 3.3 and support will be removed two minor releases later\n",
      "  linewidth=linewidth)\n",
      "/home/brucknem/.cache/bazel/_bazel_brucknem/5babddc60bc977a08450e544bfdcfbae/execroot/bark_ml/bazel-out/k8-fastbuild/bin/docs/report/run.runfiles/bark_project/bark/runtime/viewer/matplotlib_viewer.py:49: MatplotlibDeprecationWarning: Case-insensitive properties were deprecated in 3.3 and support will be removed two minor releases later\n",
      "  linewidth=linewidth)\n",
      "/home/brucknem/.cache/bazel/_bazel_brucknem/5babddc60bc977a08450e544bfdcfbae/execroot/bark_ml/bazel-out/k8-fastbuild/bin/docs/report/run.runfiles/bark_project/bark/runtime/viewer/matplotlib_viewer.py:49: MatplotlibDeprecationWarning: Case-insensitive properties were deprecated in 3.3 and support will be removed two minor releases later\n",
      "  linewidth=linewidth)\n",
      "/home/brucknem/.cache/bazel/_bazel_brucknem/5babddc60bc977a08450e544bfdcfbae/execroot/bark_ml/bazel-out/k8-fastbuild/bin/docs/report/run.runfiles/bark_project/bark/runtime/viewer/matplotlib_viewer.py:49: MatplotlibDeprecationWarning: Case-insensitive properties were deprecated in 3.3 and support will be removed two minor releases later\n",
      "  linewidth=linewidth)\n"
     ]
    },
    {
     "data": {
      "image/png": "[encoded data removed]",
      "text/plain": [
       "<Figure size 720x720 with 1 Axes>"
      ]
     },
     "metadata": {
      "needs_background": "light"
     },
     "output_type": "display_data"
    }
   ],
   "source": [
    "expert_trajectories = generate_expert_trajectories_for_scenario(param_server, sim_time_step=200, renderer=\"matplotlib_jupyter\")"
   ]
  },
  {
   "cell_type": "markdown",
   "metadata": {},
   "source": [
    "### The generated expert trajectories:\n",
    "The generated expert trajectories are stored in a dictionary with keys:\n",
    "* `obs`: list, containing the observation vector for the timestep.\n",
    "* `act`: list, containing the action that was carried out in that timestep.\n",
    "* `next_obs`: list, the next observation after carrying out the action `act` in the state `obs`. \n",
    "\n",
    "The following 2 cells show some example states and actions for being able to better understanding the format."
   ]
  },
  {
   "cell_type": "code",
   "execution_count": 11,
   "metadata": {
    "scrolled": false
   },
   "outputs": [
    {
     "name": "stdout",
     "output_type": "stream",
     "text": [
      "Observations for the agent 66\n",
      "\n",
      "[array([ 998.184021  , 1006.93701172,    3.08599997,    2.19539237,\n",
      "        995.9619751 , 1004.27398682,    3.05999994,    1.66448367,\n",
      "       1004.67498779, 1006.34100342,    3.06100011,    1.7957828 ,\n",
      "       1004.05700684, 1003.58398438,    3.07299995,    1.92759383]),\n",
      " array([ 997.74597168, 1006.9619751 ,    3.08599997,    2.18845916,\n",
      "        995.63201904, 1004.30102539,    3.05999994,    1.62844038,\n",
      "       1004.31799316, 1006.36901855,    3.06200004,    1.77660406,\n",
      "       1003.67797852, 1003.60699463,    3.07500005,    1.82607996]),\n",
      " array([ 997.30999756, 1006.98699951,    3.08500004,    2.17947364,\n",
      "        995.309021  , 1004.32800293,    3.05900002,    1.59439075,\n",
      "       1003.96502686, 1006.39697266,    3.06200004,    1.75758469,\n",
      "       1003.31799316, 1003.62902832,    3.07599998,    1.72271013]),\n",
      " array([ 996.875     , 1007.01202393,    3.08500004,    2.16549611,\n",
      "        994.99298096, 1004.35498047,    3.05900002,    1.56133819,\n",
      "       1003.61499023, 1006.42498779,    3.06200004,    1.74454641,\n",
      "       1002.97998047, 1003.65100098,    3.0769999 ,    1.61741185]),\n",
      " array([ 996.44396973, 1007.0369873 ,    3.08400011,    2.14552855,\n",
      "        994.6829834 , 1004.38000488,    3.05900002,    1.53218961,\n",
      "       1003.26702881, 1006.45397949,    3.06200004,    1.74454641,\n",
      "       1002.6619873 , 1003.67297363,    3.07599998,    1.51723337])]\n"
     ]
    }
   ],
   "source": [
    "# Small number of observations for our agent\n",
    "print(f'Observations for the agent {ego_agent}\\n')\n",
    "pprint(expert_trajectories[ego_agent]['obs'][:5])"
   ]
  },
  {
   "cell_type": "code",
   "execution_count": 12,
   "metadata": {
    "scrolled": false
   },
   "outputs": [
    {
     "name": "stdout",
     "output_type": "stream",
     "text": [
      "Actions of the agent 66\n",
      "\n",
      "[[-0.034666060884802626, 0.0],\n",
      " [-0.044927593029058605, -0.006168197873944377],\n",
      " [-0.06988764225766911, 0.0],\n",
      " [-0.09983778594957507, -0.006233605047211027],\n",
      " [-0.1200890254762112, 0.0]]\n"
     ]
    }
   ],
   "source": [
    "# Small number of actions for our agent\n",
    "print(f'Actions of the agent {ego_agent}\\n')\n",
    "pprint(expert_trajectories[ego_agent]['act'][:5])"
   ]
  },
  {
   "cell_type": "markdown",
   "metadata": {},
   "source": [
    "## GAIL implementation\n",
    "\n",
    "### TF2RL implementation\n",
    "We have chosen an off the shelf implementation, the library [TF2RL](https://github.com/keiohta/tf2rl). It implements several reinforcement algorithms and training methods in [tensorflow 2](https://www.tensorflow.org/guide/effective_tf2). \n",
    "\n",
    "The GAIL agent is built up as follows:\n",
    "* __Generator:__ A complete DDPG agent with the actor and critic networks. Both of them has 2-2 hidden layers.\n",
    "* __Discriminator:__ A normal discriminator network with 2 hidden layers.\n",
    "\n",
    "In this respect the agent is not in the traditional GAIL setup with 2 neural networks, but instead it actually has 5 networks, since the DDPG agent it self has got 4 of them for greater stability during training. The DDPG agent's critic network basically receives the judgement of the Discriminator network as the reward from the environment and its training aims to maximize this reward.\n",
    "\n",
    "### Integration into BARK\n",
    "The integration of the TF2RL based GAIL agent is done along existing BARK concepts and has been done in the following most important classes:\n",
    "* __TF2RLWrapper:__ Wraps the BARK runtime to match the expectations of tf2rl about the environment. The observation and action normalization also takes place here.\n",
    "    * source: `bark_ml/library_wrappers/lib_tf2rl/tf2rl_wrapper.py`\n",
    "* __BehaviorTF2RLAgent:__ Base class for TF2RL based agents.\n",
    "    * source: `bark_ml/library_wrappers/lib_tf2rl/agents/tf2rl_agent.py`\n",
    "* __BehaviorGAILAgent:__ The TF2RL based GAIL agent.\n",
    "    * source: `bark_ml/library_wrappers/lib_tf2rl/agents/gail_agent.py`\n",
    "* __TF2RLRunner:__ Base class for TF2RL based runners.\n",
    "    * source: `bark_ml/library_wrappers/lib_tf2rl/runners/tf2rl_runner.py`\n",
    "* __GAILRunner:__ The TF2RL based GAIL runner.\n",
    "    * source: `bark_ml/library_wrappers/lib_tf2rl/runners/gail_runner.py`\n",
    "    \n",
    "In the followings the training process is shown. Later the performance of a pre-trained agent can be visualized.\n",
    "\n",
    "---"
   ]
  },
  {
   "cell_type": "markdown",
   "metadata": {},
   "source": [
    "### Training\n",
    "The parameters which can be set on demand:\n",
    "* The number of steps to train for.\n",
    "* The frequency of testing during training\n",
    "* The number of episodes in each testing round."
   ]
  },
  {
   "cell_type": "code",
   "execution_count": 13,
   "metadata": {},
   "outputs": [],
   "source": [
    "# Costumise some parameters here!!! #\n",
    "\n",
    "max_steps = 100000          # Number of steps to train for.\n",
    "test_interval = 100         # test in every ... steps.\n",
    "test_episodes = 5           # number of test episodes.\n",
    "gpu = 0                     # use -1 for cpu only."
   ]
  },
  {
   "cell_type": "code",
   "execution_count": 14,
   "metadata": {},
   "outputs": [],
   "source": [
    "# IMPORTS\n",
    "import os\n",
    "from pathlib import Path\n",
    "\n",
    "# BARK imports\n",
    "from bark_project.bark.runtime.commons.parameters import ParameterServer\n",
    "from bark.runtime.viewer.matplotlib_viewer import MPViewer\n",
    "from bark.runtime.viewer.video_renderer import VideoRenderer\n",
    "\n",
    "# BARK-ML imports\n",
    "from bark_ml.environments.blueprints import ContinuousHighwayBlueprint, \\\n",
    "  ContinuousMergingBlueprint, ContinuousIntersectionBlueprint\n",
    "from bark_ml.environments.single_agent_runtime import SingleAgentRuntime\n",
    "from bark_ml.library_wrappers.lib_tf2rl.tf2rl_wrapper import TF2RLWrapper\n",
    "from bark_ml.library_wrappers.lib_tf2rl.agents.gail_agent import BehaviorGAILAgent\n",
    "from bark_ml.library_wrappers.lib_tf2rl.runners.gail_runner import GAILRunner\n",
    "from bark_ml.library_wrappers.lib_tf2rl.load_expert_trajectories import load_expert_trajectories\n"
   ]
  },
  {
   "cell_type": "markdown",
   "metadata": {},
   "source": [
    "The next cell deletes the previous logs and launches tensorboard. After tensorboard has launced, please go on to the next cell and start the training. The tensorboard window refreshes it self in every 30 secs, but you can also refresh it by hand in the top right corner."
   ]
  },
  {
   "cell_type": "code",
   "execution_count": 15,
   "metadata": {},
   "outputs": [
    {
     "name": "stdout",
     "output_type": "stream",
     "text": [
      "The tensorboard extension is already loaded. To reload it, use:\n",
      "  %reload_ext tensorboard\n",
      "zsh:kill:1: kill 119065 failed: no such process\r\n"
     ]
    },
    {
     "data": {
      "text/html": [
       "\n",
       "      <iframe id=\"tensorboard-frame-df100f48747bd2eb\" width=\"100%\" height=\"800\" frameborder=\"0\">\n",
       "      </iframe>\n",
       "      <script>\n",
       "        (function() {\n",
       "          const frame = document.getElementById(\"tensorboard-frame-df100f48747bd2eb\");\n",
       "          const url = new URL(\"/\", window.location);\n",
       "          url.port = 6006;\n",
       "          frame.src = url;\n",
       "        })();\n",
       "      </script>\n",
       "  "
      ],
      "text/plain": [
       "<IPython.core.display.HTML object>"
      ]
     },
     "metadata": {},
     "output_type": "display_data"
    }
   ],
   "source": [
    "# Load the TensorBoard notebook extension\n",
    "%load_ext tensorboard\n",
    "\n",
    "# launching tensorboard and deleting the previous runs logdirs:\n",
    "!kill 119065\n",
    "%rm -r \"data/logs\"\n",
    "%mkdir \"data/logs\"\n",
    "%tensorboard --logdir \"data/logs\""
   ]
  },
  {
   "cell_type": "code",
   "execution_count": 8,
   "metadata": {
    "scrolled": true
   },
   "outputs": [
    {
     "name": "stderr",
     "output_type": "stream",
     "text": [
      "/home/brucknem/.cache/bazel/_bazel_brucknem/5babddc60bc977a08450e544bfdcfbae/execroot/bark_ml/bazel-out/k8-fastbuild/bin/docs/report/run.runfiles/bark_project/bark/runtime/commons/xodr_parser.py:108: FutureWarning: The behavior of this method will change in future versions. Use specific 'len(elem)' or 'elem is not None' test instead.\n",
      "  if lane.find(\"userData\"):\n",
      "11:52:34.233 [INFO] (trainer.py:65) Restored None\n",
      "11:52:34.279 [INFO] (irl_trainer.py:73) Total Epi:     1 Steps:       5 Episode Steps:     5 Return: -1.0000 FPS: 114.93\n",
      "11:52:34.625 [INFO] (irl_trainer.py:73) Total Epi:     2 Steps:      10 Episode Steps:     5 Return: -1.0000 FPS: 873.80\n",
      "11:52:34.633 [INFO] (irl_trainer.py:73) Total Epi:     3 Steps:      18 Episode Steps:     8 Return: -1.0000 FPS: 1200.08\n",
      "11:52:34.638 [INFO] (irl_trainer.py:73) Total Epi:     4 Steps:      20 Episode Steps:     2 Return: -1.0000 FPS: 593.84\n",
      "11:52:34.644 [INFO] (irl_trainer.py:73) Total Epi:     5 Steps:      24 Episode Steps:     4 Return: -1.0000 FPS: 870.73\n",
      "11:52:34.650 [INFO] (irl_trainer.py:73) Total Epi:     6 Steps:      27 Episode Steps:     3 Return: -1.0000 FPS: 764.43\n",
      "11:52:34.655 [INFO] (irl_trainer.py:73) Total Epi:     7 Steps:      29 Episode Steps:     2 Return: -1.0000 FPS: 588.97\n",
      "11:52:34.660 [INFO] (irl_trainer.py:73) Total Epi:     8 Steps:      32 Episode Steps:     3 Return: -1.0000 FPS: 770.93\n",
      "11:52:34.667 [INFO] (irl_trainer.py:73) Total Epi:     9 Steps:      37 Episode Steps:     5 Return: -1.0000 FPS: 983.36\n",
      "11:52:34.675 [INFO] (irl_trainer.py:73) Total Epi:    10 Steps:      44 Episode Steps:     7 Return: -1.0000 FPS: 1162.91\n",
      "11:52:34.683 [INFO] (irl_trainer.py:73) Total Epi:    11 Steps:      50 Episode Steps:     6 Return: -1.0000 FPS: 1074.96\n",
      "11:52:34.701 [INFO] (irl_trainer.py:73) Total Epi:    12 Steps:      79 Episode Steps:    29 Return: -1.0000 FPS: 1702.81\n",
      "11:52:34.712 [INFO] (irl_trainer.py:73) Total Epi:    13 Steps:      91 Episode Steps:    12 Return: -1.0000 FPS: 1393.59\n",
      "11:52:34.720 [INFO] (irl_trainer.py:73) Total Epi:    14 Steps:      97 Episode Steps:     6 Return: -1.0000 FPS: 988.97\n",
      "11:52:34.734 [INFO] (irl_trainer.py:73) Total Epi:    15 Steps:     114 Episode Steps:    17 Return: -1.0000 FPS: 1425.84\n",
      "11:52:34.739 [INFO] (irl_trainer.py:73) Total Epi:    16 Steps:     117 Episode Steps:     3 Return: -1.0000 FPS: 741.85\n",
      "11:52:34.748 [INFO] (irl_trainer.py:73) Total Epi:    17 Steps:     125 Episode Steps:     8 Return: -1.0000 FPS: 1163.18\n",
      "11:52:34.753 [INFO] (irl_trainer.py:73) Total Epi:    18 Steps:     127 Episode Steps:     2 Return: -1.0000 FPS: 531.45\n",
      "11:52:34.758 [INFO] (irl_trainer.py:73) Total Epi:    19 Steps:     129 Episode Steps:     2 Return: -1.0000 FPS: 552.62\n",
      "11:52:34.770 [INFO] (irl_trainer.py:73) Total Epi:    20 Steps:     143 Episode Steps:    14 Return: -1.0000 FPS: 1380.88\n",
      "11:52:34.780 [INFO] (irl_trainer.py:73) Total Epi:    21 Steps:     153 Episode Steps:    10 Return: -1.0000 FPS: 1211.02\n",
      "11:52:34.788 [INFO] (irl_trainer.py:73) Total Epi:    22 Steps:     160 Episode Steps:     7 Return: -1.0000 FPS: 1124.62\n",
      "11:52:34.796 [INFO] (irl_trainer.py:73) Total Epi:    23 Steps:     167 Episode Steps:     7 Return: -1.0000 FPS: 1165.18\n",
      "11:52:34.833 [INFO] (irl_trainer.py:73) Total Epi:    24 Steps:     228 Episode Steps:    61 Return:  0.0000 FPS: 1718.41\n",
      "11:52:34.837 [INFO] (irl_trainer.py:73) Total Epi:    25 Steps:     230 Episode Steps:     2 Return: -1.0000 FPS: 604.86\n",
      "11:52:34.845 [INFO] (irl_trainer.py:73) Total Epi:    26 Steps:     237 Episode Steps:     7 Return: -1.0000 FPS: 1187.43\n",
      "11:52:34.851 [INFO] (irl_trainer.py:73) Total Epi:    27 Steps:     243 Episode Steps:     6 Return: -1.0000 FPS: 1100.90\n",
      "11:52:34.857 [INFO] (irl_trainer.py:73) Total Epi:    28 Steps:     246 Episode Steps:     3 Return: -1.0000 FPS: 691.92\n",
      "11:52:34.882 [INFO] (irl_trainer.py:73) Total Epi:    29 Steps:     277 Episode Steps:    31 Return: -1.0000 FPS: 1353.64\n",
      "11:52:34.889 [INFO] (irl_trainer.py:73) Total Epi:    30 Steps:     283 Episode Steps:     6 Return: -1.0000 FPS: 989.01\n",
      "11:52:34.896 [INFO] (irl_trainer.py:73) Total Epi:    31 Steps:     287 Episode Steps:     4 Return: -1.0000 FPS: 802.19\n",
      "11:52:34.905 [INFO] (irl_trainer.py:73) Total Epi:    32 Steps:     295 Episode Steps:     8 Return: -1.0000 FPS: 1028.33\n",
      "11:52:34.918 [INFO] (irl_trainer.py:73) Total Epi:    33 Steps:     310 Episode Steps:    15 Return: -1.0000 FPS: 1387.36\n",
      "11:52:34.930 [INFO] (irl_trainer.py:73) Total Epi:    34 Steps:     325 Episode Steps:    15 Return: -1.0000 FPS: 1484.09\n",
      "11:52:34.946 [INFO] (irl_trainer.py:73) Total Epi:    35 Steps:     348 Episode Steps:    23 Return: -1.0000 FPS: 1643.23\n",
      "11:52:34.952 [INFO] (irl_trainer.py:73) Total Epi:    36 Steps:     352 Episode Steps:     4 Return: -1.0000 FPS: 874.64\n",
      "11:52:34.966 [INFO] (irl_trainer.py:73) Total Epi:    37 Steps:     370 Episode Steps:    18 Return: -1.0000 FPS: 1525.97\n",
      "11:52:34.972 [INFO] (irl_trainer.py:73) Total Epi:    38 Steps:     374 Episode Steps:     4 Return: -1.0000 FPS: 790.13\n",
      "11:52:34.979 [INFO] (irl_trainer.py:73) Total Epi:    39 Steps:     378 Episode Steps:     4 Return: -1.0000 FPS: 815.81\n",
      "11:52:34.986 [INFO] (irl_trainer.py:73) Total Epi:    40 Steps:     384 Episode Steps:     6 Return: -1.0000 FPS: 982.27\n",
      "11:52:34.995 [INFO] (irl_trainer.py:73) Total Epi:    41 Steps:     391 Episode Steps:     7 Return: -1.0000 FPS: 1036.68\n",
      "11:52:35.000 [INFO] (irl_trainer.py:73) Total Epi:    42 Steps:     393 Episode Steps:     2 Return: -1.0000 FPS: 530.91\n",
      "11:52:35.005 [INFO] (irl_trainer.py:73) Total Epi:    43 Steps:     396 Episode Steps:     3 Return: -1.0000 FPS: 722.32\n",
      "11:52:35.012 [INFO] (irl_trainer.py:73) Total Epi:    44 Steps:     401 Episode Steps:     5 Return: -1.0000 FPS: 965.31\n",
      "11:52:35.020 [INFO] (irl_trainer.py:73) Total Epi:    45 Steps:     408 Episode Steps:     7 Return: -1.0000 FPS: 1102.82\n",
      "11:52:35.034 [INFO] (irl_trainer.py:73) Total Epi:    46 Steps:     427 Episode Steps:    19 Return:  1.0000 FPS: 1455.79\n",
      "11:52:35.040 [INFO] (irl_trainer.py:73) Total Epi:    47 Steps:     429 Episode Steps:     2 Return: -1.0000 FPS: 520.52\n",
      "11:52:35.050 [INFO] (irl_trainer.py:73) Total Epi:    48 Steps:     441 Episode Steps:    12 Return: -1.0000 FPS: 1353.43\n",
      "11:52:35.061 [INFO] (irl_trainer.py:73) Total Epi:    49 Steps:     453 Episode Steps:    12 Return: -1.0000 FPS: 1299.33\n",
      "11:52:35.066 [INFO] (irl_trainer.py:73) Total Epi:    50 Steps:     455 Episode Steps:     2 Return: -1.0000 FPS: 556.29\n",
      "11:52:35.072 [INFO] (irl_trainer.py:73) Total Epi:    51 Steps:     459 Episode Steps:     4 Return: -1.0000 FPS: 883.00\n",
      "11:52:35.084 [INFO] (irl_trainer.py:73) Total Epi:    52 Steps:     474 Episode Steps:    15 Return: -1.0000 FPS: 1393.24\n",
      "11:52:35.092 [INFO] (irl_trainer.py:73) Total Epi:    53 Steps:     482 Episode Steps:     8 Return: -1.0000 FPS: 1130.49\n",
      "11:52:35.103 [INFO] (irl_trainer.py:73) Total Epi:    54 Steps:     493 Episode Steps:    11 Return: -1.0000 FPS: 1181.27\n",
      "11:52:35.110 [INFO] (irl_trainer.py:73) Total Epi:    55 Steps:     498 Episode Steps:     5 Return: -1.0000 FPS: 973.06\n",
      "11:52:35.126 [INFO] (irl_trainer.py:73) Total Epi:    56 Steps:     521 Episode Steps:    23 Return: -1.0000 FPS: 1600.62\n",
      "11:52:35.135 [INFO] (irl_trainer.py:73) Total Epi:    57 Steps:     530 Episode Steps:     9 Return: -1.0000 FPS: 1270.37\n",
      "11:52:35.140 [INFO] (irl_trainer.py:73) Total Epi:    58 Steps:     533 Episode Steps:     3 Return: -1.0000 FPS: 787.20\n",
      "11:52:35.145 [INFO] (irl_trainer.py:73) Total Epi:    59 Steps:     537 Episode Steps:     4 Return: -1.0000 FPS: 929.16\n",
      "11:52:35.153 [INFO] (irl_trainer.py:73) Total Epi:    60 Steps:     545 Episode Steps:     8 Return: -1.0000 FPS: 1272.89\n",
      "11:52:35.159 [INFO] (irl_trainer.py:73) Total Epi:    61 Steps:     551 Episode Steps:     6 Return: -1.0000 FPS: 1151.03\n",
      "11:52:35.166 [INFO] (irl_trainer.py:73) Total Epi:    62 Steps:     557 Episode Steps:     6 Return: -1.0000 FPS: 1155.46\n",
      "11:52:35.171 [INFO] (irl_trainer.py:73) Total Epi:    63 Steps:     560 Episode Steps:     3 Return: -1.0000 FPS: 802.62\n",
      "11:52:35.181 [INFO] (irl_trainer.py:73) Total Epi:    64 Steps:     573 Episode Steps:    13 Return: -1.0000 FPS: 1455.36\n",
      "11:52:35.186 [INFO] (irl_trainer.py:73) Total Epi:    65 Steps:     576 Episode Steps:     3 Return: -1.0000 FPS: 807.34\n"
     ]
    },
    {
     "name": "stderr",
     "output_type": "stream",
     "text": [
      "11:52:35.192 [INFO] (irl_trainer.py:73) Total Epi:    66 Steps:     579 Episode Steps:     3 Return: -1.0000 FPS: 657.52\n",
      "11:52:35.203 [INFO] (irl_trainer.py:73) Total Epi:    67 Steps:     591 Episode Steps:    12 Return: -1.0000 FPS: 1281.56\n",
      "11:52:35.224 [INFO] (irl_trainer.py:73) Total Epi:    68 Steps:     620 Episode Steps:    29 Return:  1.0000 FPS: 1497.73\n",
      "11:52:35.232 [INFO] (irl_trainer.py:73) Total Epi:    69 Steps:     624 Episode Steps:     4 Return: -1.0000 FPS: 637.52\n",
      "11:52:35.237 [INFO] (irl_trainer.py:73) Total Epi:    70 Steps:     626 Episode Steps:     2 Return: -1.0000 FPS: 547.95\n",
      "11:52:35.243 [INFO] (irl_trainer.py:73) Total Epi:    71 Steps:     629 Episode Steps:     3 Return: -1.0000 FPS: 712.16\n",
      "11:52:35.254 [INFO] (irl_trainer.py:73) Total Epi:    72 Steps:     640 Episode Steps:    11 Return: -1.0000 FPS: 1124.26\n",
      "11:52:35.260 [INFO] (irl_trainer.py:73) Total Epi:    73 Steps:     645 Episode Steps:     5 Return: -1.0000 FPS: 992.77\n",
      "11:52:35.266 [INFO] (irl_trainer.py:73) Total Epi:    74 Steps:     648 Episode Steps:     3 Return: -1.0000 FPS: 787.96\n",
      "11:52:35.278 [INFO] (irl_trainer.py:73) Total Epi:    75 Steps:     665 Episode Steps:    17 Return: -1.0000 FPS: 1485.82\n",
      "11:52:35.284 [INFO] (irl_trainer.py:73) Total Epi:    76 Steps:     668 Episode Steps:     3 Return: -1.0000 FPS: 757.16\n",
      "11:52:35.300 [INFO] (irl_trainer.py:73) Total Epi:    77 Steps:     683 Episode Steps:    15 Return: -1.0000 FPS: 1052.48\n",
      "11:52:35.307 [INFO] (irl_trainer.py:73) Total Epi:    78 Steps:     686 Episode Steps:     3 Return: -1.0000 FPS: 570.83\n",
      "11:52:35.316 [INFO] (irl_trainer.py:73) Total Epi:    79 Steps:     693 Episode Steps:     7 Return: -1.0000 FPS: 978.94\n",
      "11:52:35.320 [INFO] (irl_trainer.py:73) Total Epi:    80 Steps:     695 Episode Steps:     2 Return: -1.0000 FPS: 564.49\n",
      "11:52:35.328 [INFO] (irl_trainer.py:73) Total Epi:    81 Steps:     701 Episode Steps:     6 Return: -1.0000 FPS: 1045.67\n",
      "11:52:35.345 [INFO] (irl_trainer.py:73) Total Epi:    82 Steps:     726 Episode Steps:    25 Return: -1.0000 FPS: 1629.90\n",
      "11:52:35.354 [INFO] (irl_trainer.py:73) Total Epi:    83 Steps:     736 Episode Steps:    10 Return: -1.0000 FPS: 1375.22\n",
      "11:52:35.361 [INFO] (irl_trainer.py:73) Total Epi:    84 Steps:     743 Episode Steps:     7 Return: -1.0000 FPS: 1184.99\n",
      "11:52:35.374 [INFO] (irl_trainer.py:73) Total Epi:    85 Steps:     755 Episode Steps:    12 Return: -1.0000 FPS: 1041.25\n",
      "11:52:35.434 [INFO] (irl_trainer.py:73) Total Epi:    86 Steps:     798 Episode Steps:    43 Return: -1.0000 FPS: 769.76\n",
      "11:52:35.451 [INFO] (irl_trainer.py:73) Total Epi:    87 Steps:     801 Episode Steps:     3 Return: -1.0000 FPS: 213.27\n",
      "11:52:35.480 [INFO] (irl_trainer.py:73) Total Epi:    88 Steps:     805 Episode Steps:     4 Return: -1.0000 FPS: 677.78\n",
      "11:52:35.489 [INFO] (irl_trainer.py:73) Total Epi:    89 Steps:     808 Episode Steps:     3 Return: -1.0000 FPS: 739.40\n",
      "11:52:35.501 [INFO] (irl_trainer.py:73) Total Epi:    90 Steps:     814 Episode Steps:     6 Return: -1.0000 FPS: 807.42\n",
      "11:52:35.507 [INFO] (irl_trainer.py:73) Total Epi:    91 Steps:     818 Episode Steps:     4 Return: -1.0000 FPS: 843.21\n",
      "11:52:35.529 [INFO] (irl_trainer.py:73) Total Epi:    92 Steps:     829 Episode Steps:    11 Return: -1.0000 FPS: 935.11\n",
      "11:52:35.539 [INFO] (irl_trainer.py:73) Total Epi:    93 Steps:     834 Episode Steps:     5 Return: -1.0000 FPS: 704.60\n",
      "11:52:35.565 [INFO] (irl_trainer.py:73) Total Epi:    94 Steps:     837 Episode Steps:     3 Return: -1.0000 FPS: 241.44\n",
      "11:52:35.587 [INFO] (irl_trainer.py:73) Total Epi:    95 Steps:     849 Episode Steps:    12 Return: -1.0000 FPS: 615.25\n",
      "11:52:35.595 [INFO] (irl_trainer.py:73) Total Epi:    96 Steps:     852 Episode Steps:     3 Return: -1.0000 FPS: 513.19\n",
      "11:52:35.605 [INFO] (irl_trainer.py:73) Total Epi:    97 Steps:     856 Episode Steps:     4 Return: -1.0000 FPS: 523.05\n",
      "11:52:35.617 [INFO] (irl_trainer.py:73) Total Epi:    98 Steps:     867 Episode Steps:    11 Return: -1.0000 FPS: 1035.65\n",
      "11:52:35.629 [INFO] (irl_trainer.py:73) Total Epi:    99 Steps:     874 Episode Steps:     7 Return: -1.0000 FPS: 731.56\n",
      "11:52:35.646 [INFO] (irl_trainer.py:73) Total Epi:   100 Steps:     880 Episode Steps:     6 Return: -1.0000 FPS: 509.92\n",
      "11:52:35.665 [INFO] (irl_trainer.py:73) Total Epi:   101 Steps:     884 Episode Steps:     4 Return: -1.0000 FPS: 451.32\n",
      "11:52:35.683 [INFO] (irl_trainer.py:73) Total Epi:   102 Steps:     886 Episode Steps:     2 Return: -1.0000 FPS: 264.88\n",
      "11:52:35.706 [INFO] (irl_trainer.py:73) Total Epi:   103 Steps:     894 Episode Steps:     8 Return: -1.0000 FPS: 819.04\n",
      "11:52:35.715 [INFO] (irl_trainer.py:73) Total Epi:   104 Steps:     901 Episode Steps:     7 Return: -1.0000 FPS: 1061.23\n",
      "11:52:35.722 [INFO] (irl_trainer.py:73) Total Epi:   105 Steps:     907 Episode Steps:     6 Return: -1.0000 FPS: 1013.78\n",
      "11:52:35.729 [INFO] (irl_trainer.py:73) Total Epi:   106 Steps:     912 Episode Steps:     5 Return: -1.0000 FPS: 958.90\n",
      "11:52:35.738 [INFO] (irl_trainer.py:73) Total Epi:   107 Steps:     922 Episode Steps:    10 Return: -1.0000 FPS: 1264.74\n",
      "11:52:35.745 [INFO] (irl_trainer.py:73) Total Epi:   108 Steps:     928 Episode Steps:     6 Return: -1.0000 FPS: 1053.68\n",
      "11:52:35.752 [INFO] (irl_trainer.py:73) Total Epi:   109 Steps:     932 Episode Steps:     4 Return: -1.0000 FPS: 718.81\n",
      "11:52:35.760 [INFO] (irl_trainer.py:73) Total Epi:   110 Steps:     937 Episode Steps:     5 Return: -1.0000 FPS: 917.62\n",
      "11:52:35.768 [INFO] (irl_trainer.py:73) Total Epi:   111 Steps:     945 Episode Steps:     8 Return: -1.0000 FPS: 1177.98\n",
      "11:52:35.775 [INFO] (irl_trainer.py:73) Total Epi:   112 Steps:     950 Episode Steps:     5 Return: -1.0000 FPS: 1010.60\n",
      "11:52:35.780 [INFO] (irl_trainer.py:73) Total Epi:   113 Steps:     953 Episode Steps:     3 Return: -1.0000 FPS: 757.08\n",
      "11:52:35.785 [INFO] (irl_trainer.py:73) Total Epi:   114 Steps:     956 Episode Steps:     3 Return: -1.0000 FPS: 761.08\n",
      "11:52:35.791 [INFO] (irl_trainer.py:73) Total Epi:   115 Steps:     959 Episode Steps:     3 Return: -1.0000 FPS: 673.85\n",
      "11:52:35.803 [INFO] (irl_trainer.py:73) Total Epi:   116 Steps:     974 Episode Steps:    15 Return: -1.0000 FPS: 1442.25\n",
      "11:52:35.810 [INFO] (irl_trainer.py:73) Total Epi:   117 Steps:     979 Episode Steps:     5 Return: -1.0000 FPS: 983.51\n",
      "11:52:35.816 [INFO] (irl_trainer.py:73) Total Epi:   118 Steps:     982 Episode Steps:     3 Return: -1.0000 FPS: 681.94\n",
      "11:52:35.822 [INFO] (irl_trainer.py:73) Total Epi:   119 Steps:     987 Episode Steps:     5 Return: -1.0000 FPS: 998.20\n"
     ]
    },
    {
     "name": "stdout",
     "output_type": "stream",
     "text": [
      "WARNING:tensorflow:Layer Discriminator is casting an input tensor from dtype float64 to the layer's dtype of float32, which is new behavior in TensorFlow 2.  The layer has dtype float32 because it's dtype defaults to floatx.\n",
      "\n",
      "If you intended to run this layer in float32, you can safely ignore this warning. If in doubt, this warning is likely only an issue if you are porting a TensorFlow 1.X model to TensorFlow 2.\n",
      "\n",
      "To change all layers to have dtype float64 by default, call `tf.keras.backend.set_floatx('float64')`. To change just this layer, pass dtype='float64' to the layer constructor. If you are the author of this layer, you can disable autocasting by passing autocast=False to the base Layer constructor.\n",
      "\n"
     ]
    },
    {
     "name": "stderr",
     "output_type": "stream",
     "text": [
      "11:52:38.507 [INFO] (irl_trainer.py:73) Total Epi:   120 Steps:    1015 Episode Steps:    28 Return:  1.0000 FPS: 10.43\n",
      "11:52:38.709 [INFO] (irl_trainer.py:73) Total Epi:   121 Steps:    1029 Episode Steps:    14 Return: -1.0000 FPS: 70.29\n",
      "11:52:38.805 [INFO] (irl_trainer.py:73) Total Epi:   122 Steps:    1036 Episode Steps:     7 Return: -1.0000 FPS: 73.50\n",
      "11:52:38.895 [INFO] (irl_trainer.py:73) Total Epi:   123 Steps:    1042 Episode Steps:     6 Return: -1.0000 FPS: 68.13\n",
      "11:52:38.972 [INFO] (irl_trainer.py:73) Total Epi:   124 Steps:    1047 Episode Steps:     5 Return: -1.0000 FPS: 66.45\n",
      "11:52:39.020 [INFO] (irl_trainer.py:73) Total Epi:   125 Steps:    1050 Episode Steps:     3 Return: -1.0000 FPS: 63.52\n",
      "11:52:39.067 [INFO] (irl_trainer.py:73) Total Epi:   126 Steps:    1053 Episode Steps:     3 Return: -1.0000 FPS: 67.24\n",
      "11:52:39.119 [INFO] (irl_trainer.py:73) Total Epi:   127 Steps:    1056 Episode Steps:     3 Return: -1.0000 FPS: 59.52\n",
      "11:52:39.153 [INFO] (irl_trainer.py:73) Total Epi:   128 Steps:    1058 Episode Steps:     2 Return: -1.0000 FPS: 61.15\n",
      "11:52:39.190 [INFO] (irl_trainer.py:73) Total Epi:   129 Steps:    1060 Episode Steps:     2 Return: -1.0000 FPS: 56.57\n",
      "11:52:39.257 [INFO] (irl_trainer.py:73) Total Epi:   130 Steps:    1064 Episode Steps:     4 Return: -1.0000 FPS: 61.55\n",
      "11:52:39.292 [INFO] (irl_trainer.py:73) Total Epi:   131 Steps:    1066 Episode Steps:     2 Return: -1.0000 FPS: 60.67\n",
      "11:52:39.343 [INFO] (irl_trainer.py:73) Total Epi:   132 Steps:    1069 Episode Steps:     3 Return: -1.0000 FPS: 61.21\n",
      "11:52:39.423 [INFO] (irl_trainer.py:73) Total Epi:   133 Steps:    1074 Episode Steps:     5 Return: -1.0000 FPS: 63.77\n",
      "11:52:39.485 [INFO] (irl_trainer.py:73) Total Epi:   134 Steps:    1078 Episode Steps:     4 Return: -1.0000 FPS: 66.28\n",
      "11:52:39.563 [INFO] (irl_trainer.py:73) Total Epi:   135 Steps:    1083 Episode Steps:     5 Return: -1.0000 FPS: 65.64\n",
      "11:52:39.611 [INFO] (irl_trainer.py:73) Total Epi:   136 Steps:    1086 Episode Steps:     3 Return: -1.0000 FPS: 64.60\n",
      "11:52:39.658 [INFO] (irl_trainer.py:73) Total Epi:   137 Steps:    1089 Episode Steps:     3 Return: -1.0000 FPS: 66.31\n",
      "11:52:39.745 [INFO] (irl_trainer.py:73) Total Epi:   138 Steps:    1095 Episode Steps:     6 Return: -1.0000 FPS: 70.16\n",
      "11:52:39.819 [INFO] (irl_trainer.py:73) Total Epi:   139 Steps:    1100 Episode Steps:     5 Return: -1.0000 FPS: 70.11\n",
      "11:52:39.888 [INFO] (irl_trainer.py:73) Total Epi:   140 Steps:    1103 Episode Steps:     3 Return: -1.0000 FPS: 44.15\n",
      "11:52:39.922 [INFO] (irl_trainer.py:73) Total Epi:   141 Steps:    1105 Episode Steps:     2 Return: -1.0000 FPS: 63.78\n",
      "11:52:39.999 [INFO] (irl_trainer.py:73) Total Epi:   142 Steps:    1110 Episode Steps:     5 Return: -1.0000 FPS: 66.12\n",
      "11:52:40.047 [INFO] (irl_trainer.py:73) Total Epi:   143 Steps:    1113 Episode Steps:     3 Return: -1.0000 FPS: 65.54\n",
      "11:52:40.126 [INFO] (irl_trainer.py:73) Total Epi:   144 Steps:    1118 Episode Steps:     5 Return: -1.0000 FPS: 64.87\n",
      "11:52:40.193 [INFO] (irl_trainer.py:73) Total Epi:   145 Steps:    1122 Episode Steps:     4 Return: -1.0000 FPS: 61.39\n",
      "11:52:40.228 [INFO] (irl_trainer.py:73) Total Epi:   146 Steps:    1124 Episode Steps:     2 Return: -1.0000 FPS: 59.70\n",
      "11:52:40.277 [INFO] (irl_trainer.py:73) Total Epi:   147 Steps:    1127 Episode Steps:     3 Return: -1.0000 FPS: 63.12\n",
      "11:52:40.327 [INFO] (irl_trainer.py:73) Total Epi:   148 Steps:    1130 Episode Steps:     3 Return: -1.0000 FPS: 62.87\n",
      "11:52:40.388 [INFO] (irl_trainer.py:73) Total Epi:   149 Steps:    1134 Episode Steps:     4 Return: -1.0000 FPS: 67.94\n",
      "11:52:40.462 [INFO] (irl_trainer.py:73) Total Epi:   150 Steps:    1139 Episode Steps:     5 Return: -1.0000 FPS: 68.44\n",
      "11:52:40.508 [INFO] (irl_trainer.py:73) Total Epi:   151 Steps:    1142 Episode Steps:     3 Return: -1.0000 FPS: 68.42\n",
      "11:52:40.639 [INFO] (irl_trainer.py:73) Total Epi:   152 Steps:    1151 Episode Steps:     9 Return: -1.0000 FPS: 69.88\n",
      "11:52:40.726 [INFO] (irl_trainer.py:73) Total Epi:   153 Steps:    1157 Episode Steps:     6 Return: -1.0000 FPS: 70.03\n",
      "11:52:40.787 [INFO] (irl_trainer.py:73) Total Epi:   154 Steps:    1161 Episode Steps:     4 Return: -1.0000 FPS: 67.91\n",
      "11:52:40.849 [INFO] (irl_trainer.py:73) Total Epi:   155 Steps:    1165 Episode Steps:     4 Return: -1.0000 FPS: 66.84\n",
      "11:52:40.913 [INFO] (irl_trainer.py:73) Total Epi:   156 Steps:    1169 Episode Steps:     4 Return: -1.0000 FPS: 64.32\n",
      "11:52:40.977 [INFO] (irl_trainer.py:73) Total Epi:   157 Steps:    1173 Episode Steps:     4 Return: -1.0000 FPS: 64.11\n",
      "11:52:41.134 [INFO] (irl_trainer.py:73) Total Epi:   158 Steps:    1184 Episode Steps:    11 Return: -1.0000 FPS: 70.93\n",
      "11:52:41.211 [INFO] (irl_trainer.py:73) Total Epi:   159 Steps:    1189 Episode Steps:     5 Return: -1.0000 FPS: 66.54\n",
      "11:52:41.289 [INFO] (irl_trainer.py:73) Total Epi:   160 Steps:    1194 Episode Steps:     5 Return: -1.0000 FPS: 65.31\n",
      "11:52:41.416 [INFO] (irl_trainer.py:73) Total Epi:   161 Steps:    1201 Episode Steps:     7 Return: -1.0000 FPS: 55.94\n",
      "11:52:41.687 [INFO] (irl_trainer.py:73) Total Epi:   162 Steps:    1220 Episode Steps:    19 Return: -1.0000 FPS: 70.81\n",
      "11:52:41.805 [INFO] (irl_trainer.py:73) Total Epi:   163 Steps:    1228 Episode Steps:     8 Return: -1.0000 FPS: 69.26\n",
      "11:52:41.885 [INFO] (irl_trainer.py:73) Total Epi:   164 Steps:    1233 Episode Steps:     5 Return: -1.0000 FPS: 63.84\n",
      "11:52:41.961 [INFO] (irl_trainer.py:73) Total Epi:   165 Steps:    1238 Episode Steps:     5 Return: -1.0000 FPS: 66.78\n",
      "11:52:42.228 [INFO] (irl_trainer.py:73) Total Epi:   166 Steps:    1257 Episode Steps:    19 Return: -1.0000 FPS: 71.61\n",
      "11:52:42.444 [INFO] (irl_trainer.py:73) Total Epi:   167 Steps:    1272 Episode Steps:    15 Return: -1.0000 FPS: 70.05\n",
      "11:52:42.658 [INFO] (irl_trainer.py:73) Total Epi:   168 Steps:    1287 Episode Steps:    15 Return: -1.0000 FPS: 70.52\n",
      "11:52:42.800 [INFO] (irl_trainer.py:73) Total Epi:   169 Steps:    1296 Episode Steps:     9 Return: -1.0000 FPS: 64.25\n",
      "11:52:42.905 [INFO] (irl_trainer.py:73) Total Epi:   170 Steps:    1301 Episode Steps:     5 Return: -1.0000 FPS: 48.25\n",
      "11:52:43.095 [INFO] (irl_trainer.py:73) Total Epi:   171 Steps:    1314 Episode Steps:    13 Return: -1.0000 FPS: 69.19\n",
      "11:52:43.457 [INFO] (irl_trainer.py:73) Total Epi:   172 Steps:    1338 Episode Steps:    24 Return: -1.0000 FPS: 66.61\n",
      "11:52:43.535 [INFO] (irl_trainer.py:73) Total Epi:   173 Steps:    1343 Episode Steps:     5 Return: -1.0000 FPS: 65.22\n",
      "11:52:43.628 [INFO] (irl_trainer.py:73) Total Epi:   174 Steps:    1349 Episode Steps:     6 Return: -1.0000 FPS: 65.94\n",
      "11:52:43.705 [INFO] (irl_trainer.py:73) Total Epi:   175 Steps:    1354 Episode Steps:     5 Return: -1.0000 FPS: 66.16\n",
      "11:52:43.979 [INFO] (irl_trainer.py:73) Total Epi:   176 Steps:    1371 Episode Steps:    17 Return: -1.0000 FPS: 62.33\n",
      "11:52:44.290 [INFO] (irl_trainer.py:73) Total Epi:   177 Steps:    1392 Episode Steps:    21 Return: -1.0000 FPS: 67.89\n",
      "11:52:44.552 [INFO] (irl_trainer.py:73) Total Epi:   178 Steps:    1407 Episode Steps:    15 Return: -1.0000 FPS: 57.68\n",
      "11:52:44.620 [INFO] (irl_trainer.py:73) Total Epi:   179 Steps:    1411 Episode Steps:     4 Return: -1.0000 FPS: 60.03\n",
      "11:52:44.826 [INFO] (irl_trainer.py:73) Total Epi:   180 Steps:    1424 Episode Steps:    13 Return: -1.0000 FPS: 63.78\n",
      "11:52:44.911 [INFO] (irl_trainer.py:73) Total Epi:   181 Steps:    1429 Episode Steps:     5 Return: -1.0000 FPS: 60.53\n",
      "11:52:45.112 [INFO] (irl_trainer.py:73) Total Epi:   182 Steps:    1442 Episode Steps:    13 Return: -1.0000 FPS: 65.03\n",
      "11:52:45.560 [INFO] (irl_trainer.py:73) Total Epi:   183 Steps:    1471 Episode Steps:    29 Return: -1.0000 FPS: 65.01\n",
      "11:52:45.844 [INFO] (irl_trainer.py:73) Total Epi:   184 Steps:    1489 Episode Steps:    18 Return: -1.0000 FPS: 63.87\n",
      "11:52:46.107 [INFO] (irl_trainer.py:73) Total Epi:   185 Steps:    1504 Episode Steps:    15 Return: -1.0000 FPS: 57.40\n",
      "11:52:46.259 [INFO] (irl_trainer.py:73) Total Epi:   186 Steps:    1513 Episode Steps:     9 Return: -1.0000 FPS: 60.18\n",
      "11:52:46.582 [INFO] (irl_trainer.py:73) Total Epi:   187 Steps:    1533 Episode Steps:    20 Return: -1.0000 FPS: 62.37\n",
      "11:52:46.677 [INFO] (irl_trainer.py:73) Total Epi:   188 Steps:    1539 Episode Steps:     6 Return: -1.0000 FPS: 64.45\n"
     ]
    },
    {
     "name": "stderr",
     "output_type": "stream",
     "text": [
      "11:52:46.817 [INFO] (irl_trainer.py:73) Total Epi:   189 Steps:    1547 Episode Steps:     8 Return: -1.0000 FPS: 57.68\n",
      "11:52:47.030 [INFO] (irl_trainer.py:73) Total Epi:   190 Steps:    1561 Episode Steps:    14 Return: -1.0000 FPS: 66.13\n",
      "11:52:47.336 [INFO] (irl_trainer.py:73) Total Epi:   191 Steps:    1582 Episode Steps:    21 Return: -1.0000 FPS: 69.07\n",
      "11:52:47.811 [INFO] (irl_trainer.py:73) Total Epi:   192 Steps:    1612 Episode Steps:    30 Return: -1.0000 FPS: 63.40\n",
      "11:52:48.264 [INFO] (irl_trainer.py:73) Total Epi:   193 Steps:    1643 Episode Steps:    31 Return: -1.0000 FPS: 68.63\n",
      "11:52:48.486 [INFO] (irl_trainer.py:73) Total Epi:   194 Steps:    1658 Episode Steps:    15 Return: -1.0000 FPS: 68.24\n",
      "11:52:48.834 [INFO] (irl_trainer.py:73) Total Epi:   195 Steps:    1681 Episode Steps:    23 Return: -1.0000 FPS: 66.30\n",
      "11:52:49.160 [INFO] (irl_trainer.py:73) Total Epi:   196 Steps:    1701 Episode Steps:    20 Return: -1.0000 FPS: 61.75\n",
      "11:52:49.255 [INFO] (irl_trainer.py:73) Total Epi:   197 Steps:    1707 Episode Steps:     6 Return: -1.0000 FPS: 64.48\n",
      "11:52:49.629 [INFO] (irl_trainer.py:73) Total Epi:   198 Steps:    1731 Episode Steps:    24 Return: -1.0000 FPS: 64.52\n",
      "11:52:49.993 [INFO] (irl_trainer.py:73) Total Epi:   199 Steps:    1754 Episode Steps:    23 Return: -1.0000 FPS: 63.47\n",
      "11:52:50.211 [INFO] (irl_trainer.py:73) Total Epi:   200 Steps:    1768 Episode Steps:    14 Return: -1.0000 FPS: 65.01\n",
      "11:52:50.357 [INFO] (irl_trainer.py:119) Evaluation Total Steps:    1768 Average Reward -1.0000 / Average Step Count  12.2 over  5 episodes\n",
      "11:52:50.364 [INFO] (irl_trainer.py:73) Total Epi:   201 Steps:    1769 Episode Steps:     1 Return: -1.0000 FPS:  6.60\n",
      "11:52:50.719 [INFO] (irl_trainer.py:73) Total Epi:   202 Steps:    1793 Episode Steps:    24 Return: -1.0000 FPS: 67.84\n",
      "11:52:51.048 [INFO] (irl_trainer.py:73) Total Epi:   203 Steps:    1814 Episode Steps:    21 Return: -1.0000 FPS: 64.12\n",
      "11:52:51.352 [INFO] (irl_trainer.py:73) Total Epi:   204 Steps:    1835 Episode Steps:    21 Return: -1.0000 FPS: 69.58\n",
      "11:52:51.684 [INFO] (irl_trainer.py:73) Total Epi:   205 Steps:    1858 Episode Steps:    23 Return:  1.0000 FPS: 69.60\n",
      "11:52:51.927 [INFO] (irl_trainer.py:73) Total Epi:   206 Steps:    1874 Episode Steps:    16 Return: -1.0000 FPS: 66.32\n",
      "11:52:52.192 [INFO] (irl_trainer.py:73) Total Epi:   207 Steps:    1891 Episode Steps:    17 Return: -1.0000 FPS: 64.39\n",
      "11:52:52.469 [INFO] (irl_trainer.py:73) Total Epi:   208 Steps:    1907 Episode Steps:    16 Return: -1.0000 FPS: 58.17\n",
      "11:52:52.744 [INFO] (irl_trainer.py:73) Total Epi:   209 Steps:    1925 Episode Steps:    18 Return: -1.0000 FPS: 65.79\n",
      "11:52:52.964 [INFO] (irl_trainer.py:73) Total Epi:   210 Steps:    1939 Episode Steps:    14 Return: -1.0000 FPS: 64.04\n",
      "11:52:53.245 [INFO] (irl_trainer.py:73) Total Epi:   211 Steps:    1957 Episode Steps:    18 Return: -1.0000 FPS: 64.52\n",
      "11:52:53.530 [INFO] (irl_trainer.py:73) Total Epi:   212 Steps:    1975 Episode Steps:    18 Return: -1.0000 FPS: 63.56\n",
      "11:52:53.640 [INFO] (irl_trainer.py:73) Total Epi:   213 Steps:    1982 Episode Steps:     7 Return: -1.0000 FPS: 64.99\n",
      "11:52:53.879 [INFO] (irl_trainer.py:73) Total Epi:   214 Steps:    1999 Episode Steps:    17 Return: -1.0000 FPS: 71.37\n",
      "11:52:54.053 [INFO] (irl_trainer.py:73) Total Epi:   215 Steps:    2009 Episode Steps:    10 Return: -1.0000 FPS: 58.21\n",
      "11:52:54.307 [INFO] (irl_trainer.py:73) Total Epi:   216 Steps:    2027 Episode Steps:    18 Return: -1.0000 FPS: 71.26\n",
      "11:52:54.546 [INFO] (irl_trainer.py:73) Total Epi:   217 Steps:    2043 Episode Steps:    16 Return: -1.0000 FPS: 67.54\n",
      "11:52:54.794 [INFO] (irl_trainer.py:73) Total Epi:   218 Steps:    2059 Episode Steps:    16 Return: -1.0000 FPS: 64.93\n",
      "11:52:55.027 [INFO] (irl_trainer.py:73) Total Epi:   219 Steps:    2075 Episode Steps:    16 Return: -1.0000 FPS: 69.15\n",
      "11:52:55.248 [INFO] (irl_trainer.py:73) Total Epi:   220 Steps:    2090 Episode Steps:    15 Return: -1.0000 FPS: 68.34\n",
      "11:52:55.559 [INFO] (irl_trainer.py:73) Total Epi:   221 Steps:    2109 Episode Steps:    19 Return: -1.0000 FPS: 61.48\n",
      "11:52:55.789 [INFO] (irl_trainer.py:73) Total Epi:   222 Steps:    2125 Episode Steps:    16 Return:  1.0000 FPS: 70.07\n",
      "11:52:56.065 [INFO] (irl_trainer.py:73) Total Epi:   223 Steps:    2144 Episode Steps:    19 Return: -1.0000 FPS: 69.39\n",
      "11:52:56.180 [INFO] (irl_trainer.py:73) Total Epi:   224 Steps:    2152 Episode Steps:     8 Return: -1.0000 FPS: 70.02\n",
      "11:52:56.421 [INFO] (irl_trainer.py:73) Total Epi:   225 Steps:    2168 Episode Steps:    16 Return: -1.0000 FPS: 67.02\n",
      "11:52:56.624 [INFO] (irl_trainer.py:73) Total Epi:   226 Steps:    2182 Episode Steps:    14 Return: -1.0000 FPS: 69.62\n",
      "11:52:56.824 [INFO] (irl_trainer.py:73) Total Epi:   227 Steps:    2196 Episode Steps:    14 Return: -1.0000 FPS: 70.65\n",
      "11:52:57.144 [INFO] (irl_trainer.py:73) Total Epi:   228 Steps:    2217 Episode Steps:    21 Return: -1.0000 FPS: 65.97\n",
      "11:52:57.349 [INFO] (irl_trainer.py:73) Total Epi:   229 Steps:    2231 Episode Steps:    14 Return: -1.0000 FPS: 68.69\n",
      "11:52:57.643 [INFO] (irl_trainer.py:73) Total Epi:   230 Steps:    2251 Episode Steps:    20 Return:  1.0000 FPS: 68.43\n",
      "11:52:57.827 [INFO] (irl_trainer.py:73) Total Epi:   231 Steps:    2264 Episode Steps:    13 Return: -1.0000 FPS: 71.23\n",
      "11:52:58.060 [INFO] (irl_trainer.py:73) Total Epi:   232 Steps:    2280 Episode Steps:    16 Return: -1.0000 FPS: 69.27\n",
      "11:52:58.257 [INFO] (irl_trainer.py:73) Total Epi:   233 Steps:    2294 Episode Steps:    14 Return: -1.0000 FPS: 71.69\n",
      "11:52:58.490 [INFO] (irl_trainer.py:73) Total Epi:   234 Steps:    2309 Episode Steps:    15 Return: -1.0000 FPS: 64.91\n",
      "11:52:58.733 [INFO] (irl_trainer.py:73) Total Epi:   235 Steps:    2325 Episode Steps:    16 Return: -1.0000 FPS: 66.25\n",
      "11:52:58.936 [INFO] (irl_trainer.py:73) Total Epi:   236 Steps:    2338 Episode Steps:    13 Return: -1.0000 FPS: 64.58\n",
      "11:52:59.157 [INFO] (irl_trainer.py:73) Total Epi:   237 Steps:    2351 Episode Steps:    13 Return: -1.0000 FPS: 59.26\n",
      "11:52:59.438 [INFO] (irl_trainer.py:73) Total Epi:   238 Steps:    2368 Episode Steps:    17 Return: -1.0000 FPS: 61.28\n",
      "11:52:59.562 [INFO] (irl_trainer.py:73) Total Epi:   239 Steps:    2376 Episode Steps:     8 Return: -1.0000 FPS: 65.22\n",
      "11:52:59.703 [INFO] (irl_trainer.py:73) Total Epi:   240 Steps:    2385 Episode Steps:     9 Return: -1.0000 FPS: 64.73\n",
      "11:52:59.829 [INFO] (irl_trainer.py:73) Total Epi:   241 Steps:    2393 Episode Steps:     8 Return: -1.0000 FPS: 64.70\n",
      "11:53:00.055 [INFO] (irl_trainer.py:73) Total Epi:   242 Steps:    2406 Episode Steps:    13 Return: -1.0000 FPS: 57.82\n",
      "11:53:00.297 [INFO] (irl_trainer.py:73) Total Epi:   243 Steps:    2421 Episode Steps:    15 Return: -1.0000 FPS: 62.54\n",
      "11:53:00.577 [INFO] (irl_trainer.py:73) Total Epi:   244 Steps:    2437 Episode Steps:    16 Return: -1.0000 FPS: 57.58\n",
      "11:53:00.777 [INFO] (irl_trainer.py:73) Total Epi:   245 Steps:    2450 Episode Steps:    13 Return: -1.0000 FPS: 65.45\n",
      "11:53:01.001 [INFO] (irl_trainer.py:73) Total Epi:   246 Steps:    2464 Episode Steps:    14 Return: -1.0000 FPS: 63.15\n",
      "11:53:01.228 [INFO] (irl_trainer.py:73) Total Epi:   247 Steps:    2478 Episode Steps:    14 Return: -1.0000 FPS: 62.15\n",
      "11:53:01.485 [INFO] (irl_trainer.py:73) Total Epi:   248 Steps:    2494 Episode Steps:    16 Return: -1.0000 FPS: 62.66\n",
      "11:53:01.721 [INFO] (irl_trainer.py:73) Total Epi:   249 Steps:    2508 Episode Steps:    14 Return: -1.0000 FPS: 59.67\n",
      "11:53:01.952 [INFO] (irl_trainer.py:73) Total Epi:   250 Steps:    2523 Episode Steps:    15 Return: -1.0000 FPS: 65.55\n",
      "11:53:02.161 [INFO] (irl_trainer.py:73) Total Epi:   251 Steps:    2537 Episode Steps:    14 Return:  1.0000 FPS: 67.40\n",
      "11:53:02.283 [INFO] (irl_trainer.py:73) Total Epi:   252 Steps:    2545 Episode Steps:     8 Return: -1.0000 FPS: 66.69\n",
      "11:53:02.504 [INFO] (irl_trainer.py:73) Total Epi:   253 Steps:    2560 Episode Steps:    15 Return: -1.0000 FPS: 68.22\n",
      "11:53:02.715 [INFO] (irl_trainer.py:73) Total Epi:   254 Steps:    2574 Episode Steps:    14 Return: -1.0000 FPS: 66.74\n",
      "11:53:02.973 [INFO] (irl_trainer.py:73) Total Epi:   255 Steps:    2592 Episode Steps:    18 Return: -1.0000 FPS: 70.26\n",
      "11:53:03.235 [INFO] (irl_trainer.py:73) Total Epi:   256 Steps:    2608 Episode Steps:    16 Return: -1.0000 FPS: 61.59\n"
     ]
    },
    {
     "name": "stderr",
     "output_type": "stream",
     "text": [
      "11:53:03.441 [INFO] (irl_trainer.py:73) Total Epi:   257 Steps:    2622 Episode Steps:    14 Return: -1.0000 FPS: 68.56\n",
      "11:53:03.586 [INFO] (irl_trainer.py:73) Total Epi:   258 Steps:    2632 Episode Steps:    10 Return: -1.0000 FPS: 69.95\n",
      "11:53:03.688 [INFO] (irl_trainer.py:73) Total Epi:   259 Steps:    2639 Episode Steps:     7 Return: -1.0000 FPS: 69.53\n",
      "11:53:03.893 [INFO] (irl_trainer.py:73) Total Epi:   260 Steps:    2653 Episode Steps:    14 Return: -1.0000 FPS: 68.78\n",
      "11:53:04.128 [INFO] (irl_trainer.py:73) Total Epi:   261 Steps:    2669 Episode Steps:    16 Return: -1.0000 FPS: 68.72\n",
      "11:53:04.361 [INFO] (irl_trainer.py:73) Total Epi:   262 Steps:    2685 Episode Steps:    16 Return: -1.0000 FPS: 69.13\n",
      "11:53:04.632 [INFO] (irl_trainer.py:73) Total Epi:   263 Steps:    2702 Episode Steps:    17 Return: -1.0000 FPS: 63.15\n",
      "11:53:04.737 [INFO] (irl_trainer.py:73) Total Epi:   264 Steps:    2709 Episode Steps:     7 Return: -1.0000 FPS: 67.77\n",
      "11:53:04.944 [INFO] (irl_trainer.py:73) Total Epi:   265 Steps:    2724 Episode Steps:    15 Return: -1.0000 FPS: 73.04\n",
      "11:53:05.171 [INFO] (irl_trainer.py:73) Total Epi:   266 Steps:    2740 Episode Steps:    16 Return: -1.0000 FPS: 71.00\n",
      "11:53:05.357 [INFO] (irl_trainer.py:73) Total Epi:   267 Steps:    2752 Episode Steps:    12 Return: -1.0000 FPS: 64.96\n",
      "11:53:05.593 [INFO] (irl_trainer.py:73) Total Epi:   268 Steps:    2768 Episode Steps:    16 Return: -1.0000 FPS: 68.54\n",
      "11:53:05.777 [INFO] (irl_trainer.py:73) Total Epi:   269 Steps:    2781 Episode Steps:    13 Return: -1.0000 FPS: 71.05\n",
      "11:53:05.968 [INFO] (irl_trainer.py:73) Total Epi:   270 Steps:    2794 Episode Steps:    13 Return: -1.0000 FPS: 68.93\n",
      "11:53:06.179 [INFO] (irl_trainer.py:73) Total Epi:   271 Steps:    2807 Episode Steps:    13 Return: -1.0000 FPS: 62.01\n",
      "11:53:06.394 [INFO] (irl_trainer.py:73) Total Epi:   272 Steps:    2822 Episode Steps:    15 Return: -1.0000 FPS: 70.43\n",
      "11:53:06.657 [INFO] (irl_trainer.py:73) Total Epi:   273 Steps:    2840 Episode Steps:    18 Return: -1.0000 FPS: 69.00\n",
      "11:53:06.932 [INFO] (irl_trainer.py:73) Total Epi:   274 Steps:    2859 Episode Steps:    19 Return:  1.0000 FPS: 69.50\n",
      "11:53:07.159 [INFO] (irl_trainer.py:73) Total Epi:   275 Steps:    2875 Episode Steps:    16 Return: -1.0000 FPS: 71.00\n",
      "11:53:07.362 [INFO] (irl_trainer.py:73) Total Epi:   276 Steps:    2889 Episode Steps:    14 Return: -1.0000 FPS: 69.75\n",
      "11:53:07.594 [INFO] (irl_trainer.py:73) Total Epi:   277 Steps:    2903 Episode Steps:    14 Return: -1.0000 FPS: 60.79\n",
      "11:53:07.776 [INFO] (irl_trainer.py:73) Total Epi:   278 Steps:    2916 Episode Steps:    13 Return: -1.0000 FPS: 72.02\n",
      "11:53:07.921 [INFO] (irl_trainer.py:73) Total Epi:   279 Steps:    2926 Episode Steps:    10 Return: -1.0000 FPS: 70.07\n",
      "11:53:08.110 [INFO] (irl_trainer.py:73) Total Epi:   280 Steps:    2939 Episode Steps:    13 Return: -1.0000 FPS: 69.46\n",
      "11:53:08.303 [INFO] (irl_trainer.py:73) Total Epi:   281 Steps:    2952 Episode Steps:    13 Return: -1.0000 FPS: 67.98\n",
      "11:53:08.478 [INFO] (irl_trainer.py:73) Total Epi:   282 Steps:    2964 Episode Steps:    12 Return: -1.0000 FPS: 69.21\n",
      "11:53:08.612 [INFO] (irl_trainer.py:73) Total Epi:   283 Steps:    2973 Episode Steps:     9 Return: -1.0000 FPS: 68.10\n",
      "11:53:08.832 [INFO] (irl_trainer.py:73) Total Epi:   284 Steps:    2988 Episode Steps:    15 Return: -1.0000 FPS: 68.84\n"
     ]
    },
    {
     "ename": "KeyboardInterrupt",
     "evalue": "",
     "output_type": "error",
     "traceback": [
      "\u001b[0;31m---------------------------------------------------------------------------\u001b[0m",
      "\u001b[0;31mKeyboardInterrupt\u001b[0m                         Traceback (most recent call last)",
      "\u001b[0;32m<ipython-input-8-879e43878711>\u001b[0m in \u001b[0;36m<module>\u001b[0;34m\u001b[0m\n\u001b[1;32m     42\u001b[0m \u001b[0;34m\u001b[0m\u001b[0m\n\u001b[1;32m     43\u001b[0m \u001b[0;31m# train the agent\u001b[0m\u001b[0;34m\u001b[0m\u001b[0;34m\u001b[0m\u001b[0;34m\u001b[0m\u001b[0m\n\u001b[0;32m---> 44\u001b[0;31m \u001b[0mrunner\u001b[0m\u001b[0;34m.\u001b[0m\u001b[0mTrain\u001b[0m\u001b[0;34m(\u001b[0m\u001b[0;34m)\u001b[0m\u001b[0;34m\u001b[0m\u001b[0;34m\u001b[0m\u001b[0m\n\u001b[0m",
      "\u001b[0;32m~/.cache/bazel/_bazel_brucknem/5babddc60bc977a08450e544bfdcfbae/execroot/bark_ml/bazel-out/k8-fastbuild/bin/docs/report/run.runfiles/bark_ml/bark_ml/library_wrappers/lib_tf2rl/runners/tf2rl_runner.py\u001b[0m in \u001b[0;36mTrain\u001b[0;34m(self)\u001b[0m\n\u001b[1;32m     54\u001b[0m   \u001b[0;32mdef\u001b[0m \u001b[0mTrain\u001b[0m\u001b[0;34m(\u001b[0m\u001b[0mself\u001b[0m\u001b[0;34m)\u001b[0m\u001b[0;34m:\u001b[0m\u001b[0;34m\u001b[0m\u001b[0;34m\u001b[0m\u001b[0m\n\u001b[1;32m     55\u001b[0m     \u001b[0;34m\"\"\"trains the agent.\"\"\"\u001b[0m\u001b[0;34m\u001b[0m\u001b[0;34m\u001b[0m\u001b[0m\n\u001b[0;32m---> 56\u001b[0;31m     \u001b[0mself\u001b[0m\u001b[0;34m.\u001b[0m\u001b[0m_train\u001b[0m\u001b[0;34m(\u001b[0m\u001b[0;34m)\u001b[0m\u001b[0;34m\u001b[0m\u001b[0;34m\u001b[0m\u001b[0m\n\u001b[0m\u001b[1;32m     57\u001b[0m \u001b[0;34m\u001b[0m\u001b[0m\n\u001b[1;32m     58\u001b[0m   \u001b[0;32mdef\u001b[0m \u001b[0m_train\u001b[0m\u001b[0;34m(\u001b[0m\u001b[0mself\u001b[0m\u001b[0;34m)\u001b[0m\u001b[0;34m:\u001b[0m\u001b[0;34m\u001b[0m\u001b[0;34m\u001b[0m\u001b[0m\n",
      "\u001b[0;32m~/.cache/bazel/_bazel_brucknem/5babddc60bc977a08450e544bfdcfbae/execroot/bark_ml/bazel-out/k8-fastbuild/bin/docs/report/run.runfiles/bark_ml/bark_ml/library_wrappers/lib_tf2rl/runners/gail_runner.py\u001b[0m in \u001b[0;36m_train\u001b[0;34m(self)\u001b[0m\n\u001b[1;32m     45\u001b[0m     \u001b[0minstantiated\u001b[0m \u001b[0mby\u001b[0m \u001b[0mself\u001b[0m\u001b[0;34m.\u001b[0m\u001b[0mGetTrainer\u001b[0m\u001b[0;34m.\u001b[0m\u001b[0;34m\u001b[0m\u001b[0;34m\u001b[0m\u001b[0m\n\u001b[1;32m     46\u001b[0m     \"\"\"\n\u001b[0;32m---> 47\u001b[0;31m     \u001b[0mself\u001b[0m\u001b[0;34m.\u001b[0m\u001b[0m_trainer\u001b[0m\u001b[0;34m(\u001b[0m\u001b[0;34m)\u001b[0m\u001b[0;34m\u001b[0m\u001b[0;34m\u001b[0m\u001b[0m\n\u001b[0m\u001b[1;32m     48\u001b[0m \u001b[0;34m\u001b[0m\u001b[0m\n\u001b[1;32m     49\u001b[0m   \u001b[0;32mdef\u001b[0m \u001b[0mGetTrainer\u001b[0m\u001b[0;34m(\u001b[0m\u001b[0mself\u001b[0m\u001b[0;34m)\u001b[0m\u001b[0;34m:\u001b[0m\u001b[0;34m\u001b[0m\u001b[0;34m\u001b[0m\u001b[0m\n",
      "\u001b[0;32m~/.cache/bazel/_bazel_brucknem/5babddc60bc977a08450e544bfdcfbae/execroot/bark_ml/bazel-out/k8-fastbuild/bin/docs/report/run.runfiles/com_github_keiohta_tf2rl/tf2rl/experiments/irl_trainer.py\u001b[0m in \u001b[0;36m__call__\u001b[0;34m(self)\u001b[0m\n\u001b[1;32m     90\u001b[0m                         \u001b[0msamples\u001b[0m\u001b[0;34m[\u001b[0m\u001b[0;34m\"obs\"\u001b[0m\u001b[0;34m]\u001b[0m\u001b[0;34m,\u001b[0m \u001b[0msamples\u001b[0m\u001b[0;34m[\u001b[0m\u001b[0;34m\"act\"\u001b[0m\u001b[0;34m]\u001b[0m\u001b[0;34m,\u001b[0m \u001b[0msamples\u001b[0m\u001b[0;34m[\u001b[0m\u001b[0;34m\"next_obs\"\u001b[0m\u001b[0;34m]\u001b[0m\u001b[0;34m,\u001b[0m\u001b[0;34m\u001b[0m\u001b[0;34m\u001b[0m\u001b[0m\n\u001b[1;32m     91\u001b[0m                         \u001b[0mrew\u001b[0m\u001b[0;34m,\u001b[0m \u001b[0msamples\u001b[0m\u001b[0;34m[\u001b[0m\u001b[0;34m\"done\"\u001b[0m\u001b[0;34m]\u001b[0m\u001b[0;34m,\u001b[0m\u001b[0;34m\u001b[0m\u001b[0;34m\u001b[0m\u001b[0m\n\u001b[0;32m---> 92\u001b[0;31m                         None if not self._use_prioritized_rb else samples[\"weights\"])\n\u001b[0m\u001b[1;32m     93\u001b[0m                     \u001b[0;32mif\u001b[0m \u001b[0mself\u001b[0m\u001b[0;34m.\u001b[0m\u001b[0m_use_prioritized_rb\u001b[0m\u001b[0;34m:\u001b[0m\u001b[0;34m\u001b[0m\u001b[0;34m\u001b[0m\u001b[0m\n\u001b[1;32m     94\u001b[0m                         td_error = self._policy.compute_td_error(\n",
      "\u001b[0;32m~/.cache/bazel/_bazel_brucknem/5babddc60bc977a08450e544bfdcfbae/execroot/bark_ml/bazel-out/k8-fastbuild/bin/docs/report/run.runfiles/com_github_keiohta_tf2rl/tf2rl/algos/ddpg.py\u001b[0m in \u001b[0;36mtrain\u001b[0;34m(self, states, actions, next_states, rewards, done, weights)\u001b[0m\n\u001b[1;32m    117\u001b[0m             \u001b[0mweights\u001b[0m \u001b[0;34m=\u001b[0m \u001b[0mnp\u001b[0m\u001b[0;34m.\u001b[0m\u001b[0mones_like\u001b[0m\u001b[0;34m(\u001b[0m\u001b[0mrewards\u001b[0m\u001b[0;34m)\u001b[0m\u001b[0;34m\u001b[0m\u001b[0;34m\u001b[0m\u001b[0m\n\u001b[1;32m    118\u001b[0m         actor_loss, critic_loss, td_errors = self._train_body(\n\u001b[0;32m--> 119\u001b[0;31m             states, actions, next_states, rewards, done, weights)\n\u001b[0m\u001b[1;32m    120\u001b[0m \u001b[0;34m\u001b[0m\u001b[0m\n\u001b[1;32m    121\u001b[0m         \u001b[0;32mif\u001b[0m \u001b[0mactor_loss\u001b[0m \u001b[0;32mis\u001b[0m \u001b[0;32mnot\u001b[0m \u001b[0;32mNone\u001b[0m\u001b[0;34m:\u001b[0m\u001b[0;34m\u001b[0m\u001b[0;34m\u001b[0m\u001b[0m\n",
      "\u001b[0;32m~/Repositories/gail-4-bark/bark-ml/bark_ml/python_wrapper/venv/lib/python3.7/site-packages/tensorflow/python/eager/def_function.py\u001b[0m in \u001b[0;36m__call__\u001b[0;34m(self, *args, **kwds)\u001b[0m\n\u001b[1;32m    578\u001b[0m         \u001b[0mxla_context\u001b[0m\u001b[0;34m.\u001b[0m\u001b[0mExit\u001b[0m\u001b[0;34m(\u001b[0m\u001b[0;34m)\u001b[0m\u001b[0;34m\u001b[0m\u001b[0;34m\u001b[0m\u001b[0m\n\u001b[1;32m    579\u001b[0m     \u001b[0;32melse\u001b[0m\u001b[0;34m:\u001b[0m\u001b[0;34m\u001b[0m\u001b[0;34m\u001b[0m\u001b[0m\n\u001b[0;32m--> 580\u001b[0;31m       \u001b[0mresult\u001b[0m \u001b[0;34m=\u001b[0m \u001b[0mself\u001b[0m\u001b[0;34m.\u001b[0m\u001b[0m_call\u001b[0m\u001b[0;34m(\u001b[0m\u001b[0;34m*\u001b[0m\u001b[0margs\u001b[0m\u001b[0;34m,\u001b[0m \u001b[0;34m**\u001b[0m\u001b[0mkwds\u001b[0m\u001b[0;34m)\u001b[0m\u001b[0;34m\u001b[0m\u001b[0;34m\u001b[0m\u001b[0m\n\u001b[0m\u001b[1;32m    581\u001b[0m \u001b[0;34m\u001b[0m\u001b[0m\n\u001b[1;32m    582\u001b[0m     \u001b[0;32mif\u001b[0m \u001b[0mtracing_count\u001b[0m \u001b[0;34m==\u001b[0m \u001b[0mself\u001b[0m\u001b[0;34m.\u001b[0m\u001b[0m_get_tracing_count\u001b[0m\u001b[0;34m(\u001b[0m\u001b[0;34m)\u001b[0m\u001b[0;34m:\u001b[0m\u001b[0;34m\u001b[0m\u001b[0;34m\u001b[0m\u001b[0m\n",
      "\u001b[0;32m~/Repositories/gail-4-bark/bark-ml/bark_ml/python_wrapper/venv/lib/python3.7/site-packages/tensorflow/python/eager/def_function.py\u001b[0m in \u001b[0;36m_call\u001b[0;34m(self, *args, **kwds)\u001b[0m\n\u001b[1;32m    609\u001b[0m       \u001b[0;31m# In this case we have created variables on the first call, so we run the\u001b[0m\u001b[0;34m\u001b[0m\u001b[0;34m\u001b[0m\u001b[0;34m\u001b[0m\u001b[0m\n\u001b[1;32m    610\u001b[0m       \u001b[0;31m# defunned version which is guaranteed to never create variables.\u001b[0m\u001b[0;34m\u001b[0m\u001b[0;34m\u001b[0m\u001b[0;34m\u001b[0m\u001b[0m\n\u001b[0;32m--> 611\u001b[0;31m       \u001b[0;32mreturn\u001b[0m \u001b[0mself\u001b[0m\u001b[0;34m.\u001b[0m\u001b[0m_stateless_fn\u001b[0m\u001b[0;34m(\u001b[0m\u001b[0;34m*\u001b[0m\u001b[0margs\u001b[0m\u001b[0;34m,\u001b[0m \u001b[0;34m**\u001b[0m\u001b[0mkwds\u001b[0m\u001b[0;34m)\u001b[0m  \u001b[0;31m# pylint: disable=not-callable\u001b[0m\u001b[0;34m\u001b[0m\u001b[0;34m\u001b[0m\u001b[0m\n\u001b[0m\u001b[1;32m    612\u001b[0m     \u001b[0;32melif\u001b[0m \u001b[0mself\u001b[0m\u001b[0;34m.\u001b[0m\u001b[0m_stateful_fn\u001b[0m \u001b[0;32mis\u001b[0m \u001b[0;32mnot\u001b[0m \u001b[0;32mNone\u001b[0m\u001b[0;34m:\u001b[0m\u001b[0;34m\u001b[0m\u001b[0;34m\u001b[0m\u001b[0m\n\u001b[1;32m    613\u001b[0m       \u001b[0;31m# Release the lock early so that multiple threads can perform the call\u001b[0m\u001b[0;34m\u001b[0m\u001b[0;34m\u001b[0m\u001b[0;34m\u001b[0m\u001b[0m\n",
      "\u001b[0;32m~/Repositories/gail-4-bark/bark-ml/bark_ml/python_wrapper/venv/lib/python3.7/site-packages/tensorflow/python/eager/function.py\u001b[0m in \u001b[0;36m__call__\u001b[0;34m(self, *args, **kwargs)\u001b[0m\n\u001b[1;32m   2418\u001b[0m     \u001b[0;32mwith\u001b[0m \u001b[0mself\u001b[0m\u001b[0;34m.\u001b[0m\u001b[0m_lock\u001b[0m\u001b[0;34m:\u001b[0m\u001b[0;34m\u001b[0m\u001b[0;34m\u001b[0m\u001b[0m\n\u001b[1;32m   2419\u001b[0m       \u001b[0mgraph_function\u001b[0m\u001b[0;34m,\u001b[0m \u001b[0margs\u001b[0m\u001b[0;34m,\u001b[0m \u001b[0mkwargs\u001b[0m \u001b[0;34m=\u001b[0m \u001b[0mself\u001b[0m\u001b[0;34m.\u001b[0m\u001b[0m_maybe_define_function\u001b[0m\u001b[0;34m(\u001b[0m\u001b[0margs\u001b[0m\u001b[0;34m,\u001b[0m \u001b[0mkwargs\u001b[0m\u001b[0;34m)\u001b[0m\u001b[0;34m\u001b[0m\u001b[0;34m\u001b[0m\u001b[0m\n\u001b[0;32m-> 2420\u001b[0;31m     \u001b[0;32mreturn\u001b[0m \u001b[0mgraph_function\u001b[0m\u001b[0;34m.\u001b[0m\u001b[0m_filtered_call\u001b[0m\u001b[0;34m(\u001b[0m\u001b[0margs\u001b[0m\u001b[0;34m,\u001b[0m \u001b[0mkwargs\u001b[0m\u001b[0;34m)\u001b[0m  \u001b[0;31m# pylint: disable=protected-access\u001b[0m\u001b[0;34m\u001b[0m\u001b[0;34m\u001b[0m\u001b[0m\n\u001b[0m\u001b[1;32m   2421\u001b[0m \u001b[0;34m\u001b[0m\u001b[0m\n\u001b[1;32m   2422\u001b[0m   \u001b[0;34m@\u001b[0m\u001b[0mproperty\u001b[0m\u001b[0;34m\u001b[0m\u001b[0;34m\u001b[0m\u001b[0m\n",
      "\u001b[0;32m~/Repositories/gail-4-bark/bark-ml/bark_ml/python_wrapper/venv/lib/python3.7/site-packages/tensorflow/python/eager/function.py\u001b[0m in \u001b[0;36m_filtered_call\u001b[0;34m(self, args, kwargs)\u001b[0m\n\u001b[1;32m   1663\u001b[0m          if isinstance(t, (ops.Tensor,\n\u001b[1;32m   1664\u001b[0m                            resource_variable_ops.BaseResourceVariable))),\n\u001b[0;32m-> 1665\u001b[0;31m         self.captured_inputs)\n\u001b[0m\u001b[1;32m   1666\u001b[0m \u001b[0;34m\u001b[0m\u001b[0m\n\u001b[1;32m   1667\u001b[0m   \u001b[0;32mdef\u001b[0m \u001b[0m_call_flat\u001b[0m\u001b[0;34m(\u001b[0m\u001b[0mself\u001b[0m\u001b[0;34m,\u001b[0m \u001b[0margs\u001b[0m\u001b[0;34m,\u001b[0m \u001b[0mcaptured_inputs\u001b[0m\u001b[0;34m,\u001b[0m \u001b[0mcancellation_manager\u001b[0m\u001b[0;34m=\u001b[0m\u001b[0;32mNone\u001b[0m\u001b[0;34m)\u001b[0m\u001b[0;34m:\u001b[0m\u001b[0;34m\u001b[0m\u001b[0;34m\u001b[0m\u001b[0m\n",
      "\u001b[0;32m~/Repositories/gail-4-bark/bark-ml/bark_ml/python_wrapper/venv/lib/python3.7/site-packages/tensorflow/python/eager/function.py\u001b[0m in \u001b[0;36m_call_flat\u001b[0;34m(self, args, captured_inputs, cancellation_manager)\u001b[0m\n\u001b[1;32m   1744\u001b[0m       \u001b[0;31m# No tape is watching; skip to running the function.\u001b[0m\u001b[0;34m\u001b[0m\u001b[0;34m\u001b[0m\u001b[0;34m\u001b[0m\u001b[0m\n\u001b[1;32m   1745\u001b[0m       return self._build_call_outputs(self._inference_function.call(\n\u001b[0;32m-> 1746\u001b[0;31m           ctx, args, cancellation_manager=cancellation_manager))\n\u001b[0m\u001b[1;32m   1747\u001b[0m     forward_backward = self._select_forward_and_backward_functions(\n\u001b[1;32m   1748\u001b[0m         \u001b[0margs\u001b[0m\u001b[0;34m,\u001b[0m\u001b[0;34m\u001b[0m\u001b[0;34m\u001b[0m\u001b[0m\n",
      "\u001b[0;32m~/Repositories/gail-4-bark/bark-ml/bark_ml/python_wrapper/venv/lib/python3.7/site-packages/tensorflow/python/eager/function.py\u001b[0m in \u001b[0;36mcall\u001b[0;34m(self, ctx, args, cancellation_manager)\u001b[0m\n\u001b[1;32m    596\u001b[0m               \u001b[0minputs\u001b[0m\u001b[0;34m=\u001b[0m\u001b[0margs\u001b[0m\u001b[0;34m,\u001b[0m\u001b[0;34m\u001b[0m\u001b[0;34m\u001b[0m\u001b[0m\n\u001b[1;32m    597\u001b[0m               \u001b[0mattrs\u001b[0m\u001b[0;34m=\u001b[0m\u001b[0mattrs\u001b[0m\u001b[0;34m,\u001b[0m\u001b[0;34m\u001b[0m\u001b[0;34m\u001b[0m\u001b[0m\n\u001b[0;32m--> 598\u001b[0;31m               ctx=ctx)\n\u001b[0m\u001b[1;32m    599\u001b[0m         \u001b[0;32melse\u001b[0m\u001b[0;34m:\u001b[0m\u001b[0;34m\u001b[0m\u001b[0;34m\u001b[0m\u001b[0m\n\u001b[1;32m    600\u001b[0m           outputs = execute.execute_with_cancellation(\n",
      "\u001b[0;32m~/Repositories/gail-4-bark/bark-ml/bark_ml/python_wrapper/venv/lib/python3.7/site-packages/tensorflow/python/eager/execute.py\u001b[0m in \u001b[0;36mquick_execute\u001b[0;34m(op_name, num_outputs, inputs, attrs, ctx, name)\u001b[0m\n\u001b[1;32m     58\u001b[0m     \u001b[0mctx\u001b[0m\u001b[0;34m.\u001b[0m\u001b[0mensure_initialized\u001b[0m\u001b[0;34m(\u001b[0m\u001b[0;34m)\u001b[0m\u001b[0;34m\u001b[0m\u001b[0;34m\u001b[0m\u001b[0m\n\u001b[1;32m     59\u001b[0m     tensors = pywrap_tfe.TFE_Py_Execute(ctx._handle, device_name, op_name,\n\u001b[0;32m---> 60\u001b[0;31m                                         inputs, attrs, num_outputs)\n\u001b[0m\u001b[1;32m     61\u001b[0m   \u001b[0;32mexcept\u001b[0m \u001b[0mcore\u001b[0m\u001b[0;34m.\u001b[0m\u001b[0m_NotOkStatusException\u001b[0m \u001b[0;32mas\u001b[0m \u001b[0me\u001b[0m\u001b[0;34m:\u001b[0m\u001b[0;34m\u001b[0m\u001b[0;34m\u001b[0m\u001b[0m\n\u001b[1;32m     62\u001b[0m     \u001b[0;32mif\u001b[0m \u001b[0mname\u001b[0m \u001b[0;32mis\u001b[0m \u001b[0;32mnot\u001b[0m \u001b[0;32mNone\u001b[0m\u001b[0;34m:\u001b[0m\u001b[0;34m\u001b[0m\u001b[0;34m\u001b[0m\u001b[0m\n",
      "\u001b[0;31mKeyboardInterrupt\u001b[0m: "
     ]
    },
    {
     "data": {
      "image/png": "[encoded data removed]",
      "text/plain": [
       "<Figure size 432x288 with 1 Axes>"
      ]
     },
     "metadata": {
      "needs_background": "light"
     },
     "output_type": "display_data"
    }
   ],
   "source": [
    "# load params from the json file to create the parameter server object\n",
    "params = ParameterServer(filename=\"data/params/gail_params.json\")\n",
    "\n",
    "# customized parameters:\n",
    "params[\"ML\"][\"Settings\"][\"GPUUse\"] = gpu\n",
    "tf2rl_params = params[\"ML\"][\"GAILRunner\"][\"tf2rl\"]\n",
    "tf2rl_params[\"max_steps\"] = max_steps\n",
    "tf2rl_params[\"test_interval\"] = test_interval\n",
    "tf2rl_params[\"test_episodes\"] = test_episodes\n",
    "params[\"ML\"][\"GAILRunner\"][\"tf2rl\"] = tf2rl_params\n",
    "if params[\"ML\"][\"BehaviorGAILAgent\"][\"WarmUp\"] > max_steps / 2:\n",
    "    params[\"ML\"][\"BehaviorGAILAgent\"][\"WarmUp\"] = max_steps / 2\n",
    "\n",
    "# create environment\n",
    "bp = ContinuousMergingBlueprint(params,\n",
    "                                number_of_senarios=500,\n",
    "                                random_seed=0)\n",
    "env = SingleAgentRuntime(blueprint=bp,\n",
    "                         render=False)\n",
    "\n",
    "# wrapped environment for compatibility with tf2rl\n",
    "wrapped_env = TF2RLWrapper(env, \n",
    "                           normalize_features=params[\"ML\"][\"Settings\"][\"NormalizeFeatures\"])\n",
    "\n",
    "# instantiate the GAIL agent\n",
    "gail_agent = BehaviorGAILAgent(environment=wrapped_env,\n",
    "                               params=params)\n",
    "\n",
    "# load the expert trajectories\n",
    "expert_trajectories, _, _ = load_expert_trajectories(\n",
    "    params['ML']['ExpertTrajectories']['expert_path_dir'],\n",
    "    normalize_features=params[\"ML\"][\"Settings\"][\"NormalizeFeatures\"],\n",
    "    env=env, # the unwrapped env has to be used, since that contains the unnormalized spaces.\n",
    "    subset_size=params[\"ML\"][\"ExpertTrajectories\"][\"subset_size\"]\n",
    "    ) \n",
    "\n",
    "# instantiate a runner that is going to train the agent.\n",
    "runner = GAILRunner(params=params,\n",
    "                 environment=wrapped_env,\n",
    "                 agent=gail_agent,\n",
    "                 expert_trajs=expert_trajectories)\n",
    "\n",
    "# train the agent\n",
    "runner.Train()"
   ]
  },
  {
   "cell_type": "markdown",
   "metadata": {},
   "source": [
    "### Trained agent visualization:\n",
    "Please set up the number of scenarios to visualize in the next cell!"
   ]
  },
  {
   "cell_type": "code",
   "execution_count": 16,
   "metadata": {},
   "outputs": [],
   "source": [
    "# Number of scenarios to visualize:\n",
    "num_scenarios_to_visualize = 10"
   ]
  },
  {
   "cell_type": "code",
   "execution_count": 17,
   "metadata": {
    "scrolled": false
   },
   "outputs": [
    {
     "name": "stderr",
     "output_type": "stream",
     "text": [
      "/home/brucknem/.cache/bazel/_bazel_brucknem/5babddc60bc977a08450e544bfdcfbae/execroot/bark_ml/bazel-out/k8-fastbuild/bin/docs/report/run.runfiles/bark_project/bark/runtime/viewer/matplotlib_viewer.py:49: MatplotlibDeprecationWarning: Case-insensitive properties were deprecated in 3.3 and support will be removed two minor releases later\n",
      "  linewidth=linewidth)\n",
      "/home/brucknem/.cache/bazel/_bazel_brucknem/5babddc60bc977a08450e544bfdcfbae/execroot/bark_ml/bazel-out/k8-fastbuild/bin/docs/report/run.runfiles/bark_project/bark/runtime/viewer/matplotlib_viewer.py:49: MatplotlibDeprecationWarning: Case-insensitive properties were deprecated in 3.3 and support will be removed two minor releases later\n",
      "  linewidth=linewidth)\n",
      "/home/brucknem/.cache/bazel/_bazel_brucknem/5babddc60bc977a08450e544bfdcfbae/execroot/bark_ml/bazel-out/k8-fastbuild/bin/docs/report/run.runfiles/bark_project/bark/runtime/viewer/matplotlib_viewer.py:49: MatplotlibDeprecationWarning: Case-insensitive properties were deprecated in 3.3 and support will be removed two minor releases later\n",
      "  linewidth=linewidth)\n",
      "/home/brucknem/.cache/bazel/_bazel_brucknem/5babddc60bc977a08450e544bfdcfbae/execroot/bark_ml/bazel-out/k8-fastbuild/bin/docs/report/run.runfiles/bark_project/bark/runtime/viewer/matplotlib_viewer.py:49: MatplotlibDeprecationWarning: Case-insensitive properties were deprecated in 3.3 and support will be removed two minor releases later\n",
      "  linewidth=linewidth)\n",
      "/home/brucknem/.cache/bazel/_bazel_brucknem/5babddc60bc977a08450e544bfdcfbae/execroot/bark_ml/bazel-out/k8-fastbuild/bin/docs/report/run.runfiles/bark_project/bark/runtime/viewer/matplotlib_viewer.py:49: MatplotlibDeprecationWarning: Case-insensitive properties were deprecated in 3.3 and support will be removed two minor releases later\n",
      "  linewidth=linewidth)\n",
      "/home/brucknem/.cache/bazel/_bazel_brucknem/5babddc60bc977a08450e544bfdcfbae/execroot/bark_ml/bazel-out/k8-fastbuild/bin/docs/report/run.runfiles/bark_project/bark/runtime/viewer/matplotlib_viewer.py:49: MatplotlibDeprecationWarning: Case-insensitive properties were deprecated in 3.3 and support will be removed two minor releases later\n",
      "  linewidth=linewidth)\n",
      "/home/brucknem/.cache/bazel/_bazel_brucknem/5babddc60bc977a08450e544bfdcfbae/execroot/bark_ml/bazel-out/k8-fastbuild/bin/docs/report/run.runfiles/bark_project/bark/runtime/viewer/matplotlib_viewer.py:49: MatplotlibDeprecationWarning: Case-insensitive properties were deprecated in 3.3 and support will be removed two minor releases later\n",
      "  linewidth=linewidth)\n",
      "/home/brucknem/.cache/bazel/_bazel_brucknem/5babddc60bc977a08450e544bfdcfbae/execroot/bark_ml/bazel-out/k8-fastbuild/bin/docs/report/run.runfiles/bark_project/bark/runtime/viewer/matplotlib_viewer.py:49: MatplotlibDeprecationWarning: Case-insensitive properties were deprecated in 3.3 and support will be removed two minor releases later\n",
      "  linewidth=linewidth)\n",
      "/home/brucknem/.cache/bazel/_bazel_brucknem/5babddc60bc977a08450e544bfdcfbae/execroot/bark_ml/bazel-out/k8-fastbuild/bin/docs/report/run.runfiles/bark_project/bark/runtime/viewer/matplotlib_viewer.py:49: MatplotlibDeprecationWarning: Case-insensitive properties were deprecated in 3.3 and support will be removed two minor releases later\n",
      "  linewidth=linewidth)\n"
     ]
    },
    {
     "data": {
      "image/png": "[encoded data removed]",
      "text/plain": [
       "<Figure size 720x720 with 1 Axes>"
      ]
     },
     "metadata": {
      "needs_background": "light"
     },
     "output_type": "display_data"
    }
   ],
   "source": [
    "# load params from the json file to create the parameter server object\n",
    "params = ParameterServer(filename=\"data/params/gail_params.json\")\n",
    "\n",
    "# setting the path for the pretrained agent.\n",
    "params[\"ML\"][\"GAILRunner\"][\"tf2rl\"][\"model_dir\"] = \"../../../com_github_gail_4_bark_large_data_store/pretrained_agents/gail/merging\"\n",
    "\n",
    "# customized parameters:\n",
    "params[\"ML\"][\"Settings\"][\"GPUUse\"] = gpu\n",
    "tf2rl_params = params[\"ML\"][\"GAILRunner\"][\"tf2rl\"]\n",
    "tf2rl_params[\"max_steps\"] = max_steps\n",
    "tf2rl_params[\"test_interval\"] = test_interval\n",
    "tf2rl_params[\"test_episodes\"] = test_episodes\n",
    "params[\"ML\"][\"GAILRunner\"][\"tf2rl\"] = tf2rl_params\n",
    "if params[\"ML\"][\"BehaviorGAILAgent\"][\"WarmUp\"] > max_steps / 2:\n",
    "    params[\"ML\"][\"BehaviorGAILAgent\"][\"WarmUp\"] = max_steps / 2\n",
    "\n",
    "# create environment\n",
    "bp = ContinuousMergingBlueprint(params,\n",
    "                              number_of_senarios=500,\n",
    "                              random_seed=0)\n",
    "env = SingleAgentRuntime(blueprint=bp,\n",
    "                      render=False)\n",
    "\n",
    "# wrapped environment for compatibility with tf2rl\n",
    "wrapped_env = TF2RLWrapper(env, \n",
    "normalize_features=params[\"ML\"][\"Settings\"][\"NormalizeFeatures\"])\n",
    "\n",
    "# instantiate the GAIL agent\n",
    "gail_agent = BehaviorGAILAgent(environment=wrapped_env,\n",
    "                           params=params)\n",
    "\n",
    "# instantiate a runner that is going to train the agent.\n",
    "runner = GAILRunner(params=params,\n",
    "                 environment=wrapped_env,\n",
    "                 agent=gail_agent,)\n",
    "\n",
    "# Visualize the agent\n",
    "runner.Visualize(num_scenarios_to_visualize, renderer=\"matplotlib_jupyter\")"
   ]
  },
  {
   "cell_type": "code",
   "execution_count": null,
   "metadata": {},
   "outputs": [],
   "source": []
  }
 ],
 "metadata": {
  "kernelspec": {
   "display_name": "Python 3",
   "language": "python",
   "name": "python3"
  },
  "language_info": {
   "codemirror_mode": {
    "name": "ipython",
    "version": 3
   },
   "file_extension": ".py",
   "mimetype": "text/x-python",
   "name": "python",
   "nbconvert_exporter": "python",
   "pygments_lexer": "ipython3",
   "version": "3.7.6"
  }
 },
 "nbformat": 4,
 "nbformat_minor": 2
}
